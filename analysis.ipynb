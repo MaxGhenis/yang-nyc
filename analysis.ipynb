{
 "metadata": {
  "language_info": {
   "codemirror_mode": {
    "name": "ipython",
    "version": 3
   },
   "file_extension": ".py",
   "mimetype": "text/x-python",
   "name": "python",
   "nbconvert_exporter": "python",
   "pygments_lexer": "ipython3",
   "version": "3.7.7"
  },
  "orig_nbformat": 2,
  "kernelspec": {
   "name": "python377jvsc74a57bd04a68920d8e8856d089b03c157a7384bba62e0986489c1fa381bbe538cda0922c",
   "display_name": "Python 3.7.7 64-bit ('base': conda)"
  }
 },
 "nbformat": 4,
 "nbformat_minor": 2,
 "cells": [
  {
   "cell_type": "code",
   "execution_count": 1,
   "metadata": {},
   "outputs": [],
   "source": [
    "import pandas as pd\n",
    "import numpy as np\n",
    "import microdf as mdf\n",
    "import plotly.express as px\n",
    "# import ubicenter"
   ]
  },
  {
   "cell_type": "code",
   "execution_count": 2,
   "metadata": {},
   "outputs": [],
   "source": [
    "p = pd.read_csv(\"data/nys_cps.csv.gz\")\n",
    "p.columns = p.columns.str.lower()\n",
    "p.inctot.replace({999999999: 0}, inplace=True)\n",
    "p.adjginc.replace({99999999: 0}, inplace=True)\n",
    "# p[[\"asecwt\", \"spmwt\"]] /= 100"
   ]
  },
  {
   "cell_type": "code",
   "execution_count": 3,
   "metadata": {},
   "outputs": [
    {
     "output_type": "execute_result",
     "data": {
      "text/plain": [
       "              fips    county  pop_m full_fips  asec_pop_m\n",
       "Manhattan       61  New York  1.632     36061    1.634743\n",
       "Brooklyn        47     Kings  2.590     36047    2.634859\n",
       "The Bronx        5     Bronx  1.435     36005    1.586280\n",
       "Staten Island   85  Richmond  0.475     36085    0.497162\n",
       "Queens          81    Queens  2.287     36081    1.869408"
      ],
      "text/html": "<div>\n<style scoped>\n    .dataframe tbody tr th:only-of-type {\n        vertical-align: middle;\n    }\n\n    .dataframe tbody tr th {\n        vertical-align: top;\n    }\n\n    .dataframe thead th {\n        text-align: right;\n    }\n</style>\n<table border=\"1\" class=\"dataframe\">\n  <thead>\n    <tr style=\"text-align: right;\">\n      <th></th>\n      <th>fips</th>\n      <th>county</th>\n      <th>pop_m</th>\n      <th>full_fips</th>\n      <th>asec_pop_m</th>\n    </tr>\n  </thead>\n  <tbody>\n    <tr>\n      <th>Manhattan</th>\n      <td>61</td>\n      <td>New York</td>\n      <td>1.632</td>\n      <td>36061</td>\n      <td>1.634743</td>\n    </tr>\n    <tr>\n      <th>Brooklyn</th>\n      <td>47</td>\n      <td>Kings</td>\n      <td>2.590</td>\n      <td>36047</td>\n      <td>2.634859</td>\n    </tr>\n    <tr>\n      <th>The Bronx</th>\n      <td>5</td>\n      <td>Bronx</td>\n      <td>1.435</td>\n      <td>36005</td>\n      <td>1.586280</td>\n    </tr>\n    <tr>\n      <th>Staten Island</th>\n      <td>85</td>\n      <td>Richmond</td>\n      <td>0.475</td>\n      <td>36085</td>\n      <td>0.497162</td>\n    </tr>\n    <tr>\n      <th>Queens</th>\n      <td>81</td>\n      <td>Queens</td>\n      <td>2.287</td>\n      <td>36081</td>\n      <td>1.869408</td>\n    </tr>\n  </tbody>\n</table>\n</div>"
     },
     "metadata": {},
     "execution_count": 3
    }
   ],
   "source": [
    "NYC_COUNTY = pd.DataFrame(columns=[\"fips\", \"county\", \"pop_m\"])\n",
    "NYS_FIPS = 36\n",
    "# Per https://en.wikipedia.org/wiki/List_of_counties_in_New_York\n",
    "NYC_COUNTY.loc[\"Manhattan\"] = pd.Series({\"fips\": 61, \"county\": \"New York\", \"pop_m\": 1.632})\n",
    "NYC_COUNTY.loc[\"Brooklyn\"] = pd.Series({\"fips\": 47, \"county\": \"Kings\", \"pop_m\": 2.59})\n",
    "NYC_COUNTY.loc[\"The Bronx\"] = pd.Series({\"fips\": 5, \"county\": \"Bronx\", \"pop_m\": 1.435})\n",
    "NYC_COUNTY.loc[\"Staten Island\"] = pd.Series({\"fips\": 85, \"county\": \"Richmond\", \"pop_m\": 0.475})\n",
    "NYC_COUNTY.loc[\"Queens\"] = pd.Series({\"fips\": 81, \"county\": \"Queens\", \"pop_m\": 2.287})\n",
    "NYC_COUNTY[\"full_fips\"] = NYS_FIPS * 1000 + NYC_COUNTY.fips\n",
    "\n",
    "pn = p[p.county.isin(NYC_COUNTY.full_fips)][\n",
    "    [\"county\", \"asecwt\", 'age', 'sex', 'race', 'hispan', 'inctot', 'spmwt', 'spmtotres', 'spmthresh',\n",
    "       'spmfamunit', 'adjginc', 'ftotval', 'spmftotval']].copy()\n",
    "NYC_COUNTY[\"asec_pop_m\"] = NYC_COUNTY.full_fips.apply(lambda x: pn[pn.county == x].asecwt.sum() / 1e6)\n",
    "NYC_COUNTY"
   ]
  },
  {
   "cell_type": "code",
   "execution_count": 4,
   "metadata": {},
   "outputs": [
    {
     "output_type": "execute_result",
     "data": {
      "text/plain": [
       "      county   asecwt  age  sex  race  hispan  inctot    spmwt  spmtotres  \\\n",
       "2587   36047  2344.91   76    2   200       0       0  2344.91        0.0   \n",
       "3459   36061  1986.83   37    1   100       0       0  1986.83    17876.0   \n",
       "3458   36061  1986.83   37    2   100       0       0  1986.83    17876.0   \n",
       "1149   36005  5823.38   67    1   200     400       0  5823.38        0.0   \n",
       "3365   36061  2272.33   62    2   200       0       0  2272.33     -300.0   \n",
       "...      ...      ...  ...  ...   ...     ...     ...      ...        ...   \n",
       "4122   36081  4959.12   80    1   100       0   12000  4959.12    11858.0   \n",
       "1844   36047  3225.03   55    1   651       0   12000  3225.03    22748.0   \n",
       "3075   36061  4949.22   72    1   100       0   12000  4949.22    18504.0   \n",
       "1152   36005  3090.58   32    1   200       0   12000  3090.58    30979.0   \n",
       "2038   36047  1682.77   41    1   651       0   12008  1682.77     8711.0   \n",
       "\n",
       "      spmthresh  spmfamunit  adjginc  ftotval  spmftotval    pop_cum  \n",
       "2587    33380.0     8485001        0        0           0    2344.91  \n",
       "3459    30830.0     9057001        0        0           0    4331.74  \n",
       "3458    30830.0     9057001        0        0           0    6318.57  \n",
       "1149    16240.0     7668003        0        0           0   12141.95  \n",
       "3365    22890.0     8940001        0        0           0   14414.28  \n",
       "...         ...         ...      ...      ...         ...        ...  \n",
       "4122    13640.0     9399001        0    12000       12000  483357.89  \n",
       "1844    39020.0     8059001    12000    12000       12000  486582.92  \n",
       "3075    16240.0     8726001        0    12000       12000  491532.14  \n",
       "1152    29080.0     7673001    11152    12000       12000  494622.72  \n",
       "2038    16240.0     8176003    11302    12008       12008  496305.49  \n",
       "\n",
       "[170 rows x 15 columns]"
      ],
      "text/html": "<div>\n<style scoped>\n    .dataframe tbody tr th:only-of-type {\n        vertical-align: middle;\n    }\n\n    .dataframe tbody tr th {\n        vertical-align: top;\n    }\n\n    .dataframe thead th {\n        text-align: right;\n    }\n</style>\n<table border=\"1\" class=\"dataframe\">\n  <thead>\n    <tr style=\"text-align: right;\">\n      <th></th>\n      <th>county</th>\n      <th>asecwt</th>\n      <th>age</th>\n      <th>sex</th>\n      <th>race</th>\n      <th>hispan</th>\n      <th>inctot</th>\n      <th>spmwt</th>\n      <th>spmtotres</th>\n      <th>spmthresh</th>\n      <th>spmfamunit</th>\n      <th>adjginc</th>\n      <th>ftotval</th>\n      <th>spmftotval</th>\n      <th>pop_cum</th>\n    </tr>\n  </thead>\n  <tbody>\n    <tr>\n      <th>2587</th>\n      <td>36047</td>\n      <td>2344.91</td>\n      <td>76</td>\n      <td>2</td>\n      <td>200</td>\n      <td>0</td>\n      <td>0</td>\n      <td>2344.91</td>\n      <td>0.0</td>\n      <td>33380.0</td>\n      <td>8485001</td>\n      <td>0</td>\n      <td>0</td>\n      <td>0</td>\n      <td>2344.91</td>\n    </tr>\n    <tr>\n      <th>3459</th>\n      <td>36061</td>\n      <td>1986.83</td>\n      <td>37</td>\n      <td>1</td>\n      <td>100</td>\n      <td>0</td>\n      <td>0</td>\n      <td>1986.83</td>\n      <td>17876.0</td>\n      <td>30830.0</td>\n      <td>9057001</td>\n      <td>0</td>\n      <td>0</td>\n      <td>0</td>\n      <td>4331.74</td>\n    </tr>\n    <tr>\n      <th>3458</th>\n      <td>36061</td>\n      <td>1986.83</td>\n      <td>37</td>\n      <td>2</td>\n      <td>100</td>\n      <td>0</td>\n      <td>0</td>\n      <td>1986.83</td>\n      <td>17876.0</td>\n      <td>30830.0</td>\n      <td>9057001</td>\n      <td>0</td>\n      <td>0</td>\n      <td>0</td>\n      <td>6318.57</td>\n    </tr>\n    <tr>\n      <th>1149</th>\n      <td>36005</td>\n      <td>5823.38</td>\n      <td>67</td>\n      <td>1</td>\n      <td>200</td>\n      <td>400</td>\n      <td>0</td>\n      <td>5823.38</td>\n      <td>0.0</td>\n      <td>16240.0</td>\n      <td>7668003</td>\n      <td>0</td>\n      <td>0</td>\n      <td>0</td>\n      <td>12141.95</td>\n    </tr>\n    <tr>\n      <th>3365</th>\n      <td>36061</td>\n      <td>2272.33</td>\n      <td>62</td>\n      <td>2</td>\n      <td>200</td>\n      <td>0</td>\n      <td>0</td>\n      <td>2272.33</td>\n      <td>-300.0</td>\n      <td>22890.0</td>\n      <td>8940001</td>\n      <td>0</td>\n      <td>0</td>\n      <td>0</td>\n      <td>14414.28</td>\n    </tr>\n    <tr>\n      <th>...</th>\n      <td>...</td>\n      <td>...</td>\n      <td>...</td>\n      <td>...</td>\n      <td>...</td>\n      <td>...</td>\n      <td>...</td>\n      <td>...</td>\n      <td>...</td>\n      <td>...</td>\n      <td>...</td>\n      <td>...</td>\n      <td>...</td>\n      <td>...</td>\n      <td>...</td>\n    </tr>\n    <tr>\n      <th>4122</th>\n      <td>36081</td>\n      <td>4959.12</td>\n      <td>80</td>\n      <td>1</td>\n      <td>100</td>\n      <td>0</td>\n      <td>12000</td>\n      <td>4959.12</td>\n      <td>11858.0</td>\n      <td>13640.0</td>\n      <td>9399001</td>\n      <td>0</td>\n      <td>12000</td>\n      <td>12000</td>\n      <td>483357.89</td>\n    </tr>\n    <tr>\n      <th>1844</th>\n      <td>36047</td>\n      <td>3225.03</td>\n      <td>55</td>\n      <td>1</td>\n      <td>651</td>\n      <td>0</td>\n      <td>12000</td>\n      <td>3225.03</td>\n      <td>22748.0</td>\n      <td>39020.0</td>\n      <td>8059001</td>\n      <td>12000</td>\n      <td>12000</td>\n      <td>12000</td>\n      <td>486582.92</td>\n    </tr>\n    <tr>\n      <th>3075</th>\n      <td>36061</td>\n      <td>4949.22</td>\n      <td>72</td>\n      <td>1</td>\n      <td>100</td>\n      <td>0</td>\n      <td>12000</td>\n      <td>4949.22</td>\n      <td>18504.0</td>\n      <td>16240.0</td>\n      <td>8726001</td>\n      <td>0</td>\n      <td>12000</td>\n      <td>12000</td>\n      <td>491532.14</td>\n    </tr>\n    <tr>\n      <th>1152</th>\n      <td>36005</td>\n      <td>3090.58</td>\n      <td>32</td>\n      <td>1</td>\n      <td>200</td>\n      <td>0</td>\n      <td>12000</td>\n      <td>3090.58</td>\n      <td>30979.0</td>\n      <td>29080.0</td>\n      <td>7673001</td>\n      <td>11152</td>\n      <td>12000</td>\n      <td>12000</td>\n      <td>494622.72</td>\n    </tr>\n    <tr>\n      <th>2038</th>\n      <td>36047</td>\n      <td>1682.77</td>\n      <td>41</td>\n      <td>1</td>\n      <td>651</td>\n      <td>0</td>\n      <td>12008</td>\n      <td>1682.77</td>\n      <td>8711.0</td>\n      <td>16240.0</td>\n      <td>8176003</td>\n      <td>11302</td>\n      <td>12008</td>\n      <td>12008</td>\n      <td>496305.49</td>\n    </tr>\n  </tbody>\n</table>\n<p>170 rows × 15 columns</p>\n</div>"
     },
     "metadata": {},
     "execution_count": 4
    }
   ],
   "source": [
    "# Add cumulative adult population to identify bottom 500,000 adults.\n",
    "pna = pn[pn.age >= 18].copy()\n",
    "pna.sort_values(\"spmftotval\", inplace=True)\n",
    "pna[\"pop_cum\"] = pna.asecwt.cumsum()\n",
    "\n",
    "spmtotres_thresh = pna[pna.pop_cum < 500000].spmtotres.max()\n",
    "\n",
    "pna[pna.pop_cum < 500000]"
   ]
  },
  {
   "cell_type": "code",
   "execution_count": 5,
   "metadata": {},
   "outputs": [],
   "source": [
    "sn = pn[[\"spmfamunit\", \"spmwt\", \"spmftotval\", \"spmtotres\", \"spmthresh\"]].drop_duplicates().sort_values(\"spmftotval\")\n",
    "sn[\"spmwt_cum\"] = sn.spmwt.cumsum()\n",
    "spmftotval_thresh = sn[sn.spmwt_cum < 500000].spmftotval.max()\n",
    "sn[sn.spmftotval <= spmftotval_thresh].spmwt.sum()\n",
    "sn[\"ubi\"] = np.where(sn.spmftotval <= spmftotval_thresh, 2000, 0)\n",
    "sn[\"spmtotres_ubi\"] = sn.spmtotres + sn.ubi"
   ]
  },
  {
   "cell_type": "code",
   "execution_count": 6,
   "metadata": {},
   "outputs": [
    {
     "output_type": "execute_result",
     "data": {
      "text/plain": [
       "1004590420.0"
      ]
     },
     "metadata": {},
     "execution_count": 6
    }
   ],
   "source": [
    "mdf.weighted_sum(sn, \"ubi\", \"spmwt\")"
   ]
  },
  {
   "cell_type": "code",
   "execution_count": 7,
   "metadata": {},
   "outputs": [],
   "source": [
    "pn = pn.merge(sn[[\"spmfamunit\", \"spmtotres_ubi\"]], on=\"spmfamunit\")\n"
   ]
  },
  {
   "cell_type": "code",
   "execution_count": 8,
   "metadata": {},
   "outputs": [
    {
     "output_type": "execute_result",
     "data": {
      "text/plain": [
       "5.53524380132"
      ]
     },
     "metadata": {},
     "execution_count": 8
    }
   ],
   "source": [
    "mdf.poverty_gap(sn, \"spmtotres_ubi\", \"spmthresh\", \"spmwt\") / 1e9"
   ]
  },
  {
   "cell_type": "code",
   "execution_count": 9,
   "metadata": {},
   "outputs": [
    {
     "output_type": "execute_result",
     "data": {
      "text/plain": [
       "6.256897865129999"
      ]
     },
     "metadata": {},
     "execution_count": 9
    }
   ],
   "source": [
    "mdf.poverty_gap(sn, \"spmtotres\", \"spmthresh\", \"spmwt\") / 1e9"
   ]
  },
  {
   "cell_type": "code",
   "execution_count": 10,
   "metadata": {},
   "outputs": [
    {
     "output_type": "execute_result",
     "data": {
      "text/plain": [
       "0.04859213974110767"
      ]
     },
     "metadata": {},
     "execution_count": 10
    }
   ],
   "source": [
    "mdf.deep_poverty_rate(pn, \"spmtotres\", \"spmthresh\", \"asecwt\")"
   ]
  },
  {
   "cell_type": "code",
   "execution_count": 11,
   "metadata": {},
   "outputs": [
    {
     "output_type": "execute_result",
     "data": {
      "text/plain": [
       "0.04356069904096139"
      ]
     },
     "metadata": {},
     "execution_count": 11
    }
   ],
   "source": [
    "mdf.deep_poverty_rate(pn, \"spmtotres_ubi\", \"spmthresh\", \"asecwt\")"
   ]
  },
  {
   "cell_type": "code",
   "execution_count": 12,
   "metadata": {},
   "outputs": [
    {
     "output_type": "execute_result",
     "data": {
      "text/plain": [
       "0.18354143352276175"
      ]
     },
     "metadata": {},
     "execution_count": 12
    }
   ],
   "source": [
    "mdf.poverty_rate(pn, \"spmtotres_ubi\", \"spmthresh\", \"asecwt\")"
   ]
  },
  {
   "cell_type": "code",
   "execution_count": 13,
   "metadata": {},
   "outputs": [
    {
     "output_type": "execute_result",
     "data": {
      "text/plain": [
       "0.19196885996563795"
      ]
     },
     "metadata": {},
     "execution_count": 13
    }
   ],
   "source": [
    "mdf.poverty_rate(pn, \"spmtotres\", \"spmthresh\", \"asecwt\")"
   ]
  },
  {
   "cell_type": "code",
   "execution_count": 14,
   "metadata": {},
   "outputs": [
    {
     "output_type": "execute_result",
     "data": {
      "text/plain": [
       "-0.04389996609025385"
      ]
     },
     "metadata": {},
     "execution_count": 14
    }
   ],
   "source": [
    "def pct_chg(base, reform):\n",
    "    return (reform - base) / base\n",
    "\n",
    "pct_chg(mdf.poverty_rate(pn, \"spmtotres\", \"spmthresh\", \"asecwt\"),\n",
    "mdf.poverty_rate(pn, \"spmtotres_ubi\", \"spmthresh\", \"asecwt\"))"
   ]
  },
  {
   "cell_type": "code",
   "execution_count": 15,
   "metadata": {},
   "outputs": [
    {
     "output_type": "execute_result",
     "data": {
      "text/plain": [
       "-0.10354433303314309"
      ]
     },
     "metadata": {},
     "execution_count": 15
    }
   ],
   "source": [
    "pct_chg(mdf.deep_poverty_rate(pn, \"spmtotres\", \"spmthresh\", \"asecwt\"),\n",
    "mdf.deep_poverty_rate(pn, \"spmtotres_ubi\", \"spmthresh\", \"asecwt\"))"
   ]
  },
  {
   "cell_type": "code",
   "execution_count": 16,
   "metadata": {},
   "outputs": [
    {
     "output_type": "execute_result",
     "data": {
      "text/plain": [
       "-0.01087395327199434"
      ]
     },
     "metadata": {},
     "execution_count": 16
    }
   ],
   "source": [
    "pct_chg(mdf.gini(sn, \"spmtotres\", \"spmwt\"),\n",
    "mdf.gini(sn, \"spmtotres_ubi\", \"spmwt\"))"
   ]
  },
  {
   "cell_type": "code",
   "execution_count": 17,
   "metadata": {},
   "outputs": [
    {
     "output_type": "execute_result",
     "data": {
      "text/plain": [
       "19.103431190000002"
      ]
     },
     "metadata": {},
     "execution_count": 17
    }
   ],
   "source": [
    "# NYS population: 19.45M official as of 2019.\n",
    "p[p.statefip == NYS_FIPS].asecwt.sum() / 1e6"
   ]
  },
  {
   "cell_type": "code",
   "execution_count": 18,
   "metadata": {},
   "outputs": [
    {
     "output_type": "error",
     "ename": "NameError",
     "evalue": "name 'NYC_FIPS' is not defined",
     "traceback": [
      "\u001b[0;31m---------------------------------------------------------------------------\u001b[0m",
      "\u001b[0;31mNameError\u001b[0m                                 Traceback (most recent call last)",
      "\u001b[0;32m<ipython-input-18-425fa6e0a2f3>\u001b[0m in \u001b[0;36m<module>\u001b[0;34m\u001b[0m\n\u001b[0;32m----> 1\u001b[0;31m \u001b[0mp\u001b[0m\u001b[0;34m[\u001b[0m\u001b[0;34m(\u001b[0m\u001b[0mp\u001b[0m\u001b[0;34m.\u001b[0m\u001b[0mstatefip\u001b[0m \u001b[0;34m==\u001b[0m \u001b[0mNYS_FIPS\u001b[0m\u001b[0;34m)\u001b[0m \u001b[0;34m&\u001b[0m \u001b[0mp\u001b[0m\u001b[0;34m.\u001b[0m\u001b[0mcounty\u001b[0m\u001b[0;34m.\u001b[0m\u001b[0misin\u001b[0m\u001b[0;34m(\u001b[0m\u001b[0mNYC_FIPS\u001b[0m\u001b[0;34m)\u001b[0m\u001b[0;34m]\u001b[0m\u001b[0;34m.\u001b[0m\u001b[0masecwt\u001b[0m\u001b[0;34m.\u001b[0m\u001b[0msum\u001b[0m\u001b[0;34m(\u001b[0m\u001b[0;34m)\u001b[0m \u001b[0;34m/\u001b[0m \u001b[0;36m1e6\u001b[0m\u001b[0;34m\u001b[0m\u001b[0;34m\u001b[0m\u001b[0m\n\u001b[0m",
      "\u001b[0;31mNameError\u001b[0m: name 'NYC_FIPS' is not defined"
     ]
    }
   ],
   "source": [
    "p[(p.statefip == NYS_FIPS) & p.county.isin(NYC_FIPS)].asecwt.sum() / 1e6"
   ]
  },
  {
   "cell_type": "code",
   "execution_count": 22,
   "metadata": {},
   "outputs": [
    {
     "output_type": "execute_result",
     "data": {
      "text/plain": [
       "county\n",
       "36005    1586280.10\n",
       "36047    2634859.16\n",
       "36061    1634742.52\n",
       "36081    1869407.84\n",
       "36085     497162.45\n",
       "Name: asecwt, dtype: float64"
      ]
     },
     "metadata": {},
     "execution_count": 22
    }
   ],
   "source": [
    "p[p.county.isin([NYS_FIPS * 1000 + i for i in NYC_FIPS])].groupby(\"county\").asecwt.sum()"
   ]
  },
  {
   "cell_type": "code",
   "execution_count": 20,
   "metadata": {},
   "outputs": [
    {
     "output_type": "execute_result",
     "data": {
      "text/plain": [
       "1634742.52"
      ]
     },
     "metadata": {},
     "execution_count": 20
    }
   ],
   "source": [
    "p[p.county == 36061].asecwt.sum()"
   ]
  }
 ]
}