{
 "metadata": {
  "language_info": {
   "codemirror_mode": {
    "name": "ipython",
    "version": 3
   },
   "file_extension": ".py",
   "mimetype": "text/x-python",
   "name": "python",
   "nbconvert_exporter": "python",
   "pygments_lexer": "ipython3",
   "version": "3.7.7"
  },
  "orig_nbformat": 2,
  "kernelspec": {
   "name": "python377jvsc74a57bd04a68920d8e8856d089b03c157a7384bba62e0986489c1fa381bbe538cda0922c",
   "display_name": "Python 3.7.7 64-bit ('base': conda)"
  }
 },
 "nbformat": 4,
 "nbformat_minor": 2,
 "cells": [
  {
   "cell_type": "code",
   "execution_count": 1,
   "metadata": {},
   "outputs": [],
   "source": [
    "import pandas as pd\n",
    "import numpy as np\n",
    "import microdf as mdf\n",
    "import plotly.express as px\n",
    "import statsmodels.api as sm\n",
    "from ubicenter import format_fig"
   ]
  },
  {
   "cell_type": "code",
   "execution_count": 2,
   "metadata": {},
   "outputs": [],
   "source": [
    "# Read data per person per year.\n",
    "py = pd.read_csv(\"data/nys_cps.csv.gz\")\n",
    "py.columns = py.columns.str.lower()\n",
    "py.inctot.replace({999999999: 0}, inplace=True)\n",
    "py.adjginc.replace({99999999: 0}, inplace=True)\n",
    "# 2014 was double-sampled.\n",
    "py.loc[py.year == 2014, [\"asecwt\", \"spmwt\"]] /= 2\n",
    "# ASEC shows survey year.\n",
    "py.year -= 1"
   ]
  },
  {
   "cell_type": "code",
   "execution_count": 3,
   "metadata": {},
   "outputs": [
    {
     "output_type": "execute_result",
     "data": {
      "text/plain": [
       "              fips    county  pop_m full_fips  asec_pop_m\n",
       "Manhattan       61  New York  1.632     36061    1.634743\n",
       "Brooklyn        47     Kings  2.590     36047    2.634859\n",
       "The Bronx        5     Bronx  1.435     36005    1.586280\n",
       "Staten Island   85  Richmond  0.475     36085    0.497162\n",
       "Queens          81    Queens  2.287     36081    1.869408"
      ],
      "text/html": "<div>\n<style scoped>\n    .dataframe tbody tr th:only-of-type {\n        vertical-align: middle;\n    }\n\n    .dataframe tbody tr th {\n        vertical-align: top;\n    }\n\n    .dataframe thead th {\n        text-align: right;\n    }\n</style>\n<table border=\"1\" class=\"dataframe\">\n  <thead>\n    <tr style=\"text-align: right;\">\n      <th></th>\n      <th>fips</th>\n      <th>county</th>\n      <th>pop_m</th>\n      <th>full_fips</th>\n      <th>asec_pop_m</th>\n    </tr>\n  </thead>\n  <tbody>\n    <tr>\n      <th>Manhattan</th>\n      <td>61</td>\n      <td>New York</td>\n      <td>1.632</td>\n      <td>36061</td>\n      <td>1.634743</td>\n    </tr>\n    <tr>\n      <th>Brooklyn</th>\n      <td>47</td>\n      <td>Kings</td>\n      <td>2.590</td>\n      <td>36047</td>\n      <td>2.634859</td>\n    </tr>\n    <tr>\n      <th>The Bronx</th>\n      <td>5</td>\n      <td>Bronx</td>\n      <td>1.435</td>\n      <td>36005</td>\n      <td>1.586280</td>\n    </tr>\n    <tr>\n      <th>Staten Island</th>\n      <td>85</td>\n      <td>Richmond</td>\n      <td>0.475</td>\n      <td>36085</td>\n      <td>0.497162</td>\n    </tr>\n    <tr>\n      <th>Queens</th>\n      <td>81</td>\n      <td>Queens</td>\n      <td>2.287</td>\n      <td>36081</td>\n      <td>1.869408</td>\n    </tr>\n  </tbody>\n</table>\n</div>"
     },
     "metadata": {},
     "execution_count": 3
    }
   ],
   "source": [
    "NYC_COUNTY = pd.DataFrame(columns=[\"fips\", \"county\", \"pop_m\"])\n",
    "NYS_FIPS = 36\n",
    "# Per https://en.wikipedia.org/wiki/List_of_counties_in_New_York\n",
    "NYC_COUNTY.loc[\"Manhattan\"] = pd.Series({\"fips\": 61, \"county\": \"New York\", \"pop_m\": 1.632})\n",
    "NYC_COUNTY.loc[\"Brooklyn\"] = pd.Series({\"fips\": 47, \"county\": \"Kings\", \"pop_m\": 2.59})\n",
    "NYC_COUNTY.loc[\"The Bronx\"] = pd.Series({\"fips\": 5, \"county\": \"Bronx\", \"pop_m\": 1.435})\n",
    "NYC_COUNTY.loc[\"Staten Island\"] = pd.Series({\"fips\": 85, \"county\": \"Richmond\", \"pop_m\": 0.475})\n",
    "NYC_COUNTY.loc[\"Queens\"] = pd.Series({\"fips\": 81, \"county\": \"Queens\", \"pop_m\": 2.287})\n",
    "NYC_COUNTY[\"full_fips\"] = NYS_FIPS * 1000 + NYC_COUNTY.fips\n",
    "\n",
    "py = py[py.county.isin(NYC_COUNTY.full_fips)][\n",
    "    [\"county\", \"asecwt\", 'age', 'sex', 'race', 'hispan', 'inctot', 'spmwt', 'spmtotres', 'spmthresh',\n",
    "       'spmfamunit', 'adjginc', 'ftotval', 'spmftotval', 'year', 'spmgeoadj']]\n",
    "py[\"adult\"] = py.age > 17\n",
    "py[\"child\"] = py.age <= 17\n",
    "py[\"spmratio\"] = py.spmtotres / py.spmthresh\n",
    "py[\"poor\"] = py.spmratio < 1\n",
    "py[\"deep_poor\"] = py.spmratio < 0.5\n",
    "# py[]\n",
    "NYC_COUNTY[\"asec_pop_m\"] = NYC_COUNTY.full_fips.apply(\n",
    "    lambda x: py[(py.county == x) & (py.year == py.year.max())].asecwt.sum() / 1e6\n",
    ")\n",
    "NYC_COUNTY"
   ]
  },
  {
   "cell_type": "code",
   "execution_count": 4,
   "metadata": {},
   "outputs": [
    {
     "output_type": "execute_result",
     "data": {
      "text/plain": [
       "      spmgeoadj  poverty_rate  deep_poverty_rate  poor_adults  \\\n",
       "year                                                            \n",
       "2009   1.171758      0.238819           0.077847  1406646.140   \n",
       "2010   1.171034      0.254766           0.083146  1525446.480   \n",
       "2011   1.177843      0.264718           0.091158  1643151.780   \n",
       "2012   1.185227      0.283449           0.085348  1724078.310   \n",
       "2013   1.197308      0.248841           0.080284  1598883.565   \n",
       "2014   1.205353      0.244156           0.061335  1634360.030   \n",
       "2015   1.212111      0.209054           0.055558  1332270.600   \n",
       "2016   1.216385      0.172255           0.048316  1129649.120   \n",
       "2017   1.214323      0.209325           0.047428  1310488.930   \n",
       "2018   1.209977      0.203617           0.053130  1344338.090   \n",
       "2019   1.207567      0.191969           0.048592  1202297.550   \n",
       "\n",
       "      deep_poor_adults  child_poverty_rate  child_deep_poverty_rate  \\\n",
       "year                                                                  \n",
       "2009         461700.23            0.285527                 0.091285   \n",
       "2010         511316.47            0.304332                 0.091854   \n",
       "2011         552227.18            0.303672                 0.112016   \n",
       "2012         544069.96            0.346137                 0.090276   \n",
       "2013         526017.99            0.259022                 0.077976   \n",
       "2014         421724.70            0.238525                 0.053827   \n",
       "2015         372160.26            0.251927                 0.057029   \n",
       "2016         337656.81            0.184672                 0.040192   \n",
       "2017         318786.72            0.273164                 0.049709   \n",
       "2018         370674.65            0.208778                 0.042972   \n",
       "2019         352193.54            0.221766                 0.027917   \n",
       "\n",
       "      adult_poverty_rate  adult_deep_poverty_rate   poverty_gap  \\\n",
       "year                                                              \n",
       "2009            0.225489                 0.074012  7.551520e+09   \n",
       "2010            0.240661                 0.080667  7.682122e+09   \n",
       "2011            0.253722                 0.085271  8.933751e+09   \n",
       "2012            0.266143                 0.083987  9.191809e+09   \n",
       "2013            0.245993                 0.080929  8.501543e+09   \n",
       "2014            0.245705                 0.063401  8.251719e+09   \n",
       "2015            0.197466                 0.055161  6.836883e+09   \n",
       "2016            0.168928                 0.050493  5.796825e+09   \n",
       "2017            0.192499                 0.046827  6.427673e+09   \n",
       "2018            0.202273                 0.055773  6.947693e+09   \n",
       "2019            0.184225                 0.053966  6.256898e+09   \n",
       "\n",
       "      squared_poverty_gap  deep_poverty_gap      gini  population   spm_units  \\\n",
       "year                                                                            \n",
       "2009         1.246579e+14      2.339699e+09  0.477896  8018515.38  3462591.14   \n",
       "2010         1.083313e+14      1.993207e+09  0.455999  8142355.16  3535711.74   \n",
       "2011         1.399246e+14      2.562050e+09  0.474011  8304166.90  3540372.29   \n",
       "2012         1.415252e+14      2.657799e+09  0.495976  8266401.85  3654560.71   \n",
       "2013         1.264797e+14      2.303691e+09  0.477413  8317762.07  3775078.88   \n",
       "2014         1.313441e+14      2.311944e+09  0.476089  8481922.52  3664382.81   \n",
       "2015         1.113995e+14      1.917664e+09  0.453240  8570608.64  3675576.36   \n",
       "2016         9.590009e+13      1.688800e+09  0.478641  8479062.17  3684690.55   \n",
       "2017         8.833340e+13      1.421812e+09  0.493949  8601995.46  3834281.25   \n",
       "2018         1.037675e+14      1.663275e+09  0.488809  8375445.35  3651562.38   \n",
       "2019         1.006461e+14      1.502806e+09  0.480629  8222452.07  3652721.87   \n",
       "\n",
       "      survey_population  survey_spm_units  \n",
       "year                                       \n",
       "2009             4011.0            1646.0  \n",
       "2010             3892.0            1653.0  \n",
       "2011             3888.0            1614.0  \n",
       "2012             3741.0            1590.0  \n",
       "2013             3761.0            1624.0  \n",
       "2014             3714.0            1562.0  \n",
       "2015             3327.0            1414.0  \n",
       "2016             3288.0            1406.0  \n",
       "2017             3017.0            1327.0  \n",
       "2018             3274.0            1407.0  \n",
       "2019             2712.0            1189.0  "
      ],
      "text/html": "<div>\n<style scoped>\n    .dataframe tbody tr th:only-of-type {\n        vertical-align: middle;\n    }\n\n    .dataframe tbody tr th {\n        vertical-align: top;\n    }\n\n    .dataframe thead th {\n        text-align: right;\n    }\n</style>\n<table border=\"1\" class=\"dataframe\">\n  <thead>\n    <tr style=\"text-align: right;\">\n      <th></th>\n      <th>spmgeoadj</th>\n      <th>poverty_rate</th>\n      <th>deep_poverty_rate</th>\n      <th>poor_adults</th>\n      <th>deep_poor_adults</th>\n      <th>child_poverty_rate</th>\n      <th>child_deep_poverty_rate</th>\n      <th>adult_poverty_rate</th>\n      <th>adult_deep_poverty_rate</th>\n      <th>poverty_gap</th>\n      <th>squared_poverty_gap</th>\n      <th>deep_poverty_gap</th>\n      <th>gini</th>\n      <th>population</th>\n      <th>spm_units</th>\n      <th>survey_population</th>\n      <th>survey_spm_units</th>\n    </tr>\n    <tr>\n      <th>year</th>\n      <th></th>\n      <th></th>\n      <th></th>\n      <th></th>\n      <th></th>\n      <th></th>\n      <th></th>\n      <th></th>\n      <th></th>\n      <th></th>\n      <th></th>\n      <th></th>\n      <th></th>\n      <th></th>\n      <th></th>\n      <th></th>\n      <th></th>\n    </tr>\n  </thead>\n  <tbody>\n    <tr>\n      <th>2009</th>\n      <td>1.171758</td>\n      <td>0.238819</td>\n      <td>0.077847</td>\n      <td>1406646.140</td>\n      <td>461700.23</td>\n      <td>0.285527</td>\n      <td>0.091285</td>\n      <td>0.225489</td>\n      <td>0.074012</td>\n      <td>7.551520e+09</td>\n      <td>1.246579e+14</td>\n      <td>2.339699e+09</td>\n      <td>0.477896</td>\n      <td>8018515.38</td>\n      <td>3462591.14</td>\n      <td>4011.0</td>\n      <td>1646.0</td>\n    </tr>\n    <tr>\n      <th>2010</th>\n      <td>1.171034</td>\n      <td>0.254766</td>\n      <td>0.083146</td>\n      <td>1525446.480</td>\n      <td>511316.47</td>\n      <td>0.304332</td>\n      <td>0.091854</td>\n      <td>0.240661</td>\n      <td>0.080667</td>\n      <td>7.682122e+09</td>\n      <td>1.083313e+14</td>\n      <td>1.993207e+09</td>\n      <td>0.455999</td>\n      <td>8142355.16</td>\n      <td>3535711.74</td>\n      <td>3892.0</td>\n      <td>1653.0</td>\n    </tr>\n    <tr>\n      <th>2011</th>\n      <td>1.177843</td>\n      <td>0.264718</td>\n      <td>0.091158</td>\n      <td>1643151.780</td>\n      <td>552227.18</td>\n      <td>0.303672</td>\n      <td>0.112016</td>\n      <td>0.253722</td>\n      <td>0.085271</td>\n      <td>8.933751e+09</td>\n      <td>1.399246e+14</td>\n      <td>2.562050e+09</td>\n      <td>0.474011</td>\n      <td>8304166.90</td>\n      <td>3540372.29</td>\n      <td>3888.0</td>\n      <td>1614.0</td>\n    </tr>\n    <tr>\n      <th>2012</th>\n      <td>1.185227</td>\n      <td>0.283449</td>\n      <td>0.085348</td>\n      <td>1724078.310</td>\n      <td>544069.96</td>\n      <td>0.346137</td>\n      <td>0.090276</td>\n      <td>0.266143</td>\n      <td>0.083987</td>\n      <td>9.191809e+09</td>\n      <td>1.415252e+14</td>\n      <td>2.657799e+09</td>\n      <td>0.495976</td>\n      <td>8266401.85</td>\n      <td>3654560.71</td>\n      <td>3741.0</td>\n      <td>1590.0</td>\n    </tr>\n    <tr>\n      <th>2013</th>\n      <td>1.197308</td>\n      <td>0.248841</td>\n      <td>0.080284</td>\n      <td>1598883.565</td>\n      <td>526017.99</td>\n      <td>0.259022</td>\n      <td>0.077976</td>\n      <td>0.245993</td>\n      <td>0.080929</td>\n      <td>8.501543e+09</td>\n      <td>1.264797e+14</td>\n      <td>2.303691e+09</td>\n      <td>0.477413</td>\n      <td>8317762.07</td>\n      <td>3775078.88</td>\n      <td>3761.0</td>\n      <td>1624.0</td>\n    </tr>\n    <tr>\n      <th>2014</th>\n      <td>1.205353</td>\n      <td>0.244156</td>\n      <td>0.061335</td>\n      <td>1634360.030</td>\n      <td>421724.70</td>\n      <td>0.238525</td>\n      <td>0.053827</td>\n      <td>0.245705</td>\n      <td>0.063401</td>\n      <td>8.251719e+09</td>\n      <td>1.313441e+14</td>\n      <td>2.311944e+09</td>\n      <td>0.476089</td>\n      <td>8481922.52</td>\n      <td>3664382.81</td>\n      <td>3714.0</td>\n      <td>1562.0</td>\n    </tr>\n    <tr>\n      <th>2015</th>\n      <td>1.212111</td>\n      <td>0.209054</td>\n      <td>0.055558</td>\n      <td>1332270.600</td>\n      <td>372160.26</td>\n      <td>0.251927</td>\n      <td>0.057029</td>\n      <td>0.197466</td>\n      <td>0.055161</td>\n      <td>6.836883e+09</td>\n      <td>1.113995e+14</td>\n      <td>1.917664e+09</td>\n      <td>0.453240</td>\n      <td>8570608.64</td>\n      <td>3675576.36</td>\n      <td>3327.0</td>\n      <td>1414.0</td>\n    </tr>\n    <tr>\n      <th>2016</th>\n      <td>1.216385</td>\n      <td>0.172255</td>\n      <td>0.048316</td>\n      <td>1129649.120</td>\n      <td>337656.81</td>\n      <td>0.184672</td>\n      <td>0.040192</td>\n      <td>0.168928</td>\n      <td>0.050493</td>\n      <td>5.796825e+09</td>\n      <td>9.590009e+13</td>\n      <td>1.688800e+09</td>\n      <td>0.478641</td>\n      <td>8479062.17</td>\n      <td>3684690.55</td>\n      <td>3288.0</td>\n      <td>1406.0</td>\n    </tr>\n    <tr>\n      <th>2017</th>\n      <td>1.214323</td>\n      <td>0.209325</td>\n      <td>0.047428</td>\n      <td>1310488.930</td>\n      <td>318786.72</td>\n      <td>0.273164</td>\n      <td>0.049709</td>\n      <td>0.192499</td>\n      <td>0.046827</td>\n      <td>6.427673e+09</td>\n      <td>8.833340e+13</td>\n      <td>1.421812e+09</td>\n      <td>0.493949</td>\n      <td>8601995.46</td>\n      <td>3834281.25</td>\n      <td>3017.0</td>\n      <td>1327.0</td>\n    </tr>\n    <tr>\n      <th>2018</th>\n      <td>1.209977</td>\n      <td>0.203617</td>\n      <td>0.053130</td>\n      <td>1344338.090</td>\n      <td>370674.65</td>\n      <td>0.208778</td>\n      <td>0.042972</td>\n      <td>0.202273</td>\n      <td>0.055773</td>\n      <td>6.947693e+09</td>\n      <td>1.037675e+14</td>\n      <td>1.663275e+09</td>\n      <td>0.488809</td>\n      <td>8375445.35</td>\n      <td>3651562.38</td>\n      <td>3274.0</td>\n      <td>1407.0</td>\n    </tr>\n    <tr>\n      <th>2019</th>\n      <td>1.207567</td>\n      <td>0.191969</td>\n      <td>0.048592</td>\n      <td>1202297.550</td>\n      <td>352193.54</td>\n      <td>0.221766</td>\n      <td>0.027917</td>\n      <td>0.184225</td>\n      <td>0.053966</td>\n      <td>6.256898e+09</td>\n      <td>1.006461e+14</td>\n      <td>1.502806e+09</td>\n      <td>0.480629</td>\n      <td>8222452.07</td>\n      <td>3652721.87</td>\n      <td>2712.0</td>\n      <td>1189.0</td>\n    </tr>\n  </tbody>\n</table>\n</div>"
     },
     "metadata": {},
     "execution_count": 4
    }
   ],
   "source": [
    "def year_stats(p):\n",
    "    s = p[[\"spmfamunit\", \"year\", \"spmtotres\", \"spmthresh\", \"spmwt\"]].drop_duplicates()\n",
    "    return pd.Series({\n",
    "        \"spmgeoadj\": mdf.weighted_mean(p, \"spmgeoadj\", \"asecwt\"),\n",
    "        \"poverty_rate\": mdf.weighted_mean(p, \"poor\", \"asecwt\"),\n",
    "        \"deep_poverty_rate\": mdf.weighted_mean(p, \"deep_poor\", \"asecwt\"),\n",
    "        \"poor_adults\": mdf.weighted_sum(p[p.adult], \"poor\", \"asecwt\"),\n",
    "        \"deep_poor_adults\": mdf.weighted_sum(p[p.adult], \"deep_poor\", \"asecwt\"),\n",
    "        \"child_poverty_rate\": mdf.weighted_mean(p[p.child], \"poor\", \"asecwt\"),\n",
    "        \"child_deep_poverty_rate\": mdf.weighted_mean(p[p.child], \"deep_poor\", \"asecwt\"),\n",
    "        \"adult_poverty_rate\": mdf.weighted_mean(p[p.adult], \"poor\", \"asecwt\"),\n",
    "        \"adult_deep_poverty_rate\": mdf.weighted_mean(p[p.adult], \"deep_poor\", \"asecwt\"),\n",
    "        \"poverty_gap\": mdf.poverty_gap(s, \"spmtotres\", \"spmthresh\", \"spmwt\"),\n",
    "        \"squared_poverty_gap\": mdf.squared_poverty_gap(s, \"spmtotres\", \"spmthresh\", \"spmwt\"),\n",
    "        \"deep_poverty_gap\": mdf.deep_poverty_gap(s, \"spmtotres\", \"spmthresh\", \"spmwt\"),\n",
    "        \"gini\": mdf.gini(s, \"spmtotres\", \"spmwt\"),\n",
    "        \"population\": p.asecwt.sum(),\n",
    "        \"spm_units\": s.spmwt.sum(),\n",
    "        \"survey_population\": p.shape[0],\n",
    "        \"survey_spm_units\": s.shape[0],\n",
    "    })\n",
    "year = py.groupby(\"year\").apply(year_stats)\n",
    "year\n"
   ]
  },
  {
   "cell_type": "code",
   "execution_count": 5,
   "metadata": {},
   "outputs": [
    {
     "output_type": "display_data",
     "data": {
      "application/vnd.plotly.v1+json": {
       "config": {
        "displayModeBar": false,
        "plotlyServerURL": "https://plot.ly"
       },
       "data": [
        {
         "hovertemplate": "variable=deep_poverty_rate<br>year=%{x}<br>value=%{y}<extra></extra>",
         "legendgroup": "deep_poverty_rate",
         "line": {
          "color": "#636efa",
          "dash": "solid"
         },
         "mode": "lines",
         "name": "deep_poverty_rate",
         "orientation": "v",
         "showlegend": true,
         "type": "scatter",
         "x": [
          2009,
          2010,
          2011,
          2012,
          2013,
          2014,
          2015,
          2016,
          2017,
          2018,
          2019
         ],
         "xaxis": "x",
         "y": [
          0.07784698044689664,
          0.08314552567367989,
          0.09115801128708047,
          0.08534781913608519,
          0.0802840192325915,
          0.0613350002635959,
          0.05555828063104746,
          0.04831624321018513,
          0.047428030146856176,
          0.053129938935127796,
          0.04859213974110767
         ],
         "yaxis": "y"
        }
       ],
       "layout": {
        "font": {
         "family": "Roboto"
        },
        "height": 600,
        "hoverlabel": {
         "align": "right"
        },
        "images": [
         {
          "sizex": 0.12,
          "sizey": 0.12,
          "source": "https://raw.githubusercontent.com/UBICenter/blog/master/jb/_static/ubi_center_logo_wide_blue.png",
          "x": 0.98,
          "xanchor": "right",
          "xref": "paper",
          "y": -0.12,
          "yanchor": "bottom",
          "yref": "paper"
         }
        ],
        "legend": {
         "title": {
          "text": "variable"
         },
         "tracegroupgap": 0
        },
        "margin": {
         "t": 60
        },
        "paper_bgcolor": "white",
        "plot_bgcolor": "white",
        "template": {
         "data": {
          "bar": [
           {
            "error_x": {
             "color": "#2a3f5f"
            },
            "error_y": {
             "color": "#2a3f5f"
            },
            "marker": {
             "line": {
              "color": "#E5ECF6",
              "width": 0.5
             }
            },
            "type": "bar"
           }
          ],
          "barpolar": [
           {
            "marker": {
             "line": {
              "color": "#E5ECF6",
              "width": 0.5
             }
            },
            "type": "barpolar"
           }
          ],
          "carpet": [
           {
            "aaxis": {
             "endlinecolor": "#2a3f5f",
             "gridcolor": "white",
             "linecolor": "white",
             "minorgridcolor": "white",
             "startlinecolor": "#2a3f5f"
            },
            "baxis": {
             "endlinecolor": "#2a3f5f",
             "gridcolor": "white",
             "linecolor": "white",
             "minorgridcolor": "white",
             "startlinecolor": "#2a3f5f"
            },
            "type": "carpet"
           }
          ],
          "choropleth": [
           {
            "colorbar": {
             "outlinewidth": 0,
             "ticks": ""
            },
            "type": "choropleth"
           }
          ],
          "contour": [
           {
            "colorbar": {
             "outlinewidth": 0,
             "ticks": ""
            },
            "colorscale": [
             [
              0,
              "#0d0887"
             ],
             [
              0.1111111111111111,
              "#46039f"
             ],
             [
              0.2222222222222222,
              "#7201a8"
             ],
             [
              0.3333333333333333,
              "#9c179e"
             ],
             [
              0.4444444444444444,
              "#bd3786"
             ],
             [
              0.5555555555555556,
              "#d8576b"
             ],
             [
              0.6666666666666666,
              "#ed7953"
             ],
             [
              0.7777777777777778,
              "#fb9f3a"
             ],
             [
              0.8888888888888888,
              "#fdca26"
             ],
             [
              1,
              "#f0f921"
             ]
            ],
            "type": "contour"
           }
          ],
          "contourcarpet": [
           {
            "colorbar": {
             "outlinewidth": 0,
             "ticks": ""
            },
            "type": "contourcarpet"
           }
          ],
          "heatmap": [
           {
            "colorbar": {
             "outlinewidth": 0,
             "ticks": ""
            },
            "colorscale": [
             [
              0,
              "#0d0887"
             ],
             [
              0.1111111111111111,
              "#46039f"
             ],
             [
              0.2222222222222222,
              "#7201a8"
             ],
             [
              0.3333333333333333,
              "#9c179e"
             ],
             [
              0.4444444444444444,
              "#bd3786"
             ],
             [
              0.5555555555555556,
              "#d8576b"
             ],
             [
              0.6666666666666666,
              "#ed7953"
             ],
             [
              0.7777777777777778,
              "#fb9f3a"
             ],
             [
              0.8888888888888888,
              "#fdca26"
             ],
             [
              1,
              "#f0f921"
             ]
            ],
            "type": "heatmap"
           }
          ],
          "heatmapgl": [
           {
            "colorbar": {
             "outlinewidth": 0,
             "ticks": ""
            },
            "colorscale": [
             [
              0,
              "#0d0887"
             ],
             [
              0.1111111111111111,
              "#46039f"
             ],
             [
              0.2222222222222222,
              "#7201a8"
             ],
             [
              0.3333333333333333,
              "#9c179e"
             ],
             [
              0.4444444444444444,
              "#bd3786"
             ],
             [
              0.5555555555555556,
              "#d8576b"
             ],
             [
              0.6666666666666666,
              "#ed7953"
             ],
             [
              0.7777777777777778,
              "#fb9f3a"
             ],
             [
              0.8888888888888888,
              "#fdca26"
             ],
             [
              1,
              "#f0f921"
             ]
            ],
            "type": "heatmapgl"
           }
          ],
          "histogram": [
           {
            "marker": {
             "colorbar": {
              "outlinewidth": 0,
              "ticks": ""
             }
            },
            "type": "histogram"
           }
          ],
          "histogram2d": [
           {
            "colorbar": {
             "outlinewidth": 0,
             "ticks": ""
            },
            "colorscale": [
             [
              0,
              "#0d0887"
             ],
             [
              0.1111111111111111,
              "#46039f"
             ],
             [
              0.2222222222222222,
              "#7201a8"
             ],
             [
              0.3333333333333333,
              "#9c179e"
             ],
             [
              0.4444444444444444,
              "#bd3786"
             ],
             [
              0.5555555555555556,
              "#d8576b"
             ],
             [
              0.6666666666666666,
              "#ed7953"
             ],
             [
              0.7777777777777778,
              "#fb9f3a"
             ],
             [
              0.8888888888888888,
              "#fdca26"
             ],
             [
              1,
              "#f0f921"
             ]
            ],
            "type": "histogram2d"
           }
          ],
          "histogram2dcontour": [
           {
            "colorbar": {
             "outlinewidth": 0,
             "ticks": ""
            },
            "colorscale": [
             [
              0,
              "#0d0887"
             ],
             [
              0.1111111111111111,
              "#46039f"
             ],
             [
              0.2222222222222222,
              "#7201a8"
             ],
             [
              0.3333333333333333,
              "#9c179e"
             ],
             [
              0.4444444444444444,
              "#bd3786"
             ],
             [
              0.5555555555555556,
              "#d8576b"
             ],
             [
              0.6666666666666666,
              "#ed7953"
             ],
             [
              0.7777777777777778,
              "#fb9f3a"
             ],
             [
              0.8888888888888888,
              "#fdca26"
             ],
             [
              1,
              "#f0f921"
             ]
            ],
            "type": "histogram2dcontour"
           }
          ],
          "mesh3d": [
           {
            "colorbar": {
             "outlinewidth": 0,
             "ticks": ""
            },
            "type": "mesh3d"
           }
          ],
          "parcoords": [
           {
            "line": {
             "colorbar": {
              "outlinewidth": 0,
              "ticks": ""
             }
            },
            "type": "parcoords"
           }
          ],
          "pie": [
           {
            "automargin": true,
            "type": "pie"
           }
          ],
          "scatter": [
           {
            "marker": {
             "colorbar": {
              "outlinewidth": 0,
              "ticks": ""
             }
            },
            "type": "scatter"
           }
          ],
          "scatter3d": [
           {
            "line": {
             "colorbar": {
              "outlinewidth": 0,
              "ticks": ""
             }
            },
            "marker": {
             "colorbar": {
              "outlinewidth": 0,
              "ticks": ""
             }
            },
            "type": "scatter3d"
           }
          ],
          "scattercarpet": [
           {
            "marker": {
             "colorbar": {
              "outlinewidth": 0,
              "ticks": ""
             }
            },
            "type": "scattercarpet"
           }
          ],
          "scattergeo": [
           {
            "marker": {
             "colorbar": {
              "outlinewidth": 0,
              "ticks": ""
             }
            },
            "type": "scattergeo"
           }
          ],
          "scattergl": [
           {
            "marker": {
             "colorbar": {
              "outlinewidth": 0,
              "ticks": ""
             }
            },
            "type": "scattergl"
           }
          ],
          "scattermapbox": [
           {
            "marker": {
             "colorbar": {
              "outlinewidth": 0,
              "ticks": ""
             }
            },
            "type": "scattermapbox"
           }
          ],
          "scatterpolar": [
           {
            "marker": {
             "colorbar": {
              "outlinewidth": 0,
              "ticks": ""
             }
            },
            "type": "scatterpolar"
           }
          ],
          "scatterpolargl": [
           {
            "marker": {
             "colorbar": {
              "outlinewidth": 0,
              "ticks": ""
             }
            },
            "type": "scatterpolargl"
           }
          ],
          "scatterternary": [
           {
            "marker": {
             "colorbar": {
              "outlinewidth": 0,
              "ticks": ""
             }
            },
            "type": "scatterternary"
           }
          ],
          "surface": [
           {
            "colorbar": {
             "outlinewidth": 0,
             "ticks": ""
            },
            "colorscale": [
             [
              0,
              "#0d0887"
             ],
             [
              0.1111111111111111,
              "#46039f"
             ],
             [
              0.2222222222222222,
              "#7201a8"
             ],
             [
              0.3333333333333333,
              "#9c179e"
             ],
             [
              0.4444444444444444,
              "#bd3786"
             ],
             [
              0.5555555555555556,
              "#d8576b"
             ],
             [
              0.6666666666666666,
              "#ed7953"
             ],
             [
              0.7777777777777778,
              "#fb9f3a"
             ],
             [
              0.8888888888888888,
              "#fdca26"
             ],
             [
              1,
              "#f0f921"
             ]
            ],
            "type": "surface"
           }
          ],
          "table": [
           {
            "cells": {
             "fill": {
              "color": "#EBF0F8"
             },
             "line": {
              "color": "white"
             }
            },
            "header": {
             "fill": {
              "color": "#C8D4E3"
             },
             "line": {
              "color": "white"
             }
            },
            "type": "table"
           }
          ]
         },
         "layout": {
          "annotationdefaults": {
           "arrowcolor": "#2a3f5f",
           "arrowhead": 0,
           "arrowwidth": 1
          },
          "autotypenumbers": "strict",
          "coloraxis": {
           "colorbar": {
            "outlinewidth": 0,
            "ticks": ""
           }
          },
          "colorscale": {
           "diverging": [
            [
             0,
             "#8e0152"
            ],
            [
             0.1,
             "#c51b7d"
            ],
            [
             0.2,
             "#de77ae"
            ],
            [
             0.3,
             "#f1b6da"
            ],
            [
             0.4,
             "#fde0ef"
            ],
            [
             0.5,
             "#f7f7f7"
            ],
            [
             0.6,
             "#e6f5d0"
            ],
            [
             0.7,
             "#b8e186"
            ],
            [
             0.8,
             "#7fbc41"
            ],
            [
             0.9,
             "#4d9221"
            ],
            [
             1,
             "#276419"
            ]
           ],
           "sequential": [
            [
             0,
             "#0d0887"
            ],
            [
             0.1111111111111111,
             "#46039f"
            ],
            [
             0.2222222222222222,
             "#7201a8"
            ],
            [
             0.3333333333333333,
             "#9c179e"
            ],
            [
             0.4444444444444444,
             "#bd3786"
            ],
            [
             0.5555555555555556,
             "#d8576b"
            ],
            [
             0.6666666666666666,
             "#ed7953"
            ],
            [
             0.7777777777777778,
             "#fb9f3a"
            ],
            [
             0.8888888888888888,
             "#fdca26"
            ],
            [
             1,
             "#f0f921"
            ]
           ],
           "sequentialminus": [
            [
             0,
             "#0d0887"
            ],
            [
             0.1111111111111111,
             "#46039f"
            ],
            [
             0.2222222222222222,
             "#7201a8"
            ],
            [
             0.3333333333333333,
             "#9c179e"
            ],
            [
             0.4444444444444444,
             "#bd3786"
            ],
            [
             0.5555555555555556,
             "#d8576b"
            ],
            [
             0.6666666666666666,
             "#ed7953"
            ],
            [
             0.7777777777777778,
             "#fb9f3a"
            ],
            [
             0.8888888888888888,
             "#fdca26"
            ],
            [
             1,
             "#f0f921"
            ]
           ]
          },
          "colorway": [
           "#636efa",
           "#EF553B",
           "#00cc96",
           "#ab63fa",
           "#FFA15A",
           "#19d3f3",
           "#FF6692",
           "#B6E880",
           "#FF97FF",
           "#FECB52"
          ],
          "font": {
           "color": "#2a3f5f"
          },
          "geo": {
           "bgcolor": "white",
           "lakecolor": "white",
           "landcolor": "#E5ECF6",
           "showlakes": true,
           "showland": true,
           "subunitcolor": "white"
          },
          "hoverlabel": {
           "align": "left"
          },
          "hovermode": "closest",
          "mapbox": {
           "style": "light"
          },
          "paper_bgcolor": "white",
          "plot_bgcolor": "#E5ECF6",
          "polar": {
           "angularaxis": {
            "gridcolor": "white",
            "linecolor": "white",
            "ticks": ""
           },
           "bgcolor": "#E5ECF6",
           "radialaxis": {
            "gridcolor": "white",
            "linecolor": "white",
            "ticks": ""
           }
          },
          "scene": {
           "xaxis": {
            "backgroundcolor": "#E5ECF6",
            "gridcolor": "white",
            "gridwidth": 2,
            "linecolor": "white",
            "showbackground": true,
            "ticks": "",
            "zerolinecolor": "white"
           },
           "yaxis": {
            "backgroundcolor": "#E5ECF6",
            "gridcolor": "white",
            "gridwidth": 2,
            "linecolor": "white",
            "showbackground": true,
            "ticks": "",
            "zerolinecolor": "white"
           },
           "zaxis": {
            "backgroundcolor": "#E5ECF6",
            "gridcolor": "white",
            "gridwidth": 2,
            "linecolor": "white",
            "showbackground": true,
            "ticks": "",
            "zerolinecolor": "white"
           }
          },
          "shapedefaults": {
           "line": {
            "color": "#2a3f5f"
           }
          },
          "ternary": {
           "aaxis": {
            "gridcolor": "white",
            "linecolor": "white",
            "ticks": ""
           },
           "baxis": {
            "gridcolor": "white",
            "linecolor": "white",
            "ticks": ""
           },
           "bgcolor": "#E5ECF6",
           "caxis": {
            "gridcolor": "white",
            "linecolor": "white",
            "ticks": ""
           }
          },
          "title": {
           "x": 0.05
          },
          "xaxis": {
           "automargin": true,
           "gridcolor": "white",
           "linecolor": "white",
           "ticks": "",
           "title": {
            "standoff": 15
           },
           "zerolinecolor": "white",
           "zerolinewidth": 2
          },
          "yaxis": {
           "automargin": true,
           "gridcolor": "white",
           "linecolor": "white",
           "ticks": "",
           "title": {
            "standoff": 15
           },
           "zerolinecolor": "white",
           "zerolinewidth": 2
          }
         }
        },
        "title": {
         "font": {
          "size": 20
         }
        },
        "width": 800,
        "xaxis": {
         "anchor": "y",
         "domain": [
          0,
          1
         ],
         "tickfont": {
          "size": 14
         },
         "title": {
          "font": {
           "color": "black",
           "size": 16
          },
          "text": "year"
         }
        },
        "yaxis": {
         "anchor": "x",
         "domain": [
          0,
          1
         ],
         "tickfont": {
          "size": 14
         },
         "title": {
          "font": {
           "color": "black",
           "size": 16
          },
          "text": "value"
         }
        }
       }
      }
     },
     "metadata": {}
    }
   ],
   "source": [
    "format_fig(px.line(year.deep_poverty_rate))"
   ]
  },
  {
   "cell_type": "code",
   "execution_count": 6,
   "metadata": {},
   "outputs": [
    {
     "output_type": "execute_result",
     "data": {
      "text/plain": [
       "<AxesSubplot:xlabel='year'>"
      ]
     },
     "metadata": {},
     "execution_count": 6
    },
    {
     "output_type": "display_data",
     "data": {
      "text/plain": "<Figure size 432x288 with 1 Axes>",
      "image/svg+xml": "<?xml version=\"1.0\" encoding=\"utf-8\" standalone=\"no\"?>\n<!DOCTYPE svg PUBLIC \"-//W3C//DTD SVG 1.1//EN\"\n  \"http://www.w3.org/Graphics/SVG/1.1/DTD/svg11.dtd\">\n<svg height=\"262.19625pt\" version=\"1.1\" viewBox=\"0 0 378.465625 262.19625\" width=\"378.465625pt\" xmlns=\"http://www.w3.org/2000/svg\" xmlns:xlink=\"http://www.w3.org/1999/xlink\">\n <metadata>\n  <rdf:RDF xmlns:cc=\"http://creativecommons.org/ns#\" xmlns:dc=\"http://purl.org/dc/elements/1.1/\" xmlns:rdf=\"http://www.w3.org/1999/02/22-rdf-syntax-ns#\">\n   <cc:Work>\n    <dc:type rdf:resource=\"http://purl.org/dc/dcmitype/StillImage\"/>\n    <dc:date>2021-06-14T12:35:12.449560</dc:date>\n    <dc:format>image/svg+xml</dc:format>\n    <dc:creator>\n     <cc:Agent>\n      <dc:title>Matplotlib v3.4.2, https://matplotlib.org/</dc:title>\n     </cc:Agent>\n    </dc:creator>\n   </cc:Work>\n  </rdf:RDF>\n </metadata>\n <defs>\n  <style type=\"text/css\">*{stroke-linecap:butt;stroke-linejoin:round;}</style>\n </defs>\n <g id=\"figure_1\">\n  <g id=\"patch_1\">\n   <path d=\"M 0 262.19625 \nL 378.465625 262.19625 \nL 378.465625 0 \nL 0 0 \nz\n\" style=\"fill:none;\"/>\n  </g>\n  <g id=\"axes_1\">\n   <g id=\"patch_2\">\n    <path d=\"M 36.465625 224.64 \nL 371.265625 224.64 \nL 371.265625 7.2 \nL 36.465625 7.2 \nz\n\" style=\"fill:#ffffff;\"/>\n   </g>\n   <g id=\"matplotlib.axis_1\">\n    <g id=\"xtick_1\">\n     <g id=\"line2d_1\">\n      <defs>\n       <path d=\"M 0 0 \nL 0 3.5 \n\" id=\"m6545eaa378\" style=\"stroke:#000000;stroke-width:0.8;\"/>\n      </defs>\n      <g>\n       <use style=\"stroke:#000000;stroke-width:0.8;\" x=\"82.12017\" xlink:href=\"#m6545eaa378\" y=\"224.64\"/>\n      </g>\n     </g>\n     <g id=\"text_1\">\n      <!-- 2010 -->\n      <g transform=\"translate(69.39517 239.238437)scale(0.1 -0.1)\">\n       <defs>\n        <path d=\"M 1228 531 \nL 3431 531 \nL 3431 0 \nL 469 0 \nL 469 531 \nQ 828 903 1448 1529 \nQ 2069 2156 2228 2338 \nQ 2531 2678 2651 2914 \nQ 2772 3150 2772 3378 \nQ 2772 3750 2511 3984 \nQ 2250 4219 1831 4219 \nQ 1534 4219 1204 4116 \nQ 875 4013 500 3803 \nL 500 4441 \nQ 881 4594 1212 4672 \nQ 1544 4750 1819 4750 \nQ 2544 4750 2975 4387 \nQ 3406 4025 3406 3419 \nQ 3406 3131 3298 2873 \nQ 3191 2616 2906 2266 \nQ 2828 2175 2409 1742 \nQ 1991 1309 1228 531 \nz\n\" id=\"DejaVuSans-32\" transform=\"scale(0.015625)\"/>\n        <path d=\"M 2034 4250 \nQ 1547 4250 1301 3770 \nQ 1056 3291 1056 2328 \nQ 1056 1369 1301 889 \nQ 1547 409 2034 409 \nQ 2525 409 2770 889 \nQ 3016 1369 3016 2328 \nQ 3016 3291 2770 3770 \nQ 2525 4250 2034 4250 \nz\nM 2034 4750 \nQ 2819 4750 3233 4129 \nQ 3647 3509 3647 2328 \nQ 3647 1150 3233 529 \nQ 2819 -91 2034 -91 \nQ 1250 -91 836 529 \nQ 422 1150 422 2328 \nQ 422 3509 836 4129 \nQ 1250 4750 2034 4750 \nz\n\" id=\"DejaVuSans-30\" transform=\"scale(0.015625)\"/>\n        <path d=\"M 794 531 \nL 1825 531 \nL 1825 4091 \nL 703 3866 \nL 703 4441 \nL 1819 4666 \nL 2450 4666 \nL 2450 531 \nL 3481 531 \nL 3481 0 \nL 794 0 \nL 794 531 \nz\n\" id=\"DejaVuSans-31\" transform=\"scale(0.015625)\"/>\n       </defs>\n       <use xlink:href=\"#DejaVuSans-32\"/>\n       <use x=\"63.623047\" xlink:href=\"#DejaVuSans-30\"/>\n       <use x=\"127.246094\" xlink:href=\"#DejaVuSans-31\"/>\n       <use x=\"190.869141\" xlink:href=\"#DejaVuSans-30\"/>\n      </g>\n     </g>\n    </g>\n    <g id=\"xtick_2\">\n     <g id=\"line2d_2\">\n      <g>\n       <use style=\"stroke:#000000;stroke-width:0.8;\" x=\"142.992898\" xlink:href=\"#m6545eaa378\" y=\"224.64\"/>\n      </g>\n     </g>\n     <g id=\"text_2\">\n      <!-- 2012 -->\n      <g transform=\"translate(130.267898 239.238437)scale(0.1 -0.1)\">\n       <use xlink:href=\"#DejaVuSans-32\"/>\n       <use x=\"63.623047\" xlink:href=\"#DejaVuSans-30\"/>\n       <use x=\"127.246094\" xlink:href=\"#DejaVuSans-31\"/>\n       <use x=\"190.869141\" xlink:href=\"#DejaVuSans-32\"/>\n      </g>\n     </g>\n    </g>\n    <g id=\"xtick_3\">\n     <g id=\"line2d_3\">\n      <g>\n       <use style=\"stroke:#000000;stroke-width:0.8;\" x=\"203.865625\" xlink:href=\"#m6545eaa378\" y=\"224.64\"/>\n      </g>\n     </g>\n     <g id=\"text_3\">\n      <!-- 2014 -->\n      <g transform=\"translate(191.140625 239.238437)scale(0.1 -0.1)\">\n       <defs>\n        <path d=\"M 2419 4116 \nL 825 1625 \nL 2419 1625 \nL 2419 4116 \nz\nM 2253 4666 \nL 3047 4666 \nL 3047 1625 \nL 3713 1625 \nL 3713 1100 \nL 3047 1100 \nL 3047 0 \nL 2419 0 \nL 2419 1100 \nL 313 1100 \nL 313 1709 \nL 2253 4666 \nz\n\" id=\"DejaVuSans-34\" transform=\"scale(0.015625)\"/>\n       </defs>\n       <use xlink:href=\"#DejaVuSans-32\"/>\n       <use x=\"63.623047\" xlink:href=\"#DejaVuSans-30\"/>\n       <use x=\"127.246094\" xlink:href=\"#DejaVuSans-31\"/>\n       <use x=\"190.869141\" xlink:href=\"#DejaVuSans-34\"/>\n      </g>\n     </g>\n    </g>\n    <g id=\"xtick_4\">\n     <g id=\"line2d_4\">\n      <g>\n       <use style=\"stroke:#000000;stroke-width:0.8;\" x=\"264.738352\" xlink:href=\"#m6545eaa378\" y=\"224.64\"/>\n      </g>\n     </g>\n     <g id=\"text_4\">\n      <!-- 2016 -->\n      <g transform=\"translate(252.013352 239.238437)scale(0.1 -0.1)\">\n       <defs>\n        <path d=\"M 2113 2584 \nQ 1688 2584 1439 2293 \nQ 1191 2003 1191 1497 \nQ 1191 994 1439 701 \nQ 1688 409 2113 409 \nQ 2538 409 2786 701 \nQ 3034 994 3034 1497 \nQ 3034 2003 2786 2293 \nQ 2538 2584 2113 2584 \nz\nM 3366 4563 \nL 3366 3988 \nQ 3128 4100 2886 4159 \nQ 2644 4219 2406 4219 \nQ 1781 4219 1451 3797 \nQ 1122 3375 1075 2522 \nQ 1259 2794 1537 2939 \nQ 1816 3084 2150 3084 \nQ 2853 3084 3261 2657 \nQ 3669 2231 3669 1497 \nQ 3669 778 3244 343 \nQ 2819 -91 2113 -91 \nQ 1303 -91 875 529 \nQ 447 1150 447 2328 \nQ 447 3434 972 4092 \nQ 1497 4750 2381 4750 \nQ 2619 4750 2861 4703 \nQ 3103 4656 3366 4563 \nz\n\" id=\"DejaVuSans-36\" transform=\"scale(0.015625)\"/>\n       </defs>\n       <use xlink:href=\"#DejaVuSans-32\"/>\n       <use x=\"63.623047\" xlink:href=\"#DejaVuSans-30\"/>\n       <use x=\"127.246094\" xlink:href=\"#DejaVuSans-31\"/>\n       <use x=\"190.869141\" xlink:href=\"#DejaVuSans-36\"/>\n      </g>\n     </g>\n    </g>\n    <g id=\"xtick_5\">\n     <g id=\"line2d_5\">\n      <g>\n       <use style=\"stroke:#000000;stroke-width:0.8;\" x=\"325.61108\" xlink:href=\"#m6545eaa378\" y=\"224.64\"/>\n      </g>\n     </g>\n     <g id=\"text_5\">\n      <!-- 2018 -->\n      <g transform=\"translate(312.88608 239.238437)scale(0.1 -0.1)\">\n       <defs>\n        <path d=\"M 2034 2216 \nQ 1584 2216 1326 1975 \nQ 1069 1734 1069 1313 \nQ 1069 891 1326 650 \nQ 1584 409 2034 409 \nQ 2484 409 2743 651 \nQ 3003 894 3003 1313 \nQ 3003 1734 2745 1975 \nQ 2488 2216 2034 2216 \nz\nM 1403 2484 \nQ 997 2584 770 2862 \nQ 544 3141 544 3541 \nQ 544 4100 942 4425 \nQ 1341 4750 2034 4750 \nQ 2731 4750 3128 4425 \nQ 3525 4100 3525 3541 \nQ 3525 3141 3298 2862 \nQ 3072 2584 2669 2484 \nQ 3125 2378 3379 2068 \nQ 3634 1759 3634 1313 \nQ 3634 634 3220 271 \nQ 2806 -91 2034 -91 \nQ 1263 -91 848 271 \nQ 434 634 434 1313 \nQ 434 1759 690 2068 \nQ 947 2378 1403 2484 \nz\nM 1172 3481 \nQ 1172 3119 1398 2916 \nQ 1625 2713 2034 2713 \nQ 2441 2713 2670 2916 \nQ 2900 3119 2900 3481 \nQ 2900 3844 2670 4047 \nQ 2441 4250 2034 4250 \nQ 1625 4250 1398 4047 \nQ 1172 3844 1172 3481 \nz\n\" id=\"DejaVuSans-38\" transform=\"scale(0.015625)\"/>\n       </defs>\n       <use xlink:href=\"#DejaVuSans-32\"/>\n       <use x=\"63.623047\" xlink:href=\"#DejaVuSans-30\"/>\n       <use x=\"127.246094\" xlink:href=\"#DejaVuSans-31\"/>\n       <use x=\"190.869141\" xlink:href=\"#DejaVuSans-38\"/>\n      </g>\n     </g>\n    </g>\n    <g id=\"text_6\">\n     <!-- year -->\n     <g transform=\"translate(192.710156 252.916562)scale(0.1 -0.1)\">\n      <defs>\n       <path d=\"M 2059 -325 \nQ 1816 -950 1584 -1140 \nQ 1353 -1331 966 -1331 \nL 506 -1331 \nL 506 -850 \nL 844 -850 \nQ 1081 -850 1212 -737 \nQ 1344 -625 1503 -206 \nL 1606 56 \nL 191 3500 \nL 800 3500 \nL 1894 763 \nL 2988 3500 \nL 3597 3500 \nL 2059 -325 \nz\n\" id=\"DejaVuSans-79\" transform=\"scale(0.015625)\"/>\n       <path d=\"M 3597 1894 \nL 3597 1613 \nL 953 1613 \nQ 991 1019 1311 708 \nQ 1631 397 2203 397 \nQ 2534 397 2845 478 \nQ 3156 559 3463 722 \nL 3463 178 \nQ 3153 47 2828 -22 \nQ 2503 -91 2169 -91 \nQ 1331 -91 842 396 \nQ 353 884 353 1716 \nQ 353 2575 817 3079 \nQ 1281 3584 2069 3584 \nQ 2775 3584 3186 3129 \nQ 3597 2675 3597 1894 \nz\nM 3022 2063 \nQ 3016 2534 2758 2815 \nQ 2500 3097 2075 3097 \nQ 1594 3097 1305 2825 \nQ 1016 2553 972 2059 \nL 3022 2063 \nz\n\" id=\"DejaVuSans-65\" transform=\"scale(0.015625)\"/>\n       <path d=\"M 2194 1759 \nQ 1497 1759 1228 1600 \nQ 959 1441 959 1056 \nQ 959 750 1161 570 \nQ 1363 391 1709 391 \nQ 2188 391 2477 730 \nQ 2766 1069 2766 1631 \nL 2766 1759 \nL 2194 1759 \nz\nM 3341 1997 \nL 3341 0 \nL 2766 0 \nL 2766 531 \nQ 2569 213 2275 61 \nQ 1981 -91 1556 -91 \nQ 1019 -91 701 211 \nQ 384 513 384 1019 \nQ 384 1609 779 1909 \nQ 1175 2209 1959 2209 \nL 2766 2209 \nL 2766 2266 \nQ 2766 2663 2505 2880 \nQ 2244 3097 1772 3097 \nQ 1472 3097 1187 3025 \nQ 903 2953 641 2809 \nL 641 3341 \nQ 956 3463 1253 3523 \nQ 1550 3584 1831 3584 \nQ 2591 3584 2966 3190 \nQ 3341 2797 3341 1997 \nz\n\" id=\"DejaVuSans-61\" transform=\"scale(0.015625)\"/>\n       <path d=\"M 2631 2963 \nQ 2534 3019 2420 3045 \nQ 2306 3072 2169 3072 \nQ 1681 3072 1420 2755 \nQ 1159 2438 1159 1844 \nL 1159 0 \nL 581 0 \nL 581 3500 \nL 1159 3500 \nL 1159 2956 \nQ 1341 3275 1631 3429 \nQ 1922 3584 2338 3584 \nQ 2397 3584 2469 3576 \nQ 2541 3569 2628 3553 \nL 2631 2963 \nz\n\" id=\"DejaVuSans-72\" transform=\"scale(0.015625)\"/>\n      </defs>\n      <use xlink:href=\"#DejaVuSans-79\"/>\n      <use x=\"59.179688\" xlink:href=\"#DejaVuSans-65\"/>\n      <use x=\"120.703125\" xlink:href=\"#DejaVuSans-61\"/>\n      <use x=\"181.982422\" xlink:href=\"#DejaVuSans-72\"/>\n     </g>\n    </g>\n   </g>\n   <g id=\"matplotlib.axis_2\">\n    <g id=\"ytick_1\">\n     <g id=\"line2d_6\">\n      <defs>\n       <path d=\"M 0 0 \nL -3.5 0 \n\" id=\"md4eda5bf38\" style=\"stroke:#000000;stroke-width:0.8;\"/>\n      </defs>\n      <g>\n       <use style=\"stroke:#000000;stroke-width:0.8;\" x=\"36.465625\" xlink:href=\"#md4eda5bf38\" y=\"189.128845\"/>\n      </g>\n     </g>\n     <g id=\"text_7\">\n      <!-- 0.96 -->\n      <g transform=\"translate(7.2 192.928064)scale(0.1 -0.1)\">\n       <defs>\n        <path d=\"M 684 794 \nL 1344 794 \nL 1344 0 \nL 684 0 \nL 684 794 \nz\n\" id=\"DejaVuSans-2e\" transform=\"scale(0.015625)\"/>\n        <path d=\"M 703 97 \nL 703 672 \nQ 941 559 1184 500 \nQ 1428 441 1663 441 \nQ 2288 441 2617 861 \nQ 2947 1281 2994 2138 \nQ 2813 1869 2534 1725 \nQ 2256 1581 1919 1581 \nQ 1219 1581 811 2004 \nQ 403 2428 403 3163 \nQ 403 3881 828 4315 \nQ 1253 4750 1959 4750 \nQ 2769 4750 3195 4129 \nQ 3622 3509 3622 2328 \nQ 3622 1225 3098 567 \nQ 2575 -91 1691 -91 \nQ 1453 -91 1209 -44 \nQ 966 3 703 97 \nz\nM 1959 2075 \nQ 2384 2075 2632 2365 \nQ 2881 2656 2881 3163 \nQ 2881 3666 2632 3958 \nQ 2384 4250 1959 4250 \nQ 1534 4250 1286 3958 \nQ 1038 3666 1038 3163 \nQ 1038 2656 1286 2365 \nQ 1534 2075 1959 2075 \nz\n\" id=\"DejaVuSans-39\" transform=\"scale(0.015625)\"/>\n       </defs>\n       <use xlink:href=\"#DejaVuSans-30\"/>\n       <use x=\"63.623047\" xlink:href=\"#DejaVuSans-2e\"/>\n       <use x=\"95.410156\" xlink:href=\"#DejaVuSans-39\"/>\n       <use x=\"159.033203\" xlink:href=\"#DejaVuSans-36\"/>\n      </g>\n     </g>\n    </g>\n    <g id=\"ytick_2\">\n     <g id=\"line2d_7\">\n      <g>\n       <use style=\"stroke:#000000;stroke-width:0.8;\" x=\"36.465625\" xlink:href=\"#md4eda5bf38\" y=\"144.919513\"/>\n      </g>\n     </g>\n     <g id=\"text_8\">\n      <!-- 0.98 -->\n      <g transform=\"translate(7.2 148.718732)scale(0.1 -0.1)\">\n       <use xlink:href=\"#DejaVuSans-30\"/>\n       <use x=\"63.623047\" xlink:href=\"#DejaVuSans-2e\"/>\n       <use x=\"95.410156\" xlink:href=\"#DejaVuSans-39\"/>\n       <use x=\"159.033203\" xlink:href=\"#DejaVuSans-38\"/>\n      </g>\n     </g>\n    </g>\n    <g id=\"ytick_3\">\n     <g id=\"line2d_8\">\n      <g>\n       <use style=\"stroke:#000000;stroke-width:0.8;\" x=\"36.465625\" xlink:href=\"#md4eda5bf38\" y=\"100.710182\"/>\n      </g>\n     </g>\n     <g id=\"text_9\">\n      <!-- 1.00 -->\n      <g transform=\"translate(7.2 104.509401)scale(0.1 -0.1)\">\n       <use xlink:href=\"#DejaVuSans-31\"/>\n       <use x=\"63.623047\" xlink:href=\"#DejaVuSans-2e\"/>\n       <use x=\"95.410156\" xlink:href=\"#DejaVuSans-30\"/>\n       <use x=\"159.033203\" xlink:href=\"#DejaVuSans-30\"/>\n      </g>\n     </g>\n    </g>\n    <g id=\"ytick_4\">\n     <g id=\"line2d_9\">\n      <g>\n       <use style=\"stroke:#000000;stroke-width:0.8;\" x=\"36.465625\" xlink:href=\"#md4eda5bf38\" y=\"56.50085\"/>\n      </g>\n     </g>\n     <g id=\"text_10\">\n      <!-- 1.02 -->\n      <g transform=\"translate(7.2 60.300069)scale(0.1 -0.1)\">\n       <use xlink:href=\"#DejaVuSans-31\"/>\n       <use x=\"63.623047\" xlink:href=\"#DejaVuSans-2e\"/>\n       <use x=\"95.410156\" xlink:href=\"#DejaVuSans-30\"/>\n       <use x=\"159.033203\" xlink:href=\"#DejaVuSans-32\"/>\n      </g>\n     </g>\n    </g>\n    <g id=\"ytick_5\">\n     <g id=\"line2d_10\">\n      <g>\n       <use style=\"stroke:#000000;stroke-width:0.8;\" x=\"36.465625\" xlink:href=\"#md4eda5bf38\" y=\"12.291519\"/>\n      </g>\n     </g>\n     <g id=\"text_11\">\n      <!-- 1.04 -->\n      <g transform=\"translate(7.2 16.090738)scale(0.1 -0.1)\">\n       <use xlink:href=\"#DejaVuSans-31\"/>\n       <use x=\"63.623047\" xlink:href=\"#DejaVuSans-2e\"/>\n       <use x=\"95.410156\" xlink:href=\"#DejaVuSans-30\"/>\n       <use x=\"159.033203\" xlink:href=\"#DejaVuSans-34\"/>\n      </g>\n     </g>\n    </g>\n   </g>\n   <g id=\"line2d_11\">\n    <path clip-path=\"url(#pded9be4922)\" d=\"M 51.683807 100.710182 \nL 82.12017 201.995213 \nL 112.556534 118.683871 \nL 142.992898 17.083636 \nL 173.429261 102.943886 \nL 203.865625 109.068404 \nL 234.301989 214.756364 \nL 264.738352 97.2648 \nL 295.174716 26.459803 \nL 325.61108 50.234539 \nL 356.047443 88.069483 \n\" style=\"fill:none;stroke:#1f77b4;stroke-linecap:square;stroke-width:1.5;\"/>\n   </g>\n   <g id=\"patch_3\">\n    <path d=\"M 36.465625 224.64 \nL 36.465625 7.2 \n\" style=\"fill:none;stroke:#000000;stroke-linecap:square;stroke-linejoin:miter;stroke-width:0.8;\"/>\n   </g>\n   <g id=\"patch_4\">\n    <path d=\"M 371.265625 224.64 \nL 371.265625 7.2 \n\" style=\"fill:none;stroke:#000000;stroke-linecap:square;stroke-linejoin:miter;stroke-width:0.8;\"/>\n   </g>\n   <g id=\"patch_5\">\n    <path d=\"M 36.465625 224.64 \nL 371.265625 224.64 \n\" style=\"fill:none;stroke:#000000;stroke-linecap:square;stroke-linejoin:miter;stroke-width:0.8;\"/>\n   </g>\n   <g id=\"patch_6\">\n    <path d=\"M 36.465625 7.2 \nL 371.265625 7.2 \n\" style=\"fill:none;stroke:#000000;stroke-linecap:square;stroke-linejoin:miter;stroke-width:0.8;\"/>\n   </g>\n  </g>\n </g>\n <defs>\n  <clipPath id=\"pded9be4922\">\n   <rect height=\"217.44\" width=\"334.8\" x=\"36.465625\" y=\"7.2\"/>\n  </clipPath>\n </defs>\n</svg>\n",
      "image/png": "[encoded data removed]"
     },
     "metadata": {
      "needs_background": "light"
     }
    }
   ],
   "source": [
    "(year.gini / year.gini.iloc[0]).plot()"
   ]
  },
  {
   "cell_type": "code",
   "execution_count": 7,
   "metadata": {},
   "outputs": [
    {
     "output_type": "execute_result",
     "data": {
      "text/plain": [
       "const   -4.589639\n",
       "x1       0.002775\n",
       "dtype: float64"
      ]
     },
     "metadata": {},
     "execution_count": 7
    }
   ],
   "source": [
    "def trend(col):\n",
    "    return sm.OLS(year[col] / year[col].iloc[0], sm.add_constant(year.index)).fit().params\n",
    "\n",
    "trend(\"gini\")"
   ]
  },
  {
   "cell_type": "code",
   "execution_count": 8,
   "metadata": {},
   "outputs": [
    {
     "output_type": "stream",
     "name": "stderr",
     "text": [
      "/home/mghenis/anaconda3/lib/python3.7/site-packages/scipy/stats/stats.py:1604: UserWarning:\n\nkurtosistest only valid for n>=20 ... continuing anyway, n=11\n\n"
     ]
    },
    {
     "output_type": "execute_result",
     "data": {
      "text/plain": [
       "<class 'statsmodels.iolib.summary.Summary'>\n",
       "\"\"\"\n",
       "                             OLS Regression Results                            \n",
       "===============================================================================\n",
       "Dep. Variable:     squared_poverty_gap   R-squared:                       0.442\n",
       "Model:                             OLS   Adj. R-squared:                  0.381\n",
       "Method:                  Least Squares   F-statistic:                     7.143\n",
       "Date:                 Mon, 14 Jun 2021   Prob (F-statistic):             0.0255\n",
       "Time:                         12:35:13   Log-Likelihood:                 9.3529\n",
       "No. Observations:                   11   AIC:                            -14.71\n",
       "Df Residuals:                        9   BIC:                            -13.91\n",
       "Df Model:                            1                                         \n",
       "Covariance Type:             nonrobust                                         \n",
       "==============================================================================\n",
       "                 coef    std err          t      P>|t|      [0.025      0.975]\n",
       "------------------------------------------------------------------------------\n",
       "const         59.5923     21.950      2.715      0.024       9.938     109.247\n",
       "x1            -0.0291      0.011     -2.673      0.026      -0.054      -0.004\n",
       "==============================================================================\n",
       "Omnibus:                        1.153   Durbin-Watson:                   1.323\n",
       "Prob(Omnibus):                  0.562   Jarque-Bera (JB):                0.723\n",
       "Skew:                          -0.192   Prob(JB):                        0.697\n",
       "Kurtosis:                       1.804   Cond. No.                     1.28e+06\n",
       "==============================================================================\n",
       "\n",
       "Notes:\n",
       "[1] Standard Errors assume that the covariance matrix of the errors is correctly specified.\n",
       "[2] The condition number is large, 1.28e+06. This might indicate that there are\n",
       "strong multicollinearity or other numerical problems.\n",
       "\"\"\""
      ],
      "text/html": "<table class=\"simpletable\">\n<caption>OLS Regression Results</caption>\n<tr>\n  <th>Dep. Variable:</th>    <td>squared_poverty_gap</td> <th>  R-squared:         </th> <td>   0.442</td>\n</tr>\n<tr>\n  <th>Model:</th>                    <td>OLS</td>         <th>  Adj. R-squared:    </th> <td>   0.381</td>\n</tr>\n<tr>\n  <th>Method:</th>              <td>Least Squares</td>    <th>  F-statistic:       </th> <td>   7.143</td>\n</tr>\n<tr>\n  <th>Date:</th>              <td>Mon, 14 Jun 2021</td>   <th>  Prob (F-statistic):</th>  <td>0.0255</td> \n</tr>\n<tr>\n  <th>Time:</th>                  <td>12:35:13</td>       <th>  Log-Likelihood:    </th> <td>  9.3529</td>\n</tr>\n<tr>\n  <th>No. Observations:</th>       <td>    11</td>        <th>  AIC:               </th> <td>  -14.71</td>\n</tr>\n<tr>\n  <th>Df Residuals:</th>           <td>     9</td>        <th>  BIC:               </th> <td>  -13.91</td>\n</tr>\n<tr>\n  <th>Df Model:</th>               <td>     1</td>        <th>                     </th>     <td> </td>   \n</tr>\n<tr>\n  <th>Covariance Type:</th>       <td>nonrobust</td>      <th>                     </th>     <td> </td>   \n</tr>\n</table>\n<table class=\"simpletable\">\n<tr>\n    <td></td>       <th>coef</th>     <th>std err</th>      <th>t</th>      <th>P>|t|</th>  <th>[0.025</th>    <th>0.975]</th>  \n</tr>\n<tr>\n  <th>const</th> <td>   59.5923</td> <td>   21.950</td> <td>    2.715</td> <td> 0.024</td> <td>    9.938</td> <td>  109.247</td>\n</tr>\n<tr>\n  <th>x1</th>    <td>   -0.0291</td> <td>    0.011</td> <td>   -2.673</td> <td> 0.026</td> <td>   -0.054</td> <td>   -0.004</td>\n</tr>\n</table>\n<table class=\"simpletable\">\n<tr>\n  <th>Omnibus:</th>       <td> 1.153</td> <th>  Durbin-Watson:     </th> <td>   1.323</td>\n</tr>\n<tr>\n  <th>Prob(Omnibus):</th> <td> 0.562</td> <th>  Jarque-Bera (JB):  </th> <td>   0.723</td>\n</tr>\n<tr>\n  <th>Skew:</th>          <td>-0.192</td> <th>  Prob(JB):          </th> <td>   0.697</td>\n</tr>\n<tr>\n  <th>Kurtosis:</th>      <td> 1.804</td> <th>  Cond. No.          </th> <td>1.28e+06</td>\n</tr>\n</table><br/><br/>Notes:<br/>[1] Standard Errors assume that the covariance matrix of the errors is correctly specified.<br/>[2] The condition number is large, 1.28e+06. This might indicate that there are<br/>strong multicollinearity or other numerical problems."
     },
     "metadata": {},
     "execution_count": 8
    }
   ],
   "source": [
    "sm.OLS(year.squared_poverty_gap / year.squared_poverty_gap.iloc[0], sm.add_constant(year.index)).fit().summary()"
   ]
  },
  {
   "cell_type": "code",
   "execution_count": 9,
   "metadata": {},
   "outputs": [
    {
     "output_type": "execute_result",
     "data": {
      "text/plain": [
       "year\n",
       "2009    4011\n",
       "2010    3892\n",
       "2011    3888\n",
       "2012    3741\n",
       "2013    3761\n",
       "2014    3714\n",
       "2015    3327\n",
       "2016    3288\n",
       "2017    3017\n",
       "2018    3274\n",
       "2019    2712\n",
       "dtype: int64"
      ]
     },
     "metadata": {},
     "execution_count": 9
    }
   ],
   "source": [
    "py.groupby(\"year\").size()"
   ]
  },
  {
   "cell_type": "code",
   "execution_count": 10,
   "metadata": {},
   "outputs": [],
   "source": [
    "# Use three years of data to smooth out given small sample size.\n",
    "p = py[py.year.isin([2017, 2018, 2019])].copy()\n",
    "p[[\"asecwt\", \"spmwt\"]] /= 3"
   ]
  },
  {
   "cell_type": "code",
   "execution_count": 11,
   "metadata": {},
   "outputs": [],
   "source": [
    "BUDGET = 1e9  # $1 billion.\n",
    "REACH = 500e3  # 500,000 adult New Yorkers.\n",
    "\n",
    "P_S_MERGE_COLS = [\"year\", \"spmfamunit\"]\n",
    "SPMU_COLS = [\"spmtotres\", \"spmthresh\", \"spmratio\", \"spmwt\", \"spmftotval\"]\n",
    "SPMU_AGGS = [\"adult\", \"child\"]\n",
    "\n",
    "s = p.groupby(P_S_MERGE_COLS + SPMU_COLS)[SPMU_AGGS].sum().reset_index()"
   ]
  },
  {
   "cell_type": "code",
   "execution_count": 12,
   "metadata": {},
   "outputs": [],
   "source": [
    "def phase_out(amount, rate, respect_to):\n",
    "    return np.maximum(0, amount - respect_to * rate)\n",
    "\n",
    "\n",
    "\n",
    "def policy(pov_ratio_guarantee, phase_out_rate):\n",
    "    \"\"\" Computes features of a negative income tax.\n",
    "\n",
    "    Args:\n",
    "        pov_ratio_guarantee: Maximum benefit as a share of a SPM unit's\n",
    "            poverty threshold.\n",
    "        phase_out_rate: Phase-out rate with respect to a SPM unit's resources.\n",
    "    \"\"\"\n",
    "    s[\"max_transfer\"] = s.spmthresh * pov_ratio_guarantee\n",
    "    s[\"transfer\"] = phase_out(s.max_transfer, phase_out_rate,\n",
    "                              np.maximum(s.spmtotres, 0))\n",
    "    s[\"spmtotres_r\"] = s.spmtotres + s.transfer\n",
    "    p2 = p.merge(s[P_S_MERGE_COLS + [\"transfer\"]], on=P_S_MERGE_COLS)\n",
    "    p2[\"spmtotres_r\"] = p2.spmtotres + p2.transfer\n",
    "    return pd.Series({\n",
    "        # Variables for defining policies.\n",
    "        \"cost_b\": mdf.weighted_sum(s, \"transfer\", \"spmwt\") / 1e9,\n",
    "        \"adult_reach\": p2[(p2.transfer > 0) & p2.adult].asecwt.sum(),\n",
    "        # Variables for evaluation.\n",
    "        \"spmu_reach\": s[s.transfer > 0].spmwt.sum(),\n",
    "        \"child_reach\": p2[(p2.transfer > 0) & p2.child].asecwt.sum(),\n",
    "        \"gini\": mdf.gini(s, \"spmtotres_r\", \"spmwt\"),\n",
    "        \"poverty_rate\": mdf.poverty_rate(p2, \"spmtotres_r\", \"spmthresh\", \"asecwt\"),\n",
    "        \"deep_poverty_rate\": mdf.deep_poverty_rate(p2, \"spmtotres_r\", \"spmthresh\", \"asecwt\"),\n",
    "        \"child_poverty_rate\": mdf.poverty_rate(p2[p2.child], \"spmtotres_r\", \"spmthresh\", \"asecwt\"),\n",
    "        \"child_deep_poverty_rate\": mdf.deep_poverty_rate(p2[p2.child], \"spmtotres_r\", \"spmthresh\", \"asecwt\"),\n",
    "        \"adult_poverty_rate\": mdf.poverty_rate(p2[p2.adult], \"spmtotres_r\", \"spmthresh\", \"asecwt\"),\n",
    "        \"adult_deep_poverty_rate\": mdf.deep_poverty_rate(p2[p2.adult], \"spmtotres_r\", \"spmthresh\", \"asecwt\"),\n",
    "        \"poverty_gap\": mdf.poverty_gap(s, \"spmtotres_r\", \"spmthresh\", \"spmwt\"),\n",
    "        \"squared_poverty_gap\": mdf.squared_poverty_gap(s, \"spmtotres_r\", \"spmthresh\", \"spmwt\"),\n",
    "        \"deep_poverty_gap\": mdf.deep_poverty_gap(s, \"spmtotres_r\", \"spmthresh\", \"spmwt\"),\n",
    "    })"
   ]
  },
  {
   "cell_type": "code",
   "execution_count": 13,
   "metadata": {},
   "outputs": [
    {
     "output_type": "execute_result",
     "data": {
      "text/plain": [
       "      pov_ratio_guarantee  phase_out_rate    cost_b   adult_reach  \\\n",
       "0                    0.01            0.00  0.860683  6.660054e+06   \n",
       "1                    0.01            0.01  0.064600  1.285708e+06   \n",
       "2                    0.01            0.02  0.028903  3.472183e+05   \n",
       "3                    0.01            0.03  0.023849  2.231429e+05   \n",
       "4                    0.01            0.04  0.021741  1.861716e+05   \n",
       "...                   ...             ...       ...           ...   \n",
       "5045                 0.50            0.96  1.484681  3.713384e+05   \n",
       "5046                 0.50            0.97  1.474007  3.700070e+05   \n",
       "5047                 0.50            0.98  1.463818  3.563081e+05   \n",
       "5048                 0.50            0.99  1.454281  3.489403e+05   \n",
       "5049                 0.50            1.00  1.445169  3.472183e+05   \n",
       "\n",
       "        spmu_reach   child_reach      gini  poverty_rate  deep_poverty_rate  \\\n",
       "0     3.712855e+06  1.739910e+06  0.487076      0.197996           0.047976   \n",
       "1     7.512678e+05  4.091063e+05  0.488207      0.201764           0.049370   \n",
       "2     2.329493e+05  7.028474e+04  0.488380      0.201764           0.049703   \n",
       "3     1.684367e+05  4.841986e+04  0.488410      0.201764           0.049703   \n",
       "4     1.452380e+05  3.233471e+04  0.488422      0.201764           0.049703   \n",
       "...            ...           ...       ...           ...                ...   \n",
       "5045  2.469092e+05  7.423493e+04  0.479748      0.201764           0.008381   \n",
       "5046  2.462435e+05  7.354813e+04  0.479805      0.201764           0.008381   \n",
       "5047  2.376609e+05  7.233507e+04  0.479859      0.201764           0.008381   \n",
       "5048  2.346713e+05  7.028474e+04  0.479910      0.201764           0.008381   \n",
       "5049  2.329493e+05  7.028474e+04  0.479959      0.201764           0.008381   \n",
       "\n",
       "      child_poverty_rate  child_deep_poverty_rate  adult_poverty_rate  \\\n",
       "0               0.230656                 0.038919            0.189464   \n",
       "1               0.235131                 0.040396            0.193048   \n",
       "2               0.235131                 0.040396            0.193048   \n",
       "3               0.235131                 0.040396            0.193048   \n",
       "4               0.235131                 0.040396            0.193048   \n",
       "...                  ...                      ...                 ...   \n",
       "5045            0.235131                 0.002450            0.193048   \n",
       "5046            0.235131                 0.002450            0.193048   \n",
       "5047            0.235131                 0.002450            0.193048   \n",
       "5048            0.235131                 0.002450            0.193048   \n",
       "5049            0.235131                 0.002450            0.193048   \n",
       "\n",
       "      adult_deep_poverty_rate   poverty_gap  squared_poverty_gap  \\\n",
       "0                    0.050342  6.372123e+09         9.435255e+13   \n",
       "1                    0.051714  6.479488e+09         9.568039e+13   \n",
       "2                    0.052134  6.515185e+09         9.643910e+13   \n",
       "3                    0.052134  6.520239e+09         9.662273e+13   \n",
       "4                    0.052134  6.522347e+09         9.670770e+13   \n",
       "...                       ...           ...                  ...   \n",
       "5045                 0.009930  5.059407e+09         5.152153e+13   \n",
       "5046                 0.009930  5.070081e+09         5.180054e+13   \n",
       "5047                 0.009930  5.080270e+09         5.207123e+13   \n",
       "5048                 0.009930  5.089807e+09         5.232758e+13   \n",
       "5049                 0.009930  5.098919e+09         5.257027e+13   \n",
       "\n",
       "      deep_poverty_gap  \n",
       "0         1.482777e+09  \n",
       "1         1.491369e+09  \n",
       "2         1.500395e+09  \n",
       "3         1.505449e+09  \n",
       "4         1.507557e+09  \n",
       "...                ...  \n",
       "5045      8.412901e+07  \n",
       "5046      8.412901e+07  \n",
       "5047      8.412901e+07  \n",
       "5048      8.412901e+07  \n",
       "5049      8.412901e+07  \n",
       "\n",
       "[5050 rows x 16 columns]"
      ],
      "text/html": "<div>\n<style scoped>\n    .dataframe tbody tr th:only-of-type {\n        vertical-align: middle;\n    }\n\n    .dataframe tbody tr th {\n        vertical-align: top;\n    }\n\n    .dataframe thead th {\n        text-align: right;\n    }\n</style>\n<table border=\"1\" class=\"dataframe\">\n  <thead>\n    <tr style=\"text-align: right;\">\n      <th></th>\n      <th>pov_ratio_guarantee</th>\n      <th>phase_out_rate</th>\n      <th>cost_b</th>\n      <th>adult_reach</th>\n      <th>spmu_reach</th>\n      <th>child_reach</th>\n      <th>gini</th>\n      <th>poverty_rate</th>\n      <th>deep_poverty_rate</th>\n      <th>child_poverty_rate</th>\n      <th>child_deep_poverty_rate</th>\n      <th>adult_poverty_rate</th>\n      <th>adult_deep_poverty_rate</th>\n      <th>poverty_gap</th>\n      <th>squared_poverty_gap</th>\n      <th>deep_poverty_gap</th>\n    </tr>\n  </thead>\n  <tbody>\n    <tr>\n      <th>0</th>\n      <td>0.01</td>\n      <td>0.00</td>\n      <td>0.860683</td>\n      <td>6.660054e+06</td>\n      <td>3.712855e+06</td>\n      <td>1.739910e+06</td>\n      <td>0.487076</td>\n      <td>0.197996</td>\n      <td>0.047976</td>\n      <td>0.230656</td>\n      <td>0.038919</td>\n      <td>0.189464</td>\n      <td>0.050342</td>\n      <td>6.372123e+09</td>\n      <td>9.435255e+13</td>\n      <td>1.482777e+09</td>\n    </tr>\n    <tr>\n      <th>1</th>\n      <td>0.01</td>\n      <td>0.01</td>\n      <td>0.064600</td>\n      <td>1.285708e+06</td>\n      <td>7.512678e+05</td>\n      <td>4.091063e+05</td>\n      <td>0.488207</td>\n      <td>0.201764</td>\n      <td>0.049370</td>\n      <td>0.235131</td>\n      <td>0.040396</td>\n      <td>0.193048</td>\n      <td>0.051714</td>\n      <td>6.479488e+09</td>\n      <td>9.568039e+13</td>\n      <td>1.491369e+09</td>\n    </tr>\n    <tr>\n      <th>2</th>\n      <td>0.01</td>\n      <td>0.02</td>\n      <td>0.028903</td>\n      <td>3.472183e+05</td>\n      <td>2.329493e+05</td>\n      <td>7.028474e+04</td>\n      <td>0.488380</td>\n      <td>0.201764</td>\n      <td>0.049703</td>\n      <td>0.235131</td>\n      <td>0.040396</td>\n      <td>0.193048</td>\n      <td>0.052134</td>\n      <td>6.515185e+09</td>\n      <td>9.643910e+13</td>\n      <td>1.500395e+09</td>\n    </tr>\n    <tr>\n      <th>3</th>\n      <td>0.01</td>\n      <td>0.03</td>\n      <td>0.023849</td>\n      <td>2.231429e+05</td>\n      <td>1.684367e+05</td>\n      <td>4.841986e+04</td>\n      <td>0.488410</td>\n      <td>0.201764</td>\n      <td>0.049703</td>\n      <td>0.235131</td>\n      <td>0.040396</td>\n      <td>0.193048</td>\n      <td>0.052134</td>\n      <td>6.520239e+09</td>\n      <td>9.662273e+13</td>\n      <td>1.505449e+09</td>\n    </tr>\n    <tr>\n      <th>4</th>\n      <td>0.01</td>\n      <td>0.04</td>\n      <td>0.021741</td>\n      <td>1.861716e+05</td>\n      <td>1.452380e+05</td>\n      <td>3.233471e+04</td>\n      <td>0.488422</td>\n      <td>0.201764</td>\n      <td>0.049703</td>\n      <td>0.235131</td>\n      <td>0.040396</td>\n      <td>0.193048</td>\n      <td>0.052134</td>\n      <td>6.522347e+09</td>\n      <td>9.670770e+13</td>\n      <td>1.507557e+09</td>\n    </tr>\n    <tr>\n      <th>...</th>\n      <td>...</td>\n      <td>...</td>\n      <td>...</td>\n      <td>...</td>\n      <td>...</td>\n      <td>...</td>\n      <td>...</td>\n      <td>...</td>\n      <td>...</td>\n      <td>...</td>\n      <td>...</td>\n      <td>...</td>\n      <td>...</td>\n      <td>...</td>\n      <td>...</td>\n      <td>...</td>\n    </tr>\n    <tr>\n      <th>5045</th>\n      <td>0.50</td>\n      <td>0.96</td>\n      <td>1.484681</td>\n      <td>3.713384e+05</td>\n      <td>2.469092e+05</td>\n      <td>7.423493e+04</td>\n      <td>0.479748</td>\n      <td>0.201764</td>\n      <td>0.008381</td>\n      <td>0.235131</td>\n      <td>0.002450</td>\n      <td>0.193048</td>\n      <td>0.009930</td>\n      <td>5.059407e+09</td>\n      <td>5.152153e+13</td>\n      <td>8.412901e+07</td>\n    </tr>\n    <tr>\n      <th>5046</th>\n      <td>0.50</td>\n      <td>0.97</td>\n      <td>1.474007</td>\n      <td>3.700070e+05</td>\n      <td>2.462435e+05</td>\n      <td>7.354813e+04</td>\n      <td>0.479805</td>\n      <td>0.201764</td>\n      <td>0.008381</td>\n      <td>0.235131</td>\n      <td>0.002450</td>\n      <td>0.193048</td>\n      <td>0.009930</td>\n      <td>5.070081e+09</td>\n      <td>5.180054e+13</td>\n      <td>8.412901e+07</td>\n    </tr>\n    <tr>\n      <th>5047</th>\n      <td>0.50</td>\n      <td>0.98</td>\n      <td>1.463818</td>\n      <td>3.563081e+05</td>\n      <td>2.376609e+05</td>\n      <td>7.233507e+04</td>\n      <td>0.479859</td>\n      <td>0.201764</td>\n      <td>0.008381</td>\n      <td>0.235131</td>\n      <td>0.002450</td>\n      <td>0.193048</td>\n      <td>0.009930</td>\n      <td>5.080270e+09</td>\n      <td>5.207123e+13</td>\n      <td>8.412901e+07</td>\n    </tr>\n    <tr>\n      <th>5048</th>\n      <td>0.50</td>\n      <td>0.99</td>\n      <td>1.454281</td>\n      <td>3.489403e+05</td>\n      <td>2.346713e+05</td>\n      <td>7.028474e+04</td>\n      <td>0.479910</td>\n      <td>0.201764</td>\n      <td>0.008381</td>\n      <td>0.235131</td>\n      <td>0.002450</td>\n      <td>0.193048</td>\n      <td>0.009930</td>\n      <td>5.089807e+09</td>\n      <td>5.232758e+13</td>\n      <td>8.412901e+07</td>\n    </tr>\n    <tr>\n      <th>5049</th>\n      <td>0.50</td>\n      <td>1.00</td>\n      <td>1.445169</td>\n      <td>3.472183e+05</td>\n      <td>2.329493e+05</td>\n      <td>7.028474e+04</td>\n      <td>0.479959</td>\n      <td>0.201764</td>\n      <td>0.008381</td>\n      <td>0.235131</td>\n      <td>0.002450</td>\n      <td>0.193048</td>\n      <td>0.009930</td>\n      <td>5.098919e+09</td>\n      <td>5.257027e+13</td>\n      <td>8.412901e+07</td>\n    </tr>\n  </tbody>\n</table>\n<p>5050 rows × 16 columns</p>\n</div>"
     },
     "metadata": {},
     "execution_count": 13
    }
   ],
   "source": [
    "policies = mdf.cartesian_product({\n",
    "    \"pov_ratio_guarantee\": np.arange(0.01, 0.51, 0.01),\n",
    "    \"phase_out_rate\": np.arange(0, 1.01, 0.01)\n",
    "    })\n",
    "policies = pd.concat([policies,\n",
    "    policies.apply(lambda x: policy(x.pov_ratio_guarantee, x.phase_out_rate), axis=1)],\n",
    "    axis=1)\n",
    "# Takes ~5min to run.\n",
    "policies.to_csv(\"data/policies.csv\", index=False)\n",
    "policies"
   ]
  },
  {
   "cell_type": "code",
   "execution_count": 14,
   "metadata": {},
   "outputs": [
    {
     "output_type": "display_data",
     "data": {
      "application/vnd.plotly.v1+json": {
       "config": {
        "displayModeBar": false,
        "plotlyServerURL": "https://plot.ly"
       },
       "data": [
        {
         "hovertemplate": "pov_ratio_guarantee=%{x}<br>cost_b=%{y}<extra></extra>",
         "legendgroup": "",
         "line": {
          "color": "#636efa",
          "dash": "solid"
         },
         "mode": "lines",
         "name": "",
         "orientation": "v",
         "showlegend": false,
         "type": "scatter",
         "x": [
          0.01,
          0.02,
          0.03,
          0.04,
          0.05,
          0.060000000000000005,
          0.06999999999999999,
          0.08,
          0.09,
          0.09999999999999999,
          0.11,
          0.12,
          0.13,
          0.14,
          0.15000000000000002,
          0.16,
          0.17,
          0.18000000000000002,
          0.19,
          0.2,
          0.21000000000000002,
          0.22,
          0.23,
          0.24000000000000002,
          0.25,
          0.26,
          0.27,
          0.28,
          0.29000000000000004,
          0.3,
          0.31,
          0.32,
          0.33,
          0.34,
          0.35000000000000003,
          0.36000000000000004,
          0.37,
          0.38,
          0.39,
          0.4,
          0.41000000000000003,
          0.42000000000000004,
          0.43,
          0.44,
          0.45,
          0.46,
          0.47000000000000003,
          0.48000000000000004,
          0.49,
          0.5
         ],
         "xaxis": "x",
         "y": [
          0.015841852255804926,
          0.03332561636913195,
          0.0520409448773975,
          0.07195824994119716,
          0.09262799405121443,
          0.11371306658072439,
          0.1355224728448146,
          0.15798937043511396,
          0.1814668034489553,
          0.20602295879577923,
          0.23164899069381828,
          0.25827637446320284,
          0.285702447824484,
          0.3147205929349897,
          0.3447689893594384,
          0.3760960360536608,
          0.40836400021297947,
          0.44193511939820757,
          0.4766912803996154,
          0.512907767364476,
          0.5508540187095136,
          0.5909035107445562,
          0.6327888036889048,
          0.6768514833935474,
          0.7225844673453945,
          0.7711775272117565,
          0.822860039982713,
          0.8776549120510377,
          0.9352449026438164,
          0.9974800848506468,
          1.0639976421440143,
          1.1344085917424105,
          1.207651290664128,
          1.2833479452424945,
          1.3623938490916077,
          1.4474558613768729,
          1.5365621473447257,
          1.6309997155039528,
          1.7303068730225792,
          1.8340953476181157,
          1.9434894063269939,
          2.060253493038247,
          2.185027534422343,
          2.314998552189657,
          2.4503376302876823,
          2.5922990753217507,
          2.7409173771483757,
          2.896828563804617,
          3.059827731390245,
          3.2299795260394593
         ],
         "yaxis": "y"
        }
       ],
       "layout": {
        "font": {
         "family": "Roboto"
        },
        "height": 600,
        "hoverlabel": {
         "align": "right"
        },
        "images": [
         {
          "sizex": 0.12,
          "sizey": 0.12,
          "source": "https://raw.githubusercontent.com/UBICenter/blog/master/jb/_static/ubi_center_logo_wide_blue.png",
          "x": 0.98,
          "xanchor": "right",
          "xref": "paper",
          "y": -0.12,
          "yanchor": "bottom",
          "yref": "paper"
         }
        ],
        "legend": {
         "tracegroupgap": 0
        },
        "margin": {
         "t": 60
        },
        "paper_bgcolor": "white",
        "plot_bgcolor": "white",
        "template": {
         "data": {
          "bar": [
           {
            "error_x": {
             "color": "#2a3f5f"
            },
            "error_y": {
             "color": "#2a3f5f"
            },
            "marker": {
             "line": {
              "color": "#E5ECF6",
              "width": 0.5
             }
            },
            "type": "bar"
           }
          ],
          "barpolar": [
           {
            "marker": {
             "line": {
              "color": "#E5ECF6",
              "width": 0.5
             }
            },
            "type": "barpolar"
           }
          ],
          "carpet": [
           {
            "aaxis": {
             "endlinecolor": "#2a3f5f",
             "gridcolor": "white",
             "linecolor": "white",
             "minorgridcolor": "white",
             "startlinecolor": "#2a3f5f"
            },
            "baxis": {
             "endlinecolor": "#2a3f5f",
             "gridcolor": "white",
             "linecolor": "white",
             "minorgridcolor": "white",
             "startlinecolor": "#2a3f5f"
            },
            "type": "carpet"
           }
          ],
          "choropleth": [
           {
            "colorbar": {
             "outlinewidth": 0,
             "ticks": ""
            },
            "type": "choropleth"
           }
          ],
          "contour": [
           {
            "colorbar": {
             "outlinewidth": 0,
             "ticks": ""
            },
            "colorscale": [
             [
              0,
              "#0d0887"
             ],
             [
              0.1111111111111111,
              "#46039f"
             ],
             [
              0.2222222222222222,
              "#7201a8"
             ],
             [
              0.3333333333333333,
              "#9c179e"
             ],
             [
              0.4444444444444444,
              "#bd3786"
             ],
             [
              0.5555555555555556,
              "#d8576b"
             ],
             [
              0.6666666666666666,
              "#ed7953"
             ],
             [
              0.7777777777777778,
              "#fb9f3a"
             ],
             [
              0.8888888888888888,
              "#fdca26"
             ],
             [
              1,
              "#f0f921"
             ]
            ],
            "type": "contour"
           }
          ],
          "contourcarpet": [
           {
            "colorbar": {
             "outlinewidth": 0,
             "ticks": ""
            },
            "type": "contourcarpet"
           }
          ],
          "heatmap": [
           {
            "colorbar": {
             "outlinewidth": 0,
             "ticks": ""
            },
            "colorscale": [
             [
              0,
              "#0d0887"
             ],
             [
              0.1111111111111111,
              "#46039f"
             ],
             [
              0.2222222222222222,
              "#7201a8"
             ],
             [
              0.3333333333333333,
              "#9c179e"
             ],
             [
              0.4444444444444444,
              "#bd3786"
             ],
             [
              0.5555555555555556,
              "#d8576b"
             ],
             [
              0.6666666666666666,
              "#ed7953"
             ],
             [
              0.7777777777777778,
              "#fb9f3a"
             ],
             [
              0.8888888888888888,
              "#fdca26"
             ],
             [
              1,
              "#f0f921"
             ]
            ],
            "type": "heatmap"
           }
          ],
          "heatmapgl": [
           {
            "colorbar": {
             "outlinewidth": 0,
             "ticks": ""
            },
            "colorscale": [
             [
              0,
              "#0d0887"
             ],
             [
              0.1111111111111111,
              "#46039f"
             ],
             [
              0.2222222222222222,
              "#7201a8"
             ],
             [
              0.3333333333333333,
              "#9c179e"
             ],
             [
              0.4444444444444444,
              "#bd3786"
             ],
             [
              0.5555555555555556,
              "#d8576b"
             ],
             [
              0.6666666666666666,
              "#ed7953"
             ],
             [
              0.7777777777777778,
              "#fb9f3a"
             ],
             [
              0.8888888888888888,
              "#fdca26"
             ],
             [
              1,
              "#f0f921"
             ]
            ],
            "type": "heatmapgl"
           }
          ],
          "histogram": [
           {
            "marker": {
             "colorbar": {
              "outlinewidth": 0,
              "ticks": ""
             }
            },
            "type": "histogram"
           }
          ],
          "histogram2d": [
           {
            "colorbar": {
             "outlinewidth": 0,
             "ticks": ""
            },
            "colorscale": [
             [
              0,
              "#0d0887"
             ],
             [
              0.1111111111111111,
              "#46039f"
             ],
             [
              0.2222222222222222,
              "#7201a8"
             ],
             [
              0.3333333333333333,
              "#9c179e"
             ],
             [
              0.4444444444444444,
              "#bd3786"
             ],
             [
              0.5555555555555556,
              "#d8576b"
             ],
             [
              0.6666666666666666,
              "#ed7953"
             ],
             [
              0.7777777777777778,
              "#fb9f3a"
             ],
             [
              0.8888888888888888,
              "#fdca26"
             ],
             [
              1,
              "#f0f921"
             ]
            ],
            "type": "histogram2d"
           }
          ],
          "histogram2dcontour": [
           {
            "colorbar": {
             "outlinewidth": 0,
             "ticks": ""
            },
            "colorscale": [
             [
              0,
              "#0d0887"
             ],
             [
              0.1111111111111111,
              "#46039f"
             ],
             [
              0.2222222222222222,
              "#7201a8"
             ],
             [
              0.3333333333333333,
              "#9c179e"
             ],
             [
              0.4444444444444444,
              "#bd3786"
             ],
             [
              0.5555555555555556,
              "#d8576b"
             ],
             [
              0.6666666666666666,
              "#ed7953"
             ],
             [
              0.7777777777777778,
              "#fb9f3a"
             ],
             [
              0.8888888888888888,
              "#fdca26"
             ],
             [
              1,
              "#f0f921"
             ]
            ],
            "type": "histogram2dcontour"
           }
          ],
          "mesh3d": [
           {
            "colorbar": {
             "outlinewidth": 0,
             "ticks": ""
            },
            "type": "mesh3d"
           }
          ],
          "parcoords": [
           {
            "line": {
             "colorbar": {
              "outlinewidth": 0,
              "ticks": ""
             }
            },
            "type": "parcoords"
           }
          ],
          "pie": [
           {
            "automargin": true,
            "type": "pie"
           }
          ],
          "scatter": [
           {
            "marker": {
             "colorbar": {
              "outlinewidth": 0,
              "ticks": ""
             }
            },
            "type": "scatter"
           }
          ],
          "scatter3d": [
           {
            "line": {
             "colorbar": {
              "outlinewidth": 0,
              "ticks": ""
             }
            },
            "marker": {
             "colorbar": {
              "outlinewidth": 0,
              "ticks": ""
             }
            },
            "type": "scatter3d"
           }
          ],
          "scattercarpet": [
           {
            "marker": {
             "colorbar": {
              "outlinewidth": 0,
              "ticks": ""
             }
            },
            "type": "scattercarpet"
           }
          ],
          "scattergeo": [
           {
            "marker": {
             "colorbar": {
              "outlinewidth": 0,
              "ticks": ""
             }
            },
            "type": "scattergeo"
           }
          ],
          "scattergl": [
           {
            "marker": {
             "colorbar": {
              "outlinewidth": 0,
              "ticks": ""
             }
            },
            "type": "scattergl"
           }
          ],
          "scattermapbox": [
           {
            "marker": {
             "colorbar": {
              "outlinewidth": 0,
              "ticks": ""
             }
            },
            "type": "scattermapbox"
           }
          ],
          "scatterpolar": [
           {
            "marker": {
             "colorbar": {
              "outlinewidth": 0,
              "ticks": ""
             }
            },
            "type": "scatterpolar"
           }
          ],
          "scatterpolargl": [
           {
            "marker": {
             "colorbar": {
              "outlinewidth": 0,
              "ticks": ""
             }
            },
            "type": "scatterpolargl"
           }
          ],
          "scatterternary": [
           {
            "marker": {
             "colorbar": {
              "outlinewidth": 0,
              "ticks": ""
             }
            },
            "type": "scatterternary"
           }
          ],
          "surface": [
           {
            "colorbar": {
             "outlinewidth": 0,
             "ticks": ""
            },
            "colorscale": [
             [
              0,
              "#0d0887"
             ],
             [
              0.1111111111111111,
              "#46039f"
             ],
             [
              0.2222222222222222,
              "#7201a8"
             ],
             [
              0.3333333333333333,
              "#9c179e"
             ],
             [
              0.4444444444444444,
              "#bd3786"
             ],
             [
              0.5555555555555556,
              "#d8576b"
             ],
             [
              0.6666666666666666,
              "#ed7953"
             ],
             [
              0.7777777777777778,
              "#fb9f3a"
             ],
             [
              0.8888888888888888,
              "#fdca26"
             ],
             [
              1,
              "#f0f921"
             ]
            ],
            "type": "surface"
           }
          ],
          "table": [
           {
            "cells": {
             "fill": {
              "color": "#EBF0F8"
             },
             "line": {
              "color": "white"
             }
            },
            "header": {
             "fill": {
              "color": "#C8D4E3"
             },
             "line": {
              "color": "white"
             }
            },
            "type": "table"
           }
          ]
         },
         "layout": {
          "annotationdefaults": {
           "arrowcolor": "#2a3f5f",
           "arrowhead": 0,
           "arrowwidth": 1
          },
          "autotypenumbers": "strict",
          "coloraxis": {
           "colorbar": {
            "outlinewidth": 0,
            "ticks": ""
           }
          },
          "colorscale": {
           "diverging": [
            [
             0,
             "#8e0152"
            ],
            [
             0.1,
             "#c51b7d"
            ],
            [
             0.2,
             "#de77ae"
            ],
            [
             0.3,
             "#f1b6da"
            ],
            [
             0.4,
             "#fde0ef"
            ],
            [
             0.5,
             "#f7f7f7"
            ],
            [
             0.6,
             "#e6f5d0"
            ],
            [
             0.7,
             "#b8e186"
            ],
            [
             0.8,
             "#7fbc41"
            ],
            [
             0.9,
             "#4d9221"
            ],
            [
             1,
             "#276419"
            ]
           ],
           "sequential": [
            [
             0,
             "#0d0887"
            ],
            [
             0.1111111111111111,
             "#46039f"
            ],
            [
             0.2222222222222222,
             "#7201a8"
            ],
            [
             0.3333333333333333,
             "#9c179e"
            ],
            [
             0.4444444444444444,
             "#bd3786"
            ],
            [
             0.5555555555555556,
             "#d8576b"
            ],
            [
             0.6666666666666666,
             "#ed7953"
            ],
            [
             0.7777777777777778,
             "#fb9f3a"
            ],
            [
             0.8888888888888888,
             "#fdca26"
            ],
            [
             1,
             "#f0f921"
            ]
           ],
           "sequentialminus": [
            [
             0,
             "#0d0887"
            ],
            [
             0.1111111111111111,
             "#46039f"
            ],
            [
             0.2222222222222222,
             "#7201a8"
            ],
            [
             0.3333333333333333,
             "#9c179e"
            ],
            [
             0.4444444444444444,
             "#bd3786"
            ],
            [
             0.5555555555555556,
             "#d8576b"
            ],
            [
             0.6666666666666666,
             "#ed7953"
            ],
            [
             0.7777777777777778,
             "#fb9f3a"
            ],
            [
             0.8888888888888888,
             "#fdca26"
            ],
            [
             1,
             "#f0f921"
            ]
           ]
          },
          "colorway": [
           "#636efa",
           "#EF553B",
           "#00cc96",
           "#ab63fa",
           "#FFA15A",
           "#19d3f3",
           "#FF6692",
           "#B6E880",
           "#FF97FF",
           "#FECB52"
          ],
          "font": {
           "color": "#2a3f5f"
          },
          "geo": {
           "bgcolor": "white",
           "lakecolor": "white",
           "landcolor": "#E5ECF6",
           "showlakes": true,
           "showland": true,
           "subunitcolor": "white"
          },
          "hoverlabel": {
           "align": "left"
          },
          "hovermode": "closest",
          "mapbox": {
           "style": "light"
          },
          "paper_bgcolor": "white",
          "plot_bgcolor": "#E5ECF6",
          "polar": {
           "angularaxis": {
            "gridcolor": "white",
            "linecolor": "white",
            "ticks": ""
           },
           "bgcolor": "#E5ECF6",
           "radialaxis": {
            "gridcolor": "white",
            "linecolor": "white",
            "ticks": ""
           }
          },
          "scene": {
           "xaxis": {
            "backgroundcolor": "#E5ECF6",
            "gridcolor": "white",
            "gridwidth": 2,
            "linecolor": "white",
            "showbackground": true,
            "ticks": "",
            "zerolinecolor": "white"
           },
           "yaxis": {
            "backgroundcolor": "#E5ECF6",
            "gridcolor": "white",
            "gridwidth": 2,
            "linecolor": "white",
            "showbackground": true,
            "ticks": "",
            "zerolinecolor": "white"
           },
           "zaxis": {
            "backgroundcolor": "#E5ECF6",
            "gridcolor": "white",
            "gridwidth": 2,
            "linecolor": "white",
            "showbackground": true,
            "ticks": "",
            "zerolinecolor": "white"
           }
          },
          "shapedefaults": {
           "line": {
            "color": "#2a3f5f"
           }
          },
          "ternary": {
           "aaxis": {
            "gridcolor": "white",
            "linecolor": "white",
            "ticks": ""
           },
           "baxis": {
            "gridcolor": "white",
            "linecolor": "white",
            "ticks": ""
           },
           "bgcolor": "#E5ECF6",
           "caxis": {
            "gridcolor": "white",
            "linecolor": "white",
            "ticks": ""
           }
          },
          "title": {
           "x": 0.05
          },
          "xaxis": {
           "automargin": true,
           "gridcolor": "white",
           "linecolor": "white",
           "ticks": "",
           "title": {
            "standoff": 15
           },
           "zerolinecolor": "white",
           "zerolinewidth": 2
          },
          "yaxis": {
           "automargin": true,
           "gridcolor": "white",
           "linecolor": "white",
           "ticks": "",
           "title": {
            "standoff": 15
           },
           "zerolinecolor": "white",
           "zerolinewidth": 2
          }
         }
        },
        "title": {
         "font": {
          "size": 20
         }
        },
        "width": 800,
        "xaxis": {
         "anchor": "y",
         "domain": [
          0,
          1
         ],
         "tickfont": {
          "size": 14
         },
         "title": {
          "font": {
           "color": "black",
           "size": 16
          },
          "text": "pov_ratio_guarantee"
         }
        },
        "yaxis": {
         "anchor": "x",
         "domain": [
          0,
          1
         ],
         "tickfont": {
          "size": 14
         },
         "title": {
          "font": {
           "color": "black",
           "size": 16
          },
          "text": "cost_b"
         }
        }
       }
      }
     },
     "metadata": {}
    }
   ],
   "source": [
    "fig = px.line(policies[policies.phase_out_rate == .5], \"pov_ratio_guarantee\", \"cost_b\")\n",
    "format_fig(fig)"
   ]
  },
  {
   "cell_type": "code",
   "execution_count": 15,
   "metadata": {},
   "outputs": [
    {
     "output_type": "display_data",
     "data": {
      "application/vnd.plotly.v1+json": {
       "config": {
        "displayModeBar": false,
        "plotlyServerURL": "https://plot.ly"
       },
       "data": [
        {
         "customdata": [
          [
           0.8606829549739458,
           6660054.133333334
          ],
          [
           0.4110629894009674,
           3464960.006666667
          ],
          [
           0.9604101560099101,
           4685699.956666667
          ],
          [
           0.8221259788019348,
           3464960.006666667
          ],
          [
           0.7981449602919524,
           2948434.05
          ],
          [
           0.8090720631861185,
           2648098.2266666666
          ],
          [
           0.8377718499299877,
           2440261.46
          ],
          [
           0.8770556414243248,
           2269079.0133333337
          ],
          [
           0.9226154967142333,
           2147328.163333333
          ],
          [
           0.9727724731551183,
           2055361.8566666665
          ],
          [
           0.8416094709926005,
           1600669.6366666667
          ],
          [
           0.9042856032355592,
           1573107.97
          ],
          [
           0.9673861601202042,
           1548062.19
          ],
          [
           0.9043942672910488,
           1285708.19
          ],
          [
           0.9689938578118384,
           1285708.19
          ],
          [
           0.934954191183868,
           1136414.6733333333
          ],
          [
           0.998971174173082,
           1153422.3733333333
          ],
          [
           0.9801350521150727,
           1031185.7666666666
          ],
          [
           0.971668079000101,
           947453.4299999999
          ],
          [
           0.9697787097214692,
           870837.99
          ],
          [
           0.9752228275595206,
           793097.7966666666
          ],
          [
           0.9852685433057433,
           753412.8266666667
          ],
          [
           0.9982577946446511,
           724311.4866666668
          ],
          [
           0.9763184923722409,
           646228.0033333334
          ],
          [
           0.9959816674096278,
           632092.8266666667
          ],
          [
           0.9876497211894985,
           569988.8400000001
          ],
          [
           0.985800670837744,
           546197.6166666667
          ],
          [
           0.9868463007935145,
           523105.6233333334
          ],
          [
           0.990554761027388,
           502795.4766666667
          ],
          [
           0.9974800848506468,
           478342.19
          ],
          [
           0.9912571104342612,
           430512.07
          ],
          [
           0.9914354945735343,
           407368.7566666667
          ],
          [
           0.9949087969802038,
           385050.18333333335
          ],
          [
           0.9919106740573043,
           354904.0333333333
          ],
          [
           0.9943703367974036,
           331131.19666666666
          ],
          [
           0.9997973903832091,
           323240.83999999997
          ],
          [
           0.9943531669921454,
           294698.3300000001
          ],
          [
           0.999343098772663,
           281163.48
          ],
          [
           0.997931583679851,
           263041.8433333333
          ]
         ],
         "hovertemplate": "Constraint=$1 billion cost<br>Maximum benefit as a share of SPM poverty threshold=%{x}<br>Benefit phase-out rate with respect to SPM resources=%{y}<br>Cost ($B)=%{customdata[0]:.2f}<br>Adult recipients=%{customdata[1]:,.0f}<extra></extra>",
         "legendgroup": "$1 billion cost",
         "line": {
          "color": "#636efa",
          "dash": "solid"
         },
         "mode": "lines",
         "name": "$1 billion cost",
         "orientation": "v",
         "showlegend": true,
         "type": "scatter",
         "x": [
          0.01,
          0.02,
          0.03,
          0.04,
          0.05,
          0.060000000000000005,
          0.06999999999999999,
          0.08,
          0.09,
          0.09999999999999999,
          0.11,
          0.12,
          0.13,
          0.14,
          0.15000000000000002,
          0.16,
          0.17,
          0.18000000000000002,
          0.19,
          0.2,
          0.21000000000000002,
          0.22,
          0.23,
          0.24000000000000002,
          0.25,
          0.26,
          0.27,
          0.28,
          0.29000000000000004,
          0.3,
          0.31,
          0.32,
          0.33,
          0.34,
          0.35000000000000003,
          0.36000000000000004,
          0.37,
          0.38,
          0.39
         ],
         "xaxis": "x",
         "y": [
          0,
          0.01,
          0.01,
          0.02,
          0.03,
          0.04,
          0.05,
          0.06,
          0.07,
          0.08,
          0.1,
          0.11,
          0.12,
          0.14,
          0.15,
          0.17,
          0.18,
          0.2,
          0.22,
          0.24,
          0.26,
          0.28,
          0.3,
          0.33,
          0.35000000000000003,
          0.38,
          0.41000000000000003,
          0.44,
          0.47000000000000003,
          0.5,
          0.54,
          0.58,
          0.62,
          0.67,
          0.72,
          0.77,
          0.84,
          0.9,
          0.98
         ],
         "yaxis": "y"
        },
        {
         "customdata": [
          [
           0.028903378693815783,
           347218.30333333334
          ],
          [
           0.057806757387631566,
           347218.30333333334
          ],
          [
           0.09974800848506465,
           478342.19
          ],
          [
           0.12742288917064903,
           427792.18000000005
          ],
          [
           0.1557447844630044,
           411352.18666666665
          ],
          [
           0.19949601697012936,
           478342.19
          ],
          [
           0.22685630319814595,
           446127.1466666667
          ],
          [
           0.2725360315404643,
           498910.2633333333
          ],
          [
           0.2992440254551941,
           478342.19
          ],
          [
           0.3264711065577254,
           459635.6966666667
          ],
          [
           0.3722032611072068,
           491071.79
          ],
          [
           0.3989920339402586,
           478342.19
          ],
          [
           0.42617800056961214,
           466344.25
          ],
          [
           0.4719121581684801,
           489885.31000000006
          ],
          [
           0.49874004242532355,
           478342.19
          ],
          [
           0.5450720630809286,
           498910.2633333333
          ],
          [
           0.5716213043905533,
           489885.31000000006
          ],
          [
           0.5984880509103883,
           478342.19
          ],
          [
           0.6447125246094578,
           494979.29000000004
          ],
          [
           0.6713321320418265,
           489172.84
          ],
          [
           0.6982360593954527,
           478342.19
          ],
          [
           0.7444065222144136,
           491071.79
          ],
          [
           0.7710540633011987,
           486418.18333333335
          ],
          [
           0.8176080946213927,
           498910.2633333333
          ],
          [
           0.8441151701148868,
           489885.31000000006
          ],
          [
           0.8707872763066524,
           481610.6166666667
          ],
          [
           0.9172464922198283,
           498247.54000000004
          ],
          [
           0.9438243163369602,
           489885.31000000006
          ],
          [
           0.9705283675039875,
           481610.6166666667
          ],
          [
           1.0169081119235475,
           491071.79
          ],
          [
           1.0435334625590331,
           489885.31000000006
          ],
          [
           1.0901441261618572,
           498910.2633333333
          ],
          [
           1.1166097833216204,
           491071.79
          ],
          [
           1.1432426087811065,
           489885.31000000006
          ],
          [
           1.1897818303426262,
           498247.54000000004
          ],
          [
           1.216318182061294,
           489885.31000000006
          ],
          [
           1.2429517550031794,
           489885.31000000006
          ],
          [
           1.2894250492189157,
           494979.29000000004
          ],
          [
           1.316027328283367,
           489885.31000000006
          ],
          [
           1.362680157702321,
           498910.2633333333
          ],
          [
           1.3891113730307543,
           491071.79
          ],
          [
           1.4157364745054402,
           489885.31000000006
          ],
          [
           1.462317168465423,
           498247.54000000004
          ],
          [
           1.4888130444288272,
           491071.79
          ],
          [
           1.5154456207275133,
           489885.31000000006
          ],
          [
           1.5619576463168592,
           498247.54000000004
          ],
          [
           1.5885211940077006,
           489885.31000000006
          ],
          [
           1.6352161892427854,
           498910.2633333333
          ],
          [
           1.6616143098420553,
           494040.8966666667
          ],
          [
           1.6882303402297736,
           489885.31000000006
          ]
         ],
         "hovertemplate": "Constraint=500,000 adult recipients<br>Maximum benefit as a share of SPM poverty threshold=%{x}<br>Benefit phase-out rate with respect to SPM resources=%{y}<br>Cost ($B)=%{customdata[0]:.2f}<br>Adult recipients=%{customdata[1]:,.0f}<extra></extra>",
         "legendgroup": "500,000 adult recipients",
         "line": {
          "color": "#EF553B",
          "dash": "solid"
         },
         "mode": "lines",
         "name": "500,000 adult recipients",
         "orientation": "v",
         "showlegend": true,
         "type": "scatter",
         "x": [
          0.01,
          0.02,
          0.03,
          0.04,
          0.05,
          0.060000000000000005,
          0.06999999999999999,
          0.08,
          0.09,
          0.09999999999999999,
          0.11,
          0.12,
          0.13,
          0.14,
          0.15000000000000002,
          0.16,
          0.17,
          0.18000000000000002,
          0.19,
          0.2,
          0.21000000000000002,
          0.22,
          0.23,
          0.24000000000000002,
          0.25,
          0.26,
          0.27,
          0.28,
          0.29000000000000004,
          0.3,
          0.31,
          0.32,
          0.33,
          0.34,
          0.35000000000000003,
          0.36000000000000004,
          0.37,
          0.38,
          0.39,
          0.4,
          0.41000000000000003,
          0.42000000000000004,
          0.43,
          0.44,
          0.45,
          0.46,
          0.47000000000000003,
          0.48000000000000004,
          0.49,
          0.5
         ],
         "xaxis": "x",
         "y": [
          0.02,
          0.04,
          0.05,
          0.07,
          0.09,
          0.1,
          0.12,
          0.13,
          0.15,
          0.17,
          0.18,
          0.2,
          0.22,
          0.23,
          0.25,
          0.26,
          0.28,
          0.3,
          0.31,
          0.33,
          0.35000000000000003,
          0.36,
          0.38,
          0.39,
          0.41000000000000003,
          0.43,
          0.44,
          0.46,
          0.48,
          0.49,
          0.51,
          0.52,
          0.54,
          0.56,
          0.5700000000000001,
          0.59,
          0.61,
          0.62,
          0.64,
          0.65,
          0.67,
          0.6900000000000001,
          0.7000000000000001,
          0.72,
          0.74,
          0.75,
          0.77,
          0.78,
          0.8,
          0.8200000000000001
         ],
         "yaxis": "y"
        }
       ],
       "layout": {
        "annotations": [
         {
          "text": "Maximum benefit: 30% of poverty threshold<br>Phase-out rate: 50%",
          "x": 0.3,
          "y": 0.5
         }
        ],
        "font": {
         "family": "Roboto"
        },
        "height": 600,
        "hoverlabel": {
         "align": "right"
        },
        "images": [
         {
          "sizex": 0.12,
          "sizey": 0.12,
          "source": "https://raw.githubusercontent.com/UBICenter/blog/master/jb/_static/ubi_center_logo_wide_blue.png",
          "x": 0.98,
          "xanchor": "right",
          "xref": "paper",
          "y": -0.12,
          "yanchor": "bottom",
          "yref": "paper"
         }
        ],
        "legend": {
         "title": {
          "text": "Constraint"
         },
         "tracegroupgap": 0
        },
        "paper_bgcolor": "white",
        "plot_bgcolor": "white",
        "template": {
         "data": {
          "bar": [
           {
            "error_x": {
             "color": "#2a3f5f"
            },
            "error_y": {
             "color": "#2a3f5f"
            },
            "marker": {
             "line": {
              "color": "#E5ECF6",
              "width": 0.5
             }
            },
            "type": "bar"
           }
          ],
          "barpolar": [
           {
            "marker": {
             "line": {
              "color": "#E5ECF6",
              "width": 0.5
             }
            },
            "type": "barpolar"
           }
          ],
          "carpet": [
           {
            "aaxis": {
             "endlinecolor": "#2a3f5f",
             "gridcolor": "white",
             "linecolor": "white",
             "minorgridcolor": "white",
             "startlinecolor": "#2a3f5f"
            },
            "baxis": {
             "endlinecolor": "#2a3f5f",
             "gridcolor": "white",
             "linecolor": "white",
             "minorgridcolor": "white",
             "startlinecolor": "#2a3f5f"
            },
            "type": "carpet"
           }
          ],
          "choropleth": [
           {
            "colorbar": {
             "outlinewidth": 0,
             "ticks": ""
            },
            "type": "choropleth"
           }
          ],
          "contour": [
           {
            "colorbar": {
             "outlinewidth": 0,
             "ticks": ""
            },
            "colorscale": [
             [
              0,
              "#0d0887"
             ],
             [
              0.1111111111111111,
              "#46039f"
             ],
             [
              0.2222222222222222,
              "#7201a8"
             ],
             [
              0.3333333333333333,
              "#9c179e"
             ],
             [
              0.4444444444444444,
              "#bd3786"
             ],
             [
              0.5555555555555556,
              "#d8576b"
             ],
             [
              0.6666666666666666,
              "#ed7953"
             ],
             [
              0.7777777777777778,
              "#fb9f3a"
             ],
             [
              0.8888888888888888,
              "#fdca26"
             ],
             [
              1,
              "#f0f921"
             ]
            ],
            "type": "contour"
           }
          ],
          "contourcarpet": [
           {
            "colorbar": {
             "outlinewidth": 0,
             "ticks": ""
            },
            "type": "contourcarpet"
           }
          ],
          "heatmap": [
           {
            "colorbar": {
             "outlinewidth": 0,
             "ticks": ""
            },
            "colorscale": [
             [
              0,
              "#0d0887"
             ],
             [
              0.1111111111111111,
              "#46039f"
             ],
             [
              0.2222222222222222,
              "#7201a8"
             ],
             [
              0.3333333333333333,
              "#9c179e"
             ],
             [
              0.4444444444444444,
              "#bd3786"
             ],
             [
              0.5555555555555556,
              "#d8576b"
             ],
             [
              0.6666666666666666,
              "#ed7953"
             ],
             [
              0.7777777777777778,
              "#fb9f3a"
             ],
             [
              0.8888888888888888,
              "#fdca26"
             ],
             [
              1,
              "#f0f921"
             ]
            ],
            "type": "heatmap"
           }
          ],
          "heatmapgl": [
           {
            "colorbar": {
             "outlinewidth": 0,
             "ticks": ""
            },
            "colorscale": [
             [
              0,
              "#0d0887"
             ],
             [
              0.1111111111111111,
              "#46039f"
             ],
             [
              0.2222222222222222,
              "#7201a8"
             ],
             [
              0.3333333333333333,
              "#9c179e"
             ],
             [
              0.4444444444444444,
              "#bd3786"
             ],
             [
              0.5555555555555556,
              "#d8576b"
             ],
             [
              0.6666666666666666,
              "#ed7953"
             ],
             [
              0.7777777777777778,
              "#fb9f3a"
             ],
             [
              0.8888888888888888,
              "#fdca26"
             ],
             [
              1,
              "#f0f921"
             ]
            ],
            "type": "heatmapgl"
           }
          ],
          "histogram": [
           {
            "marker": {
             "colorbar": {
              "outlinewidth": 0,
              "ticks": ""
             }
            },
            "type": "histogram"
           }
          ],
          "histogram2d": [
           {
            "colorbar": {
             "outlinewidth": 0,
             "ticks": ""
            },
            "colorscale": [
             [
              0,
              "#0d0887"
             ],
             [
              0.1111111111111111,
              "#46039f"
             ],
             [
              0.2222222222222222,
              "#7201a8"
             ],
             [
              0.3333333333333333,
              "#9c179e"
             ],
             [
              0.4444444444444444,
              "#bd3786"
             ],
             [
              0.5555555555555556,
              "#d8576b"
             ],
             [
              0.6666666666666666,
              "#ed7953"
             ],
             [
              0.7777777777777778,
              "#fb9f3a"
             ],
             [
              0.8888888888888888,
              "#fdca26"
             ],
             [
              1,
              "#f0f921"
             ]
            ],
            "type": "histogram2d"
           }
          ],
          "histogram2dcontour": [
           {
            "colorbar": {
             "outlinewidth": 0,
             "ticks": ""
            },
            "colorscale": [
             [
              0,
              "#0d0887"
             ],
             [
              0.1111111111111111,
              "#46039f"
             ],
             [
              0.2222222222222222,
              "#7201a8"
             ],
             [
              0.3333333333333333,
              "#9c179e"
             ],
             [
              0.4444444444444444,
              "#bd3786"
             ],
             [
              0.5555555555555556,
              "#d8576b"
             ],
             [
              0.6666666666666666,
              "#ed7953"
             ],
             [
              0.7777777777777778,
              "#fb9f3a"
             ],
             [
              0.8888888888888888,
              "#fdca26"
             ],
             [
              1,
              "#f0f921"
             ]
            ],
            "type": "histogram2dcontour"
           }
          ],
          "mesh3d": [
           {
            "colorbar": {
             "outlinewidth": 0,
             "ticks": ""
            },
            "type": "mesh3d"
           }
          ],
          "parcoords": [
           {
            "line": {
             "colorbar": {
              "outlinewidth": 0,
              "ticks": ""
             }
            },
            "type": "parcoords"
           }
          ],
          "pie": [
           {
            "automargin": true,
            "type": "pie"
           }
          ],
          "scatter": [
           {
            "marker": {
             "colorbar": {
              "outlinewidth": 0,
              "ticks": ""
             }
            },
            "type": "scatter"
           }
          ],
          "scatter3d": [
           {
            "line": {
             "colorbar": {
              "outlinewidth": 0,
              "ticks": ""
             }
            },
            "marker": {
             "colorbar": {
              "outlinewidth": 0,
              "ticks": ""
             }
            },
            "type": "scatter3d"
           }
          ],
          "scattercarpet": [
           {
            "marker": {
             "colorbar": {
              "outlinewidth": 0,
              "ticks": ""
             }
            },
            "type": "scattercarpet"
           }
          ],
          "scattergeo": [
           {
            "marker": {
             "colorbar": {
              "outlinewidth": 0,
              "ticks": ""
             }
            },
            "type": "scattergeo"
           }
          ],
          "scattergl": [
           {
            "marker": {
             "colorbar": {
              "outlinewidth": 0,
              "ticks": ""
             }
            },
            "type": "scattergl"
           }
          ],
          "scattermapbox": [
           {
            "marker": {
             "colorbar": {
              "outlinewidth": 0,
              "ticks": ""
             }
            },
            "type": "scattermapbox"
           }
          ],
          "scatterpolar": [
           {
            "marker": {
             "colorbar": {
              "outlinewidth": 0,
              "ticks": ""
             }
            },
            "type": "scatterpolar"
           }
          ],
          "scatterpolargl": [
           {
            "marker": {
             "colorbar": {
              "outlinewidth": 0,
              "ticks": ""
             }
            },
            "type": "scatterpolargl"
           }
          ],
          "scatterternary": [
           {
            "marker": {
             "colorbar": {
              "outlinewidth": 0,
              "ticks": ""
             }
            },
            "type": "scatterternary"
           }
          ],
          "surface": [
           {
            "colorbar": {
             "outlinewidth": 0,
             "ticks": ""
            },
            "colorscale": [
             [
              0,
              "#0d0887"
             ],
             [
              0.1111111111111111,
              "#46039f"
             ],
             [
              0.2222222222222222,
              "#7201a8"
             ],
             [
              0.3333333333333333,
              "#9c179e"
             ],
             [
              0.4444444444444444,
              "#bd3786"
             ],
             [
              0.5555555555555556,
              "#d8576b"
             ],
             [
              0.6666666666666666,
              "#ed7953"
             ],
             [
              0.7777777777777778,
              "#fb9f3a"
             ],
             [
              0.8888888888888888,
              "#fdca26"
             ],
             [
              1,
              "#f0f921"
             ]
            ],
            "type": "surface"
           }
          ],
          "table": [
           {
            "cells": {
             "fill": {
              "color": "#EBF0F8"
             },
             "line": {
              "color": "white"
             }
            },
            "header": {
             "fill": {
              "color": "#C8D4E3"
             },
             "line": {
              "color": "white"
             }
            },
            "type": "table"
           }
          ]
         },
         "layout": {
          "annotationdefaults": {
           "arrowcolor": "#2a3f5f",
           "arrowhead": 0,
           "arrowwidth": 1
          },
          "autotypenumbers": "strict",
          "coloraxis": {
           "colorbar": {
            "outlinewidth": 0,
            "ticks": ""
           }
          },
          "colorscale": {
           "diverging": [
            [
             0,
             "#8e0152"
            ],
            [
             0.1,
             "#c51b7d"
            ],
            [
             0.2,
             "#de77ae"
            ],
            [
             0.3,
             "#f1b6da"
            ],
            [
             0.4,
             "#fde0ef"
            ],
            [
             0.5,
             "#f7f7f7"
            ],
            [
             0.6,
             "#e6f5d0"
            ],
            [
             0.7,
             "#b8e186"
            ],
            [
             0.8,
             "#7fbc41"
            ],
            [
             0.9,
             "#4d9221"
            ],
            [
             1,
             "#276419"
            ]
           ],
           "sequential": [
            [
             0,
             "#0d0887"
            ],
            [
             0.1111111111111111,
             "#46039f"
            ],
            [
             0.2222222222222222,
             "#7201a8"
            ],
            [
             0.3333333333333333,
             "#9c179e"
            ],
            [
             0.4444444444444444,
             "#bd3786"
            ],
            [
             0.5555555555555556,
             "#d8576b"
            ],
            [
             0.6666666666666666,
             "#ed7953"
            ],
            [
             0.7777777777777778,
             "#fb9f3a"
            ],
            [
             0.8888888888888888,
             "#fdca26"
            ],
            [
             1,
             "#f0f921"
            ]
           ],
           "sequentialminus": [
            [
             0,
             "#0d0887"
            ],
            [
             0.1111111111111111,
             "#46039f"
            ],
            [
             0.2222222222222222,
             "#7201a8"
            ],
            [
             0.3333333333333333,
             "#9c179e"
            ],
            [
             0.4444444444444444,
             "#bd3786"
            ],
            [
             0.5555555555555556,
             "#d8576b"
            ],
            [
             0.6666666666666666,
             "#ed7953"
            ],
            [
             0.7777777777777778,
             "#fb9f3a"
            ],
            [
             0.8888888888888888,
             "#fdca26"
            ],
            [
             1,
             "#f0f921"
            ]
           ]
          },
          "colorway": [
           "#636efa",
           "#EF553B",
           "#00cc96",
           "#ab63fa",
           "#FFA15A",
           "#19d3f3",
           "#FF6692",
           "#B6E880",
           "#FF97FF",
           "#FECB52"
          ],
          "font": {
           "color": "#2a3f5f"
          },
          "geo": {
           "bgcolor": "white",
           "lakecolor": "white",
           "landcolor": "#E5ECF6",
           "showlakes": true,
           "showland": true,
           "subunitcolor": "white"
          },
          "hoverlabel": {
           "align": "left"
          },
          "hovermode": "closest",
          "mapbox": {
           "style": "light"
          },
          "paper_bgcolor": "white",
          "plot_bgcolor": "#E5ECF6",
          "polar": {
           "angularaxis": {
            "gridcolor": "white",
            "linecolor": "white",
            "ticks": ""
           },
           "bgcolor": "#E5ECF6",
           "radialaxis": {
            "gridcolor": "white",
            "linecolor": "white",
            "ticks": ""
           }
          },
          "scene": {
           "xaxis": {
            "backgroundcolor": "#E5ECF6",
            "gridcolor": "white",
            "gridwidth": 2,
            "linecolor": "white",
            "showbackground": true,
            "ticks": "",
            "zerolinecolor": "white"
           },
           "yaxis": {
            "backgroundcolor": "#E5ECF6",
            "gridcolor": "white",
            "gridwidth": 2,
            "linecolor": "white",
            "showbackground": true,
            "ticks": "",
            "zerolinecolor": "white"
           },
           "zaxis": {
            "backgroundcolor": "#E5ECF6",
            "gridcolor": "white",
            "gridwidth": 2,
            "linecolor": "white",
            "showbackground": true,
            "ticks": "",
            "zerolinecolor": "white"
           }
          },
          "shapedefaults": {
           "line": {
            "color": "#2a3f5f"
           }
          },
          "ternary": {
           "aaxis": {
            "gridcolor": "white",
            "linecolor": "white",
            "ticks": ""
           },
           "baxis": {
            "gridcolor": "white",
            "linecolor": "white",
            "ticks": ""
           },
           "bgcolor": "#E5ECF6",
           "caxis": {
            "gridcolor": "white",
            "linecolor": "white",
            "ticks": ""
           }
          },
          "title": {
           "x": 0.05
          },
          "xaxis": {
           "automargin": true,
           "gridcolor": "white",
           "linecolor": "white",
           "ticks": "",
           "title": {
            "standoff": 15
           },
           "zerolinecolor": "white",
           "zerolinewidth": 2
          },
          "yaxis": {
           "automargin": true,
           "gridcolor": "white",
           "linecolor": "white",
           "ticks": "",
           "title": {
            "standoff": 15
           },
           "zerolinecolor": "white",
           "zerolinewidth": 2
          }
         }
        },
        "title": {
         "font": {
          "size": 20
         },
         "text": "Guaranteed income policies that satisfy Yang's Basic Income for NYC constraints"
        },
        "width": 800,
        "xaxis": {
         "anchor": "y",
         "domain": [
          0,
          1
         ],
         "tickfont": {
          "size": 14
         },
         "tickformat": "%",
         "title": {
          "font": {
           "color": "black",
           "size": 16
          },
          "text": "Maximum benefit as a share of SPM poverty threshold"
         }
        },
        "yaxis": {
         "anchor": "x",
         "domain": [
          0,
          1
         ],
         "tickfont": {
          "size": 14
         },
         "tickformat": "%",
         "title": {
          "font": {
           "color": "black",
           "size": 16
          },
          "text": "Benefit phase-out rate with respect to SPM resources"
         }
        }
       }
      }
     },
     "metadata": {}
    }
   ],
   "source": [
    "cost_curve = policies[policies.cost_b < 1].sort_values(\n",
    "    \"cost_b\", ascending=False\n",
    "    ).drop_duplicates(\"pov_ratio_guarantee\").sort_values(\"pov_ratio_guarantee\")\n",
    "cost_curve[\"constraint\"] = \"$1 billion cost\"\n",
    "reach_curve = policies[policies.adult_reach < REACH].sort_values(\n",
    "    \"adult_reach\", ascending=False\n",
    "    ).drop_duplicates(\"pov_ratio_guarantee\").sort_values(\"pov_ratio_guarantee\")\n",
    "reach_curve[\"constraint\"] = \"500,000 adult recipients\"\n",
    "cost_reach_curve = pd.concat([cost_curve, reach_curve])\n",
    "fig = px.line(\n",
    "    cost_reach_curve,\n",
    "    \"pov_ratio_guarantee\",\n",
    "    \"phase_out_rate\",\n",
    "    hover_data={\"cost_b\": \":.2f\", \"adult_reach\": \":,.0f\"},\n",
    "              color=\"constraint\",\n",
    "              labels={\n",
    "                  \"pov_ratio_guarantee\": \"Maximum benefit as a share of SPM poverty threshold\",\n",
    "                  \"phase_out_rate\": \"Benefit phase-out rate with respect to SPM resources\",\n",
    "                  \"constraint\": \"Constraint\",\n",
    "                  \"cost_b\": \"Cost ($B)\",\n",
    "                  \"adult_reach\": \"Adult recipients\",\n",
    "                 },\n",
    "               title=\"Guaranteed income policies that satisfy Yang's Basic Income for NYC constraints\")\n",
    "fig.update_layout(xaxis_tickformat=\"%\", yaxis_tickformat=\"%\")\n",
    "RATIO = 0.3\n",
    "PS = 0.5\n",
    "fig.add_annotation(x=RATIO, y=PS,\n",
    "                   text=\"Maximum benefit: 30% of poverty threshold<br>Phase-out rate: 50%\")\n",
    "format_fig(fig)"
   ]
  },
  {
   "cell_type": "code",
   "execution_count": 16,
   "metadata": {},
   "outputs": [
    {
     "output_type": "execute_result",
     "data": {
      "text/plain": [
       "      pov_ratio_guarantee  phase_out_rate    cost_b   adult_reach  \\\n",
       "0                    0.01            0.00  0.860683  6.660054e+06   \n",
       "102                  0.02            0.01  0.411063  3.464960e+06   \n",
       "203                  0.03            0.01  0.960410  4.685700e+06   \n",
       "305                  0.04            0.02  0.822126  3.464960e+06   \n",
       "407                  0.05            0.03  0.798145  2.948434e+06   \n",
       "...                   ...             ...       ...           ...   \n",
       "4620                 0.46            0.75  1.561958  4.982475e+05   \n",
       "4723                 0.47            0.77  1.588521  4.898853e+05   \n",
       "4825                 0.48            0.78  1.635216  4.989103e+05   \n",
       "4928                 0.49            0.80  1.661614  4.940409e+05   \n",
       "5031                 0.50            0.82  1.688230  4.898853e+05   \n",
       "\n",
       "        spmu_reach   child_reach      gini  poverty_rate  deep_poverty_rate  \\\n",
       "0     3.712855e+06  1.739910e+06  0.487076      0.197996           0.047976   \n",
       "102   1.940962e+06  1.187642e+06  0.486899      0.197996           0.047482   \n",
       "203   2.574613e+06  1.439988e+06  0.485282      0.193498           0.046827   \n",
       "305   1.940962e+06  1.187642e+06  0.485252      0.193498           0.046678   \n",
       "407   1.683910e+06  1.051819e+06  0.485107      0.193498           0.046074   \n",
       "...            ...           ...       ...           ...                ...   \n",
       "4620  3.166617e+05  1.150054e+05  0.479417      0.201764           0.021406   \n",
       "4723  3.125677e+05  1.133674e+05  0.479263      0.201764           0.020257   \n",
       "4825  3.173916e+05  1.166649e+05  0.479007      0.201764           0.019377   \n",
       "4928  3.139830e+05  1.141492e+05  0.478855      0.201764           0.017367   \n",
       "5031  3.125677e+05  1.133674e+05  0.478701      0.201764           0.008381   \n",
       "\n",
       "      child_poverty_rate  child_deep_poverty_rate  adult_poverty_rate  \\\n",
       "0               0.230656                 0.038919            0.189464   \n",
       "102             0.230656                 0.038919            0.189464   \n",
       "203             0.221206                 0.038919            0.186260   \n",
       "305             0.221206                 0.038919            0.186260   \n",
       "407             0.221206                 0.037445            0.186260   \n",
       "...                  ...                      ...                 ...   \n",
       "4620            0.235131                 0.012599            0.193048   \n",
       "4723            0.235131                 0.011662            0.193048   \n",
       "4825            0.235131                 0.011662            0.193048   \n",
       "4928            0.235131                 0.011662            0.193048   \n",
       "5031            0.235131                 0.002450            0.193048   \n",
       "\n",
       "      adult_deep_poverty_rate   poverty_gap  squared_poverty_gap  \\\n",
       "0                    0.050342  6.372123e+09         9.435255e+13   \n",
       "102                  0.049719  6.307541e+09         9.248305e+13   \n",
       "203                  0.048893  6.139245e+09         8.937876e+13   \n",
       "305                  0.048705  6.074707e+09         8.756050e+13   \n",
       "407                  0.048329  6.010169e+09         8.576106e+13   \n",
       "...                       ...           ...                  ...   \n",
       "4620                 0.023706  4.982130e+09         4.937718e+13   \n",
       "4723                 0.022502  4.955567e+09         4.876357e+13   \n",
       "4825                 0.021392  4.908872e+09         4.769682e+13   \n",
       "4928                 0.018857  4.882474e+09         4.710781e+13   \n",
       "5031                 0.009930  4.855858e+09         4.652376e+13   \n",
       "\n",
       "      deep_poverty_gap                constraint  \n",
       "0         1.482777e+09           $1 billion cost  \n",
       "102       1.445757e+09           $1 billion cost  \n",
       "203       1.401167e+09           $1 billion cost  \n",
       "305       1.364620e+09           $1 billion cost  \n",
       "407       1.328243e+09           $1 billion cost  \n",
       "...                ...                       ...  \n",
       "4620      1.631237e+08  500,000 adult recipients  \n",
       "4723      1.416629e+08  500,000 adult recipients  \n",
       "4825      1.207308e+08  500,000 adult recipients  \n",
       "4928      1.011463e+08  500,000 adult recipients  \n",
       "5031      8.412901e+07  500,000 adult recipients  \n",
       "\n",
       "[89 rows x 17 columns]"
      ],
      "text/html": "<div>\n<style scoped>\n    .dataframe tbody tr th:only-of-type {\n        vertical-align: middle;\n    }\n\n    .dataframe tbody tr th {\n        vertical-align: top;\n    }\n\n    .dataframe thead th {\n        text-align: right;\n    }\n</style>\n<table border=\"1\" class=\"dataframe\">\n  <thead>\n    <tr style=\"text-align: right;\">\n      <th></th>\n      <th>pov_ratio_guarantee</th>\n      <th>phase_out_rate</th>\n      <th>cost_b</th>\n      <th>adult_reach</th>\n      <th>spmu_reach</th>\n      <th>child_reach</th>\n      <th>gini</th>\n      <th>poverty_rate</th>\n      <th>deep_poverty_rate</th>\n      <th>child_poverty_rate</th>\n      <th>child_deep_poverty_rate</th>\n      <th>adult_poverty_rate</th>\n      <th>adult_deep_poverty_rate</th>\n      <th>poverty_gap</th>\n      <th>squared_poverty_gap</th>\n      <th>deep_poverty_gap</th>\n      <th>constraint</th>\n    </tr>\n  </thead>\n  <tbody>\n    <tr>\n      <th>0</th>\n      <td>0.01</td>\n      <td>0.00</td>\n      <td>0.860683</td>\n      <td>6.660054e+06</td>\n      <td>3.712855e+06</td>\n      <td>1.739910e+06</td>\n      <td>0.487076</td>\n      <td>0.197996</td>\n      <td>0.047976</td>\n      <td>0.230656</td>\n      <td>0.038919</td>\n      <td>0.189464</td>\n      <td>0.050342</td>\n      <td>6.372123e+09</td>\n      <td>9.435255e+13</td>\n      <td>1.482777e+09</td>\n      <td>$1 billion cost</td>\n    </tr>\n    <tr>\n      <th>102</th>\n      <td>0.02</td>\n      <td>0.01</td>\n      <td>0.411063</td>\n      <td>3.464960e+06</td>\n      <td>1.940962e+06</td>\n      <td>1.187642e+06</td>\n      <td>0.486899</td>\n      <td>0.197996</td>\n      <td>0.047482</td>\n      <td>0.230656</td>\n      <td>0.038919</td>\n      <td>0.189464</td>\n      <td>0.049719</td>\n      <td>6.307541e+09</td>\n      <td>9.248305e+13</td>\n      <td>1.445757e+09</td>\n      <td>$1 billion cost</td>\n    </tr>\n    <tr>\n      <th>203</th>\n      <td>0.03</td>\n      <td>0.01</td>\n      <td>0.960410</td>\n      <td>4.685700e+06</td>\n      <td>2.574613e+06</td>\n      <td>1.439988e+06</td>\n      <td>0.485282</td>\n      <td>0.193498</td>\n      <td>0.046827</td>\n      <td>0.221206</td>\n      <td>0.038919</td>\n      <td>0.186260</td>\n      <td>0.048893</td>\n      <td>6.139245e+09</td>\n      <td>8.937876e+13</td>\n      <td>1.401167e+09</td>\n      <td>$1 billion cost</td>\n    </tr>\n    <tr>\n      <th>305</th>\n      <td>0.04</td>\n      <td>0.02</td>\n      <td>0.822126</td>\n      <td>3.464960e+06</td>\n      <td>1.940962e+06</td>\n      <td>1.187642e+06</td>\n      <td>0.485252</td>\n      <td>0.193498</td>\n      <td>0.046678</td>\n      <td>0.221206</td>\n      <td>0.038919</td>\n      <td>0.186260</td>\n      <td>0.048705</td>\n      <td>6.074707e+09</td>\n      <td>8.756050e+13</td>\n      <td>1.364620e+09</td>\n      <td>$1 billion cost</td>\n    </tr>\n    <tr>\n      <th>407</th>\n      <td>0.05</td>\n      <td>0.03</td>\n      <td>0.798145</td>\n      <td>2.948434e+06</td>\n      <td>1.683910e+06</td>\n      <td>1.051819e+06</td>\n      <td>0.485107</td>\n      <td>0.193498</td>\n      <td>0.046074</td>\n      <td>0.221206</td>\n      <td>0.037445</td>\n      <td>0.186260</td>\n      <td>0.048329</td>\n      <td>6.010169e+09</td>\n      <td>8.576106e+13</td>\n      <td>1.328243e+09</td>\n      <td>$1 billion cost</td>\n    </tr>\n    <tr>\n      <th>...</th>\n      <td>...</td>\n      <td>...</td>\n      <td>...</td>\n      <td>...</td>\n      <td>...</td>\n      <td>...</td>\n      <td>...</td>\n      <td>...</td>\n      <td>...</td>\n      <td>...</td>\n      <td>...</td>\n      <td>...</td>\n      <td>...</td>\n      <td>...</td>\n      <td>...</td>\n      <td>...</td>\n      <td>...</td>\n    </tr>\n    <tr>\n      <th>4620</th>\n      <td>0.46</td>\n      <td>0.75</td>\n      <td>1.561958</td>\n      <td>4.982475e+05</td>\n      <td>3.166617e+05</td>\n      <td>1.150054e+05</td>\n      <td>0.479417</td>\n      <td>0.201764</td>\n      <td>0.021406</td>\n      <td>0.235131</td>\n      <td>0.012599</td>\n      <td>0.193048</td>\n      <td>0.023706</td>\n      <td>4.982130e+09</td>\n      <td>4.937718e+13</td>\n      <td>1.631237e+08</td>\n      <td>500,000 adult recipients</td>\n    </tr>\n    <tr>\n      <th>4723</th>\n      <td>0.47</td>\n      <td>0.77</td>\n      <td>1.588521</td>\n      <td>4.898853e+05</td>\n      <td>3.125677e+05</td>\n      <td>1.133674e+05</td>\n      <td>0.479263</td>\n      <td>0.201764</td>\n      <td>0.020257</td>\n      <td>0.235131</td>\n      <td>0.011662</td>\n      <td>0.193048</td>\n      <td>0.022502</td>\n      <td>4.955567e+09</td>\n      <td>4.876357e+13</td>\n      <td>1.416629e+08</td>\n      <td>500,000 adult recipients</td>\n    </tr>\n    <tr>\n      <th>4825</th>\n      <td>0.48</td>\n      <td>0.78</td>\n      <td>1.635216</td>\n      <td>4.989103e+05</td>\n      <td>3.173916e+05</td>\n      <td>1.166649e+05</td>\n      <td>0.479007</td>\n      <td>0.201764</td>\n      <td>0.019377</td>\n      <td>0.235131</td>\n      <td>0.011662</td>\n      <td>0.193048</td>\n      <td>0.021392</td>\n      <td>4.908872e+09</td>\n      <td>4.769682e+13</td>\n      <td>1.207308e+08</td>\n      <td>500,000 adult recipients</td>\n    </tr>\n    <tr>\n      <th>4928</th>\n      <td>0.49</td>\n      <td>0.80</td>\n      <td>1.661614</td>\n      <td>4.940409e+05</td>\n      <td>3.139830e+05</td>\n      <td>1.141492e+05</td>\n      <td>0.478855</td>\n      <td>0.201764</td>\n      <td>0.017367</td>\n      <td>0.235131</td>\n      <td>0.011662</td>\n      <td>0.193048</td>\n      <td>0.018857</td>\n      <td>4.882474e+09</td>\n      <td>4.710781e+13</td>\n      <td>1.011463e+08</td>\n      <td>500,000 adult recipients</td>\n    </tr>\n    <tr>\n      <th>5031</th>\n      <td>0.50</td>\n      <td>0.82</td>\n      <td>1.688230</td>\n      <td>4.898853e+05</td>\n      <td>3.125677e+05</td>\n      <td>1.133674e+05</td>\n      <td>0.478701</td>\n      <td>0.201764</td>\n      <td>0.008381</td>\n      <td>0.235131</td>\n      <td>0.002450</td>\n      <td>0.193048</td>\n      <td>0.009930</td>\n      <td>4.855858e+09</td>\n      <td>4.652376e+13</td>\n      <td>8.412901e+07</td>\n      <td>500,000 adult recipients</td>\n    </tr>\n  </tbody>\n</table>\n<p>89 rows × 17 columns</p>\n</div>"
     },
     "metadata": {},
     "execution_count": 16
    }
   ],
   "source": [
    "cost_reach_curve"
   ]
  },
  {
   "cell_type": "code",
   "execution_count": 17,
   "metadata": {},
   "outputs": [
    {
     "output_type": "execute_result",
     "data": {
      "text/plain": [
       "                                 base        reform  pct_diff  \\\n",
       "adult_deep_poverty_rate  5.213446e-02  3.961722e-02 -0.240095   \n",
       "adult_poverty_rate       1.930477e-01  1.930477e-01  0.000000   \n",
       "adult_reach              0.000000e+00  4.783422e+05       inf   \n",
       "child_deep_poverty_rate  4.039562e-02  3.210260e-02 -0.205295   \n",
       "child_poverty_rate       2.351307e-01  2.351307e-01  0.000000   \n",
       "child_reach              0.000000e+00  1.108627e+05       inf   \n",
       "cost_b                   0.000000e+00  9.974801e-01       inf   \n",
       "deep_poverty_gap         1.529298e+09  5.970368e+08 -0.609601   \n",
       "deep_poverty_rate        4.970295e-02  3.806070e-02 -0.234237   \n",
       "gini                     4.885562e-01  4.826429e-01 -0.012104   \n",
       "phase_out_rate                    NaN  5.000000e-01       NaN   \n",
       "pov_ratio_guarantee               NaN  3.000000e-01       NaN   \n",
       "poverty_gap              6.544088e+09  5.546608e+09 -0.152425   \n",
       "poverty_rate             2.017645e-01  2.017645e-01  0.000000   \n",
       "spmu_reach               0.000000e+00  3.045318e+05       inf   \n",
       "squared_poverty_gap      9.758234e+13  6.399312e+13 -0.344214   \n",
       "\n",
       "                                       name  \n",
       "adult_deep_poverty_rate  Deep adult poverty  \n",
       "adult_poverty_rate                      NaN  \n",
       "adult_reach                             NaN  \n",
       "child_deep_poverty_rate  Deep child poverty  \n",
       "child_poverty_rate                      NaN  \n",
       "child_reach                             NaN  \n",
       "cost_b                                  NaN  \n",
       "deep_poverty_gap                        NaN  \n",
       "deep_poverty_rate              Deep poverty  \n",
       "gini                                    NaN  \n",
       "phase_out_rate                          NaN  \n",
       "pov_ratio_guarantee                     NaN  \n",
       "poverty_gap                     Poverty gap  \n",
       "poverty_rate                            NaN  \n",
       "spmu_reach                              NaN  \n",
       "squared_poverty_gap        Poverty severity  "
      ],
      "text/html": "<div>\n<style scoped>\n    .dataframe tbody tr th:only-of-type {\n        vertical-align: middle;\n    }\n\n    .dataframe tbody tr th {\n        vertical-align: top;\n    }\n\n    .dataframe thead th {\n        text-align: right;\n    }\n</style>\n<table border=\"1\" class=\"dataframe\">\n  <thead>\n    <tr style=\"text-align: right;\">\n      <th></th>\n      <th>base</th>\n      <th>reform</th>\n      <th>pct_diff</th>\n      <th>name</th>\n    </tr>\n  </thead>\n  <tbody>\n    <tr>\n      <th>adult_deep_poverty_rate</th>\n      <td>5.213446e-02</td>\n      <td>3.961722e-02</td>\n      <td>-0.240095</td>\n      <td>Deep adult poverty</td>\n    </tr>\n    <tr>\n      <th>adult_poverty_rate</th>\n      <td>1.930477e-01</td>\n      <td>1.930477e-01</td>\n      <td>0.000000</td>\n      <td>NaN</td>\n    </tr>\n    <tr>\n      <th>adult_reach</th>\n      <td>0.000000e+00</td>\n      <td>4.783422e+05</td>\n      <td>inf</td>\n      <td>NaN</td>\n    </tr>\n    <tr>\n      <th>child_deep_poverty_rate</th>\n      <td>4.039562e-02</td>\n      <td>3.210260e-02</td>\n      <td>-0.205295</td>\n      <td>Deep child poverty</td>\n    </tr>\n    <tr>\n      <th>child_poverty_rate</th>\n      <td>2.351307e-01</td>\n      <td>2.351307e-01</td>\n      <td>0.000000</td>\n      <td>NaN</td>\n    </tr>\n    <tr>\n      <th>child_reach</th>\n      <td>0.000000e+00</td>\n      <td>1.108627e+05</td>\n      <td>inf</td>\n      <td>NaN</td>\n    </tr>\n    <tr>\n      <th>cost_b</th>\n      <td>0.000000e+00</td>\n      <td>9.974801e-01</td>\n      <td>inf</td>\n      <td>NaN</td>\n    </tr>\n    <tr>\n      <th>deep_poverty_gap</th>\n      <td>1.529298e+09</td>\n      <td>5.970368e+08</td>\n      <td>-0.609601</td>\n      <td>NaN</td>\n    </tr>\n    <tr>\n      <th>deep_poverty_rate</th>\n      <td>4.970295e-02</td>\n      <td>3.806070e-02</td>\n      <td>-0.234237</td>\n      <td>Deep poverty</td>\n    </tr>\n    <tr>\n      <th>gini</th>\n      <td>4.885562e-01</td>\n      <td>4.826429e-01</td>\n      <td>-0.012104</td>\n      <td>NaN</td>\n    </tr>\n    <tr>\n      <th>phase_out_rate</th>\n      <td>NaN</td>\n      <td>5.000000e-01</td>\n      <td>NaN</td>\n      <td>NaN</td>\n    </tr>\n    <tr>\n      <th>pov_ratio_guarantee</th>\n      <td>NaN</td>\n      <td>3.000000e-01</td>\n      <td>NaN</td>\n      <td>NaN</td>\n    </tr>\n    <tr>\n      <th>poverty_gap</th>\n      <td>6.544088e+09</td>\n      <td>5.546608e+09</td>\n      <td>-0.152425</td>\n      <td>Poverty gap</td>\n    </tr>\n    <tr>\n      <th>poverty_rate</th>\n      <td>2.017645e-01</td>\n      <td>2.017645e-01</td>\n      <td>0.000000</td>\n      <td>NaN</td>\n    </tr>\n    <tr>\n      <th>spmu_reach</th>\n      <td>0.000000e+00</td>\n      <td>3.045318e+05</td>\n      <td>inf</td>\n      <td>NaN</td>\n    </tr>\n    <tr>\n      <th>squared_poverty_gap</th>\n      <td>9.758234e+13</td>\n      <td>6.399312e+13</td>\n      <td>-0.344214</td>\n      <td>Poverty severity</td>\n    </tr>\n  </tbody>\n</table>\n</div>"
     },
     "metadata": {},
     "execution_count": 17
    }
   ],
   "source": [
    "opt = policies[(policies.pov_ratio_guarantee == RATIO) & (policies.phase_out_rate == PS)]\n",
    "base = policy(0, 0)\n",
    "comp = pd.DataFrame({\"base\": base, \"reform\": opt.iloc[0]})\n",
    "\n",
    "def pct_diff(base, reform):\n",
    "    return (reform - base) / base\n",
    "\n",
    "comp[\"pct_diff\"] = pct_diff(comp.base, comp.reform)\n",
    "LABELS = {\n",
    "    \"deep_poverty_rate\": \"Deep poverty\",\n",
    "    \"adult_deep_poverty_rate\": \"Deep adult poverty\",\n",
    "    \"child_deep_poverty_rate\": \"Deep child poverty\",\n",
    "    \"poverty_gap\": \"Poverty gap\",\n",
    "    \"squared_poverty_gap\": \"Poverty severity\",\n",
    "}\n",
    "comp[\"name\"] = comp.index.map(LABELS)\n",
    "comp"
   ]
  },
  {
   "cell_type": "code",
   "execution_count": 18,
   "metadata": {},
   "outputs": [
    {
     "output_type": "display_data",
     "data": {
      "application/vnd.plotly.v1+json": {
       "config": {
        "displayModeBar": false,
        "plotlyServerURL": "https://plot.ly"
       },
       "data": [
        {
         "alignmentgroup": "True",
         "hovertemplate": "name=%{x}<br>pct_diff=%{y}<extra></extra>",
         "legendgroup": "",
         "marker": {
          "color": "#636efa"
         },
         "name": "",
         "offsetgroup": "",
         "orientation": "v",
         "showlegend": false,
         "textposition": "auto",
         "type": "bar",
         "x": [
          "Deep adult poverty",
          "Deep child poverty",
          "Deep poverty",
          "Poverty gap",
          "Poverty severity"
         ],
         "xaxis": "x",
         "y": [
          -0.24009524421096423,
          -0.20529486176302927,
          -0.2342367577453367,
          -0.15242461220318704,
          -0.3442142030719002
         ],
         "yaxis": "y"
        }
       ],
       "layout": {
        "barmode": "relative",
        "font": {
         "family": "Roboto"
        },
        "height": 600,
        "hoverlabel": {
         "align": "right"
        },
        "images": [
         {
          "sizex": 0.12,
          "sizey": 0.12,
          "source": "https://raw.githubusercontent.com/UBICenter/blog/master/jb/_static/ubi_center_logo_wide_blue.png",
          "x": 0.98,
          "xanchor": "right",
          "xref": "paper",
          "y": -0.12,
          "yanchor": "bottom",
          "yref": "paper"
         }
        ],
        "legend": {
         "tracegroupgap": 0
        },
        "paper_bgcolor": "white",
        "plot_bgcolor": "white",
        "template": {
         "data": {
          "bar": [
           {
            "error_x": {
             "color": "#2a3f5f"
            },
            "error_y": {
             "color": "#2a3f5f"
            },
            "marker": {
             "line": {
              "color": "#E5ECF6",
              "width": 0.5
             }
            },
            "type": "bar"
           }
          ],
          "barpolar": [
           {
            "marker": {
             "line": {
              "color": "#E5ECF6",
              "width": 0.5
             }
            },
            "type": "barpolar"
           }
          ],
          "carpet": [
           {
            "aaxis": {
             "endlinecolor": "#2a3f5f",
             "gridcolor": "white",
             "linecolor": "white",
             "minorgridcolor": "white",
             "startlinecolor": "#2a3f5f"
            },
            "baxis": {
             "endlinecolor": "#2a3f5f",
             "gridcolor": "white",
             "linecolor": "white",
             "minorgridcolor": "white",
             "startlinecolor": "#2a3f5f"
            },
            "type": "carpet"
           }
          ],
          "choropleth": [
           {
            "colorbar": {
             "outlinewidth": 0,
             "ticks": ""
            },
            "type": "choropleth"
           }
          ],
          "contour": [
           {
            "colorbar": {
             "outlinewidth": 0,
             "ticks": ""
            },
            "colorscale": [
             [
              0,
              "#0d0887"
             ],
             [
              0.1111111111111111,
              "#46039f"
             ],
             [
              0.2222222222222222,
              "#7201a8"
             ],
             [
              0.3333333333333333,
              "#9c179e"
             ],
             [
              0.4444444444444444,
              "#bd3786"
             ],
             [
              0.5555555555555556,
              "#d8576b"
             ],
             [
              0.6666666666666666,
              "#ed7953"
             ],
             [
              0.7777777777777778,
              "#fb9f3a"
             ],
             [
              0.8888888888888888,
              "#fdca26"
             ],
             [
              1,
              "#f0f921"
             ]
            ],
            "type": "contour"
           }
          ],
          "contourcarpet": [
           {
            "colorbar": {
             "outlinewidth": 0,
             "ticks": ""
            },
            "type": "contourcarpet"
           }
          ],
          "heatmap": [
           {
            "colorbar": {
             "outlinewidth": 0,
             "ticks": ""
            },
            "colorscale": [
             [
              0,
              "#0d0887"
             ],
             [
              0.1111111111111111,
              "#46039f"
             ],
             [
              0.2222222222222222,
              "#7201a8"
             ],
             [
              0.3333333333333333,
              "#9c179e"
             ],
             [
              0.4444444444444444,
              "#bd3786"
             ],
             [
              0.5555555555555556,
              "#d8576b"
             ],
             [
              0.6666666666666666,
              "#ed7953"
             ],
             [
              0.7777777777777778,
              "#fb9f3a"
             ],
             [
              0.8888888888888888,
              "#fdca26"
             ],
             [
              1,
              "#f0f921"
             ]
            ],
            "type": "heatmap"
           }
          ],
          "heatmapgl": [
           {
            "colorbar": {
             "outlinewidth": 0,
             "ticks": ""
            },
            "colorscale": [
             [
              0,
              "#0d0887"
             ],
             [
              0.1111111111111111,
              "#46039f"
             ],
             [
              0.2222222222222222,
              "#7201a8"
             ],
             [
              0.3333333333333333,
              "#9c179e"
             ],
             [
              0.4444444444444444,
              "#bd3786"
             ],
             [
              0.5555555555555556,
              "#d8576b"
             ],
             [
              0.6666666666666666,
              "#ed7953"
             ],
             [
              0.7777777777777778,
              "#fb9f3a"
             ],
             [
              0.8888888888888888,
              "#fdca26"
             ],
             [
              1,
              "#f0f921"
             ]
            ],
            "type": "heatmapgl"
           }
          ],
          "histogram": [
           {
            "marker": {
             "colorbar": {
              "outlinewidth": 0,
              "ticks": ""
             }
            },
            "type": "histogram"
           }
          ],
          "histogram2d": [
           {
            "colorbar": {
             "outlinewidth": 0,
             "ticks": ""
            },
            "colorscale": [
             [
              0,
              "#0d0887"
             ],
             [
              0.1111111111111111,
              "#46039f"
             ],
             [
              0.2222222222222222,
              "#7201a8"
             ],
             [
              0.3333333333333333,
              "#9c179e"
             ],
             [
              0.4444444444444444,
              "#bd3786"
             ],
             [
              0.5555555555555556,
              "#d8576b"
             ],
             [
              0.6666666666666666,
              "#ed7953"
             ],
             [
              0.7777777777777778,
              "#fb9f3a"
             ],
             [
              0.8888888888888888,
              "#fdca26"
             ],
             [
              1,
              "#f0f921"
             ]
            ],
            "type": "histogram2d"
           }
          ],
          "histogram2dcontour": [
           {
            "colorbar": {
             "outlinewidth": 0,
             "ticks": ""
            },
            "colorscale": [
             [
              0,
              "#0d0887"
             ],
             [
              0.1111111111111111,
              "#46039f"
             ],
             [
              0.2222222222222222,
              "#7201a8"
             ],
             [
              0.3333333333333333,
              "#9c179e"
             ],
             [
              0.4444444444444444,
              "#bd3786"
             ],
             [
              0.5555555555555556,
              "#d8576b"
             ],
             [
              0.6666666666666666,
              "#ed7953"
             ],
             [
              0.7777777777777778,
              "#fb9f3a"
             ],
             [
              0.8888888888888888,
              "#fdca26"
             ],
             [
              1,
              "#f0f921"
             ]
            ],
            "type": "histogram2dcontour"
           }
          ],
          "mesh3d": [
           {
            "colorbar": {
             "outlinewidth": 0,
             "ticks": ""
            },
            "type": "mesh3d"
           }
          ],
          "parcoords": [
           {
            "line": {
             "colorbar": {
              "outlinewidth": 0,
              "ticks": ""
             }
            },
            "type": "parcoords"
           }
          ],
          "pie": [
           {
            "automargin": true,
            "type": "pie"
           }
          ],
          "scatter": [
           {
            "marker": {
             "colorbar": {
              "outlinewidth": 0,
              "ticks": ""
             }
            },
            "type": "scatter"
           }
          ],
          "scatter3d": [
           {
            "line": {
             "colorbar": {
              "outlinewidth": 0,
              "ticks": ""
             }
            },
            "marker": {
             "colorbar": {
              "outlinewidth": 0,
              "ticks": ""
             }
            },
            "type": "scatter3d"
           }
          ],
          "scattercarpet": [
           {
            "marker": {
             "colorbar": {
              "outlinewidth": 0,
              "ticks": ""
             }
            },
            "type": "scattercarpet"
           }
          ],
          "scattergeo": [
           {
            "marker": {
             "colorbar": {
              "outlinewidth": 0,
              "ticks": ""
             }
            },
            "type": "scattergeo"
           }
          ],
          "scattergl": [
           {
            "marker": {
             "colorbar": {
              "outlinewidth": 0,
              "ticks": ""
             }
            },
            "type": "scattergl"
           }
          ],
          "scattermapbox": [
           {
            "marker": {
             "colorbar": {
              "outlinewidth": 0,
              "ticks": ""
             }
            },
            "type": "scattermapbox"
           }
          ],
          "scatterpolar": [
           {
            "marker": {
             "colorbar": {
              "outlinewidth": 0,
              "ticks": ""
             }
            },
            "type": "scatterpolar"
           }
          ],
          "scatterpolargl": [
           {
            "marker": {
             "colorbar": {
              "outlinewidth": 0,
              "ticks": ""
             }
            },
            "type": "scatterpolargl"
           }
          ],
          "scatterternary": [
           {
            "marker": {
             "colorbar": {
              "outlinewidth": 0,
              "ticks": ""
             }
            },
            "type": "scatterternary"
           }
          ],
          "surface": [
           {
            "colorbar": {
             "outlinewidth": 0,
             "ticks": ""
            },
            "colorscale": [
             [
              0,
              "#0d0887"
             ],
             [
              0.1111111111111111,
              "#46039f"
             ],
             [
              0.2222222222222222,
              "#7201a8"
             ],
             [
              0.3333333333333333,
              "#9c179e"
             ],
             [
              0.4444444444444444,
              "#bd3786"
             ],
             [
              0.5555555555555556,
              "#d8576b"
             ],
             [
              0.6666666666666666,
              "#ed7953"
             ],
             [
              0.7777777777777778,
              "#fb9f3a"
             ],
             [
              0.8888888888888888,
              "#fdca26"
             ],
             [
              1,
              "#f0f921"
             ]
            ],
            "type": "surface"
           }
          ],
          "table": [
           {
            "cells": {
             "fill": {
              "color": "#EBF0F8"
             },
             "line": {
              "color": "white"
             }
            },
            "header": {
             "fill": {
              "color": "#C8D4E3"
             },
             "line": {
              "color": "white"
             }
            },
            "type": "table"
           }
          ]
         },
         "layout": {
          "annotationdefaults": {
           "arrowcolor": "#2a3f5f",
           "arrowhead": 0,
           "arrowwidth": 1
          },
          "autotypenumbers": "strict",
          "coloraxis": {
           "colorbar": {
            "outlinewidth": 0,
            "ticks": ""
           }
          },
          "colorscale": {
           "diverging": [
            [
             0,
             "#8e0152"
            ],
            [
             0.1,
             "#c51b7d"
            ],
            [
             0.2,
             "#de77ae"
            ],
            [
             0.3,
             "#f1b6da"
            ],
            [
             0.4,
             "#fde0ef"
            ],
            [
             0.5,
             "#f7f7f7"
            ],
            [
             0.6,
             "#e6f5d0"
            ],
            [
             0.7,
             "#b8e186"
            ],
            [
             0.8,
             "#7fbc41"
            ],
            [
             0.9,
             "#4d9221"
            ],
            [
             1,
             "#276419"
            ]
           ],
           "sequential": [
            [
             0,
             "#0d0887"
            ],
            [
             0.1111111111111111,
             "#46039f"
            ],
            [
             0.2222222222222222,
             "#7201a8"
            ],
            [
             0.3333333333333333,
             "#9c179e"
            ],
            [
             0.4444444444444444,
             "#bd3786"
            ],
            [
             0.5555555555555556,
             "#d8576b"
            ],
            [
             0.6666666666666666,
             "#ed7953"
            ],
            [
             0.7777777777777778,
             "#fb9f3a"
            ],
            [
             0.8888888888888888,
             "#fdca26"
            ],
            [
             1,
             "#f0f921"
            ]
           ],
           "sequentialminus": [
            [
             0,
             "#0d0887"
            ],
            [
             0.1111111111111111,
             "#46039f"
            ],
            [
             0.2222222222222222,
             "#7201a8"
            ],
            [
             0.3333333333333333,
             "#9c179e"
            ],
            [
             0.4444444444444444,
             "#bd3786"
            ],
            [
             0.5555555555555556,
             "#d8576b"
            ],
            [
             0.6666666666666666,
             "#ed7953"
            ],
            [
             0.7777777777777778,
             "#fb9f3a"
            ],
            [
             0.8888888888888888,
             "#fdca26"
            ],
            [
             1,
             "#f0f921"
            ]
           ]
          },
          "colorway": [
           "#636efa",
           "#EF553B",
           "#00cc96",
           "#ab63fa",
           "#FFA15A",
           "#19d3f3",
           "#FF6692",
           "#B6E880",
           "#FF97FF",
           "#FECB52"
          ],
          "font": {
           "color": "#2a3f5f"
          },
          "geo": {
           "bgcolor": "white",
           "lakecolor": "white",
           "landcolor": "#E5ECF6",
           "showlakes": true,
           "showland": true,
           "subunitcolor": "white"
          },
          "hoverlabel": {
           "align": "left"
          },
          "hovermode": "closest",
          "mapbox": {
           "style": "light"
          },
          "paper_bgcolor": "white",
          "plot_bgcolor": "#E5ECF6",
          "polar": {
           "angularaxis": {
            "gridcolor": "white",
            "linecolor": "white",
            "ticks": ""
           },
           "bgcolor": "#E5ECF6",
           "radialaxis": {
            "gridcolor": "white",
            "linecolor": "white",
            "ticks": ""
           }
          },
          "scene": {
           "xaxis": {
            "backgroundcolor": "#E5ECF6",
            "gridcolor": "white",
            "gridwidth": 2,
            "linecolor": "white",
            "showbackground": true,
            "ticks": "",
            "zerolinecolor": "white"
           },
           "yaxis": {
            "backgroundcolor": "#E5ECF6",
            "gridcolor": "white",
            "gridwidth": 2,
            "linecolor": "white",
            "showbackground": true,
            "ticks": "",
            "zerolinecolor": "white"
           },
           "zaxis": {
            "backgroundcolor": "#E5ECF6",
            "gridcolor": "white",
            "gridwidth": 2,
            "linecolor": "white",
            "showbackground": true,
            "ticks": "",
            "zerolinecolor": "white"
           }
          },
          "shapedefaults": {
           "line": {
            "color": "#2a3f5f"
           }
          },
          "ternary": {
           "aaxis": {
            "gridcolor": "white",
            "linecolor": "white",
            "ticks": ""
           },
           "baxis": {
            "gridcolor": "white",
            "linecolor": "white",
            "ticks": ""
           },
           "bgcolor": "#E5ECF6",
           "caxis": {
            "gridcolor": "white",
            "linecolor": "white",
            "ticks": ""
           }
          },
          "title": {
           "x": 0.05
          },
          "xaxis": {
           "automargin": true,
           "gridcolor": "white",
           "linecolor": "white",
           "ticks": "",
           "title": {
            "standoff": 15
           },
           "zerolinecolor": "white",
           "zerolinewidth": 2
          },
          "yaxis": {
           "automargin": true,
           "gridcolor": "white",
           "linecolor": "white",
           "ticks": "",
           "title": {
            "standoff": 15
           },
           "zerolinecolor": "white",
           "zerolinewidth": 2
          }
         }
        },
        "title": {
         "font": {
          "size": 20
         },
         "text": "Effect of Andrew Yang's Basic Income for NYC on poverty measures"
        },
        "width": 800,
        "xaxis": {
         "anchor": "y",
         "domain": [
          0,
          1
         ],
         "tickfont": {
          "size": 14
         },
         "title": {
          "font": {
           "color": "black",
           "size": 16
          },
          "text": ""
         }
        },
        "yaxis": {
         "anchor": "x",
         "domain": [
          0,
          1
         ],
         "tickfont": {
          "size": 14
         },
         "tickformat": "%",
         "title": {
          "font": {
           "color": "black",
           "size": 16
          },
          "text": ""
         }
        }
       }
      }
     },
     "metadata": {}
    }
   ],
   "source": [
    "fig = px.bar(comp[~comp.name.isna()], \"name\", \"pct_diff\",\n",
    "             title=\"Effect of Andrew Yang's Basic Income for NYC on poverty measures\")\n",
    "fig.update_layout(yaxis_tickformat=\"%\", xaxis_title=\"\", yaxis_title=\"\")\n",
    "format_fig(fig)"
   ]
  },
  {
   "cell_type": "code",
   "execution_count": 19,
   "metadata": {},
   "outputs": [
    {
     "output_type": "execute_result",
     "data": {
      "text/plain": [
       "cost_b                     0.000000e+00\n",
       "adult_reach                0.000000e+00\n",
       "spmu_reach                 0.000000e+00\n",
       "child_reach                0.000000e+00\n",
       "gini                       4.885562e-01\n",
       "poverty_rate               2.017645e-01\n",
       "deep_poverty_rate          4.970295e-02\n",
       "child_poverty_rate         2.351307e-01\n",
       "child_deep_poverty_rate    4.039562e-02\n",
       "adult_poverty_rate         1.930477e-01\n",
       "adult_deep_poverty_rate    5.213446e-02\n",
       "poverty_gap                6.544088e+09\n",
       "squared_poverty_gap        9.758234e+13\n",
       "deep_poverty_gap           1.529298e+09\n",
       "dtype: float64"
      ]
     },
     "metadata": {},
     "execution_count": 19
    }
   ],
   "source": [
    "base = policy(0, 0)\n",
    "base"
   ]
  },
  {
   "cell_type": "code",
   "execution_count": 20,
   "metadata": {},
   "outputs": [
    {
     "output_type": "stream",
     "name": "stdout",
     "text": [
      "16470.0 8380.0\n"
     ]
    },
    {
     "output_type": "execute_result",
     "data": {
      "text/plain": [
       "      year  spmfamunit  spmtotres  spmthresh   spmratio        spmwt  \\\n",
       "2775  2019     7689001    83471.0    24850.0   3.358994  1034.903333   \n",
       "2795  2019     7711001    50790.0    16470.0   3.083789  1338.590000   \n",
       "2972  2019     8035001    24600.0    16470.0   1.493625   928.990000   \n",
       "3039  2019     8109001    70425.0    16470.0   4.275956  1957.620000   \n",
       "3056  2019     8131001    75005.0    16470.0   4.554038  1073.023333   \n",
       "3062  2019     8142001    59300.0    16470.0   3.600486  1470.310000   \n",
       "3119  2019     8199001    16700.0    16470.0   1.013965  1649.740000   \n",
       "3152  2019     8233001   143123.0    16470.0   8.689921  1085.913333   \n",
       "3183  2019     8301005    21686.0    16470.0   1.316697   717.346667   \n",
       "3231  2019     8404001    80899.0    16470.0   4.911900   751.550000   \n",
       "3323  2019     8497001   104279.0    24850.0   4.196338   910.243333   \n",
       "3336  2019     8735001    65255.0    16470.0   3.962052  1404.560000   \n",
       "3391  2019     8807001   450366.0    16470.0  27.344627   849.036667   \n",
       "3444  2019     8871001    57833.0    16470.0   3.511415  1308.553333   \n",
       "3457  2019     8883001    73078.0    16470.0   4.437037  1493.040000   \n",
       "3458  2019     8883003    35713.0    16470.0   2.168367  1401.663333   \n",
       "3485  2019     8913001   135730.0    16470.0   8.241044  1316.630000   \n",
       "3533  2019     8989001        0.0    16470.0   0.000000  1205.770000   \n",
       "3621  2019     9219004    12519.0    16470.0   0.760109  1391.660000   \n",
       "3637  2019     9235001    63753.0    16470.0   3.870856  1655.696667   \n",
       "3682  2019     9285001    24175.0    16470.0   1.467820  1080.233333   \n",
       "3683  2019     9285003    16424.0    16470.0   0.997207  1377.463333   \n",
       "3688  2019     9290001    13716.0    16470.0   0.832787  1068.616667   \n",
       "3689  2019     9291001    26112.0    16470.0   1.585428   744.000000   \n",
       "3704  2019     9308001    15436.0    16470.0   0.937219  1839.406667   \n",
       "3844  2019     9570001    19795.0    16470.0   1.201882   956.280000   \n",
       "3864  2019     9590001    15198.0    16470.0   0.922769  1025.630000   \n",
       "3873  2019     9599001   -10180.0    16470.0  -0.618094  1839.816667   \n",
       "3875  2019     9601001    88240.0    16470.0   5.357620  1333.743333   \n",
       "3897  2019     9625001    79114.0    16470.0   4.803522  1635.823333   \n",
       "3898  2019     9626001    46044.0    16470.0   2.795628  1537.663333   \n",
       "3900  2019     9629001    59944.0    16470.0   3.639587  1383.000000   \n",
       "\n",
       "      spmftotval  adult  child  max_transfer  transfer  spmtotres_r  \\\n",
       "2775      111800      1      1           0.0       0.0      83471.0   \n",
       "2795       73120      1      0           0.0       0.0      50790.0   \n",
       "2972       27653      1      0           0.0       0.0      24600.0   \n",
       "3039      101965      1      0           0.0       0.0      70425.0   \n",
       "3056      110011      1      0           0.0       0.0      75005.0   \n",
       "3062       95210      1      0           0.0       0.0      59300.0   \n",
       "3119       19476      1      0           0.0       0.0      16700.0   \n",
       "3152      229201      1      0           0.0       0.0     143123.0   \n",
       "3183       31002      1      0           0.0       0.0      21686.0   \n",
       "3231      103627      1      0           0.0       0.0      80899.0   \n",
       "3323      151320      1      1           0.0       0.0     104279.0   \n",
       "3336      100022      1      0           0.0       0.0      65255.0   \n",
       "3391      821321      1      0           0.0       0.0     450366.0   \n",
       "3444      108467      1      0           0.0       0.0      57833.0   \n",
       "3457      120000      1      0           0.0       0.0      73078.0   \n",
       "3458       80000      1      0           0.0       0.0      35713.0   \n",
       "3485      250405      1      0           0.0       0.0     135730.0   \n",
       "3533          20      1      0           0.0       0.0          0.0   \n",
       "3621       18000      1      0           0.0       0.0      12519.0   \n",
       "3637       74200      1      0           0.0       0.0      63753.0   \n",
       "3682       21906      1      0           0.0       0.0      24175.0   \n",
       "3683       28000      1      0           0.0       0.0      16424.0   \n",
       "3688       17028      1      0           0.0       0.0      13716.0   \n",
       "3689       27813      1      0           0.0       0.0      26112.0   \n",
       "3704       17662      1      0           0.0       0.0      15436.0   \n",
       "3844       21421      1      0           0.0       0.0      19795.0   \n",
       "3864       19686      1      0           0.0       0.0      15198.0   \n",
       "3873          20      1      0           0.0       0.0     -10180.0   \n",
       "3875      139000      1      0           0.0       0.0      88240.0   \n",
       "3897      103220      1      0           0.0       0.0      79114.0   \n",
       "3898       45000      1      0           0.0       0.0      46044.0   \n",
       "3900       89011      1      0           0.0       0.0      59944.0   \n",
       "\n",
       "      spmthresh_ind  \n",
       "2775        24850.0  \n",
       "2795        16470.0  \n",
       "2972        16470.0  \n",
       "3039        16470.0  \n",
       "3056        16470.0  \n",
       "3062        16470.0  \n",
       "3119        16470.0  \n",
       "3152        16470.0  \n",
       "3183        16470.0  \n",
       "3231        16470.0  \n",
       "3323        24850.0  \n",
       "3336        16470.0  \n",
       "3391        16470.0  \n",
       "3444        16470.0  \n",
       "3457        16470.0  \n",
       "3458        16470.0  \n",
       "3485        16470.0  \n",
       "3533        16470.0  \n",
       "3621        16470.0  \n",
       "3637        16470.0  \n",
       "3682        16470.0  \n",
       "3683        16470.0  \n",
       "3688        16470.0  \n",
       "3689        16470.0  \n",
       "3704        16470.0  \n",
       "3844        16470.0  \n",
       "3864        16470.0  \n",
       "3873        16470.0  \n",
       "3875        16470.0  \n",
       "3897        16470.0  \n",
       "3898        16470.0  \n",
       "3900        16470.0  "
      ],
      "text/html": "<div>\n<style scoped>\n    .dataframe tbody tr th:only-of-type {\n        vertical-align: middle;\n    }\n\n    .dataframe tbody tr th {\n        vertical-align: top;\n    }\n\n    .dataframe thead th {\n        text-align: right;\n    }\n</style>\n<table border=\"1\" class=\"dataframe\">\n  <thead>\n    <tr style=\"text-align: right;\">\n      <th></th>\n      <th>year</th>\n      <th>spmfamunit</th>\n      <th>spmtotres</th>\n      <th>spmthresh</th>\n      <th>spmratio</th>\n      <th>spmwt</th>\n      <th>spmftotval</th>\n      <th>adult</th>\n      <th>child</th>\n      <th>max_transfer</th>\n      <th>transfer</th>\n      <th>spmtotres_r</th>\n      <th>spmthresh_ind</th>\n    </tr>\n  </thead>\n  <tbody>\n    <tr>\n      <th>2775</th>\n      <td>2019</td>\n      <td>7689001</td>\n      <td>83471.0</td>\n      <td>24850.0</td>\n      <td>3.358994</td>\n      <td>1034.903333</td>\n      <td>111800</td>\n      <td>1</td>\n      <td>1</td>\n      <td>0.0</td>\n      <td>0.0</td>\n      <td>83471.0</td>\n      <td>24850.0</td>\n    </tr>\n    <tr>\n      <th>2795</th>\n      <td>2019</td>\n      <td>7711001</td>\n      <td>50790.0</td>\n      <td>16470.0</td>\n      <td>3.083789</td>\n      <td>1338.590000</td>\n      <td>73120</td>\n      <td>1</td>\n      <td>0</td>\n      <td>0.0</td>\n      <td>0.0</td>\n      <td>50790.0</td>\n      <td>16470.0</td>\n    </tr>\n    <tr>\n      <th>2972</th>\n      <td>2019</td>\n      <td>8035001</td>\n      <td>24600.0</td>\n      <td>16470.0</td>\n      <td>1.493625</td>\n      <td>928.990000</td>\n      <td>27653</td>\n      <td>1</td>\n      <td>0</td>\n      <td>0.0</td>\n      <td>0.0</td>\n      <td>24600.0</td>\n      <td>16470.0</td>\n    </tr>\n    <tr>\n      <th>3039</th>\n      <td>2019</td>\n      <td>8109001</td>\n      <td>70425.0</td>\n      <td>16470.0</td>\n      <td>4.275956</td>\n      <td>1957.620000</td>\n      <td>101965</td>\n      <td>1</td>\n      <td>0</td>\n      <td>0.0</td>\n      <td>0.0</td>\n      <td>70425.0</td>\n      <td>16470.0</td>\n    </tr>\n    <tr>\n      <th>3056</th>\n      <td>2019</td>\n      <td>8131001</td>\n      <td>75005.0</td>\n      <td>16470.0</td>\n      <td>4.554038</td>\n      <td>1073.023333</td>\n      <td>110011</td>\n      <td>1</td>\n      <td>0</td>\n      <td>0.0</td>\n      <td>0.0</td>\n      <td>75005.0</td>\n      <td>16470.0</td>\n    </tr>\n    <tr>\n      <th>3062</th>\n      <td>2019</td>\n      <td>8142001</td>\n      <td>59300.0</td>\n      <td>16470.0</td>\n      <td>3.600486</td>\n      <td>1470.310000</td>\n      <td>95210</td>\n      <td>1</td>\n      <td>0</td>\n      <td>0.0</td>\n      <td>0.0</td>\n      <td>59300.0</td>\n      <td>16470.0</td>\n    </tr>\n    <tr>\n      <th>3119</th>\n      <td>2019</td>\n      <td>8199001</td>\n      <td>16700.0</td>\n      <td>16470.0</td>\n      <td>1.013965</td>\n      <td>1649.740000</td>\n      <td>19476</td>\n      <td>1</td>\n      <td>0</td>\n      <td>0.0</td>\n      <td>0.0</td>\n      <td>16700.0</td>\n      <td>16470.0</td>\n    </tr>\n    <tr>\n      <th>3152</th>\n      <td>2019</td>\n      <td>8233001</td>\n      <td>143123.0</td>\n      <td>16470.0</td>\n      <td>8.689921</td>\n      <td>1085.913333</td>\n      <td>229201</td>\n      <td>1</td>\n      <td>0</td>\n      <td>0.0</td>\n      <td>0.0</td>\n      <td>143123.0</td>\n      <td>16470.0</td>\n    </tr>\n    <tr>\n      <th>3183</th>\n      <td>2019</td>\n      <td>8301005</td>\n      <td>21686.0</td>\n      <td>16470.0</td>\n      <td>1.316697</td>\n      <td>717.346667</td>\n      <td>31002</td>\n      <td>1</td>\n      <td>0</td>\n      <td>0.0</td>\n      <td>0.0</td>\n      <td>21686.0</td>\n      <td>16470.0</td>\n    </tr>\n    <tr>\n      <th>3231</th>\n      <td>2019</td>\n      <td>8404001</td>\n      <td>80899.0</td>\n      <td>16470.0</td>\n      <td>4.911900</td>\n      <td>751.550000</td>\n      <td>103627</td>\n      <td>1</td>\n      <td>0</td>\n      <td>0.0</td>\n      <td>0.0</td>\n      <td>80899.0</td>\n      <td>16470.0</td>\n    </tr>\n    <tr>\n      <th>3323</th>\n      <td>2019</td>\n      <td>8497001</td>\n      <td>104279.0</td>\n      <td>24850.0</td>\n      <td>4.196338</td>\n      <td>910.243333</td>\n      <td>151320</td>\n      <td>1</td>\n      <td>1</td>\n      <td>0.0</td>\n      <td>0.0</td>\n      <td>104279.0</td>\n      <td>24850.0</td>\n    </tr>\n    <tr>\n      <th>3336</th>\n      <td>2019</td>\n      <td>8735001</td>\n      <td>65255.0</td>\n      <td>16470.0</td>\n      <td>3.962052</td>\n      <td>1404.560000</td>\n      <td>100022</td>\n      <td>1</td>\n      <td>0</td>\n      <td>0.0</td>\n      <td>0.0</td>\n      <td>65255.0</td>\n      <td>16470.0</td>\n    </tr>\n    <tr>\n      <th>3391</th>\n      <td>2019</td>\n      <td>8807001</td>\n      <td>450366.0</td>\n      <td>16470.0</td>\n      <td>27.344627</td>\n      <td>849.036667</td>\n      <td>821321</td>\n      <td>1</td>\n      <td>0</td>\n      <td>0.0</td>\n      <td>0.0</td>\n      <td>450366.0</td>\n      <td>16470.0</td>\n    </tr>\n    <tr>\n      <th>3444</th>\n      <td>2019</td>\n      <td>8871001</td>\n      <td>57833.0</td>\n      <td>16470.0</td>\n      <td>3.511415</td>\n      <td>1308.553333</td>\n      <td>108467</td>\n      <td>1</td>\n      <td>0</td>\n      <td>0.0</td>\n      <td>0.0</td>\n      <td>57833.0</td>\n      <td>16470.0</td>\n    </tr>\n    <tr>\n      <th>3457</th>\n      <td>2019</td>\n      <td>8883001</td>\n      <td>73078.0</td>\n      <td>16470.0</td>\n      <td>4.437037</td>\n      <td>1493.040000</td>\n      <td>120000</td>\n      <td>1</td>\n      <td>0</td>\n      <td>0.0</td>\n      <td>0.0</td>\n      <td>73078.0</td>\n      <td>16470.0</td>\n    </tr>\n    <tr>\n      <th>3458</th>\n      <td>2019</td>\n      <td>8883003</td>\n      <td>35713.0</td>\n      <td>16470.0</td>\n      <td>2.168367</td>\n      <td>1401.663333</td>\n      <td>80000</td>\n      <td>1</td>\n      <td>0</td>\n      <td>0.0</td>\n      <td>0.0</td>\n      <td>35713.0</td>\n      <td>16470.0</td>\n    </tr>\n    <tr>\n      <th>3485</th>\n      <td>2019</td>\n      <td>8913001</td>\n      <td>135730.0</td>\n      <td>16470.0</td>\n      <td>8.241044</td>\n      <td>1316.630000</td>\n      <td>250405</td>\n      <td>1</td>\n      <td>0</td>\n      <td>0.0</td>\n      <td>0.0</td>\n      <td>135730.0</td>\n      <td>16470.0</td>\n    </tr>\n    <tr>\n      <th>3533</th>\n      <td>2019</td>\n      <td>8989001</td>\n      <td>0.0</td>\n      <td>16470.0</td>\n      <td>0.000000</td>\n      <td>1205.770000</td>\n      <td>20</td>\n      <td>1</td>\n      <td>0</td>\n      <td>0.0</td>\n      <td>0.0</td>\n      <td>0.0</td>\n      <td>16470.0</td>\n    </tr>\n    <tr>\n      <th>3621</th>\n      <td>2019</td>\n      <td>9219004</td>\n      <td>12519.0</td>\n      <td>16470.0</td>\n      <td>0.760109</td>\n      <td>1391.660000</td>\n      <td>18000</td>\n      <td>1</td>\n      <td>0</td>\n      <td>0.0</td>\n      <td>0.0</td>\n      <td>12519.0</td>\n      <td>16470.0</td>\n    </tr>\n    <tr>\n      <th>3637</th>\n      <td>2019</td>\n      <td>9235001</td>\n      <td>63753.0</td>\n      <td>16470.0</td>\n      <td>3.870856</td>\n      <td>1655.696667</td>\n      <td>74200</td>\n      <td>1</td>\n      <td>0</td>\n      <td>0.0</td>\n      <td>0.0</td>\n      <td>63753.0</td>\n      <td>16470.0</td>\n    </tr>\n    <tr>\n      <th>3682</th>\n      <td>2019</td>\n      <td>9285001</td>\n      <td>24175.0</td>\n      <td>16470.0</td>\n      <td>1.467820</td>\n      <td>1080.233333</td>\n      <td>21906</td>\n      <td>1</td>\n      <td>0</td>\n      <td>0.0</td>\n      <td>0.0</td>\n      <td>24175.0</td>\n      <td>16470.0</td>\n    </tr>\n    <tr>\n      <th>3683</th>\n      <td>2019</td>\n      <td>9285003</td>\n      <td>16424.0</td>\n      <td>16470.0</td>\n      <td>0.997207</td>\n      <td>1377.463333</td>\n      <td>28000</td>\n      <td>1</td>\n      <td>0</td>\n      <td>0.0</td>\n      <td>0.0</td>\n      <td>16424.0</td>\n      <td>16470.0</td>\n    </tr>\n    <tr>\n      <th>3688</th>\n      <td>2019</td>\n      <td>9290001</td>\n      <td>13716.0</td>\n      <td>16470.0</td>\n      <td>0.832787</td>\n      <td>1068.616667</td>\n      <td>17028</td>\n      <td>1</td>\n      <td>0</td>\n      <td>0.0</td>\n      <td>0.0</td>\n      <td>13716.0</td>\n      <td>16470.0</td>\n    </tr>\n    <tr>\n      <th>3689</th>\n      <td>2019</td>\n      <td>9291001</td>\n      <td>26112.0</td>\n      <td>16470.0</td>\n      <td>1.585428</td>\n      <td>744.000000</td>\n      <td>27813</td>\n      <td>1</td>\n      <td>0</td>\n      <td>0.0</td>\n      <td>0.0</td>\n      <td>26112.0</td>\n      <td>16470.0</td>\n    </tr>\n    <tr>\n      <th>3704</th>\n      <td>2019</td>\n      <td>9308001</td>\n      <td>15436.0</td>\n      <td>16470.0</td>\n      <td>0.937219</td>\n      <td>1839.406667</td>\n      <td>17662</td>\n      <td>1</td>\n      <td>0</td>\n      <td>0.0</td>\n      <td>0.0</td>\n      <td>15436.0</td>\n      <td>16470.0</td>\n    </tr>\n    <tr>\n      <th>3844</th>\n      <td>2019</td>\n      <td>9570001</td>\n      <td>19795.0</td>\n      <td>16470.0</td>\n      <td>1.201882</td>\n      <td>956.280000</td>\n      <td>21421</td>\n      <td>1</td>\n      <td>0</td>\n      <td>0.0</td>\n      <td>0.0</td>\n      <td>19795.0</td>\n      <td>16470.0</td>\n    </tr>\n    <tr>\n      <th>3864</th>\n      <td>2019</td>\n      <td>9590001</td>\n      <td>15198.0</td>\n      <td>16470.0</td>\n      <td>0.922769</td>\n      <td>1025.630000</td>\n      <td>19686</td>\n      <td>1</td>\n      <td>0</td>\n      <td>0.0</td>\n      <td>0.0</td>\n      <td>15198.0</td>\n      <td>16470.0</td>\n    </tr>\n    <tr>\n      <th>3873</th>\n      <td>2019</td>\n      <td>9599001</td>\n      <td>-10180.0</td>\n      <td>16470.0</td>\n      <td>-0.618094</td>\n      <td>1839.816667</td>\n      <td>20</td>\n      <td>1</td>\n      <td>0</td>\n      <td>0.0</td>\n      <td>0.0</td>\n      <td>-10180.0</td>\n      <td>16470.0</td>\n    </tr>\n    <tr>\n      <th>3875</th>\n      <td>2019</td>\n      <td>9601001</td>\n      <td>88240.0</td>\n      <td>16470.0</td>\n      <td>5.357620</td>\n      <td>1333.743333</td>\n      <td>139000</td>\n      <td>1</td>\n      <td>0</td>\n      <td>0.0</td>\n      <td>0.0</td>\n      <td>88240.0</td>\n      <td>16470.0</td>\n    </tr>\n    <tr>\n      <th>3897</th>\n      <td>2019</td>\n      <td>9625001</td>\n      <td>79114.0</td>\n      <td>16470.0</td>\n      <td>4.803522</td>\n      <td>1635.823333</td>\n      <td>103220</td>\n      <td>1</td>\n      <td>0</td>\n      <td>0.0</td>\n      <td>0.0</td>\n      <td>79114.0</td>\n      <td>16470.0</td>\n    </tr>\n    <tr>\n      <th>3898</th>\n      <td>2019</td>\n      <td>9626001</td>\n      <td>46044.0</td>\n      <td>16470.0</td>\n      <td>2.795628</td>\n      <td>1537.663333</td>\n      <td>45000</td>\n      <td>1</td>\n      <td>0</td>\n      <td>0.0</td>\n      <td>0.0</td>\n      <td>46044.0</td>\n      <td>16470.0</td>\n    </tr>\n    <tr>\n      <th>3900</th>\n      <td>2019</td>\n      <td>9629001</td>\n      <td>59944.0</td>\n      <td>16470.0</td>\n      <td>3.639587</td>\n      <td>1383.000000</td>\n      <td>89011</td>\n      <td>1</td>\n      <td>0</td>\n      <td>0.0</td>\n      <td>0.0</td>\n      <td>59944.0</td>\n      <td>16470.0</td>\n    </tr>\n  </tbody>\n</table>\n</div>"
     },
     "metadata": {},
     "execution_count": 20
    }
   ],
   "source": [
    "# Determine individualized thresholds.\n",
    "adult_thresh = s[(s.adult == 1) & (s.child == 0)].spmthresh.max()\n",
    "child_thresh = ((s.spmthresh - s.adult * adult_thresh) / s.child).max()\n",
    "print(adult_thresh, child_thresh)\n",
    "s[\"spmthresh_ind\"] = s.adult * adult_thresh + s.child * child_thresh\n",
    "s[s.spmthresh == s.spmthresh_ind]"
   ]
  },
  {
   "cell_type": "code",
   "execution_count": 21,
   "metadata": {},
   "outputs": [
    {
     "output_type": "stream",
     "name": "stdout",
     "text": [
      "child     5259.665502\nadult    11075.127517\ndtype: float64\n"
     ]
    },
    {
     "output_type": "execute_result",
     "data": {
      "text/plain": [
       "      child  adult    spmthresh  spmthresh_ind  spmthresh_pred\n",
       "0         0      2  21527.81574        32940.0    22150.255033\n",
       "1         1      2  28996.05141        41320.0    27409.920536\n",
       "2         1      1  23039.42354        24850.0    16334.793019\n",
       "3         0      1  15267.95443        16470.0    11075.127517\n",
       "4         1      2  28996.05141        41320.0    27409.920536\n",
       "...     ...    ...          ...            ...             ...\n",
       "3918      4      2  43460.00000        66460.0    43188.917043\n",
       "3919      2      2  35530.00000        49700.0    32669.586038\n",
       "3920      1      3  32780.00000        57790.0    38485.048053\n",
       "3921      2      2  35530.00000        49700.0    32669.586038\n",
       "3922      0      1  16240.00000        16470.0    11075.127517\n",
       "\n",
       "[3923 rows x 5 columns]"
      ],
      "text/html": "<div>\n<style scoped>\n    .dataframe tbody tr th:only-of-type {\n        vertical-align: middle;\n    }\n\n    .dataframe tbody tr th {\n        vertical-align: top;\n    }\n\n    .dataframe thead th {\n        text-align: right;\n    }\n</style>\n<table border=\"1\" class=\"dataframe\">\n  <thead>\n    <tr style=\"text-align: right;\">\n      <th></th>\n      <th>child</th>\n      <th>adult</th>\n      <th>spmthresh</th>\n      <th>spmthresh_ind</th>\n      <th>spmthresh_pred</th>\n    </tr>\n  </thead>\n  <tbody>\n    <tr>\n      <th>0</th>\n      <td>0</td>\n      <td>2</td>\n      <td>21527.81574</td>\n      <td>32940.0</td>\n      <td>22150.255033</td>\n    </tr>\n    <tr>\n      <th>1</th>\n      <td>1</td>\n      <td>2</td>\n      <td>28996.05141</td>\n      <td>41320.0</td>\n      <td>27409.920536</td>\n    </tr>\n    <tr>\n      <th>2</th>\n      <td>1</td>\n      <td>1</td>\n      <td>23039.42354</td>\n      <td>24850.0</td>\n      <td>16334.793019</td>\n    </tr>\n    <tr>\n      <th>3</th>\n      <td>0</td>\n      <td>1</td>\n      <td>15267.95443</td>\n      <td>16470.0</td>\n      <td>11075.127517</td>\n    </tr>\n    <tr>\n      <th>4</th>\n      <td>1</td>\n      <td>2</td>\n      <td>28996.05141</td>\n      <td>41320.0</td>\n      <td>27409.920536</td>\n    </tr>\n    <tr>\n      <th>...</th>\n      <td>...</td>\n      <td>...</td>\n      <td>...</td>\n      <td>...</td>\n      <td>...</td>\n    </tr>\n    <tr>\n      <th>3918</th>\n      <td>4</td>\n      <td>2</td>\n      <td>43460.00000</td>\n      <td>66460.0</td>\n      <td>43188.917043</td>\n    </tr>\n    <tr>\n      <th>3919</th>\n      <td>2</td>\n      <td>2</td>\n      <td>35530.00000</td>\n      <td>49700.0</td>\n      <td>32669.586038</td>\n    </tr>\n    <tr>\n      <th>3920</th>\n      <td>1</td>\n      <td>3</td>\n      <td>32780.00000</td>\n      <td>57790.0</td>\n      <td>38485.048053</td>\n    </tr>\n    <tr>\n      <th>3921</th>\n      <td>2</td>\n      <td>2</td>\n      <td>35530.00000</td>\n      <td>49700.0</td>\n      <td>32669.586038</td>\n    </tr>\n    <tr>\n      <th>3922</th>\n      <td>0</td>\n      <td>1</td>\n      <td>16240.00000</td>\n      <td>16470.0</td>\n      <td>11075.127517</td>\n    </tr>\n  </tbody>\n</table>\n<p>3923 rows × 5 columns</p>\n</div>"
     },
     "metadata": {},
     "execution_count": 21
    }
   ],
   "source": [
    "SPMTHRESH_PREDICTORS = [\"child\", \"adult\"]\n",
    "spmthresh_reg = sm.WLS(s.spmthresh, s[SPMTHRESH_PREDICTORS], s.spmwt).fit()\n",
    "print(spmthresh_reg.params)\n",
    "s[\"spmthresh_pred\"] = spmthresh_reg.predict(s[SPMTHRESH_PREDICTORS])\n",
    "s[SPMTHRESH_PREDICTORS + [\"spmthresh\", \"spmthresh_ind\", \"spmthresh_pred\"]]"
   ]
  },
  {
   "cell_type": "code",
   "execution_count": null,
   "metadata": {},
   "outputs": [],
   "source": []
  },
  {
   "cell_type": "code",
   "execution_count": 22,
   "metadata": {},
   "outputs": [
    {
     "output_type": "error",
     "ename": "NameError",
     "evalue": "name 'pn' is not defined",
     "traceback": [
      "\u001b[0;31m---------------------------------------------------------------------------\u001b[0m",
      "\u001b[0;31mNameError\u001b[0m                                 Traceback (most recent call last)",
      "\u001b[0;32m<ipython-input-22-2b54dc709f90>\u001b[0m in \u001b[0;36m<module>\u001b[0;34m\u001b[0m\n\u001b[1;32m      1\u001b[0m \u001b[0;31m# Add cumulative adult population to identify bottom 500,000 adults.\u001b[0m\u001b[0;34m\u001b[0m\u001b[0;34m\u001b[0m\u001b[0;34m\u001b[0m\u001b[0m\n\u001b[0;32m----> 2\u001b[0;31m \u001b[0mpna\u001b[0m \u001b[0;34m=\u001b[0m \u001b[0mpn\u001b[0m\u001b[0;34m[\u001b[0m\u001b[0mpn\u001b[0m\u001b[0;34m.\u001b[0m\u001b[0mage\u001b[0m \u001b[0;34m>=\u001b[0m \u001b[0;36m18\u001b[0m\u001b[0;34m]\u001b[0m\u001b[0;34m.\u001b[0m\u001b[0mcopy\u001b[0m\u001b[0;34m(\u001b[0m\u001b[0;34m)\u001b[0m\u001b[0;34m\u001b[0m\u001b[0;34m\u001b[0m\u001b[0m\n\u001b[0m\u001b[1;32m      3\u001b[0m \u001b[0mpna\u001b[0m\u001b[0;34m.\u001b[0m\u001b[0msort_values\u001b[0m\u001b[0;34m(\u001b[0m\u001b[0;34m\"spmftotval\"\u001b[0m\u001b[0;34m,\u001b[0m \u001b[0minplace\u001b[0m\u001b[0;34m=\u001b[0m\u001b[0;32mTrue\u001b[0m\u001b[0;34m)\u001b[0m\u001b[0;34m\u001b[0m\u001b[0;34m\u001b[0m\u001b[0m\n\u001b[1;32m      4\u001b[0m \u001b[0mpna\u001b[0m\u001b[0;34m[\u001b[0m\u001b[0;34m\"pop_cum\"\u001b[0m\u001b[0;34m]\u001b[0m \u001b[0;34m=\u001b[0m \u001b[0mpna\u001b[0m\u001b[0;34m.\u001b[0m\u001b[0masecwt\u001b[0m\u001b[0;34m.\u001b[0m\u001b[0mcumsum\u001b[0m\u001b[0;34m(\u001b[0m\u001b[0;34m)\u001b[0m\u001b[0;34m\u001b[0m\u001b[0;34m\u001b[0m\u001b[0m\n\u001b[1;32m      5\u001b[0m \u001b[0;34m\u001b[0m\u001b[0m\n",
      "\u001b[0;31mNameError\u001b[0m: name 'pn' is not defined"
     ]
    }
   ],
   "source": [
    "# Add cumulative adult population to identify bottom 500,000 adults.\n",
    "pna = pn[pn.age >= 18].copy()\n",
    "pna.sort_values(\"spmftotval\", inplace=True)\n",
    "pna[\"pop_cum\"] = pna.asecwt.cumsum()\n",
    "\n",
    "spmtotres_thresh = pna[pna.pop_cum < 500000].spmtotres.max()\n",
    "\n",
    "pna[pna.pop_cum < 500000]"
   ]
  },
  {
   "cell_type": "code",
   "execution_count": 7,
   "metadata": {},
   "outputs": [],
   "source": [
    "sn = pn[[\"spmfamunit\", \"spmwt\", \"spmftotval\", \"spmtotres\", \"spmthresh\"]].drop_duplicates().sort_values(\"spmftotval\")\n",
    "sn[\"spmwt_cum\"] = sn.spmwt.cumsum()\n",
    "spmftotval_thresh = sn[sn.spmwt_cum < 500000].spmftotval.max()\n",
    "sn[sn.spmftotval <= spmftotval_thresh].spmwt.sum()\n",
    "sn[\"ubi\"] = np.where(sn.spmftotval <= spmftotval_thresh, 2000, 0)\n",
    "sn[\"spmtotres_ubi\"] = sn.spmtotres + sn.ubi"
   ]
  },
  {
   "cell_type": "code",
   "execution_count": 8,
   "metadata": {},
   "outputs": [
    {
     "output_type": "execute_result",
     "data": {
      "text/plain": [
       "1004590420.0"
      ]
     },
     "metadata": {},
     "execution_count": 8
    }
   ],
   "source": [
    "mdf.weighted_sum(sn, \"ubi\", \"spmwt\")"
   ]
  },
  {
   "cell_type": "code",
   "execution_count": 9,
   "metadata": {},
   "outputs": [],
   "source": [
    "pn = pn.merge(sn[[\"spmfamunit\", \"spmtotres_ubi\"]], on=\"spmfamunit\")\n"
   ]
  },
  {
   "cell_type": "code",
   "execution_count": 10,
   "metadata": {},
   "outputs": [
    {
     "output_type": "execute_result",
     "data": {
      "text/plain": [
       "5.53524380132"
      ]
     },
     "metadata": {},
     "execution_count": 10
    }
   ],
   "source": [
    "mdf.poverty_gap(sn, \"spmtotres_ubi\", \"spmthresh\", \"spmwt\") / 1e9"
   ]
  },
  {
   "cell_type": "code",
   "execution_count": 11,
   "metadata": {},
   "outputs": [
    {
     "output_type": "execute_result",
     "data": {
      "text/plain": [
       "6.256897865129999"
      ]
     },
     "metadata": {},
     "execution_count": 11
    }
   ],
   "source": [
    "mdf.poverty_gap(sn, \"spmtotres\", \"spmthresh\", \"spmwt\") / 1e9"
   ]
  },
  {
   "cell_type": "code",
   "execution_count": 12,
   "metadata": {},
   "outputs": [
    {
     "output_type": "execute_result",
     "data": {
      "text/plain": [
       "0.04859213974110767"
      ]
     },
     "metadata": {},
     "execution_count": 12
    }
   ],
   "source": [
    "mdf.deep_poverty_rate(pn, \"spmtotres\", \"spmthresh\", \"asecwt\")"
   ]
  },
  {
   "cell_type": "code",
   "execution_count": 13,
   "metadata": {},
   "outputs": [
    {
     "output_type": "execute_result",
     "data": {
      "text/plain": [
       "0.04356069904096139"
      ]
     },
     "metadata": {},
     "execution_count": 13
    }
   ],
   "source": [
    "mdf.deep_poverty_rate(pn, \"spmtotres_ubi\", \"spmthresh\", \"asecwt\")"
   ]
  },
  {
   "cell_type": "code",
   "execution_count": 14,
   "metadata": {},
   "outputs": [
    {
     "output_type": "execute_result",
     "data": {
      "text/plain": [
       "0.18354143352276175"
      ]
     },
     "metadata": {},
     "execution_count": 14
    }
   ],
   "source": [
    "mdf.poverty_rate(pn, \"spmtotres_ubi\", \"spmthresh\", \"asecwt\")"
   ]
  },
  {
   "cell_type": "code",
   "execution_count": 15,
   "metadata": {},
   "outputs": [
    {
     "output_type": "execute_result",
     "data": {
      "text/plain": [
       "0.19196885996563795"
      ]
     },
     "metadata": {},
     "execution_count": 15
    }
   ],
   "source": [
    "mdf.poverty_rate(pn, \"spmtotres\", \"spmthresh\", \"asecwt\")"
   ]
  },
  {
   "cell_type": "code",
   "execution_count": 16,
   "metadata": {},
   "outputs": [
    {
     "output_type": "execute_result",
     "data": {
      "text/plain": [
       "-0.04389996609025385"
      ]
     },
     "metadata": {},
     "execution_count": 16
    }
   ],
   "source": [
    "def pct_chg(base, reform):\n",
    "    return (reform - base) / base\n",
    "\n",
    "pct_chg(mdf.poverty_rate(pn, \"spmtotres\", \"spmthresh\", \"asecwt\"),\n",
    "mdf.poverty_rate(pn, \"spmtotres_ubi\", \"spmthresh\", \"asecwt\"))"
   ]
  },
  {
   "cell_type": "code",
   "execution_count": 17,
   "metadata": {},
   "outputs": [
    {
     "output_type": "execute_result",
     "data": {
      "text/plain": [
       "-0.10354433303314309"
      ]
     },
     "metadata": {},
     "execution_count": 17
    }
   ],
   "source": [
    "pct_chg(mdf.deep_poverty_rate(pn, \"spmtotres\", \"spmthresh\", \"asecwt\"),\n",
    "mdf.deep_poverty_rate(pn, \"spmtotres_ubi\", \"spmthresh\", \"asecwt\"))"
   ]
  },
  {
   "cell_type": "code",
   "execution_count": 18,
   "metadata": {},
   "outputs": [
    {
     "output_type": "execute_result",
     "data": {
      "text/plain": [
       "-0.01087395327199434"
      ]
     },
     "metadata": {},
     "execution_count": 18
    }
   ],
   "source": [
    "pct_chg(mdf.gini(sn, \"spmtotres\", \"spmwt\"),\n",
    "mdf.gini(sn, \"spmtotres_ubi\", \"spmwt\"))"
   ]
  },
  {
   "cell_type": "code",
   "execution_count": 19,
   "metadata": {},
   "outputs": [
    {
     "output_type": "execute_result",
     "data": {
      "text/plain": [
       "19.103431190000002"
      ]
     },
     "metadata": {},
     "execution_count": 19
    }
   ],
   "source": [
    "# NYS population: 19.45M official as of 2019.\n",
    "p[p.statefip == NYS_FIPS].asecwt.sum() / 1e6"
   ]
  },
  {
   "cell_type": "code",
   "execution_count": 20,
   "metadata": {},
   "outputs": [
    {
     "output_type": "error",
     "ename": "NameError",
     "evalue": "name 'NYC_FIPS' is not defined",
     "traceback": [
      "\u001b[0;31m---------------------------------------------------------------------------\u001b[0m",
      "\u001b[0;31mNameError\u001b[0m                                 Traceback (most recent call last)",
      "\u001b[0;32m<ipython-input-20-425fa6e0a2f3>\u001b[0m in \u001b[0;36m<module>\u001b[0;34m\u001b[0m\n\u001b[0;32m----> 1\u001b[0;31m \u001b[0mp\u001b[0m\u001b[0;34m[\u001b[0m\u001b[0;34m(\u001b[0m\u001b[0mp\u001b[0m\u001b[0;34m.\u001b[0m\u001b[0mstatefip\u001b[0m \u001b[0;34m==\u001b[0m \u001b[0mNYS_FIPS\u001b[0m\u001b[0;34m)\u001b[0m \u001b[0;34m&\u001b[0m \u001b[0mp\u001b[0m\u001b[0;34m.\u001b[0m\u001b[0mcounty\u001b[0m\u001b[0;34m.\u001b[0m\u001b[0misin\u001b[0m\u001b[0;34m(\u001b[0m\u001b[0mNYC_FIPS\u001b[0m\u001b[0;34m)\u001b[0m\u001b[0;34m]\u001b[0m\u001b[0;34m.\u001b[0m\u001b[0masecwt\u001b[0m\u001b[0;34m.\u001b[0m\u001b[0msum\u001b[0m\u001b[0;34m(\u001b[0m\u001b[0;34m)\u001b[0m \u001b[0;34m/\u001b[0m \u001b[0;36m1e6\u001b[0m\u001b[0;34m\u001b[0m\u001b[0;34m\u001b[0m\u001b[0m\n\u001b[0m",
      "\u001b[0;31mNameError\u001b[0m: name 'NYC_FIPS' is not defined"
     ]
    }
   ],
   "source": [
    "p[(p.statefip == NYS_FIPS) & p.county.isin(NYC_FIPS)].asecwt.sum() / 1e6"
   ]
  },
  {
   "cell_type": "code",
   "execution_count": 22,
   "metadata": {},
   "outputs": [
    {
     "output_type": "execute_result",
     "data": {
      "text/plain": [
       "county\n",
       "36005    1586280.10\n",
       "36047    2634859.16\n",
       "36061    1634742.52\n",
       "36081    1869407.84\n",
       "36085     497162.45\n",
       "Name: asecwt, dtype: float64"
      ]
     },
     "metadata": {},
     "execution_count": 22
    }
   ],
   "source": [
    "p[p.county.isin([NYS_FIPS * 1000 + i for i in NYC_FIPS])].groupby(\"county\").asecwt.sum()"
   ]
  },
  {
   "cell_type": "code",
   "execution_count": 20,
   "metadata": {},
   "outputs": [
    {
     "output_type": "execute_result",
     "data": {
      "text/plain": [
       "1634742.52"
      ]
     },
     "metadata": {},
     "execution_count": 20
    }
   ],
   "source": [
    "p[p.county == 36061].asecwt.sum()"
   ]
  }
 ]
}