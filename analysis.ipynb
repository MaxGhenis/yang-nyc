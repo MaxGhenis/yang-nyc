{
 "metadata": {
  "language_info": {
   "codemirror_mode": {
    "name": "ipython",
    "version": 3
   },
   "file_extension": ".py",
   "mimetype": "text/x-python",
   "name": "python",
   "nbconvert_exporter": "python",
   "pygments_lexer": "ipython3",
   "version": "3.7.7"
  },
  "orig_nbformat": 2,
  "kernelspec": {
   "name": "python377jvsc74a57bd04a68920d8e8856d089b03c157a7384bba62e0986489c1fa381bbe538cda0922c",
   "display_name": "Python 3.7.7 64-bit ('base': conda)"
  }
 },
 "nbformat": 4,
 "nbformat_minor": 2,
 "cells": [
  {
   "cell_type": "code",
   "execution_count": 1,
   "metadata": {},
   "outputs": [],
   "source": [
    "import pandas as pd\n",
    "import numpy as np\n",
    "import microdf as mdf\n",
    "import plotly.express as px\n",
    "import statsmodels.api as sm\n",
    "from ubicenter import format_fig"
   ]
  },
  {
   "cell_type": "code",
   "execution_count": 26,
   "metadata": {},
   "outputs": [],
   "source": [
    "# Read data per person per year.\n",
    "py = pd.read_csv(\"data/nys_cps.csv.gz\")\n",
    "py.columns = py.columns.str.lower()\n",
    "py.inctot.replace({999999999: 0}, inplace=True)\n",
    "py.adjginc.replace({99999999: 0}, inplace=True)\n",
    "# 2014 was double-sampled.\n",
    "py.loc[py.year == 2014, [\"asecwt\", \"spmwt\"]] /= 2"
   ]
  },
  {
   "cell_type": "code",
   "execution_count": 27,
   "metadata": {},
   "outputs": [
    {
     "output_type": "execute_result",
     "data": {
      "text/plain": [
       "              fips    county  pop_m full_fips  asec_pop_m\n",
       "Manhattan       61  New York  1.632     36061    1.634743\n",
       "Brooklyn        47     Kings  2.590     36047    2.634859\n",
       "The Bronx        5     Bronx  1.435     36005    1.586280\n",
       "Staten Island   85  Richmond  0.475     36085    0.497162\n",
       "Queens          81    Queens  2.287     36081    1.869408"
      ],
      "text/html": "<div>\n<style scoped>\n    .dataframe tbody tr th:only-of-type {\n        vertical-align: middle;\n    }\n\n    .dataframe tbody tr th {\n        vertical-align: top;\n    }\n\n    .dataframe thead th {\n        text-align: right;\n    }\n</style>\n<table border=\"1\" class=\"dataframe\">\n  <thead>\n    <tr style=\"text-align: right;\">\n      <th></th>\n      <th>fips</th>\n      <th>county</th>\n      <th>pop_m</th>\n      <th>full_fips</th>\n      <th>asec_pop_m</th>\n    </tr>\n  </thead>\n  <tbody>\n    <tr>\n      <th>Manhattan</th>\n      <td>61</td>\n      <td>New York</td>\n      <td>1.632</td>\n      <td>36061</td>\n      <td>1.634743</td>\n    </tr>\n    <tr>\n      <th>Brooklyn</th>\n      <td>47</td>\n      <td>Kings</td>\n      <td>2.590</td>\n      <td>36047</td>\n      <td>2.634859</td>\n    </tr>\n    <tr>\n      <th>The Bronx</th>\n      <td>5</td>\n      <td>Bronx</td>\n      <td>1.435</td>\n      <td>36005</td>\n      <td>1.586280</td>\n    </tr>\n    <tr>\n      <th>Staten Island</th>\n      <td>85</td>\n      <td>Richmond</td>\n      <td>0.475</td>\n      <td>36085</td>\n      <td>0.497162</td>\n    </tr>\n    <tr>\n      <th>Queens</th>\n      <td>81</td>\n      <td>Queens</td>\n      <td>2.287</td>\n      <td>36081</td>\n      <td>1.869408</td>\n    </tr>\n  </tbody>\n</table>\n</div>"
     },
     "metadata": {},
     "execution_count": 27
    }
   ],
   "source": [
    "NYC_COUNTY = pd.DataFrame(columns=[\"fips\", \"county\", \"pop_m\"])\n",
    "NYS_FIPS = 36\n",
    "# Per https://en.wikipedia.org/wiki/List_of_counties_in_New_York\n",
    "NYC_COUNTY.loc[\"Manhattan\"] = pd.Series({\"fips\": 61, \"county\": \"New York\", \"pop_m\": 1.632})\n",
    "NYC_COUNTY.loc[\"Brooklyn\"] = pd.Series({\"fips\": 47, \"county\": \"Kings\", \"pop_m\": 2.59})\n",
    "NYC_COUNTY.loc[\"The Bronx\"] = pd.Series({\"fips\": 5, \"county\": \"Bronx\", \"pop_m\": 1.435})\n",
    "NYC_COUNTY.loc[\"Staten Island\"] = pd.Series({\"fips\": 85, \"county\": \"Richmond\", \"pop_m\": 0.475})\n",
    "NYC_COUNTY.loc[\"Queens\"] = pd.Series({\"fips\": 81, \"county\": \"Queens\", \"pop_m\": 2.287})\n",
    "NYC_COUNTY[\"full_fips\"] = NYS_FIPS * 1000 + NYC_COUNTY.fips\n",
    "\n",
    "py = py[py.county.isin(NYC_COUNTY.full_fips)][\n",
    "    [\"county\", \"asecwt\", 'age', 'sex', 'race', 'hispan', 'inctot', 'spmwt', 'spmtotres', 'spmthresh',\n",
    "       'spmfamunit', 'adjginc', 'ftotval', 'spmftotval', 'year', 'spmgeoadj']]\n",
    "py[\"adult\"] = py.age > 17\n",
    "py[\"child\"] = py.age <= 17\n",
    "py[\"spmratio\"] = py.spmtotres / py.spmthresh\n",
    "py[\"poor\"] = py.spmratio < 1\n",
    "py[\"deep_poor\"] = py.spmratio < 0.5\n",
    "# py[]\n",
    "NYC_COUNTY[\"asec_pop_m\"] = NYC_COUNTY.full_fips.apply(\n",
    "    lambda x: py[(py.county == x) & (py.year == py.year.max())].asecwt.sum() / 1e6\n",
    ")\n",
    "NYC_COUNTY"
   ]
  },
  {
   "cell_type": "code",
   "execution_count": 28,
   "metadata": {},
   "outputs": [
    {
     "output_type": "execute_result",
     "data": {
      "text/plain": [
       "year\n",
       "2010    1.171758\n",
       "2011    1.171034\n",
       "2012    1.177843\n",
       "2013    1.185227\n",
       "2014    1.197308\n",
       "2015    1.205353\n",
       "2016    1.212111\n",
       "2017    1.216385\n",
       "2018    1.214323\n",
       "2019    1.209977\n",
       "2020    1.207567\n",
       "dtype: float64"
      ]
     },
     "metadata": {},
     "execution_count": 28
    }
   ],
   "source": [
    "mdf.weighted_mean(py, \"spmgeoadj\", \"asecwt\", \"year\")"
   ]
  },
  {
   "cell_type": "code",
   "execution_count": 29,
   "metadata": {},
   "outputs": [
    {
     "output_type": "execute_result",
     "data": {
      "text/plain": [
       "year\n",
       "2010    0.077847\n",
       "2011    0.083146\n",
       "2012    0.091158\n",
       "2013    0.085348\n",
       "2014    0.080284\n",
       "2015    0.061335\n",
       "2016    0.055558\n",
       "2017    0.048316\n",
       "2018    0.047428\n",
       "2019    0.053130\n",
       "2020    0.048592\n",
       "dtype: float64"
      ]
     },
     "metadata": {},
     "execution_count": 29
    }
   ],
   "source": [
    "mdf.weighted_mean(py, \"deep_poor\", \"asecwt\", \"year\")"
   ]
  },
  {
   "cell_type": "code",
   "execution_count": 31,
   "metadata": {},
   "outputs": [
    {
     "output_type": "execute_result",
     "data": {
      "text/plain": [
       "year\n",
       "2010    8018515.38\n",
       "2011    8142355.16\n",
       "2012    8304166.90\n",
       "2013    8266401.85\n",
       "2014    8317762.07\n",
       "2015    8481922.52\n",
       "2016    8570608.64\n",
       "2017    8479062.17\n",
       "2018    8601995.46\n",
       "2019    8375445.35\n",
       "2020    8222452.07\n",
       "Name: asecwt, dtype: float64"
      ]
     },
     "metadata": {},
     "execution_count": 31
    }
   ],
   "source": [
    "py.groupby(\"year\").asecwt.sum()"
   ]
  },
  {
   "cell_type": "code",
   "execution_count": 21,
   "metadata": {},
   "outputs": [
    {
     "output_type": "execute_result",
     "data": {
      "text/plain": [
       "year\n",
       "2010    4011\n",
       "2011    3892\n",
       "2012    3888\n",
       "2013    3741\n",
       "2014    3761\n",
       "2015    3714\n",
       "2016    3327\n",
       "2017    3288\n",
       "2018    3017\n",
       "2019    3274\n",
       "2020    2712\n",
       "dtype: int64"
      ]
     },
     "metadata": {},
     "execution_count": 21
    }
   ],
   "source": [
    "py.groupby(\"year\").size()"
   ]
  },
  {
   "cell_type": "code",
   "execution_count": 9,
   "metadata": {},
   "outputs": [
    {
     "output_type": "execute_result",
     "data": {
      "text/plain": [
       "6428"
      ]
     },
     "metadata": {},
     "execution_count": 9
    }
   ],
   "source": [
    "py.groupby(\"year\")."
   ]
  },
  {
   "cell_type": "code",
   "execution_count": 29,
   "metadata": {},
   "outputs": [
    {
     "output_type": "execute_result",
     "data": {
      "text/plain": [
       "503897.7699999999"
      ]
     },
     "metadata": {},
     "execution_count": 29
    }
   ],
   "source": [
    "# Check number of adults in deep poverty (Yang claims 500,000).\n",
    "RATIO_THRESH = 0.62\n",
    "p[p.adult & (p.spmratio < RATIO_THRESH)].asecwt.sum()"
   ]
  },
  {
   "cell_type": "code",
   "execution_count": 64,
   "metadata": {},
   "outputs": [],
   "source": [
    "BUDGET = 1e9\n",
    "\n",
    "SPMU_COLS = [\"spmfamunit\", \"spmtotres\", \"spmthresh\", \"spmratio\", \"spmwt\", \"spmftotval\"]\n",
    "SPMU_AGGS = [\"adult\", \"child\"]\n",
    "\n",
    "s = p.groupby(SPMU_COLS)[SPMU_AGGS].sum().reset_index()"
   ]
  },
  {
   "cell_type": "code",
   "execution_count": 65,
   "metadata": {},
   "outputs": [
    {
     "output_type": "execute_result",
     "data": {
      "text/plain": [
       "323290.41"
      ]
     },
     "metadata": {},
     "execution_count": 65
    }
   ],
   "source": [
    "# This should also approximate 500,000.\n",
    "mdf.weighted_sum(s[s.spmratio < RATIO_THRESH], \"adult\", \"spmwt\")"
   ]
  },
  {
   "cell_type": "code",
   "execution_count": 105,
   "metadata": {},
   "outputs": [
    {
     "output_type": "execute_result",
     "data": {
      "text/plain": [
       "784332.8600000001"
      ]
     },
     "metadata": {},
     "execution_count": 105
    }
   ],
   "source": [
    "def phase_out(amount, rate, respect_to):\n",
    "    return np.maximum(0, amount - respect_to * rate)\n",
    "\n",
    "# Phase-out rate.\n",
    "ps = 0.3\n",
    "\n",
    "RATIO_THRESH = 0.25\n",
    "\n",
    "s[\"max_transfer\"] = np.maximum(0, s.spmthresh * RATIO_THRESH)\n",
    "s[\"transfer\"] = phase_out(s.max_transfer, ps, np.maximum(s.spmtotres, 0))\n",
    "mdf.weighted_sum(s, \"transfer\", \"spmwt\") / 1e9\n",
    "mdf.weighted_sum(s[s.transfer > 0], \"adult\", \"spmwt\")\n",
    "# s.sort_values(\"transfer\")"
   ]
  },
  {
   "cell_type": "code",
   "execution_count": 81,
   "metadata": {},
   "outputs": [
    {
     "output_type": "stream",
     "name": "stdout",
     "text": [
      "16470.0 8380.0\n"
     ]
    },
    {
     "output_type": "execute_result",
     "data": {
      "text/plain": [
       "      spmfamunit  spmtotres  spmthresh   spmratio    spmwt  spmftotval  adult  \\\n",
       "41       7689001    83471.0    24850.0   3.358994  3104.71      111800      1   \n",
       "61       7711001    50790.0    16470.0   3.083789  4015.77       73120      1   \n",
       "238      8035001    24600.0    16470.0   1.493625  2786.97       27653      1   \n",
       "305      8109001    70425.0    16470.0   4.275956  5872.86      101965      1   \n",
       "322      8131001    75005.0    16470.0   4.554038  3219.07      110011      1   \n",
       "328      8142001    59300.0    16470.0   3.600486  4410.93       95210      1   \n",
       "385      8199001    16700.0    16470.0   1.013965  4949.22       19476      1   \n",
       "418      8233001   143123.0    16470.0   8.689921  3257.74      229201      1   \n",
       "449      8301005    21686.0    16470.0   1.316697  2152.04       31002      1   \n",
       "497      8404001    80899.0    16470.0   4.911900  2254.65      103627      1   \n",
       "589      8497001   104279.0    24850.0   4.196338  2730.73      151320      1   \n",
       "602      8735001    65255.0    16470.0   3.962052  4213.68      100022      1   \n",
       "657      8807001   450366.0    16470.0  27.344627  2547.11      821321      1   \n",
       "710      8871001    57833.0    16470.0   3.511415  3925.66      108467      1   \n",
       "723      8883001    73078.0    16470.0   4.437037  4479.12      120000      1   \n",
       "724      8883003    35713.0    16470.0   2.168367  4204.99       80000      1   \n",
       "751      8913001   135730.0    16470.0   8.241044  3949.89      250405      1   \n",
       "799      8989001        0.0    16470.0   0.000000  3617.31          20      1   \n",
       "887      9219004    12519.0    16470.0   0.760109  4174.98       18000      1   \n",
       "903      9235001    63753.0    16470.0   3.870856  4967.09       74200      1   \n",
       "948      9285001    24175.0    16470.0   1.467820  3240.70       21906      1   \n",
       "949      9285003    16424.0    16470.0   0.997207  4132.39       28000      1   \n",
       "954      9290001    13716.0    16470.0   0.832787  3205.85       17028      1   \n",
       "955      9291001    26112.0    16470.0   1.585428  2232.00       27813      1   \n",
       "970      9308001    15436.0    16470.0   0.937219  5518.22       17662      1   \n",
       "1110     9570001    19795.0    16470.0   1.201882  2868.84       21421      1   \n",
       "1130     9590001    15198.0    16470.0   0.922769  3076.89       19686      1   \n",
       "1139     9599001   -10180.0    16470.0  -0.618094  5519.45          20      1   \n",
       "1141     9601001    88240.0    16470.0   5.357620  4001.23      139000      1   \n",
       "1163     9625001    79114.0    16470.0   4.803522  4907.47      103220      1   \n",
       "1164     9626001    46044.0    16470.0   2.795628  4612.99       45000      1   \n",
       "1166     9629001    59944.0    16470.0   3.639587  4149.00       89011      1   \n",
       "\n",
       "      child  max_transfer  transfer  spmthresh_ind  \n",
       "41        1       12425.0       0.0        24850.0  \n",
       "61        0        8235.0       0.0        16470.0  \n",
       "238       0        8235.0       0.0        16470.0  \n",
       "305       0        8235.0       0.0        16470.0  \n",
       "322       0        8235.0       0.0        16470.0  \n",
       "328       0        8235.0       0.0        16470.0  \n",
       "385       0        8235.0       0.0        16470.0  \n",
       "418       0        8235.0       0.0        16470.0  \n",
       "449       0        8235.0       0.0        16470.0  \n",
       "497       0        8235.0       0.0        16470.0  \n",
       "589       1       12425.0       0.0        24850.0  \n",
       "602       0        8235.0       0.0        16470.0  \n",
       "657       0        8235.0       0.0        16470.0  \n",
       "710       0        8235.0       0.0        16470.0  \n",
       "723       0        8235.0       0.0        16470.0  \n",
       "724       0        8235.0       0.0        16470.0  \n",
       "751       0        8235.0       0.0        16470.0  \n",
       "799       0        8235.0    8215.0        16470.0  \n",
       "887       0        8235.0       0.0        16470.0  \n",
       "903       0        8235.0       0.0        16470.0  \n",
       "948       0        8235.0       0.0        16470.0  \n",
       "949       0        8235.0       0.0        16470.0  \n",
       "954       0        8235.0       0.0        16470.0  \n",
       "955       0        8235.0       0.0        16470.0  \n",
       "970       0        8235.0       0.0        16470.0  \n",
       "1110      0        8235.0       0.0        16470.0  \n",
       "1130      0        8235.0       0.0        16470.0  \n",
       "1139      0        8235.0    8215.0        16470.0  \n",
       "1141      0        8235.0       0.0        16470.0  \n",
       "1163      0        8235.0       0.0        16470.0  \n",
       "1164      0        8235.0       0.0        16470.0  \n",
       "1166      0        8235.0       0.0        16470.0  "
      ],
      "text/html": "<div>\n<style scoped>\n    .dataframe tbody tr th:only-of-type {\n        vertical-align: middle;\n    }\n\n    .dataframe tbody tr th {\n        vertical-align: top;\n    }\n\n    .dataframe thead th {\n        text-align: right;\n    }\n</style>\n<table border=\"1\" class=\"dataframe\">\n  <thead>\n    <tr style=\"text-align: right;\">\n      <th></th>\n      <th>spmfamunit</th>\n      <th>spmtotres</th>\n      <th>spmthresh</th>\n      <th>spmratio</th>\n      <th>spmwt</th>\n      <th>spmftotval</th>\n      <th>adult</th>\n      <th>child</th>\n      <th>max_transfer</th>\n      <th>transfer</th>\n      <th>spmthresh_ind</th>\n    </tr>\n  </thead>\n  <tbody>\n    <tr>\n      <th>41</th>\n      <td>7689001</td>\n      <td>83471.0</td>\n      <td>24850.0</td>\n      <td>3.358994</td>\n      <td>3104.71</td>\n      <td>111800</td>\n      <td>1</td>\n      <td>1</td>\n      <td>12425.0</td>\n      <td>0.0</td>\n      <td>24850.0</td>\n    </tr>\n    <tr>\n      <th>61</th>\n      <td>7711001</td>\n      <td>50790.0</td>\n      <td>16470.0</td>\n      <td>3.083789</td>\n      <td>4015.77</td>\n      <td>73120</td>\n      <td>1</td>\n      <td>0</td>\n      <td>8235.0</td>\n      <td>0.0</td>\n      <td>16470.0</td>\n    </tr>\n    <tr>\n      <th>238</th>\n      <td>8035001</td>\n      <td>24600.0</td>\n      <td>16470.0</td>\n      <td>1.493625</td>\n      <td>2786.97</td>\n      <td>27653</td>\n      <td>1</td>\n      <td>0</td>\n      <td>8235.0</td>\n      <td>0.0</td>\n      <td>16470.0</td>\n    </tr>\n    <tr>\n      <th>305</th>\n      <td>8109001</td>\n      <td>70425.0</td>\n      <td>16470.0</td>\n      <td>4.275956</td>\n      <td>5872.86</td>\n      <td>101965</td>\n      <td>1</td>\n      <td>0</td>\n      <td>8235.0</td>\n      <td>0.0</td>\n      <td>16470.0</td>\n    </tr>\n    <tr>\n      <th>322</th>\n      <td>8131001</td>\n      <td>75005.0</td>\n      <td>16470.0</td>\n      <td>4.554038</td>\n      <td>3219.07</td>\n      <td>110011</td>\n      <td>1</td>\n      <td>0</td>\n      <td>8235.0</td>\n      <td>0.0</td>\n      <td>16470.0</td>\n    </tr>\n    <tr>\n      <th>328</th>\n      <td>8142001</td>\n      <td>59300.0</td>\n      <td>16470.0</td>\n      <td>3.600486</td>\n      <td>4410.93</td>\n      <td>95210</td>\n      <td>1</td>\n      <td>0</td>\n      <td>8235.0</td>\n      <td>0.0</td>\n      <td>16470.0</td>\n    </tr>\n    <tr>\n      <th>385</th>\n      <td>8199001</td>\n      <td>16700.0</td>\n      <td>16470.0</td>\n      <td>1.013965</td>\n      <td>4949.22</td>\n      <td>19476</td>\n      <td>1</td>\n      <td>0</td>\n      <td>8235.0</td>\n      <td>0.0</td>\n      <td>16470.0</td>\n    </tr>\n    <tr>\n      <th>418</th>\n      <td>8233001</td>\n      <td>143123.0</td>\n      <td>16470.0</td>\n      <td>8.689921</td>\n      <td>3257.74</td>\n      <td>229201</td>\n      <td>1</td>\n      <td>0</td>\n      <td>8235.0</td>\n      <td>0.0</td>\n      <td>16470.0</td>\n    </tr>\n    <tr>\n      <th>449</th>\n      <td>8301005</td>\n      <td>21686.0</td>\n      <td>16470.0</td>\n      <td>1.316697</td>\n      <td>2152.04</td>\n      <td>31002</td>\n      <td>1</td>\n      <td>0</td>\n      <td>8235.0</td>\n      <td>0.0</td>\n      <td>16470.0</td>\n    </tr>\n    <tr>\n      <th>497</th>\n      <td>8404001</td>\n      <td>80899.0</td>\n      <td>16470.0</td>\n      <td>4.911900</td>\n      <td>2254.65</td>\n      <td>103627</td>\n      <td>1</td>\n      <td>0</td>\n      <td>8235.0</td>\n      <td>0.0</td>\n      <td>16470.0</td>\n    </tr>\n    <tr>\n      <th>589</th>\n      <td>8497001</td>\n      <td>104279.0</td>\n      <td>24850.0</td>\n      <td>4.196338</td>\n      <td>2730.73</td>\n      <td>151320</td>\n      <td>1</td>\n      <td>1</td>\n      <td>12425.0</td>\n      <td>0.0</td>\n      <td>24850.0</td>\n    </tr>\n    <tr>\n      <th>602</th>\n      <td>8735001</td>\n      <td>65255.0</td>\n      <td>16470.0</td>\n      <td>3.962052</td>\n      <td>4213.68</td>\n      <td>100022</td>\n      <td>1</td>\n      <td>0</td>\n      <td>8235.0</td>\n      <td>0.0</td>\n      <td>16470.0</td>\n    </tr>\n    <tr>\n      <th>657</th>\n      <td>8807001</td>\n      <td>450366.0</td>\n      <td>16470.0</td>\n      <td>27.344627</td>\n      <td>2547.11</td>\n      <td>821321</td>\n      <td>1</td>\n      <td>0</td>\n      <td>8235.0</td>\n      <td>0.0</td>\n      <td>16470.0</td>\n    </tr>\n    <tr>\n      <th>710</th>\n      <td>8871001</td>\n      <td>57833.0</td>\n      <td>16470.0</td>\n      <td>3.511415</td>\n      <td>3925.66</td>\n      <td>108467</td>\n      <td>1</td>\n      <td>0</td>\n      <td>8235.0</td>\n      <td>0.0</td>\n      <td>16470.0</td>\n    </tr>\n    <tr>\n      <th>723</th>\n      <td>8883001</td>\n      <td>73078.0</td>\n      <td>16470.0</td>\n      <td>4.437037</td>\n      <td>4479.12</td>\n      <td>120000</td>\n      <td>1</td>\n      <td>0</td>\n      <td>8235.0</td>\n      <td>0.0</td>\n      <td>16470.0</td>\n    </tr>\n    <tr>\n      <th>724</th>\n      <td>8883003</td>\n      <td>35713.0</td>\n      <td>16470.0</td>\n      <td>2.168367</td>\n      <td>4204.99</td>\n      <td>80000</td>\n      <td>1</td>\n      <td>0</td>\n      <td>8235.0</td>\n      <td>0.0</td>\n      <td>16470.0</td>\n    </tr>\n    <tr>\n      <th>751</th>\n      <td>8913001</td>\n      <td>135730.0</td>\n      <td>16470.0</td>\n      <td>8.241044</td>\n      <td>3949.89</td>\n      <td>250405</td>\n      <td>1</td>\n      <td>0</td>\n      <td>8235.0</td>\n      <td>0.0</td>\n      <td>16470.0</td>\n    </tr>\n    <tr>\n      <th>799</th>\n      <td>8989001</td>\n      <td>0.0</td>\n      <td>16470.0</td>\n      <td>0.000000</td>\n      <td>3617.31</td>\n      <td>20</td>\n      <td>1</td>\n      <td>0</td>\n      <td>8235.0</td>\n      <td>8215.0</td>\n      <td>16470.0</td>\n    </tr>\n    <tr>\n      <th>887</th>\n      <td>9219004</td>\n      <td>12519.0</td>\n      <td>16470.0</td>\n      <td>0.760109</td>\n      <td>4174.98</td>\n      <td>18000</td>\n      <td>1</td>\n      <td>0</td>\n      <td>8235.0</td>\n      <td>0.0</td>\n      <td>16470.0</td>\n    </tr>\n    <tr>\n      <th>903</th>\n      <td>9235001</td>\n      <td>63753.0</td>\n      <td>16470.0</td>\n      <td>3.870856</td>\n      <td>4967.09</td>\n      <td>74200</td>\n      <td>1</td>\n      <td>0</td>\n      <td>8235.0</td>\n      <td>0.0</td>\n      <td>16470.0</td>\n    </tr>\n    <tr>\n      <th>948</th>\n      <td>9285001</td>\n      <td>24175.0</td>\n      <td>16470.0</td>\n      <td>1.467820</td>\n      <td>3240.70</td>\n      <td>21906</td>\n      <td>1</td>\n      <td>0</td>\n      <td>8235.0</td>\n      <td>0.0</td>\n      <td>16470.0</td>\n    </tr>\n    <tr>\n      <th>949</th>\n      <td>9285003</td>\n      <td>16424.0</td>\n      <td>16470.0</td>\n      <td>0.997207</td>\n      <td>4132.39</td>\n      <td>28000</td>\n      <td>1</td>\n      <td>0</td>\n      <td>8235.0</td>\n      <td>0.0</td>\n      <td>16470.0</td>\n    </tr>\n    <tr>\n      <th>954</th>\n      <td>9290001</td>\n      <td>13716.0</td>\n      <td>16470.0</td>\n      <td>0.832787</td>\n      <td>3205.85</td>\n      <td>17028</td>\n      <td>1</td>\n      <td>0</td>\n      <td>8235.0</td>\n      <td>0.0</td>\n      <td>16470.0</td>\n    </tr>\n    <tr>\n      <th>955</th>\n      <td>9291001</td>\n      <td>26112.0</td>\n      <td>16470.0</td>\n      <td>1.585428</td>\n      <td>2232.00</td>\n      <td>27813</td>\n      <td>1</td>\n      <td>0</td>\n      <td>8235.0</td>\n      <td>0.0</td>\n      <td>16470.0</td>\n    </tr>\n    <tr>\n      <th>970</th>\n      <td>9308001</td>\n      <td>15436.0</td>\n      <td>16470.0</td>\n      <td>0.937219</td>\n      <td>5518.22</td>\n      <td>17662</td>\n      <td>1</td>\n      <td>0</td>\n      <td>8235.0</td>\n      <td>0.0</td>\n      <td>16470.0</td>\n    </tr>\n    <tr>\n      <th>1110</th>\n      <td>9570001</td>\n      <td>19795.0</td>\n      <td>16470.0</td>\n      <td>1.201882</td>\n      <td>2868.84</td>\n      <td>21421</td>\n      <td>1</td>\n      <td>0</td>\n      <td>8235.0</td>\n      <td>0.0</td>\n      <td>16470.0</td>\n    </tr>\n    <tr>\n      <th>1130</th>\n      <td>9590001</td>\n      <td>15198.0</td>\n      <td>16470.0</td>\n      <td>0.922769</td>\n      <td>3076.89</td>\n      <td>19686</td>\n      <td>1</td>\n      <td>0</td>\n      <td>8235.0</td>\n      <td>0.0</td>\n      <td>16470.0</td>\n    </tr>\n    <tr>\n      <th>1139</th>\n      <td>9599001</td>\n      <td>-10180.0</td>\n      <td>16470.0</td>\n      <td>-0.618094</td>\n      <td>5519.45</td>\n      <td>20</td>\n      <td>1</td>\n      <td>0</td>\n      <td>8235.0</td>\n      <td>8215.0</td>\n      <td>16470.0</td>\n    </tr>\n    <tr>\n      <th>1141</th>\n      <td>9601001</td>\n      <td>88240.0</td>\n      <td>16470.0</td>\n      <td>5.357620</td>\n      <td>4001.23</td>\n      <td>139000</td>\n      <td>1</td>\n      <td>0</td>\n      <td>8235.0</td>\n      <td>0.0</td>\n      <td>16470.0</td>\n    </tr>\n    <tr>\n      <th>1163</th>\n      <td>9625001</td>\n      <td>79114.0</td>\n      <td>16470.0</td>\n      <td>4.803522</td>\n      <td>4907.47</td>\n      <td>103220</td>\n      <td>1</td>\n      <td>0</td>\n      <td>8235.0</td>\n      <td>0.0</td>\n      <td>16470.0</td>\n    </tr>\n    <tr>\n      <th>1164</th>\n      <td>9626001</td>\n      <td>46044.0</td>\n      <td>16470.0</td>\n      <td>2.795628</td>\n      <td>4612.99</td>\n      <td>45000</td>\n      <td>1</td>\n      <td>0</td>\n      <td>8235.0</td>\n      <td>0.0</td>\n      <td>16470.0</td>\n    </tr>\n    <tr>\n      <th>1166</th>\n      <td>9629001</td>\n      <td>59944.0</td>\n      <td>16470.0</td>\n      <td>3.639587</td>\n      <td>4149.00</td>\n      <td>89011</td>\n      <td>1</td>\n      <td>0</td>\n      <td>8235.0</td>\n      <td>0.0</td>\n      <td>16470.0</td>\n    </tr>\n  </tbody>\n</table>\n</div>"
     },
     "metadata": {},
     "execution_count": 81
    }
   ],
   "source": [
    "# Determine individualized thresholds.\n",
    "adult_thresh = s[(s.adult == 1) & (s.child == 0)].spmthresh.max()\n",
    "child_thresh = ((s.spmthresh - s.adult * adult_thresh) / s.child).max()\n",
    "print(adult_thresh, child_thresh)\n",
    "s[\"spmthresh_ind\"] = s.adult * adult_thresh + s.child * child_thresh\n",
    "s[s.spmthresh == s.spmthresh_ind]"
   ]
  },
  {
   "cell_type": "code",
   "execution_count": 87,
   "metadata": {},
   "outputs": [
    {
     "output_type": "stream",
     "name": "stdout",
     "text": [
      "child     5221.311942\nadult    11467.075786\ndtype: float64\n"
     ]
    },
    {
     "output_type": "execute_result",
     "data": {
      "text/plain": [
       "      child  adult  spmthresh  spmthresh_ind  spmthresh_pred\n",
       "0         0      3    35030.0        49410.0    34401.227359\n",
       "1         0      2    22890.0        32940.0    22934.151573\n",
       "2         0      3    35030.0        49410.0    34401.227359\n",
       "3         0      1    16240.0        16470.0    11467.075786\n",
       "4         1      1    24500.0        24850.0    16688.387729\n",
       "...     ...    ...        ...            ...             ...\n",
       "1184      4      2    43460.0        66460.0    43819.399342\n",
       "1185      2      2    35530.0        49700.0    33376.775457\n",
       "1186      1      3    32780.0        57790.0    39622.539301\n",
       "1187      2      2    35530.0        49700.0    33376.775457\n",
       "1188      0      1    16240.0        16470.0    11467.075786\n",
       "\n",
       "[1189 rows x 5 columns]"
      ],
      "text/html": "<div>\n<style scoped>\n    .dataframe tbody tr th:only-of-type {\n        vertical-align: middle;\n    }\n\n    .dataframe tbody tr th {\n        vertical-align: top;\n    }\n\n    .dataframe thead th {\n        text-align: right;\n    }\n</style>\n<table border=\"1\" class=\"dataframe\">\n  <thead>\n    <tr style=\"text-align: right;\">\n      <th></th>\n      <th>child</th>\n      <th>adult</th>\n      <th>spmthresh</th>\n      <th>spmthresh_ind</th>\n      <th>spmthresh_pred</th>\n    </tr>\n  </thead>\n  <tbody>\n    <tr>\n      <th>0</th>\n      <td>0</td>\n      <td>3</td>\n      <td>35030.0</td>\n      <td>49410.0</td>\n      <td>34401.227359</td>\n    </tr>\n    <tr>\n      <th>1</th>\n      <td>0</td>\n      <td>2</td>\n      <td>22890.0</td>\n      <td>32940.0</td>\n      <td>22934.151573</td>\n    </tr>\n    <tr>\n      <th>2</th>\n      <td>0</td>\n      <td>3</td>\n      <td>35030.0</td>\n      <td>49410.0</td>\n      <td>34401.227359</td>\n    </tr>\n    <tr>\n      <th>3</th>\n      <td>0</td>\n      <td>1</td>\n      <td>16240.0</td>\n      <td>16470.0</td>\n      <td>11467.075786</td>\n    </tr>\n    <tr>\n      <th>4</th>\n      <td>1</td>\n      <td>1</td>\n      <td>24500.0</td>\n      <td>24850.0</td>\n      <td>16688.387729</td>\n    </tr>\n    <tr>\n      <th>...</th>\n      <td>...</td>\n      <td>...</td>\n      <td>...</td>\n      <td>...</td>\n      <td>...</td>\n    </tr>\n    <tr>\n      <th>1184</th>\n      <td>4</td>\n      <td>2</td>\n      <td>43460.0</td>\n      <td>66460.0</td>\n      <td>43819.399342</td>\n    </tr>\n    <tr>\n      <th>1185</th>\n      <td>2</td>\n      <td>2</td>\n      <td>35530.0</td>\n      <td>49700.0</td>\n      <td>33376.775457</td>\n    </tr>\n    <tr>\n      <th>1186</th>\n      <td>1</td>\n      <td>3</td>\n      <td>32780.0</td>\n      <td>57790.0</td>\n      <td>39622.539301</td>\n    </tr>\n    <tr>\n      <th>1187</th>\n      <td>2</td>\n      <td>2</td>\n      <td>35530.0</td>\n      <td>49700.0</td>\n      <td>33376.775457</td>\n    </tr>\n    <tr>\n      <th>1188</th>\n      <td>0</td>\n      <td>1</td>\n      <td>16240.0</td>\n      <td>16470.0</td>\n      <td>11467.075786</td>\n    </tr>\n  </tbody>\n</table>\n<p>1189 rows × 5 columns</p>\n</div>"
     },
     "metadata": {},
     "execution_count": 87
    }
   ],
   "source": [
    "SPMTHRESH_PREDICTORS = [\"child\", \"adult\"]\n",
    "spmthresh_reg = sm.WLS(s.spmthresh, s[SPMTHRESH_PREDICTORS], s.spmwt).fit()\n",
    "print(spmthresh_reg.params)\n",
    "s[\"spmthresh_pred\"] = spmthresh_reg.predict(s[SPMTHRESH_PREDICTORS])\n",
    "s[SPMTHRESH_PREDICTORS + [\"spmthresh\", \"spmthresh_ind\", \"spmthresh_pred\"]]"
   ]
  },
  {
   "cell_type": "code",
   "execution_count": null,
   "metadata": {},
   "outputs": [],
   "source": []
  },
  {
   "cell_type": "code",
   "execution_count": 6,
   "metadata": {},
   "outputs": [
    {
     "output_type": "execute_result",
     "data": {
      "text/plain": [
       "      county   asecwt  age  sex  race  hispan  inctot    spmwt  spmtotres  \\\n",
       "2587   36047  2344.91   76    2   200       0       0  2344.91        0.0   \n",
       "3459   36061  1986.83   37    1   100       0       0  1986.83    17876.0   \n",
       "3458   36061  1986.83   37    2   100       0       0  1986.83    17876.0   \n",
       "1149   36005  5823.38   67    1   200     400       0  5823.38        0.0   \n",
       "3365   36061  2272.33   62    2   200       0       0  2272.33     -300.0   \n",
       "...      ...      ...  ...  ...   ...     ...     ...      ...        ...   \n",
       "4122   36081  4959.12   80    1   100       0   12000  4959.12    11858.0   \n",
       "1844   36047  3225.03   55    1   651       0   12000  3225.03    22748.0   \n",
       "3075   36061  4949.22   72    1   100       0   12000  4949.22    18504.0   \n",
       "1152   36005  3090.58   32    1   200       0   12000  3090.58    30979.0   \n",
       "2038   36047  1682.77   41    1   651       0   12008  1682.77     8711.0   \n",
       "\n",
       "      spmthresh  spmfamunit  adjginc  ftotval  spmftotval  adult    pop_cum  \n",
       "2587    33380.0     8485001        0        0           0   True    2344.91  \n",
       "3459    30830.0     9057001        0        0           0   True    4331.74  \n",
       "3458    30830.0     9057001        0        0           0   True    6318.57  \n",
       "1149    16240.0     7668003        0        0           0   True   12141.95  \n",
       "3365    22890.0     8940001        0        0           0   True   14414.28  \n",
       "...         ...         ...      ...      ...         ...    ...        ...  \n",
       "4122    13640.0     9399001        0    12000       12000   True  483357.89  \n",
       "1844    39020.0     8059001    12000    12000       12000   True  486582.92  \n",
       "3075    16240.0     8726001        0    12000       12000   True  491532.14  \n",
       "1152    29080.0     7673001    11152    12000       12000   True  494622.72  \n",
       "2038    16240.0     8176003    11302    12008       12008   True  496305.49  \n",
       "\n",
       "[170 rows x 16 columns]"
      ],
      "text/html": "<div>\n<style scoped>\n    .dataframe tbody tr th:only-of-type {\n        vertical-align: middle;\n    }\n\n    .dataframe tbody tr th {\n        vertical-align: top;\n    }\n\n    .dataframe thead th {\n        text-align: right;\n    }\n</style>\n<table border=\"1\" class=\"dataframe\">\n  <thead>\n    <tr style=\"text-align: right;\">\n      <th></th>\n      <th>county</th>\n      <th>asecwt</th>\n      <th>age</th>\n      <th>sex</th>\n      <th>race</th>\n      <th>hispan</th>\n      <th>inctot</th>\n      <th>spmwt</th>\n      <th>spmtotres</th>\n      <th>spmthresh</th>\n      <th>spmfamunit</th>\n      <th>adjginc</th>\n      <th>ftotval</th>\n      <th>spmftotval</th>\n      <th>adult</th>\n      <th>pop_cum</th>\n    </tr>\n  </thead>\n  <tbody>\n    <tr>\n      <th>2587</th>\n      <td>36047</td>\n      <td>2344.91</td>\n      <td>76</td>\n      <td>2</td>\n      <td>200</td>\n      <td>0</td>\n      <td>0</td>\n      <td>2344.91</td>\n      <td>0.0</td>\n      <td>33380.0</td>\n      <td>8485001</td>\n      <td>0</td>\n      <td>0</td>\n      <td>0</td>\n      <td>True</td>\n      <td>2344.91</td>\n    </tr>\n    <tr>\n      <th>3459</th>\n      <td>36061</td>\n      <td>1986.83</td>\n      <td>37</td>\n      <td>1</td>\n      <td>100</td>\n      <td>0</td>\n      <td>0</td>\n      <td>1986.83</td>\n      <td>17876.0</td>\n      <td>30830.0</td>\n      <td>9057001</td>\n      <td>0</td>\n      <td>0</td>\n      <td>0</td>\n      <td>True</td>\n      <td>4331.74</td>\n    </tr>\n    <tr>\n      <th>3458</th>\n      <td>36061</td>\n      <td>1986.83</td>\n      <td>37</td>\n      <td>2</td>\n      <td>100</td>\n      <td>0</td>\n      <td>0</td>\n      <td>1986.83</td>\n      <td>17876.0</td>\n      <td>30830.0</td>\n      <td>9057001</td>\n      <td>0</td>\n      <td>0</td>\n      <td>0</td>\n      <td>True</td>\n      <td>6318.57</td>\n    </tr>\n    <tr>\n      <th>1149</th>\n      <td>36005</td>\n      <td>5823.38</td>\n      <td>67</td>\n      <td>1</td>\n      <td>200</td>\n      <td>400</td>\n      <td>0</td>\n      <td>5823.38</td>\n      <td>0.0</td>\n      <td>16240.0</td>\n      <td>7668003</td>\n      <td>0</td>\n      <td>0</td>\n      <td>0</td>\n      <td>True</td>\n      <td>12141.95</td>\n    </tr>\n    <tr>\n      <th>3365</th>\n      <td>36061</td>\n      <td>2272.33</td>\n      <td>62</td>\n      <td>2</td>\n      <td>200</td>\n      <td>0</td>\n      <td>0</td>\n      <td>2272.33</td>\n      <td>-300.0</td>\n      <td>22890.0</td>\n      <td>8940001</td>\n      <td>0</td>\n      <td>0</td>\n      <td>0</td>\n      <td>True</td>\n      <td>14414.28</td>\n    </tr>\n    <tr>\n      <th>...</th>\n      <td>...</td>\n      <td>...</td>\n      <td>...</td>\n      <td>...</td>\n      <td>...</td>\n      <td>...</td>\n      <td>...</td>\n      <td>...</td>\n      <td>...</td>\n      <td>...</td>\n      <td>...</td>\n      <td>...</td>\n      <td>...</td>\n      <td>...</td>\n      <td>...</td>\n      <td>...</td>\n    </tr>\n    <tr>\n      <th>4122</th>\n      <td>36081</td>\n      <td>4959.12</td>\n      <td>80</td>\n      <td>1</td>\n      <td>100</td>\n      <td>0</td>\n      <td>12000</td>\n      <td>4959.12</td>\n      <td>11858.0</td>\n      <td>13640.0</td>\n      <td>9399001</td>\n      <td>0</td>\n      <td>12000</td>\n      <td>12000</td>\n      <td>True</td>\n      <td>483357.89</td>\n    </tr>\n    <tr>\n      <th>1844</th>\n      <td>36047</td>\n      <td>3225.03</td>\n      <td>55</td>\n      <td>1</td>\n      <td>651</td>\n      <td>0</td>\n      <td>12000</td>\n      <td>3225.03</td>\n      <td>22748.0</td>\n      <td>39020.0</td>\n      <td>8059001</td>\n      <td>12000</td>\n      <td>12000</td>\n      <td>12000</td>\n      <td>True</td>\n      <td>486582.92</td>\n    </tr>\n    <tr>\n      <th>3075</th>\n      <td>36061</td>\n      <td>4949.22</td>\n      <td>72</td>\n      <td>1</td>\n      <td>100</td>\n      <td>0</td>\n      <td>12000</td>\n      <td>4949.22</td>\n      <td>18504.0</td>\n      <td>16240.0</td>\n      <td>8726001</td>\n      <td>0</td>\n      <td>12000</td>\n      <td>12000</td>\n      <td>True</td>\n      <td>491532.14</td>\n    </tr>\n    <tr>\n      <th>1152</th>\n      <td>36005</td>\n      <td>3090.58</td>\n      <td>32</td>\n      <td>1</td>\n      <td>200</td>\n      <td>0</td>\n      <td>12000</td>\n      <td>3090.58</td>\n      <td>30979.0</td>\n      <td>29080.0</td>\n      <td>7673001</td>\n      <td>11152</td>\n      <td>12000</td>\n      <td>12000</td>\n      <td>True</td>\n      <td>494622.72</td>\n    </tr>\n    <tr>\n      <th>2038</th>\n      <td>36047</td>\n      <td>1682.77</td>\n      <td>41</td>\n      <td>1</td>\n      <td>651</td>\n      <td>0</td>\n      <td>12008</td>\n      <td>1682.77</td>\n      <td>8711.0</td>\n      <td>16240.0</td>\n      <td>8176003</td>\n      <td>11302</td>\n      <td>12008</td>\n      <td>12008</td>\n      <td>True</td>\n      <td>496305.49</td>\n    </tr>\n  </tbody>\n</table>\n<p>170 rows × 16 columns</p>\n</div>"
     },
     "metadata": {},
     "execution_count": 6
    }
   ],
   "source": [
    "# Add cumulative adult population to identify bottom 500,000 adults.\n",
    "pna = pn[pn.age >= 18].copy()\n",
    "pna.sort_values(\"spmftotval\", inplace=True)\n",
    "pna[\"pop_cum\"] = pna.asecwt.cumsum()\n",
    "\n",
    "spmtotres_thresh = pna[pna.pop_cum < 500000].spmtotres.max()\n",
    "\n",
    "pna[pna.pop_cum < 500000]"
   ]
  },
  {
   "cell_type": "code",
   "execution_count": 7,
   "metadata": {},
   "outputs": [],
   "source": [
    "sn = pn[[\"spmfamunit\", \"spmwt\", \"spmftotval\", \"spmtotres\", \"spmthresh\"]].drop_duplicates().sort_values(\"spmftotval\")\n",
    "sn[\"spmwt_cum\"] = sn.spmwt.cumsum()\n",
    "spmftotval_thresh = sn[sn.spmwt_cum < 500000].spmftotval.max()\n",
    "sn[sn.spmftotval <= spmftotval_thresh].spmwt.sum()\n",
    "sn[\"ubi\"] = np.where(sn.spmftotval <= spmftotval_thresh, 2000, 0)\n",
    "sn[\"spmtotres_ubi\"] = sn.spmtotres + sn.ubi"
   ]
  },
  {
   "cell_type": "code",
   "execution_count": 8,
   "metadata": {},
   "outputs": [
    {
     "output_type": "execute_result",
     "data": {
      "text/plain": [
       "1004590420.0"
      ]
     },
     "metadata": {},
     "execution_count": 8
    }
   ],
   "source": [
    "mdf.weighted_sum(sn, \"ubi\", \"spmwt\")"
   ]
  },
  {
   "cell_type": "code",
   "execution_count": 9,
   "metadata": {},
   "outputs": [],
   "source": [
    "pn = pn.merge(sn[[\"spmfamunit\", \"spmtotres_ubi\"]], on=\"spmfamunit\")\n"
   ]
  },
  {
   "cell_type": "code",
   "execution_count": 10,
   "metadata": {},
   "outputs": [
    {
     "output_type": "execute_result",
     "data": {
      "text/plain": [
       "5.53524380132"
      ]
     },
     "metadata": {},
     "execution_count": 10
    }
   ],
   "source": [
    "mdf.poverty_gap(sn, \"spmtotres_ubi\", \"spmthresh\", \"spmwt\") / 1e9"
   ]
  },
  {
   "cell_type": "code",
   "execution_count": 11,
   "metadata": {},
   "outputs": [
    {
     "output_type": "execute_result",
     "data": {
      "text/plain": [
       "6.256897865129999"
      ]
     },
     "metadata": {},
     "execution_count": 11
    }
   ],
   "source": [
    "mdf.poverty_gap(sn, \"spmtotres\", \"spmthresh\", \"spmwt\") / 1e9"
   ]
  },
  {
   "cell_type": "code",
   "execution_count": 12,
   "metadata": {},
   "outputs": [
    {
     "output_type": "execute_result",
     "data": {
      "text/plain": [
       "0.04859213974110767"
      ]
     },
     "metadata": {},
     "execution_count": 12
    }
   ],
   "source": [
    "mdf.deep_poverty_rate(pn, \"spmtotres\", \"spmthresh\", \"asecwt\")"
   ]
  },
  {
   "cell_type": "code",
   "execution_count": 13,
   "metadata": {},
   "outputs": [
    {
     "output_type": "execute_result",
     "data": {
      "text/plain": [
       "0.04356069904096139"
      ]
     },
     "metadata": {},
     "execution_count": 13
    }
   ],
   "source": [
    "mdf.deep_poverty_rate(pn, \"spmtotres_ubi\", \"spmthresh\", \"asecwt\")"
   ]
  },
  {
   "cell_type": "code",
   "execution_count": 14,
   "metadata": {},
   "outputs": [
    {
     "output_type": "execute_result",
     "data": {
      "text/plain": [
       "0.18354143352276175"
      ]
     },
     "metadata": {},
     "execution_count": 14
    }
   ],
   "source": [
    "mdf.poverty_rate(pn, \"spmtotres_ubi\", \"spmthresh\", \"asecwt\")"
   ]
  },
  {
   "cell_type": "code",
   "execution_count": 15,
   "metadata": {},
   "outputs": [
    {
     "output_type": "execute_result",
     "data": {
      "text/plain": [
       "0.19196885996563795"
      ]
     },
     "metadata": {},
     "execution_count": 15
    }
   ],
   "source": [
    "mdf.poverty_rate(pn, \"spmtotres\", \"spmthresh\", \"asecwt\")"
   ]
  },
  {
   "cell_type": "code",
   "execution_count": 16,
   "metadata": {},
   "outputs": [
    {
     "output_type": "execute_result",
     "data": {
      "text/plain": [
       "-0.04389996609025385"
      ]
     },
     "metadata": {},
     "execution_count": 16
    }
   ],
   "source": [
    "def pct_chg(base, reform):\n",
    "    return (reform - base) / base\n",
    "\n",
    "pct_chg(mdf.poverty_rate(pn, \"spmtotres\", \"spmthresh\", \"asecwt\"),\n",
    "mdf.poverty_rate(pn, \"spmtotres_ubi\", \"spmthresh\", \"asecwt\"))"
   ]
  },
  {
   "cell_type": "code",
   "execution_count": 17,
   "metadata": {},
   "outputs": [
    {
     "output_type": "execute_result",
     "data": {
      "text/plain": [
       "-0.10354433303314309"
      ]
     },
     "metadata": {},
     "execution_count": 17
    }
   ],
   "source": [
    "pct_chg(mdf.deep_poverty_rate(pn, \"spmtotres\", \"spmthresh\", \"asecwt\"),\n",
    "mdf.deep_poverty_rate(pn, \"spmtotres_ubi\", \"spmthresh\", \"asecwt\"))"
   ]
  },
  {
   "cell_type": "code",
   "execution_count": 18,
   "metadata": {},
   "outputs": [
    {
     "output_type": "execute_result",
     "data": {
      "text/plain": [
       "-0.01087395327199434"
      ]
     },
     "metadata": {},
     "execution_count": 18
    }
   ],
   "source": [
    "pct_chg(mdf.gini(sn, \"spmtotres\", \"spmwt\"),\n",
    "mdf.gini(sn, \"spmtotres_ubi\", \"spmwt\"))"
   ]
  },
  {
   "cell_type": "code",
   "execution_count": 19,
   "metadata": {},
   "outputs": [
    {
     "output_type": "execute_result",
     "data": {
      "text/plain": [
       "19.103431190000002"
      ]
     },
     "metadata": {},
     "execution_count": 19
    }
   ],
   "source": [
    "# NYS population: 19.45M official as of 2019.\n",
    "p[p.statefip == NYS_FIPS].asecwt.sum() / 1e6"
   ]
  },
  {
   "cell_type": "code",
   "execution_count": 20,
   "metadata": {},
   "outputs": [
    {
     "output_type": "error",
     "ename": "NameError",
     "evalue": "name 'NYC_FIPS' is not defined",
     "traceback": [
      "\u001b[0;31m---------------------------------------------------------------------------\u001b[0m",
      "\u001b[0;31mNameError\u001b[0m                                 Traceback (most recent call last)",
      "\u001b[0;32m<ipython-input-20-425fa6e0a2f3>\u001b[0m in \u001b[0;36m<module>\u001b[0;34m\u001b[0m\n\u001b[0;32m----> 1\u001b[0;31m \u001b[0mp\u001b[0m\u001b[0;34m[\u001b[0m\u001b[0;34m(\u001b[0m\u001b[0mp\u001b[0m\u001b[0;34m.\u001b[0m\u001b[0mstatefip\u001b[0m \u001b[0;34m==\u001b[0m \u001b[0mNYS_FIPS\u001b[0m\u001b[0;34m)\u001b[0m \u001b[0;34m&\u001b[0m \u001b[0mp\u001b[0m\u001b[0;34m.\u001b[0m\u001b[0mcounty\u001b[0m\u001b[0;34m.\u001b[0m\u001b[0misin\u001b[0m\u001b[0;34m(\u001b[0m\u001b[0mNYC_FIPS\u001b[0m\u001b[0;34m)\u001b[0m\u001b[0;34m]\u001b[0m\u001b[0;34m.\u001b[0m\u001b[0masecwt\u001b[0m\u001b[0;34m.\u001b[0m\u001b[0msum\u001b[0m\u001b[0;34m(\u001b[0m\u001b[0;34m)\u001b[0m \u001b[0;34m/\u001b[0m \u001b[0;36m1e6\u001b[0m\u001b[0;34m\u001b[0m\u001b[0;34m\u001b[0m\u001b[0m\n\u001b[0m",
      "\u001b[0;31mNameError\u001b[0m: name 'NYC_FIPS' is not defined"
     ]
    }
   ],
   "source": [
    "p[(p.statefip == NYS_FIPS) & p.county.isin(NYC_FIPS)].asecwt.sum() / 1e6"
   ]
  },
  {
   "cell_type": "code",
   "execution_count": 22,
   "metadata": {},
   "outputs": [
    {
     "output_type": "execute_result",
     "data": {
      "text/plain": [
       "county\n",
       "36005    1586280.10\n",
       "36047    2634859.16\n",
       "36061    1634742.52\n",
       "36081    1869407.84\n",
       "36085     497162.45\n",
       "Name: asecwt, dtype: float64"
      ]
     },
     "metadata": {},
     "execution_count": 22
    }
   ],
   "source": [
    "p[p.county.isin([NYS_FIPS * 1000 + i for i in NYC_FIPS])].groupby(\"county\").asecwt.sum()"
   ]
  },
  {
   "cell_type": "code",
   "execution_count": 20,
   "metadata": {},
   "outputs": [
    {
     "output_type": "execute_result",
     "data": {
      "text/plain": [
       "1634742.52"
      ]
     },
     "metadata": {},
     "execution_count": 20
    }
   ],
   "source": [
    "p[p.county == 36061].asecwt.sum()"
   ]
  }
 ]
}