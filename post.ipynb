{
 "metadata": {
  "language_info": {
   "codemirror_mode": {
    "name": "ipython",
    "version": 3
   },
   "file_extension": ".py",
   "mimetype": "text/x-python",
   "name": "python",
   "nbconvert_exporter": "python",
   "pygments_lexer": "ipython3",
   "version": "3.7.7"
  },
  "orig_nbformat": 2,
  "kernelspec": {
   "name": "python3",
   "display_name": "Python 3.7.7 64-bit ('base': conda)"
  },
  "interpreter": {
   "hash": "4a68920d8e8856d089b03c157a7384bba62e0986489c1fa381bbe538cda0922c"
  }
 },
 "nbformat": 4,
 "nbformat_minor": 2,
 "cells": [
  {
   "source": [
    "Over the next eight days, New York City Democrats will decide their party nominee for mayor. One of the candidates, former presidential candidate Andrew Yang, has centered his campaign around a shrunk-down local version of his national [Freedom Dividend](https://www.ubicenter.org/distributional-analysis-of-andrew-yangs-freedom-dividend), which he calls [\"A Basic Income for New York City.\"](https://www.yangforny.com/policies/a-basic-income-for-new-york-city) The plan promises to provide an average of $2,000 to each of the city's 500,000 poorest adults.\n",
    "\n",
    "In this post, I explore how this $1 billion program could be codified. I find that the plan can be characterized by a benefit program that guarantees 30% of the poverty line and phases out at 50 cents per dollar of income. Such a plan would reduce deep poverty by 60%, though it would also create significant work disincentives and distort marriage choices among NYC's deeply poor population.\n",
    "\n",
    "\n",
    "# Poverty in New York City\n",
    "\n",
    "NYC has unusually high poverty: in 2019, 19.2% of the population was in poverty, compared to [11.7% nationally](https://www.census.gov/content/dam/Census/library/publications/2020/demo/p60-272.pdf). That's based on the Census Bureau's [Supplemental Poverty Measure](https://www.census.gov/topics/income-poverty/supplemental-poverty-measure.html) (SPM), which, unlike the Official Poverty Measure, accounts for a household's[^1] in-kind benefits (e.g., food stamps), taxes, and, critically for NYC, housing costs—the SPM estimates that NYC residents face 21% higher cost of living than the national average.\n",
    "\n",
    "NYC's current 19.2% poverty rate is down from 23.9% when the Census Bureau began reporting the SPM, though it hit a high of 28.3% in 2012 in between. The deep poverty rate—the population share under half the poverty threshold—has followed a similar trend, from 7.8% in 2009 to a high of 9.1% in 2011 to its latest value of 4.9% in 2019."
   ],
   "cell_type": "markdown",
   "metadata": {}
  },
  {
   "cell_type": "code",
   "execution_count": 1,
   "metadata": {},
   "outputs": [
    {
     "output_type": "display_data",
     "data": {
      "application/vnd.plotly.v1+json": {
       "config": {
        "displayModeBar": false,
        "plotlyServerURL": "https://plot.ly"
       },
       "data": [
        {
         "hovertemplate": "variable=Poverty rate<br>year=%{x}<br>value=%{y}<extra></extra>",
         "legendgroup": "Poverty rate",
         "line": {
          "color": "#49A6E2",
          "dash": "solid"
         },
         "mode": "lines",
         "name": "Poverty rate",
         "orientation": "v",
         "showlegend": true,
         "type": "scatter",
         "x": [
          2009,
          2010,
          2011,
          2012,
          2013,
          2014,
          2015,
          2016,
          2017,
          2018,
          2019
         ],
         "xaxis": "x",
         "y": [
          0.23881930622424025,
          0.2547659920548098,
          0.2647177924615171,
          0.2834492228320596,
          0.24884105034276366,
          0.24415572591200707,
          0.20905445053666571,
          0.17225492875469742,
          0.2093246094319608,
          0.20361655276038546,
          0.19196885996563795
         ],
         "yaxis": "y"
        },
        {
         "hovertemplate": "variable=Deep poverty rate<br>year=%{x}<br>value=%{y}<extra></extra>",
         "legendgroup": "Deep poverty rate",
         "line": {
          "color": "#0F4AA1",
          "dash": "solid"
         },
         "mode": "lines",
         "name": "Deep poverty rate",
         "orientation": "v",
         "showlegend": true,
         "type": "scatter",
         "x": [
          2009,
          2010,
          2011,
          2012,
          2013,
          2014,
          2015,
          2016,
          2017,
          2018,
          2019
         ],
         "xaxis": "x",
         "y": [
          0.07784698044689664,
          0.08314552567367989,
          0.09115801128708047,
          0.08534781913608519,
          0.0802840192325915,
          0.0613350002635959,
          0.05555828063104746,
          0.04831624321018513,
          0.047428030146856176,
          0.053129938935127796,
          0.04859213974110767
         ],
         "yaxis": "y"
        }
       ],
       "layout": {
        "font": {
         "family": "Roboto"
        },
        "height": 600,
        "hoverlabel": {
         "align": "right"
        },
        "images": [
         {
          "sizex": 0.12,
          "sizey": 0.12,
          "source": "https://raw.githubusercontent.com/UBICenter/blog/master/jb/_static/ubi_center_logo_wide_blue.png",
          "x": 0.98,
          "xanchor": "right",
          "xref": "paper",
          "y": -0.12,
          "yanchor": "bottom",
          "yref": "paper"
         }
        ],
        "legend": {
         "title": {
          "text": ""
         },
         "tracegroupgap": 0
        },
        "paper_bgcolor": "white",
        "plot_bgcolor": "white",
        "template": {
         "data": {
          "bar": [
           {
            "error_x": {
             "color": "#2a3f5f"
            },
            "error_y": {
             "color": "#2a3f5f"
            },
            "marker": {
             "line": {
              "color": "#E5ECF6",
              "width": 0.5
             }
            },
            "type": "bar"
           }
          ],
          "barpolar": [
           {
            "marker": {
             "line": {
              "color": "#E5ECF6",
              "width": 0.5
             }
            },
            "type": "barpolar"
           }
          ],
          "carpet": [
           {
            "aaxis": {
             "endlinecolor": "#2a3f5f",
             "gridcolor": "white",
             "linecolor": "white",
             "minorgridcolor": "white",
             "startlinecolor": "#2a3f5f"
            },
            "baxis": {
             "endlinecolor": "#2a3f5f",
             "gridcolor": "white",
             "linecolor": "white",
             "minorgridcolor": "white",
             "startlinecolor": "#2a3f5f"
            },
            "type": "carpet"
           }
          ],
          "choropleth": [
           {
            "colorbar": {
             "outlinewidth": 0,
             "ticks": ""
            },
            "type": "choropleth"
           }
          ],
          "contour": [
           {
            "colorbar": {
             "outlinewidth": 0,
             "ticks": ""
            },
            "colorscale": [
             [
              0,
              "#0d0887"
             ],
             [
              0.1111111111111111,
              "#46039f"
             ],
             [
              0.2222222222222222,
              "#7201a8"
             ],
             [
              0.3333333333333333,
              "#9c179e"
             ],
             [
              0.4444444444444444,
              "#bd3786"
             ],
             [
              0.5555555555555556,
              "#d8576b"
             ],
             [
              0.6666666666666666,
              "#ed7953"
             ],
             [
              0.7777777777777778,
              "#fb9f3a"
             ],
             [
              0.8888888888888888,
              "#fdca26"
             ],
             [
              1,
              "#f0f921"
             ]
            ],
            "type": "contour"
           }
          ],
          "contourcarpet": [
           {
            "colorbar": {
             "outlinewidth": 0,
             "ticks": ""
            },
            "type": "contourcarpet"
           }
          ],
          "heatmap": [
           {
            "colorbar": {
             "outlinewidth": 0,
             "ticks": ""
            },
            "colorscale": [
             [
              0,
              "#0d0887"
             ],
             [
              0.1111111111111111,
              "#46039f"
             ],
             [
              0.2222222222222222,
              "#7201a8"
             ],
             [
              0.3333333333333333,
              "#9c179e"
             ],
             [
              0.4444444444444444,
              "#bd3786"
             ],
             [
              0.5555555555555556,
              "#d8576b"
             ],
             [
              0.6666666666666666,
              "#ed7953"
             ],
             [
              0.7777777777777778,
              "#fb9f3a"
             ],
             [
              0.8888888888888888,
              "#fdca26"
             ],
             [
              1,
              "#f0f921"
             ]
            ],
            "type": "heatmap"
           }
          ],
          "heatmapgl": [
           {
            "colorbar": {
             "outlinewidth": 0,
             "ticks": ""
            },
            "colorscale": [
             [
              0,
              "#0d0887"
             ],
             [
              0.1111111111111111,
              "#46039f"
             ],
             [
              0.2222222222222222,
              "#7201a8"
             ],
             [
              0.3333333333333333,
              "#9c179e"
             ],
             [
              0.4444444444444444,
              "#bd3786"
             ],
             [
              0.5555555555555556,
              "#d8576b"
             ],
             [
              0.6666666666666666,
              "#ed7953"
             ],
             [
              0.7777777777777778,
              "#fb9f3a"
             ],
             [
              0.8888888888888888,
              "#fdca26"
             ],
             [
              1,
              "#f0f921"
             ]
            ],
            "type": "heatmapgl"
           }
          ],
          "histogram": [
           {
            "marker": {
             "colorbar": {
              "outlinewidth": 0,
              "ticks": ""
             }
            },
            "type": "histogram"
           }
          ],
          "histogram2d": [
           {
            "colorbar": {
             "outlinewidth": 0,
             "ticks": ""
            },
            "colorscale": [
             [
              0,
              "#0d0887"
             ],
             [
              0.1111111111111111,
              "#46039f"
             ],
             [
              0.2222222222222222,
              "#7201a8"
             ],
             [
              0.3333333333333333,
              "#9c179e"
             ],
             [
              0.4444444444444444,
              "#bd3786"
             ],
             [
              0.5555555555555556,
              "#d8576b"
             ],
             [
              0.6666666666666666,
              "#ed7953"
             ],
             [
              0.7777777777777778,
              "#fb9f3a"
             ],
             [
              0.8888888888888888,
              "#fdca26"
             ],
             [
              1,
              "#f0f921"
             ]
            ],
            "type": "histogram2d"
           }
          ],
          "histogram2dcontour": [
           {
            "colorbar": {
             "outlinewidth": 0,
             "ticks": ""
            },
            "colorscale": [
             [
              0,
              "#0d0887"
             ],
             [
              0.1111111111111111,
              "#46039f"
             ],
             [
              0.2222222222222222,
              "#7201a8"
             ],
             [
              0.3333333333333333,
              "#9c179e"
             ],
             [
              0.4444444444444444,
              "#bd3786"
             ],
             [
              0.5555555555555556,
              "#d8576b"
             ],
             [
              0.6666666666666666,
              "#ed7953"
             ],
             [
              0.7777777777777778,
              "#fb9f3a"
             ],
             [
              0.8888888888888888,
              "#fdca26"
             ],
             [
              1,
              "#f0f921"
             ]
            ],
            "type": "histogram2dcontour"
           }
          ],
          "mesh3d": [
           {
            "colorbar": {
             "outlinewidth": 0,
             "ticks": ""
            },
            "type": "mesh3d"
           }
          ],
          "parcoords": [
           {
            "line": {
             "colorbar": {
              "outlinewidth": 0,
              "ticks": ""
             }
            },
            "type": "parcoords"
           }
          ],
          "pie": [
           {
            "automargin": true,
            "type": "pie"
           }
          ],
          "scatter": [
           {
            "marker": {
             "colorbar": {
              "outlinewidth": 0,
              "ticks": ""
             }
            },
            "type": "scatter"
           }
          ],
          "scatter3d": [
           {
            "line": {
             "colorbar": {
              "outlinewidth": 0,
              "ticks": ""
             }
            },
            "marker": {
             "colorbar": {
              "outlinewidth": 0,
              "ticks": ""
             }
            },
            "type": "scatter3d"
           }
          ],
          "scattercarpet": [
           {
            "marker": {
             "colorbar": {
              "outlinewidth": 0,
              "ticks": ""
             }
            },
            "type": "scattercarpet"
           }
          ],
          "scattergeo": [
           {
            "marker": {
             "colorbar": {
              "outlinewidth": 0,
              "ticks": ""
             }
            },
            "type": "scattergeo"
           }
          ],
          "scattergl": [
           {
            "marker": {
             "colorbar": {
              "outlinewidth": 0,
              "ticks": ""
             }
            },
            "type": "scattergl"
           }
          ],
          "scattermapbox": [
           {
            "marker": {
             "colorbar": {
              "outlinewidth": 0,
              "ticks": ""
             }
            },
            "type": "scattermapbox"
           }
          ],
          "scatterpolar": [
           {
            "marker": {
             "colorbar": {
              "outlinewidth": 0,
              "ticks": ""
             }
            },
            "type": "scatterpolar"
           }
          ],
          "scatterpolargl": [
           {
            "marker": {
             "colorbar": {
              "outlinewidth": 0,
              "ticks": ""
             }
            },
            "type": "scatterpolargl"
           }
          ],
          "scatterternary": [
           {
            "marker": {
             "colorbar": {
              "outlinewidth": 0,
              "ticks": ""
             }
            },
            "type": "scatterternary"
           }
          ],
          "surface": [
           {
            "colorbar": {
             "outlinewidth": 0,
             "ticks": ""
            },
            "colorscale": [
             [
              0,
              "#0d0887"
             ],
             [
              0.1111111111111111,
              "#46039f"
             ],
             [
              0.2222222222222222,
              "#7201a8"
             ],
             [
              0.3333333333333333,
              "#9c179e"
             ],
             [
              0.4444444444444444,
              "#bd3786"
             ],
             [
              0.5555555555555556,
              "#d8576b"
             ],
             [
              0.6666666666666666,
              "#ed7953"
             ],
             [
              0.7777777777777778,
              "#fb9f3a"
             ],
             [
              0.8888888888888888,
              "#fdca26"
             ],
             [
              1,
              "#f0f921"
             ]
            ],
            "type": "surface"
           }
          ],
          "table": [
           {
            "cells": {
             "fill": {
              "color": "#EBF0F8"
             },
             "line": {
              "color": "white"
             }
            },
            "header": {
             "fill": {
              "color": "#C8D4E3"
             },
             "line": {
              "color": "white"
             }
            },
            "type": "table"
           }
          ]
         },
         "layout": {
          "annotationdefaults": {
           "arrowcolor": "#2a3f5f",
           "arrowhead": 0,
           "arrowwidth": 1
          },
          "autotypenumbers": "strict",
          "coloraxis": {
           "colorbar": {
            "outlinewidth": 0,
            "ticks": ""
           }
          },
          "colorscale": {
           "diverging": [
            [
             0,
             "#8e0152"
            ],
            [
             0.1,
             "#c51b7d"
            ],
            [
             0.2,
             "#de77ae"
            ],
            [
             0.3,
             "#f1b6da"
            ],
            [
             0.4,
             "#fde0ef"
            ],
            [
             0.5,
             "#f7f7f7"
            ],
            [
             0.6,
             "#e6f5d0"
            ],
            [
             0.7,
             "#b8e186"
            ],
            [
             0.8,
             "#7fbc41"
            ],
            [
             0.9,
             "#4d9221"
            ],
            [
             1,
             "#276419"
            ]
           ],
           "sequential": [
            [
             0,
             "#0d0887"
            ],
            [
             0.1111111111111111,
             "#46039f"
            ],
            [
             0.2222222222222222,
             "#7201a8"
            ],
            [
             0.3333333333333333,
             "#9c179e"
            ],
            [
             0.4444444444444444,
             "#bd3786"
            ],
            [
             0.5555555555555556,
             "#d8576b"
            ],
            [
             0.6666666666666666,
             "#ed7953"
            ],
            [
             0.7777777777777778,
             "#fb9f3a"
            ],
            [
             0.8888888888888888,
             "#fdca26"
            ],
            [
             1,
             "#f0f921"
            ]
           ],
           "sequentialminus": [
            [
             0,
             "#0d0887"
            ],
            [
             0.1111111111111111,
             "#46039f"
            ],
            [
             0.2222222222222222,
             "#7201a8"
            ],
            [
             0.3333333333333333,
             "#9c179e"
            ],
            [
             0.4444444444444444,
             "#bd3786"
            ],
            [
             0.5555555555555556,
             "#d8576b"
            ],
            [
             0.6666666666666666,
             "#ed7953"
            ],
            [
             0.7777777777777778,
             "#fb9f3a"
            ],
            [
             0.8888888888888888,
             "#fdca26"
            ],
            [
             1,
             "#f0f921"
            ]
           ]
          },
          "colorway": [
           "#636efa",
           "#EF553B",
           "#00cc96",
           "#ab63fa",
           "#FFA15A",
           "#19d3f3",
           "#FF6692",
           "#B6E880",
           "#FF97FF",
           "#FECB52"
          ],
          "font": {
           "color": "#2a3f5f"
          },
          "geo": {
           "bgcolor": "white",
           "lakecolor": "white",
           "landcolor": "#E5ECF6",
           "showlakes": true,
           "showland": true,
           "subunitcolor": "white"
          },
          "hoverlabel": {
           "align": "left"
          },
          "hovermode": "closest",
          "mapbox": {
           "style": "light"
          },
          "paper_bgcolor": "white",
          "plot_bgcolor": "#E5ECF6",
          "polar": {
           "angularaxis": {
            "gridcolor": "white",
            "linecolor": "white",
            "ticks": ""
           },
           "bgcolor": "#E5ECF6",
           "radialaxis": {
            "gridcolor": "white",
            "linecolor": "white",
            "ticks": ""
           }
          },
          "scene": {
           "xaxis": {
            "backgroundcolor": "#E5ECF6",
            "gridcolor": "white",
            "gridwidth": 2,
            "linecolor": "white",
            "showbackground": true,
            "ticks": "",
            "zerolinecolor": "white"
           },
           "yaxis": {
            "backgroundcolor": "#E5ECF6",
            "gridcolor": "white",
            "gridwidth": 2,
            "linecolor": "white",
            "showbackground": true,
            "ticks": "",
            "zerolinecolor": "white"
           },
           "zaxis": {
            "backgroundcolor": "#E5ECF6",
            "gridcolor": "white",
            "gridwidth": 2,
            "linecolor": "white",
            "showbackground": true,
            "ticks": "",
            "zerolinecolor": "white"
           }
          },
          "shapedefaults": {
           "line": {
            "color": "#2a3f5f"
           }
          },
          "ternary": {
           "aaxis": {
            "gridcolor": "white",
            "linecolor": "white",
            "ticks": ""
           },
           "baxis": {
            "gridcolor": "white",
            "linecolor": "white",
            "ticks": ""
           },
           "bgcolor": "#E5ECF6",
           "caxis": {
            "gridcolor": "white",
            "linecolor": "white",
            "ticks": ""
           }
          },
          "title": {
           "x": 0.05
          },
          "xaxis": {
           "automargin": true,
           "gridcolor": "white",
           "linecolor": "white",
           "ticks": "",
           "title": {
            "standoff": 15
           },
           "zerolinecolor": "white",
           "zerolinewidth": 2
          },
          "yaxis": {
           "automargin": true,
           "gridcolor": "white",
           "linecolor": "white",
           "ticks": "",
           "title": {
            "standoff": 15
           },
           "zerolinecolor": "white",
           "zerolinewidth": 2
          }
         }
        },
        "title": {
         "font": {
          "size": 20
         },
         "text": "Poverty rate trends in NYC (SPM)"
        },
        "width": 800,
        "xaxis": {
         "anchor": "y",
         "domain": [
          0,
          1
         ],
         "tickfont": {
          "size": 14
         },
         "title": {
          "font": {
           "color": "black",
           "size": 16
          },
          "text": ""
         }
        },
        "yaxis": {
         "anchor": "x",
         "domain": [
          0,
          1
         ],
         "range": [
          0,
          0.3
         ],
         "tickfont": {
          "size": 14
         },
         "tickformat": ".1%",
         "title": {
          "font": {
           "color": "black",
           "size": 16
          },
          "text": ""
         }
        }
       }
      }
     },
     "metadata": {}
    }
   ],
   "source": [
    "import pandas as pd\n",
    "import numpy as np\n",
    "import microdf as mdf\n",
    "import plotly.express as px\n",
    "import statsmodels.api as sm\n",
    "from ubicenter import format_fig\n",
    "\n",
    "BUDGET = 1e9  # $1 billion.\n",
    "REACH = 500e3  # 500,000 adult New Yorkers.\n",
    "RUN_SIMS = False  # To re-run (takes ~5min).\n",
    "\n",
    "# Read data per person per year.\n",
    "py = pd.read_csv(\"data/nys_cps.csv.gz\")\n",
    "py.columns = py.columns.str.lower()\n",
    "py.inctot.replace({999999999: 0}, inplace=True)\n",
    "py.adjginc.replace({99999999: 0}, inplace=True)\n",
    "# 2014 was double-sampled.\n",
    "py.loc[py.year == 2014, [\"asecwt\", \"spmwt\"]] /= 2\n",
    "# ASEC shows survey year.\n",
    "py.year -= 1\n",
    "\n",
    "LABELS = {\n",
    "    \"poverty_rate\": \"Poverty rate\",\n",
    "    \"deep_poverty_rate\": \"Deep poverty rate\",\n",
    "    \"adult_deep_poverty_rate\": \"Deep adult poverty rate\",\n",
    "    \"child_deep_poverty_rate\": \"Deep child poverty rate\",\n",
    "    \"poverty_gap\": \"Poverty gap\",\n",
    "    \"squared_poverty_gap\": \"Poverty severity\",\n",
    "    \"deep_poverty_gap\": \"Deep poverty gap\",\n",
    "    \"pov_ratio_guarantee\": \"Maximum benefit as a share of SPM poverty threshold\",\n",
    "    \"phase_out_rate\": \"Benefit phase-out rate with respect to SPM resources\",\n",
    "    \"phase_out_rate_pct\": \"Benefit phase-out rate with respect to SPM resources\",\n",
    "    \"constraint\": \"Constraint\",\n",
    "    \"cost_b\": \"Cost ($B)\",\n",
    "    \"adult_reach\": \"Adult recipients\",\n",
    "    \"pct_diff\": \"Policy impact\",\n",
    "    \"yearly\": \"Average yearly change, 2009-2019\",\n",
    "    \"name\": \"Metric\",\n",
    "    \"years_progress\": \"Policy impact / average yearly change\",\n",
    "}\n",
    "\n",
    "LIGHTER_BLUE = \"#ABCEEB\"  # Blue 100.\n",
    "LIGHT_BLUE = \"#49A6E2\"  # Blue 500.\n",
    "BLUE = \"#1976D2\"  # Blue 700.\n",
    "DARK_BLUE = \"#0F4AA1\"  # Blue 900.\n",
    "GRAY = \"#BDBDBD\"\n",
    "\n",
    "COLOR_MAP = {\n",
    "    \"Poverty rate\": LIGHT_BLUE,\n",
    "    \"Deep poverty rate\": DARK_BLUE,\n",
    "    \"Poverty gap\": LIGHT_BLUE,\n",
    "    \"Deep poverty gap\": DARK_BLUE,\n",
    "    \"25%\": LIGHTER_BLUE,\n",
    "    \"50%\": LIGHT_BLUE,\n",
    "    \"100%\": DARK_BLUE,\n",
    "    \"$1 billion cost\": GRAY,\n",
    "    \"500,000 adult recipients\": BLUE,\n",
    "}\n",
    "\n",
    "NYC_COUNTY = pd.DataFrame(columns=[\"fips\", \"county\", \"pop_m\"])\n",
    "NYS_FIPS = 36\n",
    "# Per https://en.wikipedia.org/wiki/List_of_counties_in_New_York\n",
    "NYC_COUNTY.loc[\"Manhattan\"] = pd.Series({\"fips\": 61, \"county\": \"New York\", \"pop_m\": 1.632})\n",
    "NYC_COUNTY.loc[\"Brooklyn\"] = pd.Series({\"fips\": 47, \"county\": \"Kings\", \"pop_m\": 2.59})\n",
    "NYC_COUNTY.loc[\"The Bronx\"] = pd.Series({\"fips\": 5, \"county\": \"Bronx\", \"pop_m\": 1.435})\n",
    "NYC_COUNTY.loc[\"Staten Island\"] = pd.Series({\"fips\": 85, \"county\": \"Richmond\", \"pop_m\": 0.475})\n",
    "NYC_COUNTY.loc[\"Queens\"] = pd.Series({\"fips\": 81, \"county\": \"Queens\", \"pop_m\": 2.287})\n",
    "NYC_COUNTY[\"full_fips\"] = NYS_FIPS * 1000 + NYC_COUNTY.fips\n",
    "\n",
    "py = py[py.county.isin(NYC_COUNTY.full_fips)][\n",
    "    [\"county\", \"asecwt\", 'age', 'sex', 'race', 'hispan', 'inctot', 'spmwt', 'spmtotres', 'spmthresh',\n",
    "       'spmfamunit', 'adjginc', 'ftotval', 'spmftotval', 'year', 'spmgeoadj']]\n",
    "py[\"adult\"] = py.age > 17\n",
    "py[\"child\"] = py.age <= 17\n",
    "py[\"spmratio\"] = py.spmtotres / py.spmthresh\n",
    "py[\"poor\"] = py.spmratio < 1\n",
    "py[\"deep_poor\"] = py.spmratio < 0.5\n",
    "NYC_COUNTY[\"asec_pop_m\"] = NYC_COUNTY.full_fips.apply(\n",
    "    lambda x: py[(py.county == x) & (py.year == py.year.max())].asecwt.sum() / 1e6\n",
    ")\n",
    "\n",
    "def year_stats(p):\n",
    "    s = p[[\"spmfamunit\", \"year\", \"spmtotres\", \"spmthresh\", \"spmwt\"]].drop_duplicates()\n",
    "    s[\"spmtotres_pos\"] = np.maximum(s.spmtotres, 0)\n",
    "    return pd.Series({\n",
    "        \"spmgeoadj\": mdf.weighted_mean(p, \"spmgeoadj\", \"asecwt\"),\n",
    "        \"poverty_rate\": mdf.weighted_mean(p, \"poor\", \"asecwt\"),\n",
    "        \"deep_poverty_rate\": mdf.weighted_mean(p, \"deep_poor\", \"asecwt\"),\n",
    "        \"poor_adults\": mdf.weighted_sum(p[p.adult], \"poor\", \"asecwt\"),\n",
    "        \"deep_poor_adults\": mdf.weighted_sum(p[p.adult], \"deep_poor\", \"asecwt\"),\n",
    "        \"child_poverty_rate\": mdf.weighted_mean(p[p.child], \"poor\", \"asecwt\"),\n",
    "        \"child_deep_poverty_rate\": mdf.weighted_mean(p[p.child], \"deep_poor\", \"asecwt\"),\n",
    "        \"adult_poverty_rate\": mdf.weighted_mean(p[p.adult], \"poor\", \"asecwt\"),\n",
    "        \"adult_deep_poverty_rate\": mdf.weighted_mean(p[p.adult], \"deep_poor\", \"asecwt\"),\n",
    "        \"poverty_gap\": mdf.poverty_gap(s, \"spmtotres\", \"spmthresh\", \"spmwt\"),\n",
    "        \"squared_poverty_gap\": mdf.squared_poverty_gap(s, \"spmtotres\", \"spmthresh\", \"spmwt\"),\n",
    "        \"deep_poverty_gap\": mdf.deep_poverty_gap(s, \"spmtotres\", \"spmthresh\", \"spmwt\"),\n",
    "        \"gini\": mdf.gini(s, \"spmtotres\", \"spmwt\"),\n",
    "        \"population\": p.asecwt.sum(),\n",
    "        \"spm_units\": s.spmwt.sum(),\n",
    "        \"survey_population\": p.shape[0],\n",
    "        \"survey_spm_units\": s.shape[0],\n",
    "    })\n",
    "year = py.groupby(\"year\").apply(year_stats)\n",
    "year[\"year\"] = year.index\n",
    "\n",
    "pov_rate_trend = year.melt(\"year\", [\"poverty_rate\", \"deep_poverty_rate\"])\n",
    "pov_rate_trend.variable = pov_rate_trend.variable.map(LABELS)\n",
    "fig = px.line(\n",
    "    pov_rate_trend,\n",
    "    \"year\",\n",
    "    \"value\",\n",
    "    color=\"variable\",\n",
    "    color_discrete_map=COLOR_MAP,\n",
    "    labels=LABELS,\n",
    "    title=\"Poverty rate trends in NYC (SPM)\"\n",
    ")\n",
    "fig.update_layout(\n",
    "    yaxis_tickformat=\".1%\",\n",
    "    xaxis_title=\"\",\n",
    "    yaxis_title=\"\",\n",
    "    legend_title=\"\",\n",
    "    yaxis_range=[0, 0.3]\n",
    ")\n",
    "format_fig(fig)"
   ]
  },
  {
   "source": [
    "Poverty rates fail to capture dynamics below the threshold, though. If a policy lifts someone from 10% of the poverty line to 90%, that doesn't change the poverty rate; if it lifts them from 10% to 40%, it also doesn't change the deep poverty rate.\n",
    "\n",
    "So it's also useful to consider the _poverty gap_, the sum of all deviations between a household's resources and their poverty threshold, among families in poverty; that is, the poverty gap measures the total amount one would have to spend to end poverty, if the transfer were perfectly targeted. Similarly, the _deep poverty gap _measures deviations to half the poverty threshold.\n",
    "\n",
    "NYC's poverty gap in 2019 was $6.3 billion, and its deep poverty gap was $1.5 billion. Poverty gaps are less straightforward to interpret over time, since they vary with inflation and population changes, but their pattern roughly mirrors that of the poverty rates, exhibiting modest and inconsistent declines over time."
   ],
   "cell_type": "markdown",
   "metadata": {}
  },
  {
   "cell_type": "code",
   "execution_count": 2,
   "metadata": {},
   "outputs": [
    {
     "output_type": "display_data",
     "data": {
      "application/vnd.plotly.v1+json": {
       "config": {
        "displayModeBar": false,
        "plotlyServerURL": "https://plot.ly"
       },
       "data": [
        {
         "hovertemplate": "variable=Poverty gap<br>year=%{x}<br>value=%{y}<extra></extra>",
         "legendgroup": "Poverty gap",
         "line": {
          "color": "#49A6E2",
          "dash": "solid"
         },
         "mode": "lines",
         "name": "Poverty gap",
         "orientation": "v",
         "showlegend": true,
         "type": "scatter",
         "x": [
          2009,
          2010,
          2011,
          2012,
          2013,
          2014,
          2015,
          2016,
          2017,
          2018,
          2019
         ],
         "xaxis": "x",
         "y": [
          7551519764.356265,
          7682122445.2965,
          8933750677.811378,
          9191809276.823547,
          8501542669.008414,
          8251718654.976822,
          6836883082.157335,
          5796824589.164503,
          6427673044.896837,
          6947693271.58,
          6256897865.13
         ],
         "yaxis": "y"
        },
        {
         "hovertemplate": "variable=Deep poverty gap<br>year=%{x}<br>value=%{y}<extra></extra>",
         "legendgroup": "Deep poverty gap",
         "line": {
          "color": "#0F4AA1",
          "dash": "solid"
         },
         "mode": "lines",
         "name": "Deep poverty gap",
         "orientation": "v",
         "showlegend": true,
         "type": "scatter",
         "x": [
          2009,
          2010,
          2011,
          2012,
          2013,
          2014,
          2015,
          2016,
          2017,
          2018,
          2019
         ],
         "xaxis": "x",
         "y": [
          2339698793.841796,
          1993206713.6554627,
          2562050035.4530096,
          2657799222.034068,
          2303690942.6516705,
          2311943681.780697,
          1917663996.3685834,
          1688799568.5614886,
          1421812239.812447,
          1663275306.8200002,
          1502806282.81
         ],
         "yaxis": "y"
        }
       ],
       "layout": {
        "font": {
         "family": "Roboto"
        },
        "height": 600,
        "hoverlabel": {
         "align": "right"
        },
        "images": [
         {
          "sizex": 0.12,
          "sizey": 0.12,
          "source": "https://raw.githubusercontent.com/UBICenter/blog/master/jb/_static/ubi_center_logo_wide_blue.png",
          "x": 0.98,
          "xanchor": "right",
          "xref": "paper",
          "y": -0.12,
          "yanchor": "bottom",
          "yref": "paper"
         }
        ],
        "legend": {
         "title": {
          "text": ""
         },
         "tracegroupgap": 0
        },
        "paper_bgcolor": "white",
        "plot_bgcolor": "white",
        "template": {
         "data": {
          "bar": [
           {
            "error_x": {
             "color": "#2a3f5f"
            },
            "error_y": {
             "color": "#2a3f5f"
            },
            "marker": {
             "line": {
              "color": "#E5ECF6",
              "width": 0.5
             }
            },
            "type": "bar"
           }
          ],
          "barpolar": [
           {
            "marker": {
             "line": {
              "color": "#E5ECF6",
              "width": 0.5
             }
            },
            "type": "barpolar"
           }
          ],
          "carpet": [
           {
            "aaxis": {
             "endlinecolor": "#2a3f5f",
             "gridcolor": "white",
             "linecolor": "white",
             "minorgridcolor": "white",
             "startlinecolor": "#2a3f5f"
            },
            "baxis": {
             "endlinecolor": "#2a3f5f",
             "gridcolor": "white",
             "linecolor": "white",
             "minorgridcolor": "white",
             "startlinecolor": "#2a3f5f"
            },
            "type": "carpet"
           }
          ],
          "choropleth": [
           {
            "colorbar": {
             "outlinewidth": 0,
             "ticks": ""
            },
            "type": "choropleth"
           }
          ],
          "contour": [
           {
            "colorbar": {
             "outlinewidth": 0,
             "ticks": ""
            },
            "colorscale": [
             [
              0,
              "#0d0887"
             ],
             [
              0.1111111111111111,
              "#46039f"
             ],
             [
              0.2222222222222222,
              "#7201a8"
             ],
             [
              0.3333333333333333,
              "#9c179e"
             ],
             [
              0.4444444444444444,
              "#bd3786"
             ],
             [
              0.5555555555555556,
              "#d8576b"
             ],
             [
              0.6666666666666666,
              "#ed7953"
             ],
             [
              0.7777777777777778,
              "#fb9f3a"
             ],
             [
              0.8888888888888888,
              "#fdca26"
             ],
             [
              1,
              "#f0f921"
             ]
            ],
            "type": "contour"
           }
          ],
          "contourcarpet": [
           {
            "colorbar": {
             "outlinewidth": 0,
             "ticks": ""
            },
            "type": "contourcarpet"
           }
          ],
          "heatmap": [
           {
            "colorbar": {
             "outlinewidth": 0,
             "ticks": ""
            },
            "colorscale": [
             [
              0,
              "#0d0887"
             ],
             [
              0.1111111111111111,
              "#46039f"
             ],
             [
              0.2222222222222222,
              "#7201a8"
             ],
             [
              0.3333333333333333,
              "#9c179e"
             ],
             [
              0.4444444444444444,
              "#bd3786"
             ],
             [
              0.5555555555555556,
              "#d8576b"
             ],
             [
              0.6666666666666666,
              "#ed7953"
             ],
             [
              0.7777777777777778,
              "#fb9f3a"
             ],
             [
              0.8888888888888888,
              "#fdca26"
             ],
             [
              1,
              "#f0f921"
             ]
            ],
            "type": "heatmap"
           }
          ],
          "heatmapgl": [
           {
            "colorbar": {
             "outlinewidth": 0,
             "ticks": ""
            },
            "colorscale": [
             [
              0,
              "#0d0887"
             ],
             [
              0.1111111111111111,
              "#46039f"
             ],
             [
              0.2222222222222222,
              "#7201a8"
             ],
             [
              0.3333333333333333,
              "#9c179e"
             ],
             [
              0.4444444444444444,
              "#bd3786"
             ],
             [
              0.5555555555555556,
              "#d8576b"
             ],
             [
              0.6666666666666666,
              "#ed7953"
             ],
             [
              0.7777777777777778,
              "#fb9f3a"
             ],
             [
              0.8888888888888888,
              "#fdca26"
             ],
             [
              1,
              "#f0f921"
             ]
            ],
            "type": "heatmapgl"
           }
          ],
          "histogram": [
           {
            "marker": {
             "colorbar": {
              "outlinewidth": 0,
              "ticks": ""
             }
            },
            "type": "histogram"
           }
          ],
          "histogram2d": [
           {
            "colorbar": {
             "outlinewidth": 0,
             "ticks": ""
            },
            "colorscale": [
             [
              0,
              "#0d0887"
             ],
             [
              0.1111111111111111,
              "#46039f"
             ],
             [
              0.2222222222222222,
              "#7201a8"
             ],
             [
              0.3333333333333333,
              "#9c179e"
             ],
             [
              0.4444444444444444,
              "#bd3786"
             ],
             [
              0.5555555555555556,
              "#d8576b"
             ],
             [
              0.6666666666666666,
              "#ed7953"
             ],
             [
              0.7777777777777778,
              "#fb9f3a"
             ],
             [
              0.8888888888888888,
              "#fdca26"
             ],
             [
              1,
              "#f0f921"
             ]
            ],
            "type": "histogram2d"
           }
          ],
          "histogram2dcontour": [
           {
            "colorbar": {
             "outlinewidth": 0,
             "ticks": ""
            },
            "colorscale": [
             [
              0,
              "#0d0887"
             ],
             [
              0.1111111111111111,
              "#46039f"
             ],
             [
              0.2222222222222222,
              "#7201a8"
             ],
             [
              0.3333333333333333,
              "#9c179e"
             ],
             [
              0.4444444444444444,
              "#bd3786"
             ],
             [
              0.5555555555555556,
              "#d8576b"
             ],
             [
              0.6666666666666666,
              "#ed7953"
             ],
             [
              0.7777777777777778,
              "#fb9f3a"
             ],
             [
              0.8888888888888888,
              "#fdca26"
             ],
             [
              1,
              "#f0f921"
             ]
            ],
            "type": "histogram2dcontour"
           }
          ],
          "mesh3d": [
           {
            "colorbar": {
             "outlinewidth": 0,
             "ticks": ""
            },
            "type": "mesh3d"
           }
          ],
          "parcoords": [
           {
            "line": {
             "colorbar": {
              "outlinewidth": 0,
              "ticks": ""
             }
            },
            "type": "parcoords"
           }
          ],
          "pie": [
           {
            "automargin": true,
            "type": "pie"
           }
          ],
          "scatter": [
           {
            "marker": {
             "colorbar": {
              "outlinewidth": 0,
              "ticks": ""
             }
            },
            "type": "scatter"
           }
          ],
          "scatter3d": [
           {
            "line": {
             "colorbar": {
              "outlinewidth": 0,
              "ticks": ""
             }
            },
            "marker": {
             "colorbar": {
              "outlinewidth": 0,
              "ticks": ""
             }
            },
            "type": "scatter3d"
           }
          ],
          "scattercarpet": [
           {
            "marker": {
             "colorbar": {
              "outlinewidth": 0,
              "ticks": ""
             }
            },
            "type": "scattercarpet"
           }
          ],
          "scattergeo": [
           {
            "marker": {
             "colorbar": {
              "outlinewidth": 0,
              "ticks": ""
             }
            },
            "type": "scattergeo"
           }
          ],
          "scattergl": [
           {
            "marker": {
             "colorbar": {
              "outlinewidth": 0,
              "ticks": ""
             }
            },
            "type": "scattergl"
           }
          ],
          "scattermapbox": [
           {
            "marker": {
             "colorbar": {
              "outlinewidth": 0,
              "ticks": ""
             }
            },
            "type": "scattermapbox"
           }
          ],
          "scatterpolar": [
           {
            "marker": {
             "colorbar": {
              "outlinewidth": 0,
              "ticks": ""
             }
            },
            "type": "scatterpolar"
           }
          ],
          "scatterpolargl": [
           {
            "marker": {
             "colorbar": {
              "outlinewidth": 0,
              "ticks": ""
             }
            },
            "type": "scatterpolargl"
           }
          ],
          "scatterternary": [
           {
            "marker": {
             "colorbar": {
              "outlinewidth": 0,
              "ticks": ""
             }
            },
            "type": "scatterternary"
           }
          ],
          "surface": [
           {
            "colorbar": {
             "outlinewidth": 0,
             "ticks": ""
            },
            "colorscale": [
             [
              0,
              "#0d0887"
             ],
             [
              0.1111111111111111,
              "#46039f"
             ],
             [
              0.2222222222222222,
              "#7201a8"
             ],
             [
              0.3333333333333333,
              "#9c179e"
             ],
             [
              0.4444444444444444,
              "#bd3786"
             ],
             [
              0.5555555555555556,
              "#d8576b"
             ],
             [
              0.6666666666666666,
              "#ed7953"
             ],
             [
              0.7777777777777778,
              "#fb9f3a"
             ],
             [
              0.8888888888888888,
              "#fdca26"
             ],
             [
              1,
              "#f0f921"
             ]
            ],
            "type": "surface"
           }
          ],
          "table": [
           {
            "cells": {
             "fill": {
              "color": "#EBF0F8"
             },
             "line": {
              "color": "white"
             }
            },
            "header": {
             "fill": {
              "color": "#C8D4E3"
             },
             "line": {
              "color": "white"
             }
            },
            "type": "table"
           }
          ]
         },
         "layout": {
          "annotationdefaults": {
           "arrowcolor": "#2a3f5f",
           "arrowhead": 0,
           "arrowwidth": 1
          },
          "autotypenumbers": "strict",
          "coloraxis": {
           "colorbar": {
            "outlinewidth": 0,
            "ticks": ""
           }
          },
          "colorscale": {
           "diverging": [
            [
             0,
             "#8e0152"
            ],
            [
             0.1,
             "#c51b7d"
            ],
            [
             0.2,
             "#de77ae"
            ],
            [
             0.3,
             "#f1b6da"
            ],
            [
             0.4,
             "#fde0ef"
            ],
            [
             0.5,
             "#f7f7f7"
            ],
            [
             0.6,
             "#e6f5d0"
            ],
            [
             0.7,
             "#b8e186"
            ],
            [
             0.8,
             "#7fbc41"
            ],
            [
             0.9,
             "#4d9221"
            ],
            [
             1,
             "#276419"
            ]
           ],
           "sequential": [
            [
             0,
             "#0d0887"
            ],
            [
             0.1111111111111111,
             "#46039f"
            ],
            [
             0.2222222222222222,
             "#7201a8"
            ],
            [
             0.3333333333333333,
             "#9c179e"
            ],
            [
             0.4444444444444444,
             "#bd3786"
            ],
            [
             0.5555555555555556,
             "#d8576b"
            ],
            [
             0.6666666666666666,
             "#ed7953"
            ],
            [
             0.7777777777777778,
             "#fb9f3a"
            ],
            [
             0.8888888888888888,
             "#fdca26"
            ],
            [
             1,
             "#f0f921"
            ]
           ],
           "sequentialminus": [
            [
             0,
             "#0d0887"
            ],
            [
             0.1111111111111111,
             "#46039f"
            ],
            [
             0.2222222222222222,
             "#7201a8"
            ],
            [
             0.3333333333333333,
             "#9c179e"
            ],
            [
             0.4444444444444444,
             "#bd3786"
            ],
            [
             0.5555555555555556,
             "#d8576b"
            ],
            [
             0.6666666666666666,
             "#ed7953"
            ],
            [
             0.7777777777777778,
             "#fb9f3a"
            ],
            [
             0.8888888888888888,
             "#fdca26"
            ],
            [
             1,
             "#f0f921"
            ]
           ]
          },
          "colorway": [
           "#636efa",
           "#EF553B",
           "#00cc96",
           "#ab63fa",
           "#FFA15A",
           "#19d3f3",
           "#FF6692",
           "#B6E880",
           "#FF97FF",
           "#FECB52"
          ],
          "font": {
           "color": "#2a3f5f"
          },
          "geo": {
           "bgcolor": "white",
           "lakecolor": "white",
           "landcolor": "#E5ECF6",
           "showlakes": true,
           "showland": true,
           "subunitcolor": "white"
          },
          "hoverlabel": {
           "align": "left"
          },
          "hovermode": "closest",
          "mapbox": {
           "style": "light"
          },
          "paper_bgcolor": "white",
          "plot_bgcolor": "#E5ECF6",
          "polar": {
           "angularaxis": {
            "gridcolor": "white",
            "linecolor": "white",
            "ticks": ""
           },
           "bgcolor": "#E5ECF6",
           "radialaxis": {
            "gridcolor": "white",
            "linecolor": "white",
            "ticks": ""
           }
          },
          "scene": {
           "xaxis": {
            "backgroundcolor": "#E5ECF6",
            "gridcolor": "white",
            "gridwidth": 2,
            "linecolor": "white",
            "showbackground": true,
            "ticks": "",
            "zerolinecolor": "white"
           },
           "yaxis": {
            "backgroundcolor": "#E5ECF6",
            "gridcolor": "white",
            "gridwidth": 2,
            "linecolor": "white",
            "showbackground": true,
            "ticks": "",
            "zerolinecolor": "white"
           },
           "zaxis": {
            "backgroundcolor": "#E5ECF6",
            "gridcolor": "white",
            "gridwidth": 2,
            "linecolor": "white",
            "showbackground": true,
            "ticks": "",
            "zerolinecolor": "white"
           }
          },
          "shapedefaults": {
           "line": {
            "color": "#2a3f5f"
           }
          },
          "ternary": {
           "aaxis": {
            "gridcolor": "white",
            "linecolor": "white",
            "ticks": ""
           },
           "baxis": {
            "gridcolor": "white",
            "linecolor": "white",
            "ticks": ""
           },
           "bgcolor": "#E5ECF6",
           "caxis": {
            "gridcolor": "white",
            "linecolor": "white",
            "ticks": ""
           }
          },
          "title": {
           "x": 0.05
          },
          "xaxis": {
           "automargin": true,
           "gridcolor": "white",
           "linecolor": "white",
           "ticks": "",
           "title": {
            "standoff": 15
           },
           "zerolinecolor": "white",
           "zerolinewidth": 2
          },
          "yaxis": {
           "automargin": true,
           "gridcolor": "white",
           "linecolor": "white",
           "ticks": "",
           "title": {
            "standoff": 15
           },
           "zerolinecolor": "white",
           "zerolinewidth": 2
          }
         }
        },
        "title": {
         "font": {
          "size": 20
         },
         "text": "Poverty gap trends in NYC (SPM)"
        },
        "width": 800,
        "xaxis": {
         "anchor": "y",
         "domain": [
          0,
          1
         ],
         "tickfont": {
          "size": 14
         },
         "title": {
          "font": {
           "color": "black",
           "size": 16
          },
          "text": ""
         }
        },
        "yaxis": {
         "anchor": "x",
         "domain": [
          0,
          1
         ],
         "range": [
          0,
          10000000000
         ],
         "tickfont": {
          "size": 14
         },
         "tickprefix": "$",
         "title": {
          "font": {
           "color": "black",
           "size": 16
          },
          "text": ""
         }
        }
       }
      }
     },
     "metadata": {}
    }
   ],
   "source": [
    "pov_gap_trend = year.melt(\"year\", [\"poverty_gap\", \"deep_poverty_gap\"])\n",
    "pov_gap_trend.variable = pov_gap_trend.variable.map(LABELS)\n",
    "fig = px.line(\n",
    "    pov_gap_trend,\n",
    "    \"year\",\n",
    "    \"value\",\n",
    "    color=\"variable\",\n",
    "    color_discrete_map=COLOR_MAP,\n",
    "    labels=LABELS,\n",
    "    title=\"Poverty gap trends in NYC (SPM)\")\n",
    "fig.update_layout(yaxis_tickprefix=\"$\", xaxis_title=\"\", yaxis_title=\"\", legend_title=\"\",\n",
    "    yaxis_range=[0, 1e10])\n",
    "format_fig(fig)"
   ]
  },
  {
   "source": [
    "\n",
    "To smooth out the year-by-year noise, the rest of this analysis averages the three latest years of data, from 2017 to 2019.\n",
    "\n",
    "\n",
    "# Andrew Yang's Basic Income Proposal\n",
    "\n",
    "Yang's [campaign website](https://www.yangforny.com/policies/a-basic-income-for-new-york-city) spells out core features of the plan, indicating that it would provide monthly transfers averaging $2,000 per year to the \"500,000 New Yorkers with the greatest need,\" that these transfers would supplement existing benefits, and that the $1 billion program intends to end \"extreme poverty.\"\n",
    "\n",
    "This document leaves some details unspecified, some of which Yang's campaign staff clarified to me, others of which remain open questions:\n",
    "\n",
    "\n",
    "\n",
    "1. **What is a \"New Yorker\"?** Campaign staff defined this as an adult resident of NYC, in accordance with [poverty reporting](https://www.robinhood.org/wp-content/themes/robinhood/images/poverty-tracker/pdfs/POVERTY_TRACKER_REPORT25.pdf) from the NYC-based nonprofit [Robin Hood](https://www.robinhood.org/).\n",
    "2. **How is poverty defined? **Campaign staff also confirmed to me that the poverty definitions refer to the SPM. Given SPM's accounting of housing costs, this aligns with Yang's statement that \"Our goal is to [...ensure] that every household has an annual income that is at least above extreme poverty, taking into account the true cost of living in New York City.\" Robin Hood's Poverty Tracker emulates the Census Bureau's approach with regard to the Supplemental Poverty Measure, though its results differ.\n",
    "3. **How is \"extreme poverty\" defined?** This is unclear, so I do not apply it as a defining constraint. Robin Hood's [2019 report](https://www.robinhood.org/wp-content/themes/robinhood/images/poverty-tracker/pdfs/POVERTY_TRACKER_REPORT19.pdf ), based on their [Poverty Tracker](https://www.robinhood.org/programs/special-initiatives/poverty-tracker/index.html) survey produced in conjunction with Columbia University, classified 500,000 NYC adults as in \"deep poverty,\" under the standard poverty definition of below half the poverty line. Meanwhile, the term \"extreme poverty\" is typically reserved for the World Bank's global definition of about $2 per person per day—a depth of poverty under which [virtually no Americans fall](https://www.nber.org/papers/w25907).\n",
    "4. **Are the transfers person-based or household-based? **On one hand, the program is focused on \"New Yorkers\"—adults—but on the other, it promises to end extreme poverty, which is defined at the household level. I assume that it's household-based, like other welfare benefits.\n",
    "5. **How is income defined for the purposes of qualifying for the benefit? **The emphasis on the poverty rate suggests that the income measure would be the SPM resource measure; indeed, Yang's staff confirmed that benefits like SNAP and housing assistance would count toward eligibility (though the reverse is not true). While estimating this resource measure in real time will create administrative difficulties (as I explain later), I assume that doing so is feasible and use it for my calculations.\n",
    "6. **What is the maximum amount of the transfer? **That is, how much should a household with no current income get? If the policy intends to eradicate deep poverty, then it must be at least half the household's poverty threshold. As I show in the next section, however, this is not feasible given the $1 billion budget, so I explore smaller amounts; and as I explain later, basing the transfer on a household's poverty threshold may create administrative challenges.\n",
    "7. **What is the phase-out rate (i.e. marginal tax rate) of the transfer with respect to income? **Alternatively, at what income level would the program no longer cover a household? For example, if the benefit maxes out at half a household's poverty threshold, and it phases out dollar for dollar (100% marginal tax rate), then a household whose income is half their poverty threshold would receive $0; if the marginal tax rate is 50%, they would receive $0 when their income reaches their poverty threshold. The campaign told me that it would phase out at some rate, rather than having a cliff, but they did not specify the rate.\n",
    "\n",
    "In summary, I assume that the program would guarantee a certain percentage of a household's SPM poverty threshold and phase out at a certain rate with respect to their SPM resources. To determine the parameters that satisfy Yang's constraints ($1 billion budget and 500,000 adult recipients), I turned to microsimulation.\n",
    "\n",
    "\n",
    "# Identifying a feasible reform\n",
    "\n",
    "Yang's plan has two criteria: it must reach 500,000 adults and cost $1 billion. There are also two unknown policy parameters: the maximum value (as a share of a household's poverty threshold), and the phase-out rate (with respect to resources). Many potential policies could satisfy either of these conditions, but only one satisfies both.\n",
    "\n",
    "Consider, for example, three potential phase-out rates: 25%, 50%, and 100%. The slower the phase-out, the more a given policy costs, _ceteris paribus_; UBI, with a 0% phase-out, is the most expensive option, while a 100% phase-out is cheapest (though it removes all incentive to work). At a 25% phase-out, a benefit could only guarantee 20% of the poverty threshold while staying under the $1 billion budget. At a 50% phase-out rate, the benefit could guarantee 30% of the poverty threshold, and a 100% phase-out could guarantee 39%."
   ],
   "cell_type": "markdown",
   "metadata": {}
  },
  {
   "cell_type": "code",
   "execution_count": 3,
   "metadata": {},
   "outputs": [
    {
     "output_type": "display_data",
     "data": {
      "application/vnd.plotly.v1+json": {
       "config": {
        "displayModeBar": false,
        "plotlyServerURL": "https://plot.ly"
       },
       "data": [
        {
         "hovertemplate": "Benefit phase-out rate with respect to SPM resources=25%<br>Maximum benefit as a share of SPM poverty threshold=%{x}<br>Cost ($B)=%{y:.2f}<extra></extra>",
         "legendgroup": "25%",
         "line": {
          "color": "#ABCEEB",
          "dash": "solid"
         },
         "mode": "lines",
         "name": "25%",
         "orientation": "v",
         "showlegend": true,
         "type": "scatter",
         "x": [
          0.01,
          0.02,
          0.03,
          0.04,
          0.05,
          0.06000000000000001,
          0.06999999999999999,
          0.08,
          0.09,
          0.1,
          0.11,
          0.12,
          0.13,
          0.14,
          0.15000000000000002,
          0.16,
          0.17,
          0.18000000000000002,
          0.19,
          0.2,
          0.21,
          0.22,
          0.23,
          0.24,
          0.25,
          0.26,
          0.27,
          0.28,
          0.29000000000000004,
          0.3,
          0.31,
          0.32,
          0.33,
          0.34,
          0.35000000000000003,
          0.36000000000000004,
          0.37,
          0.38,
          0.39,
          0.4,
          0.41,
          0.42,
          0.43,
          0.44,
          0.45,
          0.46,
          0.47,
          0.48,
          0.49,
          0.5
         ],
         "xaxis": "x",
         "y": [
          0.016662808184565975,
          0.03597912497059858,
          0.056856533290362186,
          0.07899468521755698,
          0.10301147939788964,
          0.12913818723160142,
          0.1573602964674948,
          0.1880480180268304,
          0.2209675596991037,
          0.2564538836822379,
          0.2954517553722781,
          0.33842574169677364,
          0.38558876360587824,
          0.4388274560255189,
          0.4987400424253236,
          0.5672042958712052,
          0.6416739726212473,
          0.7237279306884364,
          0.8154998577519764,
          0.9170476738090578,
          1.0301267465191235,
          1.1574992760948286,
          1.2961495376608754,
          1.4484142819023085,
          1.6149897630197296,
          1.7981190749037543,
          1.9980690318607652,
          2.2145322906998675,
          2.448914099323709,
          2.7017102399506463,
          2.9706526747518827,
          3.2534554002083103,
          3.5519885734858145,
          3.8635366542383562,
          4.1888592496499415,
          4.5274833082652215,
          4.877412603516257,
          5.238771813409638,
          5.6098799943363735,
          5.991908863795913,
          6.384816335774682,
          6.785529922842097,
          7.193946692501613,
          7.611678514555606,
          8.036043515744176,
          8.467805968456672,
          8.90801737535495,
          9.357688299013423,
          9.814159742227893,
          10.276574735024186
         ],
         "yaxis": "y"
        },
        {
         "hovertemplate": "Benefit phase-out rate with respect to SPM resources=50%<br>Maximum benefit as a share of SPM poverty threshold=%{x}<br>Cost ($B)=%{y:.2f}<extra></extra>",
         "legendgroup": "50%",
         "line": {
          "color": "#49A6E2",
          "dash": "solid"
         },
         "mode": "lines",
         "name": "50%",
         "orientation": "v",
         "showlegend": true,
         "type": "scatter",
         "x": [
          0.01,
          0.02,
          0.03,
          0.04,
          0.05,
          0.06000000000000001,
          0.06999999999999999,
          0.08,
          0.09,
          0.1,
          0.11,
          0.12,
          0.13,
          0.14,
          0.15000000000000002,
          0.16,
          0.17,
          0.18000000000000002,
          0.19,
          0.2,
          0.21,
          0.22,
          0.23,
          0.24,
          0.25,
          0.26,
          0.27,
          0.28,
          0.29000000000000004,
          0.3,
          0.31,
          0.32,
          0.33,
          0.34,
          0.35000000000000003,
          0.36000000000000004,
          0.37,
          0.38,
          0.39,
          0.4,
          0.41,
          0.42,
          0.43,
          0.44,
          0.45,
          0.46,
          0.47,
          0.48,
          0.49,
          0.5
         ],
         "xaxis": "x",
         "y": [
          0.015841852255804926,
          0.03332561636913195,
          0.0520409448773975,
          0.07195824994119716,
          0.09262799405121444,
          0.1137130665807244,
          0.1355224728448146,
          0.15798937043511396,
          0.1814668034489553,
          0.20602295879577925,
          0.2316489906938183,
          0.25827637446320284,
          0.285702447824484,
          0.3147205929349897,
          0.3447689893594384,
          0.3760960360536608,
          0.40836400021297947,
          0.4419351193982076,
          0.4766912803996154,
          0.5129077673644761,
          0.5508540187095136,
          0.5909035107445562,
          0.6327888036889048,
          0.6768514833935474,
          0.7225844673453945,
          0.7711775272117565,
          0.8228600399827131,
          0.8776549120510377,
          0.9352449026438164,
          0.9974800848506468,
          1.0639976421440145,
          1.1344085917424105,
          1.207651290664128,
          1.2833479452424943,
          1.3623938490916077,
          1.4474558613768729,
          1.5365621473447255,
          1.6309997155039528,
          1.7303068730225792,
          1.834095347618116,
          1.9434894063269936,
          2.060253493038247,
          2.185027534422343,
          2.3149985521896568,
          2.4503376302876823,
          2.5922990753217507,
          2.740917377148376,
          2.896828563804617,
          3.059827731390245,
          3.2299795260394597
         ],
         "yaxis": "y"
        },
        {
         "hovertemplate": "Benefit phase-out rate with respect to SPM resources=100%<br>Maximum benefit as a share of SPM poverty threshold=%{x}<br>Cost ($B)=%{y:.2f}<extra></extra>",
         "legendgroup": "100%",
         "line": {
          "color": "#0F4AA1",
          "dash": "solid"
         },
         "mode": "lines",
         "name": "100%",
         "orientation": "v",
         "showlegend": true,
         "type": "scatter",
         "x": [
          0.01,
          0.02,
          0.03,
          0.04,
          0.05,
          0.06000000000000001,
          0.06999999999999999,
          0.08,
          0.09,
          0.1,
          0.11,
          0.12,
          0.13,
          0.14,
          0.15000000000000002,
          0.16,
          0.17,
          0.18000000000000002,
          0.19,
          0.2,
          0.21,
          0.22,
          0.23,
          0.24,
          0.25,
          0.26,
          0.27,
          0.28,
          0.29000000000000004,
          0.3,
          0.31,
          0.32,
          0.33,
          0.34,
          0.35000000000000003,
          0.36000000000000004,
          0.37,
          0.38,
          0.39,
          0.4,
          0.41,
          0.42,
          0.43,
          0.44,
          0.45,
          0.46,
          0.47,
          0.48,
          0.49,
          0.5
         ],
         "xaxis": "x",
         "y": [
          0.01534657853898594,
          0.03168370451160985,
          0.04896820380837792,
          0.0666512327382639,
          0.0850866592047025,
          0.10408188975479503,
          0.12364194996755415,
          0.14391649988239433,
          0.16448350931760994,
          0.18525598810242885,
          0.2062358073012242,
          0.2274261331614488,
          0.24919779378463616,
          0.2710449456896292,
          0.2932146298482888,
          0.3159787408702279,
          0.3391558984958339,
          0.3629336068979107,
          0.3872311465978773,
          0.4120459175915585,
          0.4374313852737075,
          0.4632979813876366,
          0.4897544365311254,
          0.5165527489264057,
          0.5435168992106858,
          0.571404895648968,
          0.6002373064332329,
          0.6294411858699794,
          0.6592932947299439,
          0.6895379787188766,
          0.7204302101564761,
          0.7521920721073216,
          0.7842481671148587,
          0.8167280004259589,
          0.8499958147960859,
          0.8838702387964151,
          0.918361024790108,
          0.9533825607992308,
          0.9892981063950724,
          1.0258155347289521,
          1.063151289821699,
          1.1017080374190271,
          1.1411467500761947,
          1.1818070214891123,
          1.223030159370054,
          1.2655776073778096,
          1.309328396671761,
          1.3537029667870948,
          1.3986483377232917,
          1.445168934690789
         ],
         "yaxis": "y"
        }
       ],
       "layout": {
        "annotations": [
         {
          "align": "left",
          "font": {
           "color": "gray"
          },
          "showarrow": false,
          "text": "Yang constraint<br>$1 billion cost",
          "x": 0.05,
          "y": 1
         }
        ],
        "font": {
         "family": "Roboto"
        },
        "height": 600,
        "hoverlabel": {
         "align": "right"
        },
        "images": [
         {
          "sizex": 0.12,
          "sizey": 0.12,
          "source": "https://raw.githubusercontent.com/UBICenter/blog/master/jb/_static/ubi_center_logo_wide_blue.png",
          "x": 0.98,
          "xanchor": "right",
          "xref": "paper",
          "y": -0.12,
          "yanchor": "bottom",
          "yref": "paper"
         }
        ],
        "legend": {
         "title": {
          "text": "Benefit phase-out rate with respect to SPM resources"
         },
         "tracegroupgap": 0,
         "x": 0.01,
         "xanchor": "left",
         "y": 0.99,
         "yanchor": "top"
        },
        "paper_bgcolor": "white",
        "plot_bgcolor": "white",
        "shapes": [
         {
          "line": {
           "color": "gray",
           "dash": "dash"
          },
          "type": "line",
          "x0": 0,
          "x1": 1,
          "xref": "x domain",
          "y0": 1,
          "y1": 1,
          "yref": "y"
         }
        ],
        "template": {
         "data": {
          "bar": [
           {
            "error_x": {
             "color": "#2a3f5f"
            },
            "error_y": {
             "color": "#2a3f5f"
            },
            "marker": {
             "line": {
              "color": "#E5ECF6",
              "width": 0.5
             }
            },
            "type": "bar"
           }
          ],
          "barpolar": [
           {
            "marker": {
             "line": {
              "color": "#E5ECF6",
              "width": 0.5
             }
            },
            "type": "barpolar"
           }
          ],
          "carpet": [
           {
            "aaxis": {
             "endlinecolor": "#2a3f5f",
             "gridcolor": "white",
             "linecolor": "white",
             "minorgridcolor": "white",
             "startlinecolor": "#2a3f5f"
            },
            "baxis": {
             "endlinecolor": "#2a3f5f",
             "gridcolor": "white",
             "linecolor": "white",
             "minorgridcolor": "white",
             "startlinecolor": "#2a3f5f"
            },
            "type": "carpet"
           }
          ],
          "choropleth": [
           {
            "colorbar": {
             "outlinewidth": 0,
             "ticks": ""
            },
            "type": "choropleth"
           }
          ],
          "contour": [
           {
            "colorbar": {
             "outlinewidth": 0,
             "ticks": ""
            },
            "colorscale": [
             [
              0,
              "#0d0887"
             ],
             [
              0.1111111111111111,
              "#46039f"
             ],
             [
              0.2222222222222222,
              "#7201a8"
             ],
             [
              0.3333333333333333,
              "#9c179e"
             ],
             [
              0.4444444444444444,
              "#bd3786"
             ],
             [
              0.5555555555555556,
              "#d8576b"
             ],
             [
              0.6666666666666666,
              "#ed7953"
             ],
             [
              0.7777777777777778,
              "#fb9f3a"
             ],
             [
              0.8888888888888888,
              "#fdca26"
             ],
             [
              1,
              "#f0f921"
             ]
            ],
            "type": "contour"
           }
          ],
          "contourcarpet": [
           {
            "colorbar": {
             "outlinewidth": 0,
             "ticks": ""
            },
            "type": "contourcarpet"
           }
          ],
          "heatmap": [
           {
            "colorbar": {
             "outlinewidth": 0,
             "ticks": ""
            },
            "colorscale": [
             [
              0,
              "#0d0887"
             ],
             [
              0.1111111111111111,
              "#46039f"
             ],
             [
              0.2222222222222222,
              "#7201a8"
             ],
             [
              0.3333333333333333,
              "#9c179e"
             ],
             [
              0.4444444444444444,
              "#bd3786"
             ],
             [
              0.5555555555555556,
              "#d8576b"
             ],
             [
              0.6666666666666666,
              "#ed7953"
             ],
             [
              0.7777777777777778,
              "#fb9f3a"
             ],
             [
              0.8888888888888888,
              "#fdca26"
             ],
             [
              1,
              "#f0f921"
             ]
            ],
            "type": "heatmap"
           }
          ],
          "heatmapgl": [
           {
            "colorbar": {
             "outlinewidth": 0,
             "ticks": ""
            },
            "colorscale": [
             [
              0,
              "#0d0887"
             ],
             [
              0.1111111111111111,
              "#46039f"
             ],
             [
              0.2222222222222222,
              "#7201a8"
             ],
             [
              0.3333333333333333,
              "#9c179e"
             ],
             [
              0.4444444444444444,
              "#bd3786"
             ],
             [
              0.5555555555555556,
              "#d8576b"
             ],
             [
              0.6666666666666666,
              "#ed7953"
             ],
             [
              0.7777777777777778,
              "#fb9f3a"
             ],
             [
              0.8888888888888888,
              "#fdca26"
             ],
             [
              1,
              "#f0f921"
             ]
            ],
            "type": "heatmapgl"
           }
          ],
          "histogram": [
           {
            "marker": {
             "colorbar": {
              "outlinewidth": 0,
              "ticks": ""
             }
            },
            "type": "histogram"
           }
          ],
          "histogram2d": [
           {
            "colorbar": {
             "outlinewidth": 0,
             "ticks": ""
            },
            "colorscale": [
             [
              0,
              "#0d0887"
             ],
             [
              0.1111111111111111,
              "#46039f"
             ],
             [
              0.2222222222222222,
              "#7201a8"
             ],
             [
              0.3333333333333333,
              "#9c179e"
             ],
             [
              0.4444444444444444,
              "#bd3786"
             ],
             [
              0.5555555555555556,
              "#d8576b"
             ],
             [
              0.6666666666666666,
              "#ed7953"
             ],
             [
              0.7777777777777778,
              "#fb9f3a"
             ],
             [
              0.8888888888888888,
              "#fdca26"
             ],
             [
              1,
              "#f0f921"
             ]
            ],
            "type": "histogram2d"
           }
          ],
          "histogram2dcontour": [
           {
            "colorbar": {
             "outlinewidth": 0,
             "ticks": ""
            },
            "colorscale": [
             [
              0,
              "#0d0887"
             ],
             [
              0.1111111111111111,
              "#46039f"
             ],
             [
              0.2222222222222222,
              "#7201a8"
             ],
             [
              0.3333333333333333,
              "#9c179e"
             ],
             [
              0.4444444444444444,
              "#bd3786"
             ],
             [
              0.5555555555555556,
              "#d8576b"
             ],
             [
              0.6666666666666666,
              "#ed7953"
             ],
             [
              0.7777777777777778,
              "#fb9f3a"
             ],
             [
              0.8888888888888888,
              "#fdca26"
             ],
             [
              1,
              "#f0f921"
             ]
            ],
            "type": "histogram2dcontour"
           }
          ],
          "mesh3d": [
           {
            "colorbar": {
             "outlinewidth": 0,
             "ticks": ""
            },
            "type": "mesh3d"
           }
          ],
          "parcoords": [
           {
            "line": {
             "colorbar": {
              "outlinewidth": 0,
              "ticks": ""
             }
            },
            "type": "parcoords"
           }
          ],
          "pie": [
           {
            "automargin": true,
            "type": "pie"
           }
          ],
          "scatter": [
           {
            "marker": {
             "colorbar": {
              "outlinewidth": 0,
              "ticks": ""
             }
            },
            "type": "scatter"
           }
          ],
          "scatter3d": [
           {
            "line": {
             "colorbar": {
              "outlinewidth": 0,
              "ticks": ""
             }
            },
            "marker": {
             "colorbar": {
              "outlinewidth": 0,
              "ticks": ""
             }
            },
            "type": "scatter3d"
           }
          ],
          "scattercarpet": [
           {
            "marker": {
             "colorbar": {
              "outlinewidth": 0,
              "ticks": ""
             }
            },
            "type": "scattercarpet"
           }
          ],
          "scattergeo": [
           {
            "marker": {
             "colorbar": {
              "outlinewidth": 0,
              "ticks": ""
             }
            },
            "type": "scattergeo"
           }
          ],
          "scattergl": [
           {
            "marker": {
             "colorbar": {
              "outlinewidth": 0,
              "ticks": ""
             }
            },
            "type": "scattergl"
           }
          ],
          "scattermapbox": [
           {
            "marker": {
             "colorbar": {
              "outlinewidth": 0,
              "ticks": ""
             }
            },
            "type": "scattermapbox"
           }
          ],
          "scatterpolar": [
           {
            "marker": {
             "colorbar": {
              "outlinewidth": 0,
              "ticks": ""
             }
            },
            "type": "scatterpolar"
           }
          ],
          "scatterpolargl": [
           {
            "marker": {
             "colorbar": {
              "outlinewidth": 0,
              "ticks": ""
             }
            },
            "type": "scatterpolargl"
           }
          ],
          "scatterternary": [
           {
            "marker": {
             "colorbar": {
              "outlinewidth": 0,
              "ticks": ""
             }
            },
            "type": "scatterternary"
           }
          ],
          "surface": [
           {
            "colorbar": {
             "outlinewidth": 0,
             "ticks": ""
            },
            "colorscale": [
             [
              0,
              "#0d0887"
             ],
             [
              0.1111111111111111,
              "#46039f"
             ],
             [
              0.2222222222222222,
              "#7201a8"
             ],
             [
              0.3333333333333333,
              "#9c179e"
             ],
             [
              0.4444444444444444,
              "#bd3786"
             ],
             [
              0.5555555555555556,
              "#d8576b"
             ],
             [
              0.6666666666666666,
              "#ed7953"
             ],
             [
              0.7777777777777778,
              "#fb9f3a"
             ],
             [
              0.8888888888888888,
              "#fdca26"
             ],
             [
              1,
              "#f0f921"
             ]
            ],
            "type": "surface"
           }
          ],
          "table": [
           {
            "cells": {
             "fill": {
              "color": "#EBF0F8"
             },
             "line": {
              "color": "white"
             }
            },
            "header": {
             "fill": {
              "color": "#C8D4E3"
             },
             "line": {
              "color": "white"
             }
            },
            "type": "table"
           }
          ]
         },
         "layout": {
          "annotationdefaults": {
           "arrowcolor": "#2a3f5f",
           "arrowhead": 0,
           "arrowwidth": 1
          },
          "autotypenumbers": "strict",
          "coloraxis": {
           "colorbar": {
            "outlinewidth": 0,
            "ticks": ""
           }
          },
          "colorscale": {
           "diverging": [
            [
             0,
             "#8e0152"
            ],
            [
             0.1,
             "#c51b7d"
            ],
            [
             0.2,
             "#de77ae"
            ],
            [
             0.3,
             "#f1b6da"
            ],
            [
             0.4,
             "#fde0ef"
            ],
            [
             0.5,
             "#f7f7f7"
            ],
            [
             0.6,
             "#e6f5d0"
            ],
            [
             0.7,
             "#b8e186"
            ],
            [
             0.8,
             "#7fbc41"
            ],
            [
             0.9,
             "#4d9221"
            ],
            [
             1,
             "#276419"
            ]
           ],
           "sequential": [
            [
             0,
             "#0d0887"
            ],
            [
             0.1111111111111111,
             "#46039f"
            ],
            [
             0.2222222222222222,
             "#7201a8"
            ],
            [
             0.3333333333333333,
             "#9c179e"
            ],
            [
             0.4444444444444444,
             "#bd3786"
            ],
            [
             0.5555555555555556,
             "#d8576b"
            ],
            [
             0.6666666666666666,
             "#ed7953"
            ],
            [
             0.7777777777777778,
             "#fb9f3a"
            ],
            [
             0.8888888888888888,
             "#fdca26"
            ],
            [
             1,
             "#f0f921"
            ]
           ],
           "sequentialminus": [
            [
             0,
             "#0d0887"
            ],
            [
             0.1111111111111111,
             "#46039f"
            ],
            [
             0.2222222222222222,
             "#7201a8"
            ],
            [
             0.3333333333333333,
             "#9c179e"
            ],
            [
             0.4444444444444444,
             "#bd3786"
            ],
            [
             0.5555555555555556,
             "#d8576b"
            ],
            [
             0.6666666666666666,
             "#ed7953"
            ],
            [
             0.7777777777777778,
             "#fb9f3a"
            ],
            [
             0.8888888888888888,
             "#fdca26"
            ],
            [
             1,
             "#f0f921"
            ]
           ]
          },
          "colorway": [
           "#636efa",
           "#EF553B",
           "#00cc96",
           "#ab63fa",
           "#FFA15A",
           "#19d3f3",
           "#FF6692",
           "#B6E880",
           "#FF97FF",
           "#FECB52"
          ],
          "font": {
           "color": "#2a3f5f"
          },
          "geo": {
           "bgcolor": "white",
           "lakecolor": "white",
           "landcolor": "#E5ECF6",
           "showlakes": true,
           "showland": true,
           "subunitcolor": "white"
          },
          "hoverlabel": {
           "align": "left"
          },
          "hovermode": "closest",
          "mapbox": {
           "style": "light"
          },
          "paper_bgcolor": "white",
          "plot_bgcolor": "#E5ECF6",
          "polar": {
           "angularaxis": {
            "gridcolor": "white",
            "linecolor": "white",
            "ticks": ""
           },
           "bgcolor": "#E5ECF6",
           "radialaxis": {
            "gridcolor": "white",
            "linecolor": "white",
            "ticks": ""
           }
          },
          "scene": {
           "xaxis": {
            "backgroundcolor": "#E5ECF6",
            "gridcolor": "white",
            "gridwidth": 2,
            "linecolor": "white",
            "showbackground": true,
            "ticks": "",
            "zerolinecolor": "white"
           },
           "yaxis": {
            "backgroundcolor": "#E5ECF6",
            "gridcolor": "white",
            "gridwidth": 2,
            "linecolor": "white",
            "showbackground": true,
            "ticks": "",
            "zerolinecolor": "white"
           },
           "zaxis": {
            "backgroundcolor": "#E5ECF6",
            "gridcolor": "white",
            "gridwidth": 2,
            "linecolor": "white",
            "showbackground": true,
            "ticks": "",
            "zerolinecolor": "white"
           }
          },
          "shapedefaults": {
           "line": {
            "color": "#2a3f5f"
           }
          },
          "ternary": {
           "aaxis": {
            "gridcolor": "white",
            "linecolor": "white",
            "ticks": ""
           },
           "baxis": {
            "gridcolor": "white",
            "linecolor": "white",
            "ticks": ""
           },
           "bgcolor": "#E5ECF6",
           "caxis": {
            "gridcolor": "white",
            "linecolor": "white",
            "ticks": ""
           }
          },
          "title": {
           "x": 0.05
          },
          "xaxis": {
           "automargin": true,
           "gridcolor": "white",
           "linecolor": "white",
           "ticks": "",
           "title": {
            "standoff": 15
           },
           "zerolinecolor": "white",
           "zerolinewidth": 2
          },
          "yaxis": {
           "automargin": true,
           "gridcolor": "white",
           "linecolor": "white",
           "ticks": "",
           "title": {
            "standoff": 15
           },
           "zerolinecolor": "white",
           "zerolinewidth": 2
          }
         }
        },
        "title": {
         "font": {
          "size": 20
         },
         "text": "Cost of a means-tested benefit in New York City"
        },
        "width": 800,
        "xaxis": {
         "anchor": "y",
         "domain": [
          0,
          1
         ],
         "tickfont": {
          "size": 14
         },
         "tickformat": "%",
         "title": {
          "font": {
           "color": "black",
           "size": 16
          },
          "text": "Maximum benefit as a share of SPM poverty threshold"
         }
        },
        "yaxis": {
         "anchor": "x",
         "domain": [
          0,
          1
         ],
         "tickfont": {
          "size": 14
         },
         "tickprefix": "$",
         "ticksuffix": "B",
         "title": {
          "font": {
           "color": "black",
           "size": 16
          },
          "text": "Cost ($B)"
         }
        }
       }
      }
     },
     "metadata": {}
    }
   ],
   "source": [
    "# Use three years of data to smooth out given small sample size.\n",
    "p = py[py.year.isin([2017, 2018, 2019])].copy()\n",
    "p[[\"asecwt\", \"spmwt\"]] /= 3\n",
    "\n",
    "P_S_MERGE_COLS = [\"year\", \"spmfamunit\"]  # SPM unit keys from person.\n",
    "SPMU_COLS = [\"spmtotres\", \"spmthresh\", \"spmratio\", \"spmwt\", \"spmftotval\"]\n",
    "SPMU_AGGS = [\"adult\", \"child\"]\n",
    "\n",
    "s = p.groupby(P_S_MERGE_COLS + SPMU_COLS)[SPMU_AGGS].sum().reset_index()\n",
    "\n",
    "def phase_out(amount, rate, respect_to):\n",
    "    return np.maximum(0, amount - respect_to * rate)\n",
    "\n",
    "\n",
    "\n",
    "def policy(pov_ratio_guarantee, phase_out_rate):\n",
    "    \"\"\" Computes features of a negative income tax.\n",
    "\n",
    "    Args:\n",
    "        pov_ratio_guarantee: Maximum benefit as a share of a SPM unit's\n",
    "            poverty threshold.\n",
    "        phase_out_rate: Phase-out rate with respect to a SPM unit's resources.\n",
    "    \"\"\"\n",
    "    s[\"max_transfer\"] = s.spmthresh * pov_ratio_guarantee\n",
    "    s[\"transfer\"] = phase_out(s.max_transfer, phase_out_rate,\n",
    "                              np.maximum(s.spmtotres, 0))\n",
    "    s[\"spmtotres_r\"] = s.spmtotres + s.transfer\n",
    "    s[\"spmtotres_r_pos\"] = np.maximum(s.spmtotres_r, 0)\n",
    "    p2 = p.merge(\n",
    "        s[P_S_MERGE_COLS + [\"transfer\", \"spmtotres_r\", \"spmtotres_r_pos\"]],\n",
    "        on=P_S_MERGE_COLS\n",
    "    )\n",
    "    return pd.Series({\n",
    "        # Variables for defining policies.\n",
    "        \"cost_b\": mdf.weighted_sum(s, \"transfer\", \"spmwt\") / 1e9,\n",
    "        \"adult_reach\": p2[(p2.transfer > 0) & p2.adult].asecwt.sum(),\n",
    "        # Variables for evaluation.\n",
    "        \"spmu_reach\": s[s.transfer > 0].spmwt.sum(),\n",
    "        \"child_reach\": p2[(p2.transfer > 0) & p2.child].asecwt.sum(),\n",
    "        \"gini\": mdf.gini(s, \"spmtotres_r\", \"spmwt\"),\n",
    "        \"poverty_rate\": mdf.poverty_rate(p2, \"spmtotres_r\", \"spmthresh\", \"asecwt\"),\n",
    "        \"deep_poverty_rate\": mdf.deep_poverty_rate(p2, \"spmtotres_r\", \"spmthresh\", \"asecwt\"),\n",
    "        \"child_poverty_rate\": mdf.poverty_rate(p2[p2.child], \"spmtotres_r\", \"spmthresh\", \"asecwt\"),\n",
    "        \"child_deep_poverty_rate\": mdf.deep_poverty_rate(p2[p2.child], \"spmtotres_r\", \"spmthresh\", \"asecwt\"),\n",
    "        \"adult_poverty_rate\": mdf.poverty_rate(p2[p2.adult], \"spmtotres_r\", \"spmthresh\", \"asecwt\"),\n",
    "        \"adult_deep_poverty_rate\": mdf.deep_poverty_rate(p2[p2.adult], \"spmtotres_r\", \"spmthresh\", \"asecwt\"),\n",
    "        \"poverty_gap\": mdf.poverty_gap(s, \"spmtotres_r_pos\", \"spmthresh\", \"spmwt\"),\n",
    "        \"squared_poverty_gap\": mdf.squared_poverty_gap(s, \"spmtotres_r_pos\", \"spmthresh\", \"spmwt\"),\n",
    "        \"deep_poverty_gap\": mdf.deep_poverty_gap(s, \"spmtotres_r_pos\", \"spmthresh\", \"spmwt\"),\n",
    "    })\n",
    "\n",
    "if RUN_SIMS:\n",
    "    policies = mdf.cartesian_product({\n",
    "        \"pov_ratio_guarantee\": np.arange(0.01, 0.51, 0.01),\n",
    "        \"phase_out_rate\": np.arange(0, 1.01, 0.01)\n",
    "        })\n",
    "    policies = pd.concat([policies,\n",
    "        policies.apply(lambda x: policy(x.pov_ratio_guarantee, x.phase_out_rate), axis=1)],\n",
    "        axis=1)\n",
    "    # Takes ~5min to run.\n",
    "    policies.to_csv(\"data/policies.csv\", index=False)\n",
    "else:\n",
    "    policies = pd.read_csv(\"data/policies.csv\")\n",
    "policies[\"phase_out_rate_pct\"] = (policies.phase_out_rate * 100).astype(int).astype(str) + \"%\"\n",
    "policies\n",
    "\n",
    "fig = px.line(\n",
    "    policies[policies.phase_out_rate.isin([0.25, 0.5, 1])],\n",
    "    \"pov_ratio_guarantee\",\n",
    "    \"cost_b\",\n",
    "    hover_data={\"cost_b\": \":.2f\"},\n",
    "    color=\"phase_out_rate_pct\",\n",
    "    color_discrete_map=COLOR_MAP,\n",
    "    title=\"Cost of a means-tested benefit in New York City\",\n",
    "    labels=LABELS,\n",
    ")\n",
    "fig.add_hline(y=BUDGET / 1e9, line_dash=\"dash\", line_color=\"gray\")\n",
    "fig.add_annotation(\n",
    "    x=0.05,\n",
    "    y=BUDGET / 1e9,\n",
    "    align=\"left\",\n",
    "    text=\"Yang constraint<br>$1 billion cost\",\n",
    "    showarrow=False,\n",
    "    font_color=\"gray\",\n",
    ")\n",
    "fig.update_layout(\n",
    "    yaxis_tickprefix=\"$\",\n",
    "    yaxis_ticksuffix=\"B\",\n",
    "    xaxis_tickformat=\"%\",\n",
    "    legend=dict(\n",
    "        yanchor=\"top\",\n",
    "        y=0.99,\n",
    "        xanchor=\"left\",\n",
    "        x=0.01\n",
    "    )\n",
    ")\n",
    "format_fig(fig)"
   ]
  },
  {
   "source": [
    "To reach 500,000 adults, I run the same exercise. At a 25% phase-out, the benefit can only max out at 15% of the poverty threshold. At 50%, it's 30%, and at 100%, it's well over 50%."
   ],
   "cell_type": "markdown",
   "metadata": {}
  },
  {
   "cell_type": "code",
   "execution_count": 4,
   "metadata": {},
   "outputs": [
    {
     "output_type": "display_data",
     "data": {
      "application/vnd.plotly.v1+json": {
       "config": {
        "displayModeBar": false,
        "plotlyServerURL": "https://plot.ly"
       },
       "data": [
        {
         "hovertemplate": "Benefit phase-out rate with respect to SPM resources=25%<br>Maximum benefit as a share of SPM poverty threshold=%{x}<br>Adult recipients=%{y:,.0f}<extra></extra>",
         "legendgroup": "25%",
         "line": {
          "color": "#ABCEEB",
          "dash": "solid"
         },
         "mode": "lines",
         "name": "25%",
         "orientation": "v",
         "showlegend": true,
         "type": "scatter",
         "x": [
          0.01,
          0.02,
          0.03,
          0.04,
          0.05,
          0.06000000000000001,
          0.06999999999999999,
          0.08,
          0.09,
          0.1,
          0.11,
          0.12,
          0.13,
          0.14,
          0.15000000000000002,
          0.16,
          0.17,
          0.18000000000000002,
          0.19,
          0.2,
          0.21,
          0.22,
          0.23,
          0.24,
          0.25,
          0.26,
          0.27,
          0.28,
          0.29000000000000004,
          0.3,
          0.31,
          0.32,
          0.33,
          0.34,
          0.35000000000000003,
          0.36000000000000004,
          0.37,
          0.38,
          0.39,
          0.4,
          0.41,
          0.42,
          0.43,
          0.44,
          0.45,
          0.46,
          0.47,
          0.48,
          0.49,
          0.5
         ],
         "xaxis": "x",
         "y": [
          122027.79333333336,
          140084.25666666665,
          147629.40000000002,
          157885.61,
          172487.31333333332,
          186171.60333333333,
          207219.9633333333,
          222049.53333333333,
          238836.11,
          263852.84,
          294698.33000000013,
          326910.69999999995,
          371338.3833333333,
          415420.1166666667,
          478342.19,
          527061.0366666667,
          567151.0900000001,
          636731.8266666668,
          709228.21,
          781579.9433333331,
          883491.1399999999,
          981912.7833333334,
          1079635.7866666666,
          1188827.5333333334,
          1285708.19,
          1437404.7833333332,
          1534025.0566666666,
          1664095.7033333334,
          1787204.0566666666,
          1923911.96,
          2029187.0633333332,
          2128988.273333333,
          2247872.556666666,
          2328753.186666666,
          2440261.46,
          2522419.37,
          2614360.506666667,
          2684863.18,
          2755146.4000000004,
          2849505.9,
          2920186.900000001,
          2972150.1333333333,
          3043664.3,
          3107256.736666667,
          3155319.84,
          3217843.1366666667,
          3291593.103333333,
          3363166.936666666,
          3413617.623333333,
          3464960.006666667
         ],
         "yaxis": "y"
        },
        {
         "hovertemplate": "Benefit phase-out rate with respect to SPM resources=50%<br>Maximum benefit as a share of SPM poverty threshold=%{x}<br>Adult recipients=%{y:,.0f}<extra></extra>",
         "legendgroup": "50%",
         "line": {
          "color": "#49A6E2",
          "dash": "solid"
         },
         "mode": "lines",
         "name": "50%",
         "orientation": "v",
         "showlegend": true,
         "type": "scatter",
         "x": [
          0.01,
          0.02,
          0.03,
          0.04,
          0.05,
          0.06000000000000001,
          0.06999999999999999,
          0.08,
          0.09,
          0.1,
          0.11,
          0.12,
          0.13,
          0.14,
          0.15000000000000002,
          0.16,
          0.17,
          0.18000000000000002,
          0.19,
          0.2,
          0.21,
          0.22,
          0.23,
          0.24,
          0.25,
          0.26,
          0.27,
          0.28,
          0.29000000000000004,
          0.3,
          0.31,
          0.32,
          0.33,
          0.34,
          0.35000000000000003,
          0.36000000000000004,
          0.37,
          0.38,
          0.39,
          0.4,
          0.41,
          0.42,
          0.43,
          0.44,
          0.45,
          0.46,
          0.47,
          0.48,
          0.49,
          0.5
         ],
         "xaxis": "x",
         "y": [
          115451.83666666668,
          122027.79333333336,
          132835.89666666667,
          140084.25666666665,
          142474.98666666663,
          147629.40000000002,
          150710.69,
          157885.61,
          167735.23333333337,
          172487.31333333332,
          181719.98666666672,
          186171.60333333333,
          199489.94333333333,
          207219.9633333333,
          213570.21666666667,
          222049.53333333333,
          231446.52666666673,
          238836.11,
          251269.23666666672,
          263852.84,
          278559.27333333326,
          294698.33000000013,
          312235.37,
          326910.69999999995,
          347218.3033333333,
          371338.3833333333,
          398511.9133333333,
          415420.1166666667,
          439441.7933333333,
          478342.19,
          507067.15,
          527061.0366666667,
          550738.4099999999,
          567151.0900000001,
          607021.5333333334,
          636731.8266666668,
          672180.4266666668,
          709228.21,
          739497.9633333335,
          781579.9433333331,
          826656.9266666665,
          883491.1399999999,
          945500.08,
          981912.7833333334,
          1031185.7666666666,
          1079635.7866666666,
          1129823.386666667,
          1188827.5333333334,
          1241881.2266666666,
          1285708.19
         ],
         "yaxis": "y"
        },
        {
         "hovertemplate": "Benefit phase-out rate with respect to SPM resources=100%<br>Maximum benefit as a share of SPM poverty threshold=%{x}<br>Adult recipients=%{y:,.0f}<extra></extra>",
         "legendgroup": "100%",
         "line": {
          "color": "#0F4AA1",
          "dash": "solid"
         },
         "mode": "lines",
         "name": "100%",
         "orientation": "v",
         "showlegend": true,
         "type": "scatter",
         "x": [
          0.01,
          0.02,
          0.03,
          0.04,
          0.05,
          0.06000000000000001,
          0.06999999999999999,
          0.08,
          0.09,
          0.1,
          0.11,
          0.12,
          0.13,
          0.14,
          0.15000000000000002,
          0.16,
          0.17,
          0.18000000000000002,
          0.19,
          0.2,
          0.21,
          0.22,
          0.23,
          0.24,
          0.25,
          0.26,
          0.27,
          0.28,
          0.29000000000000004,
          0.3,
          0.31,
          0.32,
          0.33,
          0.34,
          0.35000000000000003,
          0.36000000000000004,
          0.37,
          0.38,
          0.39,
          0.4,
          0.41,
          0.42,
          0.43,
          0.44,
          0.45,
          0.46,
          0.47,
          0.48,
          0.49,
          0.5
         ],
         "xaxis": "x",
         "y": [
          108755.64,
          115451.83666666668,
          119503.92,
          122027.79333333336,
          125591.21666666667,
          132835.89666666667,
          137394.3,
          140084.25666666665,
          142474.98666666663,
          142474.98666666663,
          144910.51333333337,
          147629.40000000002,
          149865.65666666668,
          150710.69,
          155535.0433333333,
          157885.61,
          161864.0433333333,
          167735.23333333337,
          171143.9266666667,
          172487.31333333332,
          177520.02666666664,
          181719.98666666672,
          184623.57,
          186171.60333333333,
          186171.60333333333,
          199489.94333333333,
          201437.51333333337,
          207219.9633333333,
          209568.32666666672,
          213570.21666666667,
          217608.45,
          222049.53333333333,
          223142.9366666667,
          231446.52666666673,
          233555.54666666672,
          238836.11,
          244200.97,
          251269.23666666672,
          255845.33,
          263852.84,
          271209.3966666666,
          278559.27333333326,
          291390.94999999995,
          294698.33000000013,
          303818.8666666667,
          312235.37,
          324375.8666666667,
          326910.69999999995,
          335283.0066666667,
          347218.3033333333
         ],
         "yaxis": "y"
        }
       ],
       "layout": {
        "annotations": [
         {
          "align": "left",
          "font": {
           "color": "gray"
          },
          "showarrow": false,
          "text": "Yang constraint<br>500,000 adult recipients",
          "x": 0.07,
          "y": 500000
         }
        ],
        "font": {
         "family": "Roboto"
        },
        "height": 600,
        "hoverlabel": {
         "align": "right"
        },
        "images": [
         {
          "sizex": 0.12,
          "sizey": 0.12,
          "source": "https://raw.githubusercontent.com/UBICenter/blog/master/jb/_static/ubi_center_logo_wide_blue.png",
          "x": 0.98,
          "xanchor": "right",
          "xref": "paper",
          "y": -0.12,
          "yanchor": "bottom",
          "yref": "paper"
         }
        ],
        "legend": {
         "title": {
          "text": "Benefit phase-out rate with respect to SPM resources"
         },
         "tracegroupgap": 0,
         "x": 0.01,
         "xanchor": "left",
         "y": 0.99,
         "yanchor": "top"
        },
        "paper_bgcolor": "white",
        "plot_bgcolor": "white",
        "shapes": [
         {
          "line": {
           "color": "gray",
           "dash": "dash"
          },
          "type": "line",
          "x0": 0,
          "x1": 1,
          "xref": "x domain",
          "y0": 500000,
          "y1": 500000,
          "yref": "y"
         }
        ],
        "template": {
         "data": {
          "bar": [
           {
            "error_x": {
             "color": "#2a3f5f"
            },
            "error_y": {
             "color": "#2a3f5f"
            },
            "marker": {
             "line": {
              "color": "#E5ECF6",
              "width": 0.5
             }
            },
            "type": "bar"
           }
          ],
          "barpolar": [
           {
            "marker": {
             "line": {
              "color": "#E5ECF6",
              "width": 0.5
             }
            },
            "type": "barpolar"
           }
          ],
          "carpet": [
           {
            "aaxis": {
             "endlinecolor": "#2a3f5f",
             "gridcolor": "white",
             "linecolor": "white",
             "minorgridcolor": "white",
             "startlinecolor": "#2a3f5f"
            },
            "baxis": {
             "endlinecolor": "#2a3f5f",
             "gridcolor": "white",
             "linecolor": "white",
             "minorgridcolor": "white",
             "startlinecolor": "#2a3f5f"
            },
            "type": "carpet"
           }
          ],
          "choropleth": [
           {
            "colorbar": {
             "outlinewidth": 0,
             "ticks": ""
            },
            "type": "choropleth"
           }
          ],
          "contour": [
           {
            "colorbar": {
             "outlinewidth": 0,
             "ticks": ""
            },
            "colorscale": [
             [
              0,
              "#0d0887"
             ],
             [
              0.1111111111111111,
              "#46039f"
             ],
             [
              0.2222222222222222,
              "#7201a8"
             ],
             [
              0.3333333333333333,
              "#9c179e"
             ],
             [
              0.4444444444444444,
              "#bd3786"
             ],
             [
              0.5555555555555556,
              "#d8576b"
             ],
             [
              0.6666666666666666,
              "#ed7953"
             ],
             [
              0.7777777777777778,
              "#fb9f3a"
             ],
             [
              0.8888888888888888,
              "#fdca26"
             ],
             [
              1,
              "#f0f921"
             ]
            ],
            "type": "contour"
           }
          ],
          "contourcarpet": [
           {
            "colorbar": {
             "outlinewidth": 0,
             "ticks": ""
            },
            "type": "contourcarpet"
           }
          ],
          "heatmap": [
           {
            "colorbar": {
             "outlinewidth": 0,
             "ticks": ""
            },
            "colorscale": [
             [
              0,
              "#0d0887"
             ],
             [
              0.1111111111111111,
              "#46039f"
             ],
             [
              0.2222222222222222,
              "#7201a8"
             ],
             [
              0.3333333333333333,
              "#9c179e"
             ],
             [
              0.4444444444444444,
              "#bd3786"
             ],
             [
              0.5555555555555556,
              "#d8576b"
             ],
             [
              0.6666666666666666,
              "#ed7953"
             ],
             [
              0.7777777777777778,
              "#fb9f3a"
             ],
             [
              0.8888888888888888,
              "#fdca26"
             ],
             [
              1,
              "#f0f921"
             ]
            ],
            "type": "heatmap"
           }
          ],
          "heatmapgl": [
           {
            "colorbar": {
             "outlinewidth": 0,
             "ticks": ""
            },
            "colorscale": [
             [
              0,
              "#0d0887"
             ],
             [
              0.1111111111111111,
              "#46039f"
             ],
             [
              0.2222222222222222,
              "#7201a8"
             ],
             [
              0.3333333333333333,
              "#9c179e"
             ],
             [
              0.4444444444444444,
              "#bd3786"
             ],
             [
              0.5555555555555556,
              "#d8576b"
             ],
             [
              0.6666666666666666,
              "#ed7953"
             ],
             [
              0.7777777777777778,
              "#fb9f3a"
             ],
             [
              0.8888888888888888,
              "#fdca26"
             ],
             [
              1,
              "#f0f921"
             ]
            ],
            "type": "heatmapgl"
           }
          ],
          "histogram": [
           {
            "marker": {
             "colorbar": {
              "outlinewidth": 0,
              "ticks": ""
             }
            },
            "type": "histogram"
           }
          ],
          "histogram2d": [
           {
            "colorbar": {
             "outlinewidth": 0,
             "ticks": ""
            },
            "colorscale": [
             [
              0,
              "#0d0887"
             ],
             [
              0.1111111111111111,
              "#46039f"
             ],
             [
              0.2222222222222222,
              "#7201a8"
             ],
             [
              0.3333333333333333,
              "#9c179e"
             ],
             [
              0.4444444444444444,
              "#bd3786"
             ],
             [
              0.5555555555555556,
              "#d8576b"
             ],
             [
              0.6666666666666666,
              "#ed7953"
             ],
             [
              0.7777777777777778,
              "#fb9f3a"
             ],
             [
              0.8888888888888888,
              "#fdca26"
             ],
             [
              1,
              "#f0f921"
             ]
            ],
            "type": "histogram2d"
           }
          ],
          "histogram2dcontour": [
           {
            "colorbar": {
             "outlinewidth": 0,
             "ticks": ""
            },
            "colorscale": [
             [
              0,
              "#0d0887"
             ],
             [
              0.1111111111111111,
              "#46039f"
             ],
             [
              0.2222222222222222,
              "#7201a8"
             ],
             [
              0.3333333333333333,
              "#9c179e"
             ],
             [
              0.4444444444444444,
              "#bd3786"
             ],
             [
              0.5555555555555556,
              "#d8576b"
             ],
             [
              0.6666666666666666,
              "#ed7953"
             ],
             [
              0.7777777777777778,
              "#fb9f3a"
             ],
             [
              0.8888888888888888,
              "#fdca26"
             ],
             [
              1,
              "#f0f921"
             ]
            ],
            "type": "histogram2dcontour"
           }
          ],
          "mesh3d": [
           {
            "colorbar": {
             "outlinewidth": 0,
             "ticks": ""
            },
            "type": "mesh3d"
           }
          ],
          "parcoords": [
           {
            "line": {
             "colorbar": {
              "outlinewidth": 0,
              "ticks": ""
             }
            },
            "type": "parcoords"
           }
          ],
          "pie": [
           {
            "automargin": true,
            "type": "pie"
           }
          ],
          "scatter": [
           {
            "marker": {
             "colorbar": {
              "outlinewidth": 0,
              "ticks": ""
             }
            },
            "type": "scatter"
           }
          ],
          "scatter3d": [
           {
            "line": {
             "colorbar": {
              "outlinewidth": 0,
              "ticks": ""
             }
            },
            "marker": {
             "colorbar": {
              "outlinewidth": 0,
              "ticks": ""
             }
            },
            "type": "scatter3d"
           }
          ],
          "scattercarpet": [
           {
            "marker": {
             "colorbar": {
              "outlinewidth": 0,
              "ticks": ""
             }
            },
            "type": "scattercarpet"
           }
          ],
          "scattergeo": [
           {
            "marker": {
             "colorbar": {
              "outlinewidth": 0,
              "ticks": ""
             }
            },
            "type": "scattergeo"
           }
          ],
          "scattergl": [
           {
            "marker": {
             "colorbar": {
              "outlinewidth": 0,
              "ticks": ""
             }
            },
            "type": "scattergl"
           }
          ],
          "scattermapbox": [
           {
            "marker": {
             "colorbar": {
              "outlinewidth": 0,
              "ticks": ""
             }
            },
            "type": "scattermapbox"
           }
          ],
          "scatterpolar": [
           {
            "marker": {
             "colorbar": {
              "outlinewidth": 0,
              "ticks": ""
             }
            },
            "type": "scatterpolar"
           }
          ],
          "scatterpolargl": [
           {
            "marker": {
             "colorbar": {
              "outlinewidth": 0,
              "ticks": ""
             }
            },
            "type": "scatterpolargl"
           }
          ],
          "scatterternary": [
           {
            "marker": {
             "colorbar": {
              "outlinewidth": 0,
              "ticks": ""
             }
            },
            "type": "scatterternary"
           }
          ],
          "surface": [
           {
            "colorbar": {
             "outlinewidth": 0,
             "ticks": ""
            },
            "colorscale": [
             [
              0,
              "#0d0887"
             ],
             [
              0.1111111111111111,
              "#46039f"
             ],
             [
              0.2222222222222222,
              "#7201a8"
             ],
             [
              0.3333333333333333,
              "#9c179e"
             ],
             [
              0.4444444444444444,
              "#bd3786"
             ],
             [
              0.5555555555555556,
              "#d8576b"
             ],
             [
              0.6666666666666666,
              "#ed7953"
             ],
             [
              0.7777777777777778,
              "#fb9f3a"
             ],
             [
              0.8888888888888888,
              "#fdca26"
             ],
             [
              1,
              "#f0f921"
             ]
            ],
            "type": "surface"
           }
          ],
          "table": [
           {
            "cells": {
             "fill": {
              "color": "#EBF0F8"
             },
             "line": {
              "color": "white"
             }
            },
            "header": {
             "fill": {
              "color": "#C8D4E3"
             },
             "line": {
              "color": "white"
             }
            },
            "type": "table"
           }
          ]
         },
         "layout": {
          "annotationdefaults": {
           "arrowcolor": "#2a3f5f",
           "arrowhead": 0,
           "arrowwidth": 1
          },
          "autotypenumbers": "strict",
          "coloraxis": {
           "colorbar": {
            "outlinewidth": 0,
            "ticks": ""
           }
          },
          "colorscale": {
           "diverging": [
            [
             0,
             "#8e0152"
            ],
            [
             0.1,
             "#c51b7d"
            ],
            [
             0.2,
             "#de77ae"
            ],
            [
             0.3,
             "#f1b6da"
            ],
            [
             0.4,
             "#fde0ef"
            ],
            [
             0.5,
             "#f7f7f7"
            ],
            [
             0.6,
             "#e6f5d0"
            ],
            [
             0.7,
             "#b8e186"
            ],
            [
             0.8,
             "#7fbc41"
            ],
            [
             0.9,
             "#4d9221"
            ],
            [
             1,
             "#276419"
            ]
           ],
           "sequential": [
            [
             0,
             "#0d0887"
            ],
            [
             0.1111111111111111,
             "#46039f"
            ],
            [
             0.2222222222222222,
             "#7201a8"
            ],
            [
             0.3333333333333333,
             "#9c179e"
            ],
            [
             0.4444444444444444,
             "#bd3786"
            ],
            [
             0.5555555555555556,
             "#d8576b"
            ],
            [
             0.6666666666666666,
             "#ed7953"
            ],
            [
             0.7777777777777778,
             "#fb9f3a"
            ],
            [
             0.8888888888888888,
             "#fdca26"
            ],
            [
             1,
             "#f0f921"
            ]
           ],
           "sequentialminus": [
            [
             0,
             "#0d0887"
            ],
            [
             0.1111111111111111,
             "#46039f"
            ],
            [
             0.2222222222222222,
             "#7201a8"
            ],
            [
             0.3333333333333333,
             "#9c179e"
            ],
            [
             0.4444444444444444,
             "#bd3786"
            ],
            [
             0.5555555555555556,
             "#d8576b"
            ],
            [
             0.6666666666666666,
             "#ed7953"
            ],
            [
             0.7777777777777778,
             "#fb9f3a"
            ],
            [
             0.8888888888888888,
             "#fdca26"
            ],
            [
             1,
             "#f0f921"
            ]
           ]
          },
          "colorway": [
           "#636efa",
           "#EF553B",
           "#00cc96",
           "#ab63fa",
           "#FFA15A",
           "#19d3f3",
           "#FF6692",
           "#B6E880",
           "#FF97FF",
           "#FECB52"
          ],
          "font": {
           "color": "#2a3f5f"
          },
          "geo": {
           "bgcolor": "white",
           "lakecolor": "white",
           "landcolor": "#E5ECF6",
           "showlakes": true,
           "showland": true,
           "subunitcolor": "white"
          },
          "hoverlabel": {
           "align": "left"
          },
          "hovermode": "closest",
          "mapbox": {
           "style": "light"
          },
          "paper_bgcolor": "white",
          "plot_bgcolor": "#E5ECF6",
          "polar": {
           "angularaxis": {
            "gridcolor": "white",
            "linecolor": "white",
            "ticks": ""
           },
           "bgcolor": "#E5ECF6",
           "radialaxis": {
            "gridcolor": "white",
            "linecolor": "white",
            "ticks": ""
           }
          },
          "scene": {
           "xaxis": {
            "backgroundcolor": "#E5ECF6",
            "gridcolor": "white",
            "gridwidth": 2,
            "linecolor": "white",
            "showbackground": true,
            "ticks": "",
            "zerolinecolor": "white"
           },
           "yaxis": {
            "backgroundcolor": "#E5ECF6",
            "gridcolor": "white",
            "gridwidth": 2,
            "linecolor": "white",
            "showbackground": true,
            "ticks": "",
            "zerolinecolor": "white"
           },
           "zaxis": {
            "backgroundcolor": "#E5ECF6",
            "gridcolor": "white",
            "gridwidth": 2,
            "linecolor": "white",
            "showbackground": true,
            "ticks": "",
            "zerolinecolor": "white"
           }
          },
          "shapedefaults": {
           "line": {
            "color": "#2a3f5f"
           }
          },
          "ternary": {
           "aaxis": {
            "gridcolor": "white",
            "linecolor": "white",
            "ticks": ""
           },
           "baxis": {
            "gridcolor": "white",
            "linecolor": "white",
            "ticks": ""
           },
           "bgcolor": "#E5ECF6",
           "caxis": {
            "gridcolor": "white",
            "linecolor": "white",
            "ticks": ""
           }
          },
          "title": {
           "x": 0.05
          },
          "xaxis": {
           "automargin": true,
           "gridcolor": "white",
           "linecolor": "white",
           "ticks": "",
           "title": {
            "standoff": 15
           },
           "zerolinecolor": "white",
           "zerolinewidth": 2
          },
          "yaxis": {
           "automargin": true,
           "gridcolor": "white",
           "linecolor": "white",
           "ticks": "",
           "title": {
            "standoff": 15
           },
           "zerolinecolor": "white",
           "zerolinewidth": 2
          }
         }
        },
        "title": {
         "font": {
          "size": 20
         },
         "text": "Adults receiving a means-tested benefit in New York City"
        },
        "width": 800,
        "xaxis": {
         "anchor": "y",
         "domain": [
          0,
          1
         ],
         "tickfont": {
          "size": 14
         },
         "tickformat": "%",
         "title": {
          "font": {
           "color": "black",
           "size": 16
          },
          "text": "Maximum benefit as a share of SPM poverty threshold"
         }
        },
        "yaxis": {
         "anchor": "x",
         "domain": [
          0,
          1
         ],
         "tickfont": {
          "size": 14
         },
         "tickformat": ",",
         "title": {
          "font": {
           "color": "black",
           "size": 16
          },
          "text": "Adult recipients"
         }
        }
       }
      }
     },
     "metadata": {}
    }
   ],
   "source": [
    "fig = px.line(\n",
    "    policies[policies.phase_out_rate.isin([0.25, 0.5, 1])],\n",
    "    \"pov_ratio_guarantee\",\n",
    "    \"adult_reach\",\n",
    "    hover_data={\"adult_reach\": \":,.0f\"},\n",
    "    color=\"phase_out_rate_pct\",\n",
    "    color_discrete_map=COLOR_MAP,\n",
    "    title=\"Adults receiving a means-tested benefit in New York City\",\n",
    "    labels=LABELS,\n",
    ")\n",
    "fig.add_hline(y=REACH, line_dash=\"dash\", line_color=\"gray\")\n",
    "fig.add_annotation(\n",
    "    x=0.07,\n",
    "    y=REACH,\n",
    "    align=\"left\",\n",
    "    text=\"Yang constraint<br>500,000 adult recipients\",\n",
    "    showarrow=False,\n",
    "    font_color=\"gray\",\n",
    ")\n",
    "fig.update_layout(\n",
    "    yaxis_tickformat=\",\",\n",
    "    xaxis_tickformat=\"%\",\n",
    "    legend=dict(\n",
    "        yanchor=\"top\",\n",
    "        y=0.99,\n",
    "        xanchor=\"left\",\n",
    "        x=0.01\n",
    "    )\n",
    ")\n",
    "format_fig(fig)"
   ]
  },
  {
   "source": [
    "Combining these constraints, we can map the contours that satisfy each condition. This reveals that the policy that satisfies both (a) guarantees 30% of the poverty line, and (b) phases out at 50 cents per dollar of income."
   ],
   "cell_type": "markdown",
   "metadata": {}
  },
  {
   "cell_type": "code",
   "execution_count": 5,
   "metadata": {},
   "outputs": [
    {
     "output_type": "display_data",
     "data": {
      "application/vnd.plotly.v1+json": {
       "config": {
        "displayModeBar": false,
        "plotlyServerURL": "https://plot.ly"
       },
       "data": [
        {
         "customdata": [
          [
           0.8606829549739458,
           6660054.133333334
          ],
          [
           0.4110629894009674,
           3464960.006666667
          ],
          [
           0.96041015600991,
           4685699.956666667
          ],
          [
           0.8221259788019348,
           3464960.006666667
          ],
          [
           0.7981449602919524,
           2948434.05
          ],
          [
           0.8090720631861185,
           2648098.226666666
          ],
          [
           0.8377718499299877,
           2440261.46
          ],
          [
           0.8770556414243248,
           2269079.0133333337
          ],
          [
           0.9226154967142332,
           2147328.163333333
          ],
          [
           0.9727724731551184,
           2055361.8566666662
          ],
          [
           0.8416094709926005,
           1600669.636666667
          ],
          [
           0.9042856032355592,
           1573107.97
          ],
          [
           0.9673861601202042,
           1548062.19
          ],
          [
           0.9043942672910488,
           1285708.19
          ],
          [
           0.9689938578118384,
           1285708.19
          ],
          [
           0.9349541911838679,
           1136414.673333333
          ],
          [
           0.998971174173082,
           1153422.373333333
          ],
          [
           0.9801350521150728,
           1031185.7666666666
          ],
          [
           0.971668079000101,
           947453.43
          ],
          [
           0.9697787097214692,
           870837.99
          ],
          [
           0.9752228275595206,
           793097.7966666665
          ],
          [
           0.9852685433057432,
           753412.8266666668
          ],
          [
           0.9982577946446513,
           724311.4866666669
          ],
          [
           0.9763184923722408,
           646228.0033333334
          ],
          [
           0.9959816674096278,
           632092.8266666668
          ],
          [
           0.9876497211894985,
           569988.8400000001
          ],
          [
           0.985800670837744,
           546197.6166666667
          ],
          [
           0.9868463007935144,
           523105.6233333334
          ],
          [
           0.9905547610273879,
           502795.47666666674
          ],
          [
           0.9974800848506468,
           478342.19
          ],
          [
           0.9912571104342612,
           430512.07
          ],
          [
           0.9914354945735344,
           407368.7566666667
          ],
          [
           0.9949087969802038,
           385050.18333333335
          ],
          [
           0.9919106740573044,
           354904.03333333327
          ],
          [
           0.9943703367974036,
           331131.19666666666
          ],
          [
           0.9997973903832093,
           323240.84
          ],
          [
           0.9943531669921454,
           294698.33000000013
          ],
          [
           0.999343098772663,
           281163.48
          ],
          [
           0.997931583679851,
           263041.84333333327
          ]
         ],
         "hovertemplate": "Constraint=$1 billion cost<br>Maximum benefit as a share of SPM poverty threshold=%{x}<br>Benefit phase-out rate with respect to SPM resources=%{y}<br>Cost ($B)=%{customdata[0]:.2f}<br>Adult recipients=%{customdata[1]:,.0f}<extra></extra>",
         "legendgroup": "$1 billion cost",
         "line": {
          "color": "#BDBDBD",
          "dash": "solid"
         },
         "mode": "lines",
         "name": "$1 billion cost",
         "orientation": "v",
         "showlegend": true,
         "type": "scatter",
         "x": [
          0.01,
          0.02,
          0.03,
          0.04,
          0.05,
          0.06000000000000001,
          0.06999999999999999,
          0.08,
          0.09,
          0.1,
          0.11,
          0.12,
          0.13,
          0.14,
          0.15000000000000002,
          0.16,
          0.17,
          0.18000000000000002,
          0.19,
          0.2,
          0.21,
          0.22,
          0.23,
          0.24,
          0.25,
          0.26,
          0.27,
          0.28,
          0.29000000000000004,
          0.3,
          0.31,
          0.32,
          0.33,
          0.34,
          0.35000000000000003,
          0.36000000000000004,
          0.37,
          0.38,
          0.39
         ],
         "xaxis": "x",
         "y": [
          0,
          0.01,
          0.01,
          0.02,
          0.03,
          0.04,
          0.05,
          0.06,
          0.07,
          0.08,
          0.1,
          0.11,
          0.12,
          0.14,
          0.15,
          0.17,
          0.18,
          0.2,
          0.22,
          0.24,
          0.26,
          0.28,
          0.3,
          0.33,
          0.35000000000000003,
          0.38,
          0.41,
          0.44,
          0.47,
          0.5,
          0.54,
          0.58,
          0.62,
          0.67,
          0.72,
          0.77,
          0.84,
          0.9,
          0.98
         ],
         "yaxis": "y"
        },
        {
         "customdata": [
          [
           0.02890337869381578,
           347218.3033333333
          ],
          [
           0.05780675738763156,
           347218.3033333333
          ],
          [
           0.09974800848506464,
           478342.19
          ],
          [
           0.12742288917064906,
           427792.18000000005
          ],
          [
           0.1557447844630044,
           411352.18666666665
          ],
          [
           0.19949601697012934,
           478342.19
          ],
          [
           0.22685630319814595,
           446127.1466666667
          ],
          [
           0.2725360315404643,
           498910.2633333333
          ],
          [
           0.2992440254551941,
           478342.19
          ],
          [
           0.3264711065577254,
           459635.6966666667
          ],
          [
           0.3722032611072068,
           491071.79
          ],
          [
           0.3989920339402586,
           478342.19
          ],
          [
           0.42617800056961214,
           466344.25
          ],
          [
           0.4719121581684801,
           489885.31000000006
          ],
          [
           0.4987400424253236,
           478342.19
          ],
          [
           0.5450720630809286,
           498910.2633333333
          ],
          [
           0.5716213043905533,
           489885.31000000006
          ],
          [
           0.5984880509103883,
           478342.19
          ],
          [
           0.6447125246094578,
           494979.29
          ],
          [
           0.6713321320418265,
           489172.84
          ],
          [
           0.6982360593954527,
           478342.19
          ],
          [
           0.7444065222144136,
           491071.79
          ],
          [
           0.7710540633011987,
           486418.18333333347
          ],
          [
           0.8176080946213927,
           498910.2633333333
          ],
          [
           0.8441151701148868,
           489885.31000000006
          ],
          [
           0.8707872763066524,
           481610.6166666667
          ],
          [
           0.9172464922198283,
           498247.54
          ],
          [
           0.9438243163369602,
           489885.31000000006
          ],
          [
           0.9705283675039876,
           481610.6166666667
          ],
          [
           1.0169081119235477,
           491071.79
          ],
          [
           1.0435334625590331,
           489885.31000000006
          ],
          [
           1.0901441261618572,
           498910.2633333333
          ],
          [
           1.1166097833216204,
           491071.79
          ],
          [
           1.1432426087811065,
           489885.31000000006
          ],
          [
           1.1897818303426262,
           498247.54
          ],
          [
           1.216318182061294,
           489885.31000000006
          ],
          [
           1.2429517550031794,
           489885.31000000006
          ],
          [
           1.2894250492189157,
           494979.29
          ],
          [
           1.316027328283367,
           489885.31000000006
          ],
          [
           1.362680157702321,
           498910.2633333333
          ],
          [
           1.3891113730307545,
           491071.79
          ],
          [
           1.4157364745054402,
           489885.31000000006
          ],
          [
           1.462317168465423,
           498247.54
          ],
          [
           1.4888130444288272,
           491071.79
          ],
          [
           1.515445620727513,
           489885.31000000006
          ],
          [
           1.5619576463168592,
           498247.54
          ],
          [
           1.5885211940077006,
           489885.31000000006
          ],
          [
           1.6352161892427854,
           498910.2633333333
          ],
          [
           1.6616143098420553,
           494040.8966666667
          ],
          [
           1.6882303402297736,
           489885.31000000006
          ]
         ],
         "hovertemplate": "Constraint=500,000 adult recipients<br>Maximum benefit as a share of SPM poverty threshold=%{x}<br>Benefit phase-out rate with respect to SPM resources=%{y}<br>Cost ($B)=%{customdata[0]:.2f}<br>Adult recipients=%{customdata[1]:,.0f}<extra></extra>",
         "legendgroup": "500,000 adult recipients",
         "line": {
          "color": "#1976D2",
          "dash": "solid"
         },
         "mode": "lines",
         "name": "500,000 adult recipients",
         "orientation": "v",
         "showlegend": true,
         "type": "scatter",
         "x": [
          0.01,
          0.02,
          0.03,
          0.04,
          0.05,
          0.06000000000000001,
          0.06999999999999999,
          0.08,
          0.09,
          0.1,
          0.11,
          0.12,
          0.13,
          0.14,
          0.15000000000000002,
          0.16,
          0.17,
          0.18000000000000002,
          0.19,
          0.2,
          0.21,
          0.22,
          0.23,
          0.24,
          0.25,
          0.26,
          0.27,
          0.28,
          0.29000000000000004,
          0.3,
          0.31,
          0.32,
          0.33,
          0.34,
          0.35000000000000003,
          0.36000000000000004,
          0.37,
          0.38,
          0.39,
          0.4,
          0.41,
          0.42,
          0.43,
          0.44,
          0.45,
          0.46,
          0.47,
          0.48,
          0.49,
          0.5
         ],
         "xaxis": "x",
         "y": [
          0.02,
          0.04,
          0.05,
          0.07,
          0.09,
          0.1,
          0.12,
          0.13,
          0.15,
          0.17,
          0.18,
          0.2,
          0.22,
          0.23,
          0.25,
          0.26,
          0.28,
          0.3,
          0.31,
          0.33,
          0.35000000000000003,
          0.36,
          0.38,
          0.39,
          0.41,
          0.43,
          0.44,
          0.46,
          0.48,
          0.49,
          0.51,
          0.52,
          0.54,
          0.56,
          0.5700000000000001,
          0.59,
          0.61,
          0.62,
          0.64,
          0.65,
          0.67,
          0.6900000000000001,
          0.7000000000000001,
          0.72,
          0.74,
          0.75,
          0.77,
          0.78,
          0.8,
          0.8200000000000001
         ],
         "yaxis": "y"
        }
       ],
       "layout": {
        "annotations": [
         {
          "text": "Maximum benefit: 30% of poverty threshold<br>Phase-out rate: 50%",
          "x": 0.3,
          "y": 0.5
         }
        ],
        "font": {
         "family": "Roboto"
        },
        "height": 600,
        "hoverlabel": {
         "align": "right"
        },
        "images": [
         {
          "sizex": 0.12,
          "sizey": 0.12,
          "source": "https://raw.githubusercontent.com/UBICenter/blog/master/jb/_static/ubi_center_logo_wide_blue.png",
          "x": 0.98,
          "xanchor": "right",
          "xref": "paper",
          "y": -0.12,
          "yanchor": "bottom",
          "yref": "paper"
         }
        ],
        "legend": {
         "title": {
          "text": "Constraint"
         },
         "tracegroupgap": 0,
         "x": 0.01,
         "xanchor": "left",
         "y": 0.99,
         "yanchor": "top"
        },
        "paper_bgcolor": "white",
        "plot_bgcolor": "white",
        "template": {
         "data": {
          "bar": [
           {
            "error_x": {
             "color": "#2a3f5f"
            },
            "error_y": {
             "color": "#2a3f5f"
            },
            "marker": {
             "line": {
              "color": "#E5ECF6",
              "width": 0.5
             }
            },
            "type": "bar"
           }
          ],
          "barpolar": [
           {
            "marker": {
             "line": {
              "color": "#E5ECF6",
              "width": 0.5
             }
            },
            "type": "barpolar"
           }
          ],
          "carpet": [
           {
            "aaxis": {
             "endlinecolor": "#2a3f5f",
             "gridcolor": "white",
             "linecolor": "white",
             "minorgridcolor": "white",
             "startlinecolor": "#2a3f5f"
            },
            "baxis": {
             "endlinecolor": "#2a3f5f",
             "gridcolor": "white",
             "linecolor": "white",
             "minorgridcolor": "white",
             "startlinecolor": "#2a3f5f"
            },
            "type": "carpet"
           }
          ],
          "choropleth": [
           {
            "colorbar": {
             "outlinewidth": 0,
             "ticks": ""
            },
            "type": "choropleth"
           }
          ],
          "contour": [
           {
            "colorbar": {
             "outlinewidth": 0,
             "ticks": ""
            },
            "colorscale": [
             [
              0,
              "#0d0887"
             ],
             [
              0.1111111111111111,
              "#46039f"
             ],
             [
              0.2222222222222222,
              "#7201a8"
             ],
             [
              0.3333333333333333,
              "#9c179e"
             ],
             [
              0.4444444444444444,
              "#bd3786"
             ],
             [
              0.5555555555555556,
              "#d8576b"
             ],
             [
              0.6666666666666666,
              "#ed7953"
             ],
             [
              0.7777777777777778,
              "#fb9f3a"
             ],
             [
              0.8888888888888888,
              "#fdca26"
             ],
             [
              1,
              "#f0f921"
             ]
            ],
            "type": "contour"
           }
          ],
          "contourcarpet": [
           {
            "colorbar": {
             "outlinewidth": 0,
             "ticks": ""
            },
            "type": "contourcarpet"
           }
          ],
          "heatmap": [
           {
            "colorbar": {
             "outlinewidth": 0,
             "ticks": ""
            },
            "colorscale": [
             [
              0,
              "#0d0887"
             ],
             [
              0.1111111111111111,
              "#46039f"
             ],
             [
              0.2222222222222222,
              "#7201a8"
             ],
             [
              0.3333333333333333,
              "#9c179e"
             ],
             [
              0.4444444444444444,
              "#bd3786"
             ],
             [
              0.5555555555555556,
              "#d8576b"
             ],
             [
              0.6666666666666666,
              "#ed7953"
             ],
             [
              0.7777777777777778,
              "#fb9f3a"
             ],
             [
              0.8888888888888888,
              "#fdca26"
             ],
             [
              1,
              "#f0f921"
             ]
            ],
            "type": "heatmap"
           }
          ],
          "heatmapgl": [
           {
            "colorbar": {
             "outlinewidth": 0,
             "ticks": ""
            },
            "colorscale": [
             [
              0,
              "#0d0887"
             ],
             [
              0.1111111111111111,
              "#46039f"
             ],
             [
              0.2222222222222222,
              "#7201a8"
             ],
             [
              0.3333333333333333,
              "#9c179e"
             ],
             [
              0.4444444444444444,
              "#bd3786"
             ],
             [
              0.5555555555555556,
              "#d8576b"
             ],
             [
              0.6666666666666666,
              "#ed7953"
             ],
             [
              0.7777777777777778,
              "#fb9f3a"
             ],
             [
              0.8888888888888888,
              "#fdca26"
             ],
             [
              1,
              "#f0f921"
             ]
            ],
            "type": "heatmapgl"
           }
          ],
          "histogram": [
           {
            "marker": {
             "colorbar": {
              "outlinewidth": 0,
              "ticks": ""
             }
            },
            "type": "histogram"
           }
          ],
          "histogram2d": [
           {
            "colorbar": {
             "outlinewidth": 0,
             "ticks": ""
            },
            "colorscale": [
             [
              0,
              "#0d0887"
             ],
             [
              0.1111111111111111,
              "#46039f"
             ],
             [
              0.2222222222222222,
              "#7201a8"
             ],
             [
              0.3333333333333333,
              "#9c179e"
             ],
             [
              0.4444444444444444,
              "#bd3786"
             ],
             [
              0.5555555555555556,
              "#d8576b"
             ],
             [
              0.6666666666666666,
              "#ed7953"
             ],
             [
              0.7777777777777778,
              "#fb9f3a"
             ],
             [
              0.8888888888888888,
              "#fdca26"
             ],
             [
              1,
              "#f0f921"
             ]
            ],
            "type": "histogram2d"
           }
          ],
          "histogram2dcontour": [
           {
            "colorbar": {
             "outlinewidth": 0,
             "ticks": ""
            },
            "colorscale": [
             [
              0,
              "#0d0887"
             ],
             [
              0.1111111111111111,
              "#46039f"
             ],
             [
              0.2222222222222222,
              "#7201a8"
             ],
             [
              0.3333333333333333,
              "#9c179e"
             ],
             [
              0.4444444444444444,
              "#bd3786"
             ],
             [
              0.5555555555555556,
              "#d8576b"
             ],
             [
              0.6666666666666666,
              "#ed7953"
             ],
             [
              0.7777777777777778,
              "#fb9f3a"
             ],
             [
              0.8888888888888888,
              "#fdca26"
             ],
             [
              1,
              "#f0f921"
             ]
            ],
            "type": "histogram2dcontour"
           }
          ],
          "mesh3d": [
           {
            "colorbar": {
             "outlinewidth": 0,
             "ticks": ""
            },
            "type": "mesh3d"
           }
          ],
          "parcoords": [
           {
            "line": {
             "colorbar": {
              "outlinewidth": 0,
              "ticks": ""
             }
            },
            "type": "parcoords"
           }
          ],
          "pie": [
           {
            "automargin": true,
            "type": "pie"
           }
          ],
          "scatter": [
           {
            "marker": {
             "colorbar": {
              "outlinewidth": 0,
              "ticks": ""
             }
            },
            "type": "scatter"
           }
          ],
          "scatter3d": [
           {
            "line": {
             "colorbar": {
              "outlinewidth": 0,
              "ticks": ""
             }
            },
            "marker": {
             "colorbar": {
              "outlinewidth": 0,
              "ticks": ""
             }
            },
            "type": "scatter3d"
           }
          ],
          "scattercarpet": [
           {
            "marker": {
             "colorbar": {
              "outlinewidth": 0,
              "ticks": ""
             }
            },
            "type": "scattercarpet"
           }
          ],
          "scattergeo": [
           {
            "marker": {
             "colorbar": {
              "outlinewidth": 0,
              "ticks": ""
             }
            },
            "type": "scattergeo"
           }
          ],
          "scattergl": [
           {
            "marker": {
             "colorbar": {
              "outlinewidth": 0,
              "ticks": ""
             }
            },
            "type": "scattergl"
           }
          ],
          "scattermapbox": [
           {
            "marker": {
             "colorbar": {
              "outlinewidth": 0,
              "ticks": ""
             }
            },
            "type": "scattermapbox"
           }
          ],
          "scatterpolar": [
           {
            "marker": {
             "colorbar": {
              "outlinewidth": 0,
              "ticks": ""
             }
            },
            "type": "scatterpolar"
           }
          ],
          "scatterpolargl": [
           {
            "marker": {
             "colorbar": {
              "outlinewidth": 0,
              "ticks": ""
             }
            },
            "type": "scatterpolargl"
           }
          ],
          "scatterternary": [
           {
            "marker": {
             "colorbar": {
              "outlinewidth": 0,
              "ticks": ""
             }
            },
            "type": "scatterternary"
           }
          ],
          "surface": [
           {
            "colorbar": {
             "outlinewidth": 0,
             "ticks": ""
            },
            "colorscale": [
             [
              0,
              "#0d0887"
             ],
             [
              0.1111111111111111,
              "#46039f"
             ],
             [
              0.2222222222222222,
              "#7201a8"
             ],
             [
              0.3333333333333333,
              "#9c179e"
             ],
             [
              0.4444444444444444,
              "#bd3786"
             ],
             [
              0.5555555555555556,
              "#d8576b"
             ],
             [
              0.6666666666666666,
              "#ed7953"
             ],
             [
              0.7777777777777778,
              "#fb9f3a"
             ],
             [
              0.8888888888888888,
              "#fdca26"
             ],
             [
              1,
              "#f0f921"
             ]
            ],
            "type": "surface"
           }
          ],
          "table": [
           {
            "cells": {
             "fill": {
              "color": "#EBF0F8"
             },
             "line": {
              "color": "white"
             }
            },
            "header": {
             "fill": {
              "color": "#C8D4E3"
             },
             "line": {
              "color": "white"
             }
            },
            "type": "table"
           }
          ]
         },
         "layout": {
          "annotationdefaults": {
           "arrowcolor": "#2a3f5f",
           "arrowhead": 0,
           "arrowwidth": 1
          },
          "autotypenumbers": "strict",
          "coloraxis": {
           "colorbar": {
            "outlinewidth": 0,
            "ticks": ""
           }
          },
          "colorscale": {
           "diverging": [
            [
             0,
             "#8e0152"
            ],
            [
             0.1,
             "#c51b7d"
            ],
            [
             0.2,
             "#de77ae"
            ],
            [
             0.3,
             "#f1b6da"
            ],
            [
             0.4,
             "#fde0ef"
            ],
            [
             0.5,
             "#f7f7f7"
            ],
            [
             0.6,
             "#e6f5d0"
            ],
            [
             0.7,
             "#b8e186"
            ],
            [
             0.8,
             "#7fbc41"
            ],
            [
             0.9,
             "#4d9221"
            ],
            [
             1,
             "#276419"
            ]
           ],
           "sequential": [
            [
             0,
             "#0d0887"
            ],
            [
             0.1111111111111111,
             "#46039f"
            ],
            [
             0.2222222222222222,
             "#7201a8"
            ],
            [
             0.3333333333333333,
             "#9c179e"
            ],
            [
             0.4444444444444444,
             "#bd3786"
            ],
            [
             0.5555555555555556,
             "#d8576b"
            ],
            [
             0.6666666666666666,
             "#ed7953"
            ],
            [
             0.7777777777777778,
             "#fb9f3a"
            ],
            [
             0.8888888888888888,
             "#fdca26"
            ],
            [
             1,
             "#f0f921"
            ]
           ],
           "sequentialminus": [
            [
             0,
             "#0d0887"
            ],
            [
             0.1111111111111111,
             "#46039f"
            ],
            [
             0.2222222222222222,
             "#7201a8"
            ],
            [
             0.3333333333333333,
             "#9c179e"
            ],
            [
             0.4444444444444444,
             "#bd3786"
            ],
            [
             0.5555555555555556,
             "#d8576b"
            ],
            [
             0.6666666666666666,
             "#ed7953"
            ],
            [
             0.7777777777777778,
             "#fb9f3a"
            ],
            [
             0.8888888888888888,
             "#fdca26"
            ],
            [
             1,
             "#f0f921"
            ]
           ]
          },
          "colorway": [
           "#636efa",
           "#EF553B",
           "#00cc96",
           "#ab63fa",
           "#FFA15A",
           "#19d3f3",
           "#FF6692",
           "#B6E880",
           "#FF97FF",
           "#FECB52"
          ],
          "font": {
           "color": "#2a3f5f"
          },
          "geo": {
           "bgcolor": "white",
           "lakecolor": "white",
           "landcolor": "#E5ECF6",
           "showlakes": true,
           "showland": true,
           "subunitcolor": "white"
          },
          "hoverlabel": {
           "align": "left"
          },
          "hovermode": "closest",
          "mapbox": {
           "style": "light"
          },
          "paper_bgcolor": "white",
          "plot_bgcolor": "#E5ECF6",
          "polar": {
           "angularaxis": {
            "gridcolor": "white",
            "linecolor": "white",
            "ticks": ""
           },
           "bgcolor": "#E5ECF6",
           "radialaxis": {
            "gridcolor": "white",
            "linecolor": "white",
            "ticks": ""
           }
          },
          "scene": {
           "xaxis": {
            "backgroundcolor": "#E5ECF6",
            "gridcolor": "white",
            "gridwidth": 2,
            "linecolor": "white",
            "showbackground": true,
            "ticks": "",
            "zerolinecolor": "white"
           },
           "yaxis": {
            "backgroundcolor": "#E5ECF6",
            "gridcolor": "white",
            "gridwidth": 2,
            "linecolor": "white",
            "showbackground": true,
            "ticks": "",
            "zerolinecolor": "white"
           },
           "zaxis": {
            "backgroundcolor": "#E5ECF6",
            "gridcolor": "white",
            "gridwidth": 2,
            "linecolor": "white",
            "showbackground": true,
            "ticks": "",
            "zerolinecolor": "white"
           }
          },
          "shapedefaults": {
           "line": {
            "color": "#2a3f5f"
           }
          },
          "ternary": {
           "aaxis": {
            "gridcolor": "white",
            "linecolor": "white",
            "ticks": ""
           },
           "baxis": {
            "gridcolor": "white",
            "linecolor": "white",
            "ticks": ""
           },
           "bgcolor": "#E5ECF6",
           "caxis": {
            "gridcolor": "white",
            "linecolor": "white",
            "ticks": ""
           }
          },
          "title": {
           "x": 0.05
          },
          "xaxis": {
           "automargin": true,
           "gridcolor": "white",
           "linecolor": "white",
           "ticks": "",
           "title": {
            "standoff": 15
           },
           "zerolinecolor": "white",
           "zerolinewidth": 2
          },
          "yaxis": {
           "automargin": true,
           "gridcolor": "white",
           "linecolor": "white",
           "ticks": "",
           "title": {
            "standoff": 15
           },
           "zerolinecolor": "white",
           "zerolinewidth": 2
          }
         }
        },
        "title": {
         "font": {
          "size": 20
         },
         "text": "Guaranteed income policies that satisfy Yang's Basic Income for NYC constraints"
        },
        "width": 800,
        "xaxis": {
         "anchor": "y",
         "domain": [
          0,
          1
         ],
         "tickfont": {
          "size": 14
         },
         "tickformat": "%",
         "title": {
          "font": {
           "color": "black",
           "size": 16
          },
          "text": "Maximum benefit as a share of SPM poverty threshold"
         }
        },
        "yaxis": {
         "anchor": "x",
         "domain": [
          0,
          1
         ],
         "tickfont": {
          "size": 14
         },
         "tickformat": "%",
         "title": {
          "font": {
           "color": "black",
           "size": 16
          },
          "text": "Benefit phase-out rate with respect to SPM resources"
         }
        }
       }
      }
     },
     "metadata": {}
    }
   ],
   "source": [
    "cost_curve = policies[policies.cost_b < 1].sort_values(\n",
    "    \"cost_b\", ascending=False\n",
    "    ).drop_duplicates(\"pov_ratio_guarantee\").sort_values(\"pov_ratio_guarantee\")\n",
    "cost_curve[\"constraint\"] = \"$1 billion cost\"\n",
    "reach_curve = policies[policies.adult_reach < REACH].sort_values(\n",
    "    \"adult_reach\", ascending=False\n",
    "    ).drop_duplicates(\"pov_ratio_guarantee\").sort_values(\"pov_ratio_guarantee\")\n",
    "reach_curve[\"constraint\"] = \"500,000 adult recipients\"\n",
    "cost_reach_curve = pd.concat([cost_curve, reach_curve])\n",
    "fig = px.line(\n",
    "    cost_reach_curve,\n",
    "    \"pov_ratio_guarantee\",\n",
    "    \"phase_out_rate\",\n",
    "    hover_data={\"cost_b\": \":.2f\", \"adult_reach\": \":,.0f\"},\n",
    "    color=\"constraint\",\n",
    "    color_discrete_map=COLOR_MAP,\n",
    "    labels=LABELS,\n",
    "    title=\"Guaranteed income policies that satisfy Yang's Basic Income for NYC constraints\"\n",
    ")\n",
    "fig.update_layout(\n",
    "    xaxis_tickformat=\"%\",\n",
    "    yaxis_tickformat=\"%\",\n",
    "    legend=dict(\n",
    "        yanchor=\"top\",\n",
    "        y=0.99,\n",
    "        xanchor=\"left\",\n",
    "        x=0.01)\n",
    "    )\n",
    "RATIO = 0.3\n",
    "PS = 0.5\n",
    "fig.add_annotation(x=RATIO, y=PS,\n",
    "                   text=\"Maximum benefit: 30% of poverty threshold<br>Phase-out rate: 50%\")\n",
    "format_fig(fig)"
   ]
  },
  {
   "source": [
    "# The reform's impact\n",
    "\n",
    "Poverty rates are ill-suited to evaluating policies that target the deeply poor population the way this does. Since the reform fully phases out for families with resources of 60% of their poverty threshold, it leaves the poverty rate unchanged. This demonstrates limitations of the poverty rate as a policy evaluation tool: it fails to capture reductions in the extent of poverty.\n",
    "\n",
    "Even the deep poverty rate largely fails to capture the policy's impact. The benefit is 83% phased out for families at the deep poverty threshold (50% / 60%), so while it does have some effect, the bulk of the impact is in reducing the depth of deep poverty.\n",
    "\n",
    "The policy most affects the deep poverty gap—lowering it by 60%—which makes sense given it aims to reduce the depth of poverty."
   ],
   "cell_type": "markdown",
   "metadata": {}
  },
  {
   "cell_type": "code",
   "execution_count": 7,
   "metadata": {},
   "outputs": [
    {
     "output_type": "display_data",
     "data": {
      "application/vnd.plotly.v1+json": {
       "config": {
        "displayModeBar": false,
        "plotlyServerURL": "https://plot.ly"
       },
       "data": [
        {
         "alignmentgroup": "True",
         "hovertemplate": "pct_diff=%{text}<br>name=%{y}<extra></extra>",
         "legendgroup": "",
         "marker": {
          "color": "#1976D2"
         },
         "name": "",
         "offsetgroup": "",
         "orientation": "h",
         "showlegend": false,
         "text": [
          0,
          -0.14363321186201072,
          -0.2342367577453367,
          -0.5969168924928527
         ],
         "textposition": "auto",
         "texttemplate": "%{text:.0%}",
         "type": "bar",
         "x": [
          0,
          -0.14363321186201072,
          -0.2342367577453367,
          -0.5969168924928527
         ],
         "xaxis": "x",
         "y": [
          "Poverty rate",
          "Poverty gap",
          "Deep poverty rate",
          "Deep poverty gap"
         ],
         "yaxis": "y"
        }
       ],
       "layout": {
        "barmode": "relative",
        "font": {
         "family": "Roboto"
        },
        "height": 600,
        "hoverlabel": {
         "align": "right"
        },
        "images": [
         {
          "sizex": 0.12,
          "sizey": 0.12,
          "source": "https://raw.githubusercontent.com/UBICenter/blog/master/jb/_static/ubi_center_logo_wide_blue.png",
          "x": 0.98,
          "xanchor": "right",
          "xref": "paper",
          "y": -0.12,
          "yanchor": "bottom",
          "yref": "paper"
         }
        ],
        "legend": {
         "tracegroupgap": 0
        },
        "paper_bgcolor": "white",
        "plot_bgcolor": "white",
        "template": {
         "data": {
          "bar": [
           {
            "error_x": {
             "color": "#2a3f5f"
            },
            "error_y": {
             "color": "#2a3f5f"
            },
            "marker": {
             "line": {
              "color": "#E5ECF6",
              "width": 0.5
             }
            },
            "type": "bar"
           }
          ],
          "barpolar": [
           {
            "marker": {
             "line": {
              "color": "#E5ECF6",
              "width": 0.5
             }
            },
            "type": "barpolar"
           }
          ],
          "carpet": [
           {
            "aaxis": {
             "endlinecolor": "#2a3f5f",
             "gridcolor": "white",
             "linecolor": "white",
             "minorgridcolor": "white",
             "startlinecolor": "#2a3f5f"
            },
            "baxis": {
             "endlinecolor": "#2a3f5f",
             "gridcolor": "white",
             "linecolor": "white",
             "minorgridcolor": "white",
             "startlinecolor": "#2a3f5f"
            },
            "type": "carpet"
           }
          ],
          "choropleth": [
           {
            "colorbar": {
             "outlinewidth": 0,
             "ticks": ""
            },
            "type": "choropleth"
           }
          ],
          "contour": [
           {
            "colorbar": {
             "outlinewidth": 0,
             "ticks": ""
            },
            "colorscale": [
             [
              0,
              "#0d0887"
             ],
             [
              0.1111111111111111,
              "#46039f"
             ],
             [
              0.2222222222222222,
              "#7201a8"
             ],
             [
              0.3333333333333333,
              "#9c179e"
             ],
             [
              0.4444444444444444,
              "#bd3786"
             ],
             [
              0.5555555555555556,
              "#d8576b"
             ],
             [
              0.6666666666666666,
              "#ed7953"
             ],
             [
              0.7777777777777778,
              "#fb9f3a"
             ],
             [
              0.8888888888888888,
              "#fdca26"
             ],
             [
              1,
              "#f0f921"
             ]
            ],
            "type": "contour"
           }
          ],
          "contourcarpet": [
           {
            "colorbar": {
             "outlinewidth": 0,
             "ticks": ""
            },
            "type": "contourcarpet"
           }
          ],
          "heatmap": [
           {
            "colorbar": {
             "outlinewidth": 0,
             "ticks": ""
            },
            "colorscale": [
             [
              0,
              "#0d0887"
             ],
             [
              0.1111111111111111,
              "#46039f"
             ],
             [
              0.2222222222222222,
              "#7201a8"
             ],
             [
              0.3333333333333333,
              "#9c179e"
             ],
             [
              0.4444444444444444,
              "#bd3786"
             ],
             [
              0.5555555555555556,
              "#d8576b"
             ],
             [
              0.6666666666666666,
              "#ed7953"
             ],
             [
              0.7777777777777778,
              "#fb9f3a"
             ],
             [
              0.8888888888888888,
              "#fdca26"
             ],
             [
              1,
              "#f0f921"
             ]
            ],
            "type": "heatmap"
           }
          ],
          "heatmapgl": [
           {
            "colorbar": {
             "outlinewidth": 0,
             "ticks": ""
            },
            "colorscale": [
             [
              0,
              "#0d0887"
             ],
             [
              0.1111111111111111,
              "#46039f"
             ],
             [
              0.2222222222222222,
              "#7201a8"
             ],
             [
              0.3333333333333333,
              "#9c179e"
             ],
             [
              0.4444444444444444,
              "#bd3786"
             ],
             [
              0.5555555555555556,
              "#d8576b"
             ],
             [
              0.6666666666666666,
              "#ed7953"
             ],
             [
              0.7777777777777778,
              "#fb9f3a"
             ],
             [
              0.8888888888888888,
              "#fdca26"
             ],
             [
              1,
              "#f0f921"
             ]
            ],
            "type": "heatmapgl"
           }
          ],
          "histogram": [
           {
            "marker": {
             "colorbar": {
              "outlinewidth": 0,
              "ticks": ""
             }
            },
            "type": "histogram"
           }
          ],
          "histogram2d": [
           {
            "colorbar": {
             "outlinewidth": 0,
             "ticks": ""
            },
            "colorscale": [
             [
              0,
              "#0d0887"
             ],
             [
              0.1111111111111111,
              "#46039f"
             ],
             [
              0.2222222222222222,
              "#7201a8"
             ],
             [
              0.3333333333333333,
              "#9c179e"
             ],
             [
              0.4444444444444444,
              "#bd3786"
             ],
             [
              0.5555555555555556,
              "#d8576b"
             ],
             [
              0.6666666666666666,
              "#ed7953"
             ],
             [
              0.7777777777777778,
              "#fb9f3a"
             ],
             [
              0.8888888888888888,
              "#fdca26"
             ],
             [
              1,
              "#f0f921"
             ]
            ],
            "type": "histogram2d"
           }
          ],
          "histogram2dcontour": [
           {
            "colorbar": {
             "outlinewidth": 0,
             "ticks": ""
            },
            "colorscale": [
             [
              0,
              "#0d0887"
             ],
             [
              0.1111111111111111,
              "#46039f"
             ],
             [
              0.2222222222222222,
              "#7201a8"
             ],
             [
              0.3333333333333333,
              "#9c179e"
             ],
             [
              0.4444444444444444,
              "#bd3786"
             ],
             [
              0.5555555555555556,
              "#d8576b"
             ],
             [
              0.6666666666666666,
              "#ed7953"
             ],
             [
              0.7777777777777778,
              "#fb9f3a"
             ],
             [
              0.8888888888888888,
              "#fdca26"
             ],
             [
              1,
              "#f0f921"
             ]
            ],
            "type": "histogram2dcontour"
           }
          ],
          "mesh3d": [
           {
            "colorbar": {
             "outlinewidth": 0,
             "ticks": ""
            },
            "type": "mesh3d"
           }
          ],
          "parcoords": [
           {
            "line": {
             "colorbar": {
              "outlinewidth": 0,
              "ticks": ""
             }
            },
            "type": "parcoords"
           }
          ],
          "pie": [
           {
            "automargin": true,
            "type": "pie"
           }
          ],
          "scatter": [
           {
            "marker": {
             "colorbar": {
              "outlinewidth": 0,
              "ticks": ""
             }
            },
            "type": "scatter"
           }
          ],
          "scatter3d": [
           {
            "line": {
             "colorbar": {
              "outlinewidth": 0,
              "ticks": ""
             }
            },
            "marker": {
             "colorbar": {
              "outlinewidth": 0,
              "ticks": ""
             }
            },
            "type": "scatter3d"
           }
          ],
          "scattercarpet": [
           {
            "marker": {
             "colorbar": {
              "outlinewidth": 0,
              "ticks": ""
             }
            },
            "type": "scattercarpet"
           }
          ],
          "scattergeo": [
           {
            "marker": {
             "colorbar": {
              "outlinewidth": 0,
              "ticks": ""
             }
            },
            "type": "scattergeo"
           }
          ],
          "scattergl": [
           {
            "marker": {
             "colorbar": {
              "outlinewidth": 0,
              "ticks": ""
             }
            },
            "type": "scattergl"
           }
          ],
          "scattermapbox": [
           {
            "marker": {
             "colorbar": {
              "outlinewidth": 0,
              "ticks": ""
             }
            },
            "type": "scattermapbox"
           }
          ],
          "scatterpolar": [
           {
            "marker": {
             "colorbar": {
              "outlinewidth": 0,
              "ticks": ""
             }
            },
            "type": "scatterpolar"
           }
          ],
          "scatterpolargl": [
           {
            "marker": {
             "colorbar": {
              "outlinewidth": 0,
              "ticks": ""
             }
            },
            "type": "scatterpolargl"
           }
          ],
          "scatterternary": [
           {
            "marker": {
             "colorbar": {
              "outlinewidth": 0,
              "ticks": ""
             }
            },
            "type": "scatterternary"
           }
          ],
          "surface": [
           {
            "colorbar": {
             "outlinewidth": 0,
             "ticks": ""
            },
            "colorscale": [
             [
              0,
              "#0d0887"
             ],
             [
              0.1111111111111111,
              "#46039f"
             ],
             [
              0.2222222222222222,
              "#7201a8"
             ],
             [
              0.3333333333333333,
              "#9c179e"
             ],
             [
              0.4444444444444444,
              "#bd3786"
             ],
             [
              0.5555555555555556,
              "#d8576b"
             ],
             [
              0.6666666666666666,
              "#ed7953"
             ],
             [
              0.7777777777777778,
              "#fb9f3a"
             ],
             [
              0.8888888888888888,
              "#fdca26"
             ],
             [
              1,
              "#f0f921"
             ]
            ],
            "type": "surface"
           }
          ],
          "table": [
           {
            "cells": {
             "fill": {
              "color": "#EBF0F8"
             },
             "line": {
              "color": "white"
             }
            },
            "header": {
             "fill": {
              "color": "#C8D4E3"
             },
             "line": {
              "color": "white"
             }
            },
            "type": "table"
           }
          ]
         },
         "layout": {
          "annotationdefaults": {
           "arrowcolor": "#2a3f5f",
           "arrowhead": 0,
           "arrowwidth": 1
          },
          "autotypenumbers": "strict",
          "coloraxis": {
           "colorbar": {
            "outlinewidth": 0,
            "ticks": ""
           }
          },
          "colorscale": {
           "diverging": [
            [
             0,
             "#8e0152"
            ],
            [
             0.1,
             "#c51b7d"
            ],
            [
             0.2,
             "#de77ae"
            ],
            [
             0.3,
             "#f1b6da"
            ],
            [
             0.4,
             "#fde0ef"
            ],
            [
             0.5,
             "#f7f7f7"
            ],
            [
             0.6,
             "#e6f5d0"
            ],
            [
             0.7,
             "#b8e186"
            ],
            [
             0.8,
             "#7fbc41"
            ],
            [
             0.9,
             "#4d9221"
            ],
            [
             1,
             "#276419"
            ]
           ],
           "sequential": [
            [
             0,
             "#0d0887"
            ],
            [
             0.1111111111111111,
             "#46039f"
            ],
            [
             0.2222222222222222,
             "#7201a8"
            ],
            [
             0.3333333333333333,
             "#9c179e"
            ],
            [
             0.4444444444444444,
             "#bd3786"
            ],
            [
             0.5555555555555556,
             "#d8576b"
            ],
            [
             0.6666666666666666,
             "#ed7953"
            ],
            [
             0.7777777777777778,
             "#fb9f3a"
            ],
            [
             0.8888888888888888,
             "#fdca26"
            ],
            [
             1,
             "#f0f921"
            ]
           ],
           "sequentialminus": [
            [
             0,
             "#0d0887"
            ],
            [
             0.1111111111111111,
             "#46039f"
            ],
            [
             0.2222222222222222,
             "#7201a8"
            ],
            [
             0.3333333333333333,
             "#9c179e"
            ],
            [
             0.4444444444444444,
             "#bd3786"
            ],
            [
             0.5555555555555556,
             "#d8576b"
            ],
            [
             0.6666666666666666,
             "#ed7953"
            ],
            [
             0.7777777777777778,
             "#fb9f3a"
            ],
            [
             0.8888888888888888,
             "#fdca26"
            ],
            [
             1,
             "#f0f921"
            ]
           ]
          },
          "colorway": [
           "#636efa",
           "#EF553B",
           "#00cc96",
           "#ab63fa",
           "#FFA15A",
           "#19d3f3",
           "#FF6692",
           "#B6E880",
           "#FF97FF",
           "#FECB52"
          ],
          "font": {
           "color": "#2a3f5f"
          },
          "geo": {
           "bgcolor": "white",
           "lakecolor": "white",
           "landcolor": "#E5ECF6",
           "showlakes": true,
           "showland": true,
           "subunitcolor": "white"
          },
          "hoverlabel": {
           "align": "left"
          },
          "hovermode": "closest",
          "mapbox": {
           "style": "light"
          },
          "paper_bgcolor": "white",
          "plot_bgcolor": "#E5ECF6",
          "polar": {
           "angularaxis": {
            "gridcolor": "white",
            "linecolor": "white",
            "ticks": ""
           },
           "bgcolor": "#E5ECF6",
           "radialaxis": {
            "gridcolor": "white",
            "linecolor": "white",
            "ticks": ""
           }
          },
          "scene": {
           "xaxis": {
            "backgroundcolor": "#E5ECF6",
            "gridcolor": "white",
            "gridwidth": 2,
            "linecolor": "white",
            "showbackground": true,
            "ticks": "",
            "zerolinecolor": "white"
           },
           "yaxis": {
            "backgroundcolor": "#E5ECF6",
            "gridcolor": "white",
            "gridwidth": 2,
            "linecolor": "white",
            "showbackground": true,
            "ticks": "",
            "zerolinecolor": "white"
           },
           "zaxis": {
            "backgroundcolor": "#E5ECF6",
            "gridcolor": "white",
            "gridwidth": 2,
            "linecolor": "white",
            "showbackground": true,
            "ticks": "",
            "zerolinecolor": "white"
           }
          },
          "shapedefaults": {
           "line": {
            "color": "#2a3f5f"
           }
          },
          "ternary": {
           "aaxis": {
            "gridcolor": "white",
            "linecolor": "white",
            "ticks": ""
           },
           "baxis": {
            "gridcolor": "white",
            "linecolor": "white",
            "ticks": ""
           },
           "bgcolor": "#E5ECF6",
           "caxis": {
            "gridcolor": "white",
            "linecolor": "white",
            "ticks": ""
           }
          },
          "title": {
           "x": 0.05
          },
          "xaxis": {
           "automargin": true,
           "gridcolor": "white",
           "linecolor": "white",
           "ticks": "",
           "title": {
            "standoff": 15
           },
           "zerolinecolor": "white",
           "zerolinewidth": 2
          },
          "yaxis": {
           "automargin": true,
           "gridcolor": "white",
           "linecolor": "white",
           "ticks": "",
           "title": {
            "standoff": 15
           },
           "zerolinecolor": "white",
           "zerolinewidth": 2
          }
         }
        },
        "title": {
         "font": {
          "size": 20
         },
         "text": "Effect of Basic Income for NYC plan on poverty measures"
        },
        "width": 800,
        "xaxis": {
         "anchor": "y",
         "domain": [
          0,
          1
         ],
         "tickfont": {
          "size": 14
         },
         "tickformat": "%",
         "title": {
          "font": {
           "color": "black",
           "size": 16
          },
          "text": ""
         }
        },
        "yaxis": {
         "anchor": "x",
         "domain": [
          0,
          1
         ],
         "tickfont": {
          "size": 14
         },
         "title": {
          "font": {
           "color": "black",
           "size": 16
          },
          "text": ""
         }
        }
       }
      }
     },
     "metadata": {}
    }
   ],
   "source": [
    "opt = policies[(policies.pov_ratio_guarantee == RATIO) & (policies.phase_out_rate == PS)]\n",
    "base = policy(0, 0)\n",
    "comp = pd.DataFrame({\"base\": base, \"reform\": opt.iloc[0]}).reset_index().rename(columns={\"index\": \"metric\"})\n",
    "\n",
    "def pct_diff(base, reform):\n",
    "    return (reform - base) / base\n",
    "\n",
    "comp[\"pct_diff\"] = pct_diff(comp.base, comp.reform)\n",
    "# comp[\"yearly\"] = comp.metric.apply(trend)\n",
    "# comp[\"years_progress\"] = comp.pct_diff / comp.yearly\n",
    "comp[\"name\"] = comp.metric.map(LABELS)\n",
    "\n",
    "PLOT_POV_MEASURES = [\n",
    "    \"poverty_rate\",\n",
    "    \"deep_poverty_rate\",\n",
    "    \"poverty_gap\",\n",
    "    \"deep_poverty_gap\",\n",
    "]\n",
    "fig = px.bar(\n",
    "    comp[comp.metric.isin(PLOT_POV_MEASURES)].sort_values(\"pct_diff\", ascending=False),\n",
    "    \"pct_diff\",\n",
    "    \"name\",\n",
    "    orientation=\"h\",\n",
    "    text=\"pct_diff\",\n",
    "    title=\"Effect of Basic Income for NYC plan on poverty measures\"\n",
    "    )\n",
    "fig.update_traces(marker_color=BLUE, texttemplate='%{text:.0%}')\n",
    "fig.update_layout(xaxis_tickformat=\"%\", xaxis_title=\"\", yaxis_title=\"\")\n",
    "format_fig(fig)"
   ]
  },
  {
   "source": [
    "# Administrative and incentive considerations\n",
    "\n",
    "While this plan would achieve significant deep poverty reduction, it may also face administrative challenges, and it would certainly create perverse incentives for recipients.\n",
    "\n",
    "Basing the monthly program on SPM resource values would be difficult. SPM resources include all cash income, as well as in-kind benefits and taxes throughout the year. That means that program officers would have to estimate households' annual income, benefits, and taxes, each month to determine their payment amount. Recipients would face this administrative burden as well, having to report any change to income, benefits, projected tax liability, or household structure to the city. Tax liability aside, this is largely consistent with other benefit programs, though those other benefit programs do fail to reach some of the poor, and these hoops plausibly explain some of those exclusion errors.\n",
    "\n",
    "The program would add 50 percentage points to recipients' marginal tax rates. According to the [Department of Health and Human Services](https://aspe.hhs.gov/system/files/aspe-files/260661/brief2-overviewmtranalyses.pdf), most households below 75% of the poverty line (as would be targeted by this program) currently face marginal tax rates of 10% or less. However, by changing that from 10% to 60%, or even 0% to 50%, the program would make the deeply poor population some of the highest taxed segment of the population. Studies find that workers in the lowest income decile are the [most sensitive to marginal tax rates](https://www.cbo.gov/sites/default/files/cbofiles/attachments/10-25-2012-Labor_Supply_and_Fiscal_Policy.pdf), suggesting that labor supply would fall as a result.\n",
    "\n",
    "The program would also distort marriage incentives, both toward and away from it. For example, someone with no income would gain a larger benefit from staying single than from partnering with someone with income; on the other hand, two people with similar income may gain a larger benefit from partnering, depending on their poverty threshold. This also is not a problem that's new either to benefit programs or the [tax code](https://taxfoundation.org/understanding-marriage-penalty-and-marriage-bonus/), but the generosity of the payment and steep phase-out make the issue especially prominent.\n",
    "\n",
    "\n",
    "# Conclusion\n",
    "\n",
    "A policy consistent with Andrew Yang's policy outline would reduce deep poverty by 60%, largely helping people escape the deeper depths of poverty that cause lasting harms, especially to children. The sharp means-testing could make it harder to reach eligible recipients, and it will distort those recipients' incentives, but providing cash transfers without a work requirement across NYC would constitute a new step toward an unconditional safety net."
   ],
   "cell_type": "markdown",
   "metadata": {}
  }
 ]
}